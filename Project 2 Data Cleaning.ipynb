{
 "cells": [
  {
   "cell_type": "code",
   "execution_count": 1,
   "metadata": {},
   "outputs": [],
   "source": [
    "#loading all the data set \n",
    "assess= read.csv(\"C:\\\\Users\\\\shrey\\\\OneDrive\\\\Desktop\\\\BUSINESS ANALYTICS\\\\Datasets\\\\Project2\\\\assessments.csv \", na.strings = c(\"\",\"NA\"))\n",
    "courses= read.csv(\"C:\\\\Users\\\\shrey\\\\OneDrive\\\\Desktop\\\\BUSINESS ANALYTICS\\\\Datasets\\\\Project2\\\\courses.csv \", na.strings = c(\"\",\"NA\"))\n",
    "std_assess= read.csv(\"C:\\\\Users\\\\shrey\\\\OneDrive\\\\Desktop\\\\BUSINESS ANALYTICS\\\\Datasets\\\\Project2\\\\studentAssessment.csv \", na.strings = c(\"\",\"NA\"))\n",
    "std_info= read.csv(\"C:\\\\Users\\\\shrey\\\\OneDrive\\\\Desktop\\\\BUSINESS ANALYTICS\\\\Datasets\\\\Project2\\\\studentInfo.csv \", na.strings = c(\"\",\"NA\"))\n",
    "std_registration= read.csv(\"C:\\\\Users\\\\shrey\\\\OneDrive\\\\Desktop\\\\BUSINESS ANALYTICS\\\\Datasets\\\\Project2\\\\studentRegistration.csv \", na.strings = c(\"\",\"NA\"))\n",
    "std_vle= read.csv(\"C:\\\\Users\\\\shrey\\\\OneDrive\\\\Desktop\\\\BUSINESS ANALYTICS\\\\Datasets\\\\Project2\\\\studentVle.csv \", na.strings = c(\"\",\"NA\"))\n",
    "vle= read.csv(\"C:\\\\Users\\\\shrey\\\\OneDrive\\\\Desktop\\\\BUSINESS ANALYTICS\\\\Datasets\\\\Project2\\\\vle.csv \", na.strings = c(\"\",\"NA\"))"
   ]
  },
  {
   "cell_type": "markdown",
   "metadata": {},
   "source": [
    "https://stackoverflow.com/questions/1299871/how-to-join-merge-data-frames-inner-outer-left-right"
   ]
  },
  {
   "cell_type": "markdown",
   "metadata": {},
   "source": [
    "library(dplyr)\n",
    "inner_dplyr <- inner_join(flights, weather, by = mergeCols)\n",
    "left_dplyr  <- left_join(flights,  weather, by = mergeCols)\n",
    "right_dplyr <- right_join(flights, weather, by = mergeCols)\n",
    "full_dplyr  <- full_join(flights,  weather, by = mergeCols)\n",
    "\n",
    "inner_dplyr <- flights %>% inner_join(weather, by = mergeCols)\n",
    "left_dplyr  <- flights %>% left_join(weather,  by = mergeCols)\n",
    "right_dplyr <- flights %>% right_join(weather, by = mergeCols)\n",
    "full_dplyr  <- flights %>% full_join(weather,  by = mergeCols)"
   ]
  },
  {
   "cell_type": "code",
   "execution_count": 2,
   "metadata": {},
   "outputs": [
    {
     "name": "stderr",
     "output_type": "stream",
     "text": [
      "\n",
      "Attaching package: 'dplyr'\n",
      "\n",
      "The following objects are masked from 'package:stats':\n",
      "\n",
      "    filter, lag\n",
      "\n",
      "The following objects are masked from 'package:base':\n",
      "\n",
      "    intersect, setdiff, setequal, union\n",
      "\n",
      "dummies-1.5.6 provided by Decision Patterns\n",
      "\n"
     ]
    }
   ],
   "source": [
    "library(dplyr)\n",
    "library(dummies)"
   ]
  },
  {
   "cell_type": "code",
   "execution_count": 3,
   "metadata": {},
   "outputs": [
    {
     "data": {
      "text/html": [
       "<table>\n",
       "<thead><tr><th scope=col>code_module</th><th scope=col>code_presentation</th><th scope=col>id_student</th><th scope=col>date_registration</th><th scope=col>date_unregistration</th></tr></thead>\n",
       "<tbody>\n",
       "\t<tr><td>AAA  </td><td>2013J</td><td>11391</td><td>-159 </td><td>NA   </td></tr>\n",
       "\t<tr><td>AAA  </td><td>2013J</td><td>28400</td><td> -53 </td><td>NA   </td></tr>\n",
       "\t<tr><td>AAA  </td><td>2013J</td><td>30268</td><td> -92 </td><td>12   </td></tr>\n",
       "\t<tr><td>AAA  </td><td>2013J</td><td>31604</td><td> -52 </td><td>NA   </td></tr>\n",
       "\t<tr><td>AAA  </td><td>2013J</td><td>32885</td><td>-176 </td><td>NA   </td></tr>\n",
       "\t<tr><td>AAA  </td><td>2013J</td><td>38053</td><td>-110 </td><td>NA   </td></tr>\n",
       "</tbody>\n",
       "</table>\n"
      ],
      "text/latex": [
       "\\begin{tabular}{r|lllll}\n",
       " code\\_module & code\\_presentation & id\\_student & date\\_registration & date\\_unregistration\\\\\n",
       "\\hline\n",
       "\t AAA   & 2013J & 11391 & -159  & NA   \\\\\n",
       "\t AAA   & 2013J & 28400 &  -53  & NA   \\\\\n",
       "\t AAA   & 2013J & 30268 &  -92  & 12   \\\\\n",
       "\t AAA   & 2013J & 31604 &  -52  & NA   \\\\\n",
       "\t AAA   & 2013J & 32885 & -176  & NA   \\\\\n",
       "\t AAA   & 2013J & 38053 & -110  & NA   \\\\\n",
       "\\end{tabular}\n"
      ],
      "text/markdown": [
       "\n",
       "| code_module | code_presentation | id_student | date_registration | date_unregistration |\n",
       "|---|---|---|---|---|\n",
       "| AAA   | 2013J | 11391 | -159  | NA    |\n",
       "| AAA   | 2013J | 28400 |  -53  | NA    |\n",
       "| AAA   | 2013J | 30268 |  -92  | 12    |\n",
       "| AAA   | 2013J | 31604 |  -52  | NA    |\n",
       "| AAA   | 2013J | 32885 | -176  | NA    |\n",
       "| AAA   | 2013J | 38053 | -110  | NA    |\n",
       "\n"
      ],
      "text/plain": [
       "  code_module code_presentation id_student date_registration\n",
       "1 AAA         2013J             11391      -159             \n",
       "2 AAA         2013J             28400       -53             \n",
       "3 AAA         2013J             30268       -92             \n",
       "4 AAA         2013J             31604       -52             \n",
       "5 AAA         2013J             32885      -176             \n",
       "6 AAA         2013J             38053      -110             \n",
       "  date_unregistration\n",
       "1 NA                 \n",
       "2 NA                 \n",
       "3 12                 \n",
       "4 NA                 \n",
       "5 NA                 \n",
       "6 NA                 "
      ]
     },
     "metadata": {},
     "output_type": "display_data"
    }
   ],
   "source": [
    "#NA value here means that student didnt drop the class\n",
    "head(std_registration)\n",
    "\n",
    "#replacing those NA values with \"stayed\"\n",
    "std_registration[is.na(std_registration$date_unregistration),\"date_unregistration\"] = \"Completed\""
   ]
  },
  {
   "cell_type": "markdown",
   "metadata": {},
   "source": [
    "> ### Student with no unregistered were assumed to be the ones who didnt drop the class. Replaced those NA values with \"Stayed\" "
   ]
  },
  {
   "cell_type": "code",
   "execution_count": 4,
   "metadata": {},
   "outputs": [],
   "source": [
    "# There are instances with missing date_registration\n",
    "# We can replace them by grouping the data by code_presentaion and taking the \n",
    "# mean for the know days and replace on the missing places \n"
   ]
  },
  {
   "cell_type": "code",
   "execution_count": 5,
   "metadata": {},
   "outputs": [],
   "source": [
    "#Joining table student registration with student Information by id_student\n",
    "std_join_info_reg = std_registration %>% inner_join(std_info, by = \"id_student\") \n",
    "\n",
    "#deleting duplicate code modeule and code presentaion columns\n",
    "std_join_info_reg = std_join_info_reg[,-which(names(std_join_info_reg) %in% c(\"code_presentation.y\",\"code_module.y\"))]"
   ]
  },
  {
   "cell_type": "markdown",
   "metadata": {},
   "source": [
    "> ## If you do left join instead of inner join you realise that there was data of student registering certain courses but no associate student info with no information on their grades in that particular course."
   ]
  },
  {
   "cell_type": "code",
   "execution_count": 6,
   "metadata": {},
   "outputs": [
    {
     "data": {
      "text/html": [
       "23536"
      ],
      "text/latex": [
       "23536"
      ],
      "text/markdown": [
       "23536"
      ],
      "text/plain": [
       "[1] 23536"
      ]
     },
     "metadata": {},
     "output_type": "display_data"
    }
   ],
   "source": [
    "length(unique(std_info$id_student))"
   ]
  },
  {
   "cell_type": "code",
   "execution_count": 7,
   "metadata": {},
   "outputs": [
    {
     "data": {
      "text/html": [
       "28785"
      ],
      "text/latex": [
       "28785"
      ],
      "text/markdown": [
       "28785"
      ],
      "text/plain": [
       "[1] 28785"
      ]
     },
     "metadata": {},
     "output_type": "display_data"
    }
   ],
   "source": [
    "length(unique(std_registration$id_student))"
   ]
  },
  {
   "cell_type": "code",
   "execution_count": 8,
   "metadata": {},
   "outputs": [
    {
     "data": {
      "text/html": [
       "32734"
      ],
      "text/latex": [
       "32734"
      ],
      "text/markdown": [
       "32734"
      ],
      "text/plain": [
       "[1] 32734"
      ]
     },
     "metadata": {},
     "output_type": "display_data"
    }
   ],
   "source": [
    "nrow(std_join_info_reg)"
   ]
  },
  {
   "cell_type": "markdown",
   "metadata": {},
   "source": [
    "# Preparing Vle join table:\n",
    "## Joining student vle with vle by id_site"
   ]
  },
  {
   "cell_type": "code",
   "execution_count": 9,
   "metadata": {},
   "outputs": [],
   "source": [
    "#joining vle student to vle data\n",
    "vle_join = std_vle %>% left_join(vle, by = \"id_site\") "
   ]
  },
  {
   "cell_type": "code",
   "execution_count": 10,
   "metadata": {},
   "outputs": [
    {
     "data": {
      "text/html": [
       "9269544"
      ],
      "text/latex": [
       "9269544"
      ],
      "text/markdown": [
       "9269544"
      ],
      "text/plain": [
       "[1] 9269544"
      ]
     },
     "metadata": {},
     "output_type": "display_data"
    }
   ],
   "source": [
    "#Checking NA values in the join\n",
    "nrow(vle_join[!complete.cases(vle_join),])"
   ]
  },
  {
   "cell_type": "code",
   "execution_count": 11,
   "metadata": {},
   "outputs": [
    {
     "data": {
      "text/html": [
       "10655280"
      ],
      "text/latex": [
       "10655280"
      ],
      "text/markdown": [
       "10655280"
      ],
      "text/plain": [
       "[1] 10655280"
      ]
     },
     "metadata": {},
     "output_type": "display_data"
    }
   ],
   "source": [
    "nrow(vle_join)"
   ]
  },
  {
   "cell_type": "markdown",
   "metadata": {},
   "source": [
    "### vle_join has 9269544 NA values for week_from"
   ]
  },
  {
   "cell_type": "markdown",
   "metadata": {},
   "source": [
    "> ### Deleting week_from and week_to as more than 90% of them are empty"
   ]
  },
  {
   "cell_type": "code",
   "execution_count": 12,
   "metadata": {},
   "outputs": [],
   "source": [
    "# dropping week_from and week_to\n",
    "vle_join = vle_join[,-which(names(vle_join) %in%  c(\"week_from\",\"week_to\"))]"
   ]
  },
  {
   "cell_type": "code",
   "execution_count": 13,
   "metadata": {},
   "outputs": [
    {
     "data": {
      "text/html": [
       "0"
      ],
      "text/latex": [
       "0"
      ],
      "text/markdown": [
       "0"
      ],
      "text/plain": [
       "[1] 0"
      ]
     },
     "metadata": {},
     "output_type": "display_data"
    }
   ],
   "source": [
    "# no NA values in vle table check \n",
    "nrow(vle_join[!complete.cases(vle_join),])\n",
    "#deleting duplicate code modeule and code presentaion columns\n",
    "vle_join = vle_join[,-which(names(vle_join) %in% c(\"code_presentation.y\",\"code_module.y\"))]"
   ]
  },
  {
   "cell_type": "markdown",
   "metadata": {},
   "source": [
    "# Joining student assessment with assessment by id_assessment:\n"
   ]
  },
  {
   "cell_type": "code",
   "execution_count": 14,
   "metadata": {},
   "outputs": [],
   "source": [
    "#JOINING\n",
    "assess_join = std_assess %>% left_join(assess, by = \"id_assessment\") "
   ]
  },
  {
   "cell_type": "code",
   "execution_count": 15,
   "metadata": {},
   "outputs": [
    {
     "data": {
      "text/html": [
       "173912"
      ],
      "text/latex": [
       "173912"
      ],
      "text/markdown": [
       "173912"
      ],
      "text/plain": [
       "[1] 173912"
      ]
     },
     "metadata": {},
     "output_type": "display_data"
    }
   ],
   "source": [
    "nrow(assess_join)"
   ]
  },
  {
   "cell_type": "markdown",
   "metadata": {},
   "source": [
    "# Working on joining the joined 3 dataframes"
   ]
  },
  {
   "cell_type": "code",
   "execution_count": 16,
   "metadata": {},
   "outputs": [
    {
     "name": "stderr",
     "output_type": "stream",
     "text": [
      "Warning message in model.matrix.default(~x - 1, model.frame(~x - 1), contrasts = FALSE):\n",
      "\"non-list contrasts argument ignored\""
     ]
    }
   ],
   "source": [
    "tom = dummy(vle_join$activity_type,sep=\"_\")"
   ]
  },
  {
   "cell_type": "markdown",
   "metadata": {},
   "source": [
    "> ### Created dummy variables for activity_type "
   ]
  },
  {
   "cell_type": "code",
   "execution_count": 17,
   "metadata": {},
   "outputs": [],
   "source": [
    "vle_join_clean_withdummy = cbind(vle_join,tom)\n",
    "vle_join_clean_withdummy = vle_join_clean_withdummy[,-which(names(vle_join_clean_withdummy) %in% c(\"activity_type\",\"code_presentation.y\",\"code_module.y\",\"id_site\"))]"
   ]
  },
  {
   "cell_type": "code",
   "execution_count": 18,
   "metadata": {},
   "outputs": [
    {
     "data": {
      "text/html": [
       "295"
      ],
      "text/latex": [
       "295"
      ],
      "text/markdown": [
       "295"
      ],
      "text/plain": [
       "[1] 295"
      ]
     },
     "metadata": {},
     "output_type": "display_data"
    },
    {
     "data": {
      "text/html": [
       "<ol class=list-inline>\n",
       "\t<li>'code_module.x'</li>\n",
       "\t<li>'code_presentation.x'</li>\n",
       "\t<li>'id_student'</li>\n",
       "\t<li>'date'</li>\n",
       "\t<li>'sum_click'</li>\n",
       "\t<li>'NA_dataplus'</li>\n",
       "\t<li>'NA_dualpane'</li>\n",
       "\t<li>'NA_externalquiz'</li>\n",
       "\t<li>'NA_folder'</li>\n",
       "\t<li>'NA_forumng'</li>\n",
       "\t<li>'NA_glossary'</li>\n",
       "\t<li>'NA_homepage'</li>\n",
       "\t<li>'NA_htmlactivity'</li>\n",
       "\t<li>'NA_oucollaborate'</li>\n",
       "\t<li>'NA_oucontent'</li>\n",
       "\t<li>'NA_ouelluminate'</li>\n",
       "\t<li>'NA_ouwiki'</li>\n",
       "\t<li>'NA_page'</li>\n",
       "\t<li>'NA_questionnaire'</li>\n",
       "\t<li>'NA_quiz'</li>\n",
       "\t<li>'NA_repeatactivity'</li>\n",
       "\t<li>'NA_resource'</li>\n",
       "\t<li>'NA_sharedsubpage'</li>\n",
       "\t<li>'NA_subpage'</li>\n",
       "\t<li>'NA_url'</li>\n",
       "</ol>\n"
      ],
      "text/latex": [
       "\\begin{enumerate*}\n",
       "\\item 'code\\_module.x'\n",
       "\\item 'code\\_presentation.x'\n",
       "\\item 'id\\_student'\n",
       "\\item 'date'\n",
       "\\item 'sum\\_click'\n",
       "\\item 'NA\\_dataplus'\n",
       "\\item 'NA\\_dualpane'\n",
       "\\item 'NA\\_externalquiz'\n",
       "\\item 'NA\\_folder'\n",
       "\\item 'NA\\_forumng'\n",
       "\\item 'NA\\_glossary'\n",
       "\\item 'NA\\_homepage'\n",
       "\\item 'NA\\_htmlactivity'\n",
       "\\item 'NA\\_oucollaborate'\n",
       "\\item 'NA\\_oucontent'\n",
       "\\item 'NA\\_ouelluminate'\n",
       "\\item 'NA\\_ouwiki'\n",
       "\\item 'NA\\_page'\n",
       "\\item 'NA\\_questionnaire'\n",
       "\\item 'NA\\_quiz'\n",
       "\\item 'NA\\_repeatactivity'\n",
       "\\item 'NA\\_resource'\n",
       "\\item 'NA\\_sharedsubpage'\n",
       "\\item 'NA\\_subpage'\n",
       "\\item 'NA\\_url'\n",
       "\\end{enumerate*}\n"
      ],
      "text/markdown": [
       "1. 'code_module.x'\n",
       "2. 'code_presentation.x'\n",
       "3. 'id_student'\n",
       "4. 'date'\n",
       "5. 'sum_click'\n",
       "6. 'NA_dataplus'\n",
       "7. 'NA_dualpane'\n",
       "8. 'NA_externalquiz'\n",
       "9. 'NA_folder'\n",
       "10. 'NA_forumng'\n",
       "11. 'NA_glossary'\n",
       "12. 'NA_homepage'\n",
       "13. 'NA_htmlactivity'\n",
       "14. 'NA_oucollaborate'\n",
       "15. 'NA_oucontent'\n",
       "16. 'NA_ouelluminate'\n",
       "17. 'NA_ouwiki'\n",
       "18. 'NA_page'\n",
       "19. 'NA_questionnaire'\n",
       "20. 'NA_quiz'\n",
       "21. 'NA_repeatactivity'\n",
       "22. 'NA_resource'\n",
       "23. 'NA_sharedsubpage'\n",
       "24. 'NA_subpage'\n",
       "25. 'NA_url'\n",
       "\n",
       "\n"
      ],
      "text/plain": [
       " [1] \"code_module.x\"       \"code_presentation.x\" \"id_student\"         \n",
       " [4] \"date\"                \"sum_click\"           \"NA_dataplus\"        \n",
       " [7] \"NA_dualpane\"         \"NA_externalquiz\"     \"NA_folder\"          \n",
       "[10] \"NA_forumng\"          \"NA_glossary\"         \"NA_homepage\"        \n",
       "[13] \"NA_htmlactivity\"     \"NA_oucollaborate\"    \"NA_oucontent\"       \n",
       "[16] \"NA_ouelluminate\"     \"NA_ouwiki\"           \"NA_page\"            \n",
       "[19] \"NA_questionnaire\"    \"NA_quiz\"             \"NA_repeatactivity\"  \n",
       "[22] \"NA_resource\"         \"NA_sharedsubpage\"    \"NA_subpage\"         \n",
       "[25] \"NA_url\"             "
      ]
     },
     "metadata": {},
     "output_type": "display_data"
    }
   ],
   "source": [
    "length(unique(vle_join_clean_withdummy$date))\n",
    "names(vle_join_clean_withdummy)"
   ]
  },
  {
   "cell_type": "markdown",
   "metadata": {},
   "source": [
    "> ### NExt we group by and summarise the interaction with vle"
   ]
  },
  {
   "cell_type": "code",
   "execution_count": 19,
   "metadata": {},
   "outputs": [],
   "source": [
    "grouping_vle_join = vle_join_clean_withdummy %>% group_by(code_module.x,code_presentation.x,id_student) %>% summarise_at(c('sum_click', 'NA_dataplus', 'NA_dualpane', \n",
    "                                                                                                                  'NA_externalquiz', 'NA_folder' ,'NA_forumng'\n",
    "                                                                                                                  ,'NA_glossary' ,'NA_homepage', 'NA_htmlactivity',\n",
    "                                                                                                                  'NA_oucollaborate', 'NA_oucontent', 'NA_ouelluminate',\n",
    "                                                                                                                  'NA_ouwiki','NA_page','NA_questionnaire','NA_quiz','NA_repeatactivity','NA_resource',\n",
    "                                                                                                                  'NA_sharedsubpage','NA_subpage','NA_url'),sum, na.rm = TRUE)\n"
   ]
  },
  {
   "cell_type": "markdown",
   "metadata": {},
   "source": [
    "> ### Next we created a unique key combining code_modeule, code_presentation and id_student"
   ]
  },
  {
   "cell_type": "code",
   "execution_count": 20,
   "metadata": {},
   "outputs": [],
   "source": [
    "#making a unique key code_module.x code_presentation.x and id_student\n",
    "key = paste(grouping_vle_join$code_module.x,grouping_vle_join$code_presentation.x,grouping_vle_join$id_student)\n"
   ]
  },
  {
   "cell_type": "code",
   "execution_count": 21,
   "metadata": {},
   "outputs": [],
   "source": [
    "grouping_vle_join$key = key"
   ]
  },
  {
   "cell_type": "code",
   "execution_count": 22,
   "metadata": {},
   "outputs": [
    {
     "data": {
      "text/html": [
       "29228"
      ],
      "text/latex": [
       "29228"
      ],
      "text/markdown": [
       "29228"
      ],
      "text/plain": [
       "[1] 29228"
      ]
     },
     "metadata": {},
     "output_type": "display_data"
    }
   ],
   "source": [
    "nrow(grouping_vle_join)"
   ]
  },
  {
   "cell_type": "markdown",
   "metadata": {},
   "source": [
    "> ### Making the same unique key for joined student info and student registration table."
   ]
  },
  {
   "cell_type": "code",
   "execution_count": 23,
   "metadata": {},
   "outputs": [],
   "source": [
    "key= paste(std_join_info_reg$code_module.x,std_join_info_reg$code_presentation.x,std_join_info_reg$id_student)"
   ]
  },
  {
   "cell_type": "code",
   "execution_count": 24,
   "metadata": {},
   "outputs": [],
   "source": [
    "std_join_info_reg$key = key"
   ]
  },
  {
   "cell_type": "code",
   "execution_count": 25,
   "metadata": {},
   "outputs": [
    {
     "data": {
      "text/html": [
       "32734"
      ],
      "text/latex": [
       "32734"
      ],
      "text/markdown": [
       "32734"
      ],
      "text/plain": [
       "[1] 32734"
      ]
     },
     "metadata": {},
     "output_type": "display_data"
    }
   ],
   "source": [
    "nrow(std_join_info_reg)"
   ]
  },
  {
   "cell_type": "markdown",
   "metadata": {},
   "source": [
    "> ### Joining joined std_join_info_reg with grouping_vle_join with our unique key with left join"
   ]
  },
  {
   "cell_type": "code",
   "execution_count": 26,
   "metadata": {},
   "outputs": [],
   "source": [
    "#joining vle join table with std join table\n",
    "std_join_vle = std_join_info_reg %>% left_join(grouping_vle_join, by = \"key\") "
   ]
  },
  {
   "cell_type": "code",
   "execution_count": 27,
   "metadata": {},
   "outputs": [
    {
     "data": {
      "text/html": [
       "32734"
      ],
      "text/latex": [
       "32734"
      ],
      "text/markdown": [
       "32734"
      ],
      "text/plain": [
       "[1] 32734"
      ]
     },
     "metadata": {},
     "output_type": "display_data"
    }
   ],
   "source": [
    "nrow(std_join_vle)"
   ]
  },
  {
   "cell_type": "markdown",
   "metadata": {},
   "source": [
    "## Preparing assess_join to join the main table.\n",
    "> ## Making dummy for assessment_type"
   ]
  },
  {
   "cell_type": "code",
   "execution_count": 28,
   "metadata": {},
   "outputs": [
    {
     "name": "stderr",
     "output_type": "stream",
     "text": [
      "Warning message in model.matrix.default(~x - 1, model.frame(~x - 1), contrasts = FALSE):\n",
      "\"non-list contrasts argument ignored\""
     ]
    }
   ],
   "source": [
    "#dummy for Assessment_type\n",
    "tom = dummy(assess_join$assessment_type,sep=\"_\")"
   ]
  },
  {
   "cell_type": "code",
   "execution_count": 29,
   "metadata": {},
   "outputs": [],
   "source": [
    "assess_join = cbind(assess_join,tom)"
   ]
  },
  {
   "cell_type": "code",
   "execution_count": 30,
   "metadata": {},
   "outputs": [
    {
     "data": {
      "text/html": [
       "<table>\n",
       "<thead><tr><th scope=col>id_assessment</th><th scope=col>id_student</th><th scope=col>date_submitted</th><th scope=col>is_banked</th><th scope=col>score</th><th scope=col>code_module</th><th scope=col>code_presentation</th><th scope=col>assessment_type</th><th scope=col>date</th><th scope=col>weight</th><th scope=col>NA_CMA</th><th scope=col>NA_Exam</th><th scope=col>NA_TMA</th></tr></thead>\n",
       "<tbody>\n",
       "\t<tr><td>1752 </td><td>11391</td><td>18   </td><td>0    </td><td>78   </td><td>AAA  </td><td>2013J</td><td>TMA  </td><td>19   </td><td>10   </td><td>0    </td><td>0    </td><td>1    </td></tr>\n",
       "\t<tr><td>1752 </td><td>28400</td><td>22   </td><td>0    </td><td>70   </td><td>AAA  </td><td>2013J</td><td>TMA  </td><td>19   </td><td>10   </td><td>0    </td><td>0    </td><td>1    </td></tr>\n",
       "\t<tr><td>1752 </td><td>31604</td><td>17   </td><td>0    </td><td>72   </td><td>AAA  </td><td>2013J</td><td>TMA  </td><td>19   </td><td>10   </td><td>0    </td><td>0    </td><td>1    </td></tr>\n",
       "\t<tr><td>1752 </td><td>32885</td><td>26   </td><td>0    </td><td>69   </td><td>AAA  </td><td>2013J</td><td>TMA  </td><td>19   </td><td>10   </td><td>0    </td><td>0    </td><td>1    </td></tr>\n",
       "\t<tr><td>1752 </td><td>38053</td><td>19   </td><td>0    </td><td>79   </td><td>AAA  </td><td>2013J</td><td>TMA  </td><td>19   </td><td>10   </td><td>0    </td><td>0    </td><td>1    </td></tr>\n",
       "\t<tr><td>1752 </td><td>45462</td><td>20   </td><td>0    </td><td>70   </td><td>AAA  </td><td>2013J</td><td>TMA  </td><td>19   </td><td>10   </td><td>0    </td><td>0    </td><td>1    </td></tr>\n",
       "</tbody>\n",
       "</table>\n"
      ],
      "text/latex": [
       "\\begin{tabular}{r|lllllllllllll}\n",
       " id\\_assessment & id\\_student & date\\_submitted & is\\_banked & score & code\\_module & code\\_presentation & assessment\\_type & date & weight & NA\\_CMA & NA\\_Exam & NA\\_TMA\\\\\n",
       "\\hline\n",
       "\t 1752  & 11391 & 18    & 0     & 78    & AAA   & 2013J & TMA   & 19    & 10    & 0     & 0     & 1    \\\\\n",
       "\t 1752  & 28400 & 22    & 0     & 70    & AAA   & 2013J & TMA   & 19    & 10    & 0     & 0     & 1    \\\\\n",
       "\t 1752  & 31604 & 17    & 0     & 72    & AAA   & 2013J & TMA   & 19    & 10    & 0     & 0     & 1    \\\\\n",
       "\t 1752  & 32885 & 26    & 0     & 69    & AAA   & 2013J & TMA   & 19    & 10    & 0     & 0     & 1    \\\\\n",
       "\t 1752  & 38053 & 19    & 0     & 79    & AAA   & 2013J & TMA   & 19    & 10    & 0     & 0     & 1    \\\\\n",
       "\t 1752  & 45462 & 20    & 0     & 70    & AAA   & 2013J & TMA   & 19    & 10    & 0     & 0     & 1    \\\\\n",
       "\\end{tabular}\n"
      ],
      "text/markdown": [
       "\n",
       "| id_assessment | id_student | date_submitted | is_banked | score | code_module | code_presentation | assessment_type | date | weight | NA_CMA | NA_Exam | NA_TMA |\n",
       "|---|---|---|---|---|---|---|---|---|---|---|---|---|\n",
       "| 1752  | 11391 | 18    | 0     | 78    | AAA   | 2013J | TMA   | 19    | 10    | 0     | 0     | 1     |\n",
       "| 1752  | 28400 | 22    | 0     | 70    | AAA   | 2013J | TMA   | 19    | 10    | 0     | 0     | 1     |\n",
       "| 1752  | 31604 | 17    | 0     | 72    | AAA   | 2013J | TMA   | 19    | 10    | 0     | 0     | 1     |\n",
       "| 1752  | 32885 | 26    | 0     | 69    | AAA   | 2013J | TMA   | 19    | 10    | 0     | 0     | 1     |\n",
       "| 1752  | 38053 | 19    | 0     | 79    | AAA   | 2013J | TMA   | 19    | 10    | 0     | 0     | 1     |\n",
       "| 1752  | 45462 | 20    | 0     | 70    | AAA   | 2013J | TMA   | 19    | 10    | 0     | 0     | 1     |\n",
       "\n"
      ],
      "text/plain": [
       "  id_assessment id_student date_submitted is_banked score code_module\n",
       "1 1752          11391      18             0         78    AAA        \n",
       "2 1752          28400      22             0         70    AAA        \n",
       "3 1752          31604      17             0         72    AAA        \n",
       "4 1752          32885      26             0         69    AAA        \n",
       "5 1752          38053      19             0         79    AAA        \n",
       "6 1752          45462      20             0         70    AAA        \n",
       "  code_presentation assessment_type date weight NA_CMA NA_Exam NA_TMA\n",
       "1 2013J             TMA             19   10     0      0       1     \n",
       "2 2013J             TMA             19   10     0      0       1     \n",
       "3 2013J             TMA             19   10     0      0       1     \n",
       "4 2013J             TMA             19   10     0      0       1     \n",
       "5 2013J             TMA             19   10     0      0       1     \n",
       "6 2013J             TMA             19   10     0      0       1     "
      ]
     },
     "metadata": {},
     "output_type": "display_data"
    }
   ],
   "source": [
    "head(assess_join[assess_join$NA_TMA ==1,])"
   ]
  },
  {
   "cell_type": "code",
   "execution_count": 31,
   "metadata": {},
   "outputs": [
    {
     "data": {
      "text/html": [
       "173912"
      ],
      "text/latex": [
       "173912"
      ],
      "text/markdown": [
       "173912"
      ],
      "text/plain": [
       "[1] 173912"
      ]
     },
     "metadata": {},
     "output_type": "display_data"
    }
   ],
   "source": [
    "nrow(assess_join)"
   ]
  },
  {
   "cell_type": "code",
   "execution_count": 32,
   "metadata": {},
   "outputs": [
    {
     "data": {
      "text/html": [
       "168953"
      ],
      "text/latex": [
       "168953"
      ],
      "text/markdown": [
       "168953"
      ],
      "text/plain": [
       "[1] 168953"
      ]
     },
     "metadata": {},
     "output_type": "display_data"
    }
   ],
   "source": [
    "#dropping the date for the assessment since date has no impact on the scores\n",
    "nrow(assess_join[!assess_join$NA_Exam ==1,])"
   ]
  },
  {
   "cell_type": "code",
   "execution_count": 33,
   "metadata": {},
   "outputs": [],
   "source": [
    "# making key for assess_join\n",
    "key = paste(assess_join$code_module,assess_join$code_presentation,assess_join$id_student)"
   ]
  },
  {
   "cell_type": "code",
   "execution_count": 34,
   "metadata": {},
   "outputs": [],
   "source": [
    "assess_join$key = key"
   ]
  },
  {
   "cell_type": "code",
   "execution_count": 35,
   "metadata": {},
   "outputs": [],
   "source": [
    "# weighted assessment \n",
    "\n",
    "assess_join$weighted_TMA = ((assess_join$NA_TMA * assess_join$weight)/100)*assess_join$score\n",
    "assess_join$weighted_Exam = ((assess_join$NA_Exam * assess_join$weight)/100)*assess_join$score\n",
    "assess_join$weighted_CMA = ((assess_join$NA_CMA * assess_join$weight)/100)*assess_join$score"
   ]
  },
  {
   "cell_type": "code",
   "execution_count": 36,
   "metadata": {},
   "outputs": [],
   "source": [
    "join_ = assess_join %>% group_by(key) %>% summarise(weight= sum(weight),CMA_count=sum(NA_CMA),Exam_count=sum(NA_Exam),TMA_count=sum(NA_TMA),\n",
    "                                                    TMA_score = sum(weighted_TMA),Exam_score=sum(weighted_Exam), CMA_Score=sum(weighted_CMA))"
   ]
  },
  {
   "cell_type": "code",
   "execution_count": 37,
   "metadata": {},
   "outputs": [
    {
     "data": {
      "text/html": [
       "173912"
      ],
      "text/latex": [
       "173912"
      ],
      "text/markdown": [
       "173912"
      ],
      "text/plain": [
       "[1] 173912"
      ]
     },
     "metadata": {},
     "output_type": "display_data"
    },
    {
     "data": {
      "text/html": [
       "25843"
      ],
      "text/latex": [
       "25843"
      ],
      "text/markdown": [
       "25843"
      ],
      "text/plain": [
       "[1] 25843"
      ]
     },
     "metadata": {},
     "output_type": "display_data"
    }
   ],
   "source": [
    "nrow(assess_join)\n",
    "#after grouping\n",
    "nrow(join_)"
   ]
  },
  {
   "cell_type": "code",
   "execution_count": 38,
   "metadata": {},
   "outputs": [],
   "source": [
    "# joining assessment_join_grouped with main_table\n",
    "main_table = std_join_vle\n"
   ]
  },
  {
   "cell_type": "code",
   "execution_count": 39,
   "metadata": {},
   "outputs": [],
   "source": [
    "#joining assessment table with main_table\n",
    "main_table_join= main_table %>% left_join(join_, by = \"key\")"
   ]
  },
  {
   "cell_type": "code",
   "execution_count": 43,
   "metadata": {},
   "outputs": [
    {
     "data": {
      "text/html": [
       "32734"
      ],
      "text/latex": [
       "32734"
      ],
      "text/markdown": [
       "32734"
      ],
      "text/plain": [
       "[1] 32734"
      ]
     },
     "metadata": {},
     "output_type": "display_data"
    }
   ],
   "source": [
    "nrow(main_table_join)"
   ]
  },
  {
   "cell_type": "code",
   "execution_count": 44,
   "metadata": {},
   "outputs": [],
   "source": [
    "#Making key for Main table and course to join later\n",
    "key1 = paste(courses$code_module,courses$code_presentation)\n",
    "key2 = paste(main_table_join$code_module.x.x,main_table_join$code_presentation.x.x)"
   ]
  },
  {
   "cell_type": "code",
   "execution_count": 45,
   "metadata": {},
   "outputs": [],
   "source": [
    "main_table_join$key= key2\n",
    "courses$key = key1"
   ]
  },
  {
   "cell_type": "code",
   "execution_count": 46,
   "metadata": {},
   "outputs": [],
   "source": [
    "finaltable_joined = main_table_join %>% left_join(courses, by = \"key\")"
   ]
  },
  {
   "cell_type": "code",
   "execution_count": 47,
   "metadata": {},
   "outputs": [
    {
     "data": {
      "text/html": [
       "32734"
      ],
      "text/latex": [
       "32734"
      ],
      "text/markdown": [
       "32734"
      ],
      "text/plain": [
       "[1] 32734"
      ]
     },
     "metadata": {},
     "output_type": "display_data"
    }
   ],
   "source": [
    "nrow(finaltable_joined)"
   ]
  },
  {
   "cell_type": "code",
   "execution_count": 48,
   "metadata": {},
   "outputs": [
    {
     "data": {
      "text/html": [
       "8256"
      ],
      "text/latex": [
       "8256"
      ],
      "text/markdown": [
       "8256"
      ],
      "text/plain": [
       "[1] 8256"
      ]
     },
     "metadata": {},
     "output_type": "display_data"
    }
   ],
   "source": [
    "nrow(finaltable_joined[!complete.cases(finaltable_joined),])"
   ]
  },
  {
   "cell_type": "code",
   "execution_count": 49,
   "metadata": {},
   "outputs": [
    {
     "data": {
      "text/html": [
       "<ol class=list-inline>\n",
       "\t<li>'code_module.x.x'</li>\n",
       "\t<li>'code_presentation.x.x'</li>\n",
       "\t<li>'id_student.x'</li>\n",
       "\t<li>'date_registration'</li>\n",
       "\t<li>'date_unregistration'</li>\n",
       "\t<li>'X'</li>\n",
       "\t<li>'gender'</li>\n",
       "\t<li>'region'</li>\n",
       "\t<li>'highest_education'</li>\n",
       "\t<li>'imd_band'</li>\n",
       "\t<li>'age_band'</li>\n",
       "\t<li>'num_of_prev_attempts'</li>\n",
       "\t<li>'studied_credits'</li>\n",
       "\t<li>'disability'</li>\n",
       "\t<li>'final_result'</li>\n",
       "\t<li>'key'</li>\n",
       "\t<li>'code_module.x.y'</li>\n",
       "\t<li>'code_presentation.x.y'</li>\n",
       "\t<li>'id_student.y'</li>\n",
       "\t<li>'sum_click'</li>\n",
       "\t<li>'NA_dataplus'</li>\n",
       "\t<li>'NA_dualpane'</li>\n",
       "\t<li>'NA_externalquiz'</li>\n",
       "\t<li>'NA_folder'</li>\n",
       "\t<li>'NA_forumng'</li>\n",
       "\t<li>'NA_glossary'</li>\n",
       "\t<li>'NA_homepage'</li>\n",
       "\t<li>'NA_htmlactivity'</li>\n",
       "\t<li>'NA_oucollaborate'</li>\n",
       "\t<li>'NA_oucontent'</li>\n",
       "\t<li>'NA_ouelluminate'</li>\n",
       "\t<li>'NA_ouwiki'</li>\n",
       "\t<li>'NA_page'</li>\n",
       "\t<li>'NA_questionnaire'</li>\n",
       "\t<li>'NA_quiz'</li>\n",
       "\t<li>'NA_repeatactivity'</li>\n",
       "\t<li>'NA_resource'</li>\n",
       "\t<li>'NA_sharedsubpage'</li>\n",
       "\t<li>'NA_subpage'</li>\n",
       "\t<li>'NA_url'</li>\n",
       "\t<li>'weight'</li>\n",
       "\t<li>'CMA_count'</li>\n",
       "\t<li>'Exam_count'</li>\n",
       "\t<li>'TMA_count'</li>\n",
       "\t<li>'TMA_score'</li>\n",
       "\t<li>'Exam_score'</li>\n",
       "\t<li>'CMA_Score'</li>\n",
       "\t<li>'code_module'</li>\n",
       "\t<li>'code_presentation'</li>\n",
       "\t<li>'module_presentation_length'</li>\n",
       "</ol>\n"
      ],
      "text/latex": [
       "\\begin{enumerate*}\n",
       "\\item 'code\\_module.x.x'\n",
       "\\item 'code\\_presentation.x.x'\n",
       "\\item 'id\\_student.x'\n",
       "\\item 'date\\_registration'\n",
       "\\item 'date\\_unregistration'\n",
       "\\item 'X'\n",
       "\\item 'gender'\n",
       "\\item 'region'\n",
       "\\item 'highest\\_education'\n",
       "\\item 'imd\\_band'\n",
       "\\item 'age\\_band'\n",
       "\\item 'num\\_of\\_prev\\_attempts'\n",
       "\\item 'studied\\_credits'\n",
       "\\item 'disability'\n",
       "\\item 'final\\_result'\n",
       "\\item 'key'\n",
       "\\item 'code\\_module.x.y'\n",
       "\\item 'code\\_presentation.x.y'\n",
       "\\item 'id\\_student.y'\n",
       "\\item 'sum\\_click'\n",
       "\\item 'NA\\_dataplus'\n",
       "\\item 'NA\\_dualpane'\n",
       "\\item 'NA\\_externalquiz'\n",
       "\\item 'NA\\_folder'\n",
       "\\item 'NA\\_forumng'\n",
       "\\item 'NA\\_glossary'\n",
       "\\item 'NA\\_homepage'\n",
       "\\item 'NA\\_htmlactivity'\n",
       "\\item 'NA\\_oucollaborate'\n",
       "\\item 'NA\\_oucontent'\n",
       "\\item 'NA\\_ouelluminate'\n",
       "\\item 'NA\\_ouwiki'\n",
       "\\item 'NA\\_page'\n",
       "\\item 'NA\\_questionnaire'\n",
       "\\item 'NA\\_quiz'\n",
       "\\item 'NA\\_repeatactivity'\n",
       "\\item 'NA\\_resource'\n",
       "\\item 'NA\\_sharedsubpage'\n",
       "\\item 'NA\\_subpage'\n",
       "\\item 'NA\\_url'\n",
       "\\item 'weight'\n",
       "\\item 'CMA\\_count'\n",
       "\\item 'Exam\\_count'\n",
       "\\item 'TMA\\_count'\n",
       "\\item 'TMA\\_score'\n",
       "\\item 'Exam\\_score'\n",
       "\\item 'CMA\\_Score'\n",
       "\\item 'code\\_module'\n",
       "\\item 'code\\_presentation'\n",
       "\\item 'module\\_presentation\\_length'\n",
       "\\end{enumerate*}\n"
      ],
      "text/markdown": [
       "1. 'code_module.x.x'\n",
       "2. 'code_presentation.x.x'\n",
       "3. 'id_student.x'\n",
       "4. 'date_registration'\n",
       "5. 'date_unregistration'\n",
       "6. 'X'\n",
       "7. 'gender'\n",
       "8. 'region'\n",
       "9. 'highest_education'\n",
       "10. 'imd_band'\n",
       "11. 'age_band'\n",
       "12. 'num_of_prev_attempts'\n",
       "13. 'studied_credits'\n",
       "14. 'disability'\n",
       "15. 'final_result'\n",
       "16. 'key'\n",
       "17. 'code_module.x.y'\n",
       "18. 'code_presentation.x.y'\n",
       "19. 'id_student.y'\n",
       "20. 'sum_click'\n",
       "21. 'NA_dataplus'\n",
       "22. 'NA_dualpane'\n",
       "23. 'NA_externalquiz'\n",
       "24. 'NA_folder'\n",
       "25. 'NA_forumng'\n",
       "26. 'NA_glossary'\n",
       "27. 'NA_homepage'\n",
       "28. 'NA_htmlactivity'\n",
       "29. 'NA_oucollaborate'\n",
       "30. 'NA_oucontent'\n",
       "31. 'NA_ouelluminate'\n",
       "32. 'NA_ouwiki'\n",
       "33. 'NA_page'\n",
       "34. 'NA_questionnaire'\n",
       "35. 'NA_quiz'\n",
       "36. 'NA_repeatactivity'\n",
       "37. 'NA_resource'\n",
       "38. 'NA_sharedsubpage'\n",
       "39. 'NA_subpage'\n",
       "40. 'NA_url'\n",
       "41. 'weight'\n",
       "42. 'CMA_count'\n",
       "43. 'Exam_count'\n",
       "44. 'TMA_count'\n",
       "45. 'TMA_score'\n",
       "46. 'Exam_score'\n",
       "47. 'CMA_Score'\n",
       "48. 'code_module'\n",
       "49. 'code_presentation'\n",
       "50. 'module_presentation_length'\n",
       "\n",
       "\n"
      ],
      "text/plain": [
       " [1] \"code_module.x.x\"            \"code_presentation.x.x\"     \n",
       " [3] \"id_student.x\"               \"date_registration\"         \n",
       " [5] \"date_unregistration\"        \"X\"                         \n",
       " [7] \"gender\"                     \"region\"                    \n",
       " [9] \"highest_education\"          \"imd_band\"                  \n",
       "[11] \"age_band\"                   \"num_of_prev_attempts\"      \n",
       "[13] \"studied_credits\"            \"disability\"                \n",
       "[15] \"final_result\"               \"key\"                       \n",
       "[17] \"code_module.x.y\"            \"code_presentation.x.y\"     \n",
       "[19] \"id_student.y\"               \"sum_click\"                 \n",
       "[21] \"NA_dataplus\"                \"NA_dualpane\"               \n",
       "[23] \"NA_externalquiz\"            \"NA_folder\"                 \n",
       "[25] \"NA_forumng\"                 \"NA_glossary\"               \n",
       "[27] \"NA_homepage\"                \"NA_htmlactivity\"           \n",
       "[29] \"NA_oucollaborate\"           \"NA_oucontent\"              \n",
       "[31] \"NA_ouelluminate\"            \"NA_ouwiki\"                 \n",
       "[33] \"NA_page\"                    \"NA_questionnaire\"          \n",
       "[35] \"NA_quiz\"                    \"NA_repeatactivity\"         \n",
       "[37] \"NA_resource\"                \"NA_sharedsubpage\"          \n",
       "[39] \"NA_subpage\"                 \"NA_url\"                    \n",
       "[41] \"weight\"                     \"CMA_count\"                 \n",
       "[43] \"Exam_count\"                 \"TMA_count\"                 \n",
       "[45] \"TMA_score\"                  \"Exam_score\"                \n",
       "[47] \"CMA_Score\"                  \"code_module\"               \n",
       "[49] \"code_presentation\"          \"module_presentation_length\""
      ]
     },
     "metadata": {},
     "output_type": "display_data"
    }
   ],
   "source": [
    "names(finaltable_joined)"
   ]
  },
  {
   "cell_type": "code",
   "execution_count": 50,
   "metadata": {},
   "outputs": [],
   "source": [
    "#Deleting duplicate columns from final dataframe\n",
    "finaltable_joined = finaltable_joined[,-which(names(finaltable_joined) %in% c(\"code_module.x.y\",\"code_presentation.x.y\",\n",
    "                                                                              \"code_module\",\"code_presentation\",\"id_student.y\"))]"
   ]
  },
  {
   "cell_type": "code",
   "execution_count": 51,
   "metadata": {},
   "outputs": [],
   "source": [
    "finaltable_joined$imd_band = is.character(finaltable_joined$imd_band)"
   ]
  },
  {
   "cell_type": "code",
   "execution_count": 52,
   "metadata": {},
   "outputs": [],
   "source": [
    "finaltable_joined[which(finaltable_joined$imd_band ==\"10-20\"),\"imd_band\"] = \"10-20%\""
   ]
  },
  {
   "cell_type": "code",
   "execution_count": 53,
   "metadata": {},
   "outputs": [],
   "source": [
    "finaltable_joined$key = as.factor(finaltable_joined$key)\n",
    "lev = levels(finaltable_joined$key)\n",
    "\n",
    "for (a in 1:length(lev)){\n",
    "   finaltable_joined[is.na(finaltable_joined$date_registration) ,\"date_registration\"] = \n",
    "    mean(finaltable_joined[!is.na(finaltable_joined$date_registration) & finaltable_joined$key == lev[a],\"date_registration\"])\n",
    "}"
   ]
  },
  {
   "cell_type": "code",
   "execution_count": 55,
   "metadata": {},
   "outputs": [],
   "source": [
    "write.csv(finaltable_joined,\"C:\\\\Users\\\\shrey\\\\OneDrive\\\\Desktop\\\\BUSINESS ANALYTICS\\\\Datasets\\\\Project2\\\\final_data1.1.csv\", row.names = FALSE)"
   ]
  },
  {
   "cell_type": "code",
   "execution_count": 56,
   "metadata": {},
   "outputs": [
    {
     "data": {
      "text/html": [
       "<table>\n",
       "<thead><tr><th scope=col>final_result</th><th scope=col>TMA_score</th><th scope=col>Exam_score</th><th scope=col>CMA_Score</th></tr></thead>\n",
       "<tbody>\n",
       "\t<tr><td>Pass</td><td>82.4</td><td>0   </td><td>0   </td></tr>\n",
       "\t<tr><td>Pass</td><td>65.4</td><td>0   </td><td>0   </td></tr>\n",
       "\t<tr><td>Pass</td><td>76.3</td><td>0   </td><td>0   </td></tr>\n",
       "\t<tr><td>Pass</td><td>72.5</td><td>0   </td><td>0   </td></tr>\n",
       "\t<tr><td>Pass</td><td>71.2</td><td>0   </td><td>0   </td></tr>\n",
       "\t<tr><td>Pass</td><td>79.0</td><td>0   </td><td>0   </td></tr>\n",
       "</tbody>\n",
       "</table>\n"
      ],
      "text/latex": [
       "\\begin{tabular}{r|llll}\n",
       " final\\_result & TMA\\_score & Exam\\_score & CMA\\_Score\\\\\n",
       "\\hline\n",
       "\t Pass & 82.4 & 0    & 0   \\\\\n",
       "\t Pass & 65.4 & 0    & 0   \\\\\n",
       "\t Pass & 76.3 & 0    & 0   \\\\\n",
       "\t Pass & 72.5 & 0    & 0   \\\\\n",
       "\t Pass & 71.2 & 0    & 0   \\\\\n",
       "\t Pass & 79.0 & 0    & 0   \\\\\n",
       "\\end{tabular}\n"
      ],
      "text/markdown": [
       "\n",
       "| final_result | TMA_score | Exam_score | CMA_Score |\n",
       "|---|---|---|---|\n",
       "| Pass | 82.4 | 0    | 0    |\n",
       "| Pass | 65.4 | 0    | 0    |\n",
       "| Pass | 76.3 | 0    | 0    |\n",
       "| Pass | 72.5 | 0    | 0    |\n",
       "| Pass | 71.2 | 0    | 0    |\n",
       "| Pass | 79.0 | 0    | 0    |\n",
       "\n"
      ],
      "text/plain": [
       "  final_result TMA_score Exam_score CMA_Score\n",
       "1 Pass         82.4      0          0        \n",
       "2 Pass         65.4      0          0        \n",
       "3 Pass         76.3      0          0        \n",
       "4 Pass         72.5      0          0        \n",
       "5 Pass         71.2      0          0        \n",
       "6 Pass         79.0      0          0        "
      ]
     },
     "metadata": {},
     "output_type": "display_data"
    }
   ],
   "source": [
    "head(finaltable_joined[complete.cases(finaltable_joined),which(names(finaltable_joined) %in% c(\"final_result\",\"TMA_score\",\"Exam_score\",\n",
    "                                                                                         \"CMA_Score\"))])"
   ]
  },
  {
   "cell_type": "code",
   "execution_count": 57,
   "metadata": {},
   "outputs": [
    {
     "data": {
      "text/html": [
       "7261"
      ],
      "text/latex": [
       "7261"
      ],
      "text/markdown": [
       "7261"
      ],
      "text/plain": [
       "[1] 7261"
      ]
     },
     "metadata": {},
     "output_type": "display_data"
    }
   ],
   "source": [
    "nrow(finaltable_joined[!complete.cases(finaltable_joined),])"
   ]
  },
  {
   "cell_type": "code",
   "execution_count": 58,
   "metadata": {},
   "outputs": [
    {
     "data": {
      "text/html": [
       "<ol class=list-inline>\n",
       "\t<li>'code_module.x.x'</li>\n",
       "\t<li>'code_presentation.x.x'</li>\n",
       "\t<li>'id_student.x'</li>\n",
       "\t<li>'date_registration'</li>\n",
       "\t<li>'date_unregistration'</li>\n",
       "\t<li>'X'</li>\n",
       "\t<li>'gender'</li>\n",
       "\t<li>'region'</li>\n",
       "\t<li>'highest_education'</li>\n",
       "\t<li>'imd_band'</li>\n",
       "\t<li>'age_band'</li>\n",
       "\t<li>'num_of_prev_attempts'</li>\n",
       "\t<li>'studied_credits'</li>\n",
       "\t<li>'disability'</li>\n",
       "\t<li>'final_result'</li>\n",
       "\t<li>'key'</li>\n",
       "\t<li>'sum_click'</li>\n",
       "\t<li>'NA_dataplus'</li>\n",
       "\t<li>'NA_dualpane'</li>\n",
       "\t<li>'NA_externalquiz'</li>\n",
       "\t<li>'NA_folder'</li>\n",
       "\t<li>'NA_forumng'</li>\n",
       "\t<li>'NA_glossary'</li>\n",
       "\t<li>'NA_homepage'</li>\n",
       "\t<li>'NA_htmlactivity'</li>\n",
       "\t<li>'NA_oucollaborate'</li>\n",
       "\t<li>'NA_oucontent'</li>\n",
       "\t<li>'NA_ouelluminate'</li>\n",
       "\t<li>'NA_ouwiki'</li>\n",
       "\t<li>'NA_page'</li>\n",
       "\t<li>'NA_questionnaire'</li>\n",
       "\t<li>'NA_quiz'</li>\n",
       "\t<li>'NA_repeatactivity'</li>\n",
       "\t<li>'NA_resource'</li>\n",
       "\t<li>'NA_sharedsubpage'</li>\n",
       "\t<li>'NA_subpage'</li>\n",
       "\t<li>'NA_url'</li>\n",
       "\t<li>'weight'</li>\n",
       "\t<li>'CMA_count'</li>\n",
       "\t<li>'Exam_count'</li>\n",
       "\t<li>'TMA_count'</li>\n",
       "\t<li>'TMA_score'</li>\n",
       "\t<li>'Exam_score'</li>\n",
       "\t<li>'CMA_Score'</li>\n",
       "\t<li>'module_presentation_length'</li>\n",
       "</ol>\n"
      ],
      "text/latex": [
       "\\begin{enumerate*}\n",
       "\\item 'code\\_module.x.x'\n",
       "\\item 'code\\_presentation.x.x'\n",
       "\\item 'id\\_student.x'\n",
       "\\item 'date\\_registration'\n",
       "\\item 'date\\_unregistration'\n",
       "\\item 'X'\n",
       "\\item 'gender'\n",
       "\\item 'region'\n",
       "\\item 'highest\\_education'\n",
       "\\item 'imd\\_band'\n",
       "\\item 'age\\_band'\n",
       "\\item 'num\\_of\\_prev\\_attempts'\n",
       "\\item 'studied\\_credits'\n",
       "\\item 'disability'\n",
       "\\item 'final\\_result'\n",
       "\\item 'key'\n",
       "\\item 'sum\\_click'\n",
       "\\item 'NA\\_dataplus'\n",
       "\\item 'NA\\_dualpane'\n",
       "\\item 'NA\\_externalquiz'\n",
       "\\item 'NA\\_folder'\n",
       "\\item 'NA\\_forumng'\n",
       "\\item 'NA\\_glossary'\n",
       "\\item 'NA\\_homepage'\n",
       "\\item 'NA\\_htmlactivity'\n",
       "\\item 'NA\\_oucollaborate'\n",
       "\\item 'NA\\_oucontent'\n",
       "\\item 'NA\\_ouelluminate'\n",
       "\\item 'NA\\_ouwiki'\n",
       "\\item 'NA\\_page'\n",
       "\\item 'NA\\_questionnaire'\n",
       "\\item 'NA\\_quiz'\n",
       "\\item 'NA\\_repeatactivity'\n",
       "\\item 'NA\\_resource'\n",
       "\\item 'NA\\_sharedsubpage'\n",
       "\\item 'NA\\_subpage'\n",
       "\\item 'NA\\_url'\n",
       "\\item 'weight'\n",
       "\\item 'CMA\\_count'\n",
       "\\item 'Exam\\_count'\n",
       "\\item 'TMA\\_count'\n",
       "\\item 'TMA\\_score'\n",
       "\\item 'Exam\\_score'\n",
       "\\item 'CMA\\_Score'\n",
       "\\item 'module\\_presentation\\_length'\n",
       "\\end{enumerate*}\n"
      ],
      "text/markdown": [
       "1. 'code_module.x.x'\n",
       "2. 'code_presentation.x.x'\n",
       "3. 'id_student.x'\n",
       "4. 'date_registration'\n",
       "5. 'date_unregistration'\n",
       "6. 'X'\n",
       "7. 'gender'\n",
       "8. 'region'\n",
       "9. 'highest_education'\n",
       "10. 'imd_band'\n",
       "11. 'age_band'\n",
       "12. 'num_of_prev_attempts'\n",
       "13. 'studied_credits'\n",
       "14. 'disability'\n",
       "15. 'final_result'\n",
       "16. 'key'\n",
       "17. 'sum_click'\n",
       "18. 'NA_dataplus'\n",
       "19. 'NA_dualpane'\n",
       "20. 'NA_externalquiz'\n",
       "21. 'NA_folder'\n",
       "22. 'NA_forumng'\n",
       "23. 'NA_glossary'\n",
       "24. 'NA_homepage'\n",
       "25. 'NA_htmlactivity'\n",
       "26. 'NA_oucollaborate'\n",
       "27. 'NA_oucontent'\n",
       "28. 'NA_ouelluminate'\n",
       "29. 'NA_ouwiki'\n",
       "30. 'NA_page'\n",
       "31. 'NA_questionnaire'\n",
       "32. 'NA_quiz'\n",
       "33. 'NA_repeatactivity'\n",
       "34. 'NA_resource'\n",
       "35. 'NA_sharedsubpage'\n",
       "36. 'NA_subpage'\n",
       "37. 'NA_url'\n",
       "38. 'weight'\n",
       "39. 'CMA_count'\n",
       "40. 'Exam_count'\n",
       "41. 'TMA_count'\n",
       "42. 'TMA_score'\n",
       "43. 'Exam_score'\n",
       "44. 'CMA_Score'\n",
       "45. 'module_presentation_length'\n",
       "\n",
       "\n"
      ],
      "text/plain": [
       " [1] \"code_module.x.x\"            \"code_presentation.x.x\"     \n",
       " [3] \"id_student.x\"               \"date_registration\"         \n",
       " [5] \"date_unregistration\"        \"X\"                         \n",
       " [7] \"gender\"                     \"region\"                    \n",
       " [9] \"highest_education\"          \"imd_band\"                  \n",
       "[11] \"age_band\"                   \"num_of_prev_attempts\"      \n",
       "[13] \"studied_credits\"            \"disability\"                \n",
       "[15] \"final_result\"               \"key\"                       \n",
       "[17] \"sum_click\"                  \"NA_dataplus\"               \n",
       "[19] \"NA_dualpane\"                \"NA_externalquiz\"           \n",
       "[21] \"NA_folder\"                  \"NA_forumng\"                \n",
       "[23] \"NA_glossary\"                \"NA_homepage\"               \n",
       "[25] \"NA_htmlactivity\"            \"NA_oucollaborate\"          \n",
       "[27] \"NA_oucontent\"               \"NA_ouelluminate\"           \n",
       "[29] \"NA_ouwiki\"                  \"NA_page\"                   \n",
       "[31] \"NA_questionnaire\"           \"NA_quiz\"                   \n",
       "[33] \"NA_repeatactivity\"          \"NA_resource\"               \n",
       "[35] \"NA_sharedsubpage\"           \"NA_subpage\"                \n",
       "[37] \"NA_url\"                     \"weight\"                    \n",
       "[39] \"CMA_count\"                  \"Exam_count\"                \n",
       "[41] \"TMA_count\"                  \"TMA_score\"                 \n",
       "[43] \"Exam_score\"                 \"CMA_Score\"                 \n",
       "[45] \"module_presentation_length\""
      ]
     },
     "metadata": {},
     "output_type": "display_data"
    }
   ],
   "source": [
    "names(finaltable_joined)"
   ]
  },
  {
   "cell_type": "code",
   "execution_count": 59,
   "metadata": {},
   "outputs": [
    {
     "data": {
      "text/html": [
       "32734"
      ],
      "text/latex": [
       "32734"
      ],
      "text/markdown": [
       "32734"
      ],
      "text/plain": [
       "[1] 32734"
      ]
     },
     "metadata": {},
     "output_type": "display_data"
    }
   ],
   "source": [
    "nrow(finaltable_joined)\n",
    "finaltable_joined[is.na(finaltable_joined$sum_click),\"sum_click\"] = 0\n",
    "finaltable_joined[is.na(finaltable_joined$NA_dataplus),\"NA_dataplus\"] = 0\n",
    "finaltable_joined[is.na(finaltable_joined$NA_dualpane),\"NA_dualpane\"] = 0\n",
    "finaltable_joined[is.na(finaltable_joined$NA_externalquiz),\"NA_externalquiz\"] = 0\n",
    "finaltable_joined[is.na(finaltable_joined$NA_folder),\"NA_folder\"] = 0\n",
    "finaltable_joined[is.na(finaltable_joined$NA_forumng),\"NA_forumng\"] = 0\n",
    "finaltable_joined[is.na(finaltable_joined$NA_glossary),\"NA_glossary\"] = 0\n",
    "finaltable_joined[is.na(finaltable_joined$NA_homepage),\"NA_homepage\"] = 0\n",
    "finaltable_joined[is.na(finaltable_joined$NA_htmlactivity),\"NA_htmlactivity\"] = 0\n",
    "finaltable_joined[is.na(finaltable_joined$NA_oucollaborate),\"NA_oucollaborate\"] = 0\n",
    "finaltable_joined[is.na(finaltable_joined$NA_oucontent),\"NA_oucontent\"] = 0\n",
    "finaltable_joined[is.na(finaltable_joined$NA_ouelluminate),\"NA_ouelluminate\"] = 0\n",
    "finaltable_joined[is.na(finaltable_joined$NA_ouwiki),\"NA_ouwiki\"] = 0\n",
    "finaltable_joined[is.na(finaltable_joined$NA_page),\"NA_page\"] = 0\n",
    "finaltable_joined[is.na(finaltable_joined$NA_quiz),\"NA_quiz\"] = 0\n",
    "finaltable_joined[is.na(finaltable_joined$NA_questionnaire),\"NA_questionnaire\"] = 0\n",
    "finaltable_joined[is.na(finaltable_joined$NA_repeatactivity),\"NA_repeatactivity\"] = 0\n",
    "finaltable_joined[is.na(finaltable_joined$NA_resource),\"NA_resource\"] = 0\n",
    "finaltable_joined[is.na(finaltable_joined$NA_sharedsubpage),\"NA_sharedsubpage\"] = 0\n",
    "finaltable_joined[is.na(finaltable_joined$NA_subpage),\"NA_subpage\"] = 0\n",
    "finaltable_joined[is.na(finaltable_joined$NA_url),\"NA_url\"] = 0\n",
    "finaltable_joined[is.na(finaltable_joined$weight),\"weight\"] = 0\n",
    "finaltable_joined[is.na(finaltable_joined$CMA_count),\"CMA_count\"] = 0\n",
    "finaltable_joined[is.na(finaltable_joined$Exam_count),\"Exam_count\"] = 0\n",
    "finaltable_joined[is.na(finaltable_joined$TMA_count),\"TMA_count\"] = 0\n",
    "finaltable_joined[is.na(finaltable_joined$TMA_score),\"TMA_score\"] = 0\n",
    "finaltable_joined[is.na(finaltable_joined$Exam_score),\"Exam_score\"] = 0\n",
    "finaltable_joined[is.na(finaltable_joined$CMA_Score),\"CMA_Score\"] = 0"
   ]
  },
  {
   "cell_type": "code",
   "execution_count": 60,
   "metadata": {},
   "outputs": [
    {
     "data": {
      "text/html": [
       "0"
      ],
      "text/latex": [
       "0"
      ],
      "text/markdown": [
       "0"
      ],
      "text/plain": [
       "[1] 0"
      ]
     },
     "metadata": {},
     "output_type": "display_data"
    }
   ],
   "source": [
    "nrow(finaltable_joined[!complete.cases(finaltable_joined),])"
   ]
  },
  {
   "cell_type": "code",
   "execution_count": 61,
   "metadata": {},
   "outputs": [
    {
     "data": {
      "text/html": [
       "<dl class=dl-horizontal>\n",
       "\t<dt>code_module.x.x</dt>\n",
       "\t\t<dd>0</dd>\n",
       "\t<dt>code_presentation.x.x</dt>\n",
       "\t\t<dd>0</dd>\n",
       "\t<dt>id_student.x</dt>\n",
       "\t\t<dd>0</dd>\n",
       "\t<dt>date_registration</dt>\n",
       "\t\t<dd>0</dd>\n",
       "\t<dt>date_unregistration</dt>\n",
       "\t\t<dd>0</dd>\n",
       "\t<dt>X</dt>\n",
       "\t\t<dd>0</dd>\n",
       "\t<dt>gender</dt>\n",
       "\t\t<dd>0</dd>\n",
       "\t<dt>region</dt>\n",
       "\t\t<dd>0</dd>\n",
       "\t<dt>highest_education</dt>\n",
       "\t\t<dd>0</dd>\n",
       "\t<dt>imd_band</dt>\n",
       "\t\t<dd>0</dd>\n",
       "\t<dt>age_band</dt>\n",
       "\t\t<dd>0</dd>\n",
       "\t<dt>num_of_prev_attempts</dt>\n",
       "\t\t<dd>0</dd>\n",
       "\t<dt>studied_credits</dt>\n",
       "\t\t<dd>0</dd>\n",
       "\t<dt>disability</dt>\n",
       "\t\t<dd>0</dd>\n",
       "\t<dt>final_result</dt>\n",
       "\t\t<dd>0</dd>\n",
       "\t<dt>key</dt>\n",
       "\t\t<dd>0</dd>\n",
       "\t<dt>sum_click</dt>\n",
       "\t\t<dd>0</dd>\n",
       "\t<dt>NA_dataplus</dt>\n",
       "\t\t<dd>0</dd>\n",
       "\t<dt>NA_dualpane</dt>\n",
       "\t\t<dd>0</dd>\n",
       "\t<dt>NA_externalquiz</dt>\n",
       "\t\t<dd>0</dd>\n",
       "\t<dt>NA_folder</dt>\n",
       "\t\t<dd>0</dd>\n",
       "\t<dt>NA_forumng</dt>\n",
       "\t\t<dd>0</dd>\n",
       "\t<dt>NA_glossary</dt>\n",
       "\t\t<dd>0</dd>\n",
       "\t<dt>NA_homepage</dt>\n",
       "\t\t<dd>0</dd>\n",
       "\t<dt>NA_htmlactivity</dt>\n",
       "\t\t<dd>0</dd>\n",
       "\t<dt>NA_oucollaborate</dt>\n",
       "\t\t<dd>0</dd>\n",
       "\t<dt>NA_oucontent</dt>\n",
       "\t\t<dd>0</dd>\n",
       "\t<dt>NA_ouelluminate</dt>\n",
       "\t\t<dd>0</dd>\n",
       "\t<dt>NA_ouwiki</dt>\n",
       "\t\t<dd>0</dd>\n",
       "\t<dt>NA_page</dt>\n",
       "\t\t<dd>0</dd>\n",
       "\t<dt>NA_questionnaire</dt>\n",
       "\t\t<dd>0</dd>\n",
       "\t<dt>NA_quiz</dt>\n",
       "\t\t<dd>0</dd>\n",
       "\t<dt>NA_repeatactivity</dt>\n",
       "\t\t<dd>0</dd>\n",
       "\t<dt>NA_resource</dt>\n",
       "\t\t<dd>0</dd>\n",
       "\t<dt>NA_sharedsubpage</dt>\n",
       "\t\t<dd>0</dd>\n",
       "\t<dt>NA_subpage</dt>\n",
       "\t\t<dd>0</dd>\n",
       "\t<dt>NA_url</dt>\n",
       "\t\t<dd>0</dd>\n",
       "\t<dt>weight</dt>\n",
       "\t\t<dd>0</dd>\n",
       "\t<dt>CMA_count</dt>\n",
       "\t\t<dd>0</dd>\n",
       "\t<dt>Exam_count</dt>\n",
       "\t\t<dd>0</dd>\n",
       "\t<dt>TMA_count</dt>\n",
       "\t\t<dd>0</dd>\n",
       "\t<dt>TMA_score</dt>\n",
       "\t\t<dd>0</dd>\n",
       "\t<dt>Exam_score</dt>\n",
       "\t\t<dd>0</dd>\n",
       "\t<dt>CMA_Score</dt>\n",
       "\t\t<dd>0</dd>\n",
       "\t<dt>module_presentation_length</dt>\n",
       "\t\t<dd>0</dd>\n",
       "</dl>\n"
      ],
      "text/latex": [
       "\\begin{description*}\n",
       "\\item[code\\textbackslash{}\\_module.x.x] 0\n",
       "\\item[code\\textbackslash{}\\_presentation.x.x] 0\n",
       "\\item[id\\textbackslash{}\\_student.x] 0\n",
       "\\item[date\\textbackslash{}\\_registration] 0\n",
       "\\item[date\\textbackslash{}\\_unregistration] 0\n",
       "\\item[X] 0\n",
       "\\item[gender] 0\n",
       "\\item[region] 0\n",
       "\\item[highest\\textbackslash{}\\_education] 0\n",
       "\\item[imd\\textbackslash{}\\_band] 0\n",
       "\\item[age\\textbackslash{}\\_band] 0\n",
       "\\item[num\\textbackslash{}\\_of\\textbackslash{}\\_prev\\textbackslash{}\\_attempts] 0\n",
       "\\item[studied\\textbackslash{}\\_credits] 0\n",
       "\\item[disability] 0\n",
       "\\item[final\\textbackslash{}\\_result] 0\n",
       "\\item[key] 0\n",
       "\\item[sum\\textbackslash{}\\_click] 0\n",
       "\\item[NA\\textbackslash{}\\_dataplus] 0\n",
       "\\item[NA\\textbackslash{}\\_dualpane] 0\n",
       "\\item[NA\\textbackslash{}\\_externalquiz] 0\n",
       "\\item[NA\\textbackslash{}\\_folder] 0\n",
       "\\item[NA\\textbackslash{}\\_forumng] 0\n",
       "\\item[NA\\textbackslash{}\\_glossary] 0\n",
       "\\item[NA\\textbackslash{}\\_homepage] 0\n",
       "\\item[NA\\textbackslash{}\\_htmlactivity] 0\n",
       "\\item[NA\\textbackslash{}\\_oucollaborate] 0\n",
       "\\item[NA\\textbackslash{}\\_oucontent] 0\n",
       "\\item[NA\\textbackslash{}\\_ouelluminate] 0\n",
       "\\item[NA\\textbackslash{}\\_ouwiki] 0\n",
       "\\item[NA\\textbackslash{}\\_page] 0\n",
       "\\item[NA\\textbackslash{}\\_questionnaire] 0\n",
       "\\item[NA\\textbackslash{}\\_quiz] 0\n",
       "\\item[NA\\textbackslash{}\\_repeatactivity] 0\n",
       "\\item[NA\\textbackslash{}\\_resource] 0\n",
       "\\item[NA\\textbackslash{}\\_sharedsubpage] 0\n",
       "\\item[NA\\textbackslash{}\\_subpage] 0\n",
       "\\item[NA\\textbackslash{}\\_url] 0\n",
       "\\item[weight] 0\n",
       "\\item[CMA\\textbackslash{}\\_count] 0\n",
       "\\item[Exam\\textbackslash{}\\_count] 0\n",
       "\\item[TMA\\textbackslash{}\\_count] 0\n",
       "\\item[TMA\\textbackslash{}\\_score] 0\n",
       "\\item[Exam\\textbackslash{}\\_score] 0\n",
       "\\item[CMA\\textbackslash{}\\_Score] 0\n",
       "\\item[module\\textbackslash{}\\_presentation\\textbackslash{}\\_length] 0\n",
       "\\end{description*}\n"
      ],
      "text/markdown": [
       "code_module.x.x\n",
       ":   0code_presentation.x.x\n",
       ":   0id_student.x\n",
       ":   0date_registration\n",
       ":   0date_unregistration\n",
       ":   0X\n",
       ":   0gender\n",
       ":   0region\n",
       ":   0highest_education\n",
       ":   0imd_band\n",
       ":   0age_band\n",
       ":   0num_of_prev_attempts\n",
       ":   0studied_credits\n",
       ":   0disability\n",
       ":   0final_result\n",
       ":   0key\n",
       ":   0sum_click\n",
       ":   0NA_dataplus\n",
       ":   0NA_dualpane\n",
       ":   0NA_externalquiz\n",
       ":   0NA_folder\n",
       ":   0NA_forumng\n",
       ":   0NA_glossary\n",
       ":   0NA_homepage\n",
       ":   0NA_htmlactivity\n",
       ":   0NA_oucollaborate\n",
       ":   0NA_oucontent\n",
       ":   0NA_ouelluminate\n",
       ":   0NA_ouwiki\n",
       ":   0NA_page\n",
       ":   0NA_questionnaire\n",
       ":   0NA_quiz\n",
       ":   0NA_repeatactivity\n",
       ":   0NA_resource\n",
       ":   0NA_sharedsubpage\n",
       ":   0NA_subpage\n",
       ":   0NA_url\n",
       ":   0weight\n",
       ":   0CMA_count\n",
       ":   0Exam_count\n",
       ":   0TMA_count\n",
       ":   0TMA_score\n",
       ":   0Exam_score\n",
       ":   0CMA_Score\n",
       ":   0module_presentation_length\n",
       ":   0\n",
       "\n"
      ],
      "text/plain": [
       "           code_module.x.x      code_presentation.x.x \n",
       "                         0                          0 \n",
       "              id_student.x          date_registration \n",
       "                         0                          0 \n",
       "       date_unregistration                          X \n",
       "                         0                          0 \n",
       "                    gender                     region \n",
       "                         0                          0 \n",
       "         highest_education                   imd_band \n",
       "                         0                          0 \n",
       "                  age_band       num_of_prev_attempts \n",
       "                         0                          0 \n",
       "           studied_credits                 disability \n",
       "                         0                          0 \n",
       "              final_result                        key \n",
       "                         0                          0 \n",
       "                 sum_click                NA_dataplus \n",
       "                         0                          0 \n",
       "               NA_dualpane            NA_externalquiz \n",
       "                         0                          0 \n",
       "                 NA_folder                 NA_forumng \n",
       "                         0                          0 \n",
       "               NA_glossary                NA_homepage \n",
       "                         0                          0 \n",
       "           NA_htmlactivity           NA_oucollaborate \n",
       "                         0                          0 \n",
       "              NA_oucontent            NA_ouelluminate \n",
       "                         0                          0 \n",
       "                 NA_ouwiki                    NA_page \n",
       "                         0                          0 \n",
       "          NA_questionnaire                    NA_quiz \n",
       "                         0                          0 \n",
       "         NA_repeatactivity                NA_resource \n",
       "                         0                          0 \n",
       "          NA_sharedsubpage                 NA_subpage \n",
       "                         0                          0 \n",
       "                    NA_url                     weight \n",
       "                         0                          0 \n",
       "                 CMA_count                 Exam_count \n",
       "                         0                          0 \n",
       "                 TMA_count                  TMA_score \n",
       "                         0                          0 \n",
       "                Exam_score                  CMA_Score \n",
       "                         0                          0 \n",
       "module_presentation_length \n",
       "                         0 "
      ]
     },
     "metadata": {},
     "output_type": "display_data"
    }
   ],
   "source": [
    "sapply(finaltable_joined, function(x) sum(is.na(x)))"
   ]
  },
  {
   "cell_type": "code",
   "execution_count": 62,
   "metadata": {},
   "outputs": [],
   "source": [
    "write.csv(finaltable_joined,\"C:\\\\Users\\\\shrey\\\\OneDrive\\\\Desktop\\\\BUSINESS ANALYTICS\\\\Datasets\\\\Project2\\\\final_data2.csv\", row.names = FALSE)"
   ]
  },
  {
   "cell_type": "code",
   "execution_count": null,
   "metadata": {},
   "outputs": [],
   "source": []
  }
 ],
 "metadata": {
  "kernelspec": {
   "display_name": "R",
   "language": "R",
   "name": "ir"
  },
  "language_info": {
   "codemirror_mode": "r",
   "file_extension": ".r",
   "mimetype": "text/x-r-source",
   "name": "R",
   "pygments_lexer": "r",
   "version": "3.6.1"
  }
 },
 "nbformat": 4,
 "nbformat_minor": 2
}
