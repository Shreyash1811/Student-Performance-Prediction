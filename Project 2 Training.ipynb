{
 "cells": [
  {
   "cell_type": "code",
   "execution_count": 1,
   "metadata": {},
   "outputs": [],
   "source": [
    "main_df = read.csv(\"C:\\\\Users\\\\shrey\\\\OneDrive\\\\Desktop\\\\BUSINESS ANALYTICS\\\\Datasets\\\\Project2\\\\final_data2.csv\")"
   ]
  },
  {
   "cell_type": "markdown",
   "metadata": {},
   "source": [
    "# Without replacing withdraw with pass"
   ]
  },
  {
   "cell_type": "code",
   "execution_count": 2,
   "metadata": {},
   "outputs": [
    {
     "data": {
      "text/html": [
       "<ol class=list-inline>\n",
       "\t<li>'code_module.x.x'</li>\n",
       "\t<li>'code_presentation.x.x'</li>\n",
       "\t<li>'id_student.x'</li>\n",
       "\t<li>'date_registration'</li>\n",
       "\t<li>'date_unregistration'</li>\n",
       "\t<li>'X'</li>\n",
       "\t<li>'gender'</li>\n",
       "\t<li>'region'</li>\n",
       "\t<li>'highest_education'</li>\n",
       "\t<li>'imd_band'</li>\n",
       "\t<li>'age_band'</li>\n",
       "\t<li>'num_of_prev_attempts'</li>\n",
       "\t<li>'studied_credits'</li>\n",
       "\t<li>'disability'</li>\n",
       "\t<li>'final_result'</li>\n",
       "\t<li>'key'</li>\n",
       "\t<li>'sum_click'</li>\n",
       "\t<li>'NA_dataplus'</li>\n",
       "\t<li>'NA_dualpane'</li>\n",
       "\t<li>'NA_externalquiz'</li>\n",
       "\t<li>'NA_folder'</li>\n",
       "\t<li>'NA_forumng'</li>\n",
       "\t<li>'NA_glossary'</li>\n",
       "\t<li>'NA_homepage'</li>\n",
       "\t<li>'NA_htmlactivity'</li>\n",
       "\t<li>'NA_oucollaborate'</li>\n",
       "\t<li>'NA_oucontent'</li>\n",
       "\t<li>'NA_ouelluminate'</li>\n",
       "\t<li>'NA_ouwiki'</li>\n",
       "\t<li>'NA_page'</li>\n",
       "\t<li>'NA_questionnaire'</li>\n",
       "\t<li>'NA_quiz'</li>\n",
       "\t<li>'NA_repeatactivity'</li>\n",
       "\t<li>'NA_resource'</li>\n",
       "\t<li>'NA_sharedsubpage'</li>\n",
       "\t<li>'NA_subpage'</li>\n",
       "\t<li>'NA_url'</li>\n",
       "\t<li>'weight'</li>\n",
       "\t<li>'CMA_count'</li>\n",
       "\t<li>'Exam_count'</li>\n",
       "\t<li>'TMA_count'</li>\n",
       "\t<li>'TMA_score'</li>\n",
       "\t<li>'Exam_score'</li>\n",
       "\t<li>'CMA_Score'</li>\n",
       "\t<li>'module_presentation_length'</li>\n",
       "</ol>\n"
      ],
      "text/latex": [
       "\\begin{enumerate*}\n",
       "\\item 'code\\_module.x.x'\n",
       "\\item 'code\\_presentation.x.x'\n",
       "\\item 'id\\_student.x'\n",
       "\\item 'date\\_registration'\n",
       "\\item 'date\\_unregistration'\n",
       "\\item 'X'\n",
       "\\item 'gender'\n",
       "\\item 'region'\n",
       "\\item 'highest\\_education'\n",
       "\\item 'imd\\_band'\n",
       "\\item 'age\\_band'\n",
       "\\item 'num\\_of\\_prev\\_attempts'\n",
       "\\item 'studied\\_credits'\n",
       "\\item 'disability'\n",
       "\\item 'final\\_result'\n",
       "\\item 'key'\n",
       "\\item 'sum\\_click'\n",
       "\\item 'NA\\_dataplus'\n",
       "\\item 'NA\\_dualpane'\n",
       "\\item 'NA\\_externalquiz'\n",
       "\\item 'NA\\_folder'\n",
       "\\item 'NA\\_forumng'\n",
       "\\item 'NA\\_glossary'\n",
       "\\item 'NA\\_homepage'\n",
       "\\item 'NA\\_htmlactivity'\n",
       "\\item 'NA\\_oucollaborate'\n",
       "\\item 'NA\\_oucontent'\n",
       "\\item 'NA\\_ouelluminate'\n",
       "\\item 'NA\\_ouwiki'\n",
       "\\item 'NA\\_page'\n",
       "\\item 'NA\\_questionnaire'\n",
       "\\item 'NA\\_quiz'\n",
       "\\item 'NA\\_repeatactivity'\n",
       "\\item 'NA\\_resource'\n",
       "\\item 'NA\\_sharedsubpage'\n",
       "\\item 'NA\\_subpage'\n",
       "\\item 'NA\\_url'\n",
       "\\item 'weight'\n",
       "\\item 'CMA\\_count'\n",
       "\\item 'Exam\\_count'\n",
       "\\item 'TMA\\_count'\n",
       "\\item 'TMA\\_score'\n",
       "\\item 'Exam\\_score'\n",
       "\\item 'CMA\\_Score'\n",
       "\\item 'module\\_presentation\\_length'\n",
       "\\end{enumerate*}\n"
      ],
      "text/markdown": [
       "1. 'code_module.x.x'\n",
       "2. 'code_presentation.x.x'\n",
       "3. 'id_student.x'\n",
       "4. 'date_registration'\n",
       "5. 'date_unregistration'\n",
       "6. 'X'\n",
       "7. 'gender'\n",
       "8. 'region'\n",
       "9. 'highest_education'\n",
       "10. 'imd_band'\n",
       "11. 'age_band'\n",
       "12. 'num_of_prev_attempts'\n",
       "13. 'studied_credits'\n",
       "14. 'disability'\n",
       "15. 'final_result'\n",
       "16. 'key'\n",
       "17. 'sum_click'\n",
       "18. 'NA_dataplus'\n",
       "19. 'NA_dualpane'\n",
       "20. 'NA_externalquiz'\n",
       "21. 'NA_folder'\n",
       "22. 'NA_forumng'\n",
       "23. 'NA_glossary'\n",
       "24. 'NA_homepage'\n",
       "25. 'NA_htmlactivity'\n",
       "26. 'NA_oucollaborate'\n",
       "27. 'NA_oucontent'\n",
       "28. 'NA_ouelluminate'\n",
       "29. 'NA_ouwiki'\n",
       "30. 'NA_page'\n",
       "31. 'NA_questionnaire'\n",
       "32. 'NA_quiz'\n",
       "33. 'NA_repeatactivity'\n",
       "34. 'NA_resource'\n",
       "35. 'NA_sharedsubpage'\n",
       "36. 'NA_subpage'\n",
       "37. 'NA_url'\n",
       "38. 'weight'\n",
       "39. 'CMA_count'\n",
       "40. 'Exam_count'\n",
       "41. 'TMA_count'\n",
       "42. 'TMA_score'\n",
       "43. 'Exam_score'\n",
       "44. 'CMA_Score'\n",
       "45. 'module_presentation_length'\n",
       "\n",
       "\n"
      ],
      "text/plain": [
       " [1] \"code_module.x.x\"            \"code_presentation.x.x\"     \n",
       " [3] \"id_student.x\"               \"date_registration\"         \n",
       " [5] \"date_unregistration\"        \"X\"                         \n",
       " [7] \"gender\"                     \"region\"                    \n",
       " [9] \"highest_education\"          \"imd_band\"                  \n",
       "[11] \"age_band\"                   \"num_of_prev_attempts\"      \n",
       "[13] \"studied_credits\"            \"disability\"                \n",
       "[15] \"final_result\"               \"key\"                       \n",
       "[17] \"sum_click\"                  \"NA_dataplus\"               \n",
       "[19] \"NA_dualpane\"                \"NA_externalquiz\"           \n",
       "[21] \"NA_folder\"                  \"NA_forumng\"                \n",
       "[23] \"NA_glossary\"                \"NA_homepage\"               \n",
       "[25] \"NA_htmlactivity\"            \"NA_oucollaborate\"          \n",
       "[27] \"NA_oucontent\"               \"NA_ouelluminate\"           \n",
       "[29] \"NA_ouwiki\"                  \"NA_page\"                   \n",
       "[31] \"NA_questionnaire\"           \"NA_quiz\"                   \n",
       "[33] \"NA_repeatactivity\"          \"NA_resource\"               \n",
       "[35] \"NA_sharedsubpage\"           \"NA_subpage\"                \n",
       "[37] \"NA_url\"                     \"weight\"                    \n",
       "[39] \"CMA_count\"                  \"Exam_count\"                \n",
       "[41] \"TMA_count\"                  \"TMA_score\"                 \n",
       "[43] \"Exam_score\"                 \"CMA_Score\"                 \n",
       "[45] \"module_presentation_length\""
      ]
     },
     "metadata": {},
     "output_type": "display_data"
    }
   ],
   "source": [
    "names(main_df)"
   ]
  },
  {
   "cell_type": "code",
   "execution_count": 3,
   "metadata": {},
   "outputs": [],
   "source": [
    "new= main_df[,-which(names(main_df) %in% c(\"id_student.x\",\"X\",\"key\"))]"
   ]
  },
  {
   "cell_type": "code",
   "execution_count": 4,
   "metadata": {},
   "outputs": [],
   "source": [
    "new=new[!new$final_result==\"Withdrawn\",]\n",
    "new[new$final_result==\"Distinction\",\"final_result\"] = \"Pass\""
   ]
  },
  {
   "cell_type": "code",
   "execution_count": 5,
   "metadata": {},
   "outputs": [],
   "source": [
    "write.csv(new,\"C:\\\\Users\\\\shrey\\\\OneDrive\\\\Desktop\\\\BUSINESS ANALYTICS\\\\Datasets\\\\Project2\\\\cat2.csv\", row.names = FALSE)"
   ]
  },
  {
   "cell_type": "code",
   "execution_count": 6,
   "metadata": {},
   "outputs": [],
   "source": [
    "new = read.csv(\"C:\\\\Users\\\\shrey\\\\OneDrive\\\\Desktop\\\\BUSINESS ANALYTICS\\\\Datasets\\\\Project2\\\\cat2.csv\")"
   ]
  },
  {
   "cell_type": "code",
   "execution_count": 21,
   "metadata": {},
   "outputs": [],
   "source": [
    "\n",
    "## 70% of the sample size\n",
    "smp_size <- floor(0.90 * nrow(new))\n",
    "\n",
    "## set the seed to make your partition reproducible\n",
    "set.seed(123)\n",
    "train_ind <- sample(seq_len(nrow(new)), size = smp_size)\n",
    "\n",
    "Train <- new[train_ind, ]\n",
    "Test <- new[-train_ind, ]\n",
    "\n",
    "row.names(Train) = NULL\n",
    "row.names(Test)= NULL"
   ]
  },
  {
   "cell_type": "code",
   "execution_count": 15,
   "metadata": {},
   "outputs": [
    {
     "name": "stderr",
     "output_type": "stream",
     "text": [
      "Type 'citation(\"pROC\")' for a citation.\n",
      "\n",
      "Attaching package: 'pROC'\n",
      "\n",
      "The following objects are masked from 'package:stats':\n",
      "\n",
      "    cov, smooth, var\n",
      "\n"
     ]
    }
   ],
   "source": [
    "library(caret)\n",
    "library(ROSE)\n",
    "library(pROC)"
   ]
  },
  {
   "cell_type": "markdown",
   "metadata": {},
   "source": [
    "# CART"
   ]
  },
  {
   "cell_type": "code",
   "execution_count": 22,
   "metadata": {},
   "outputs": [],
   "source": [
    "# Run algorithms using 10-fold cross validation\n",
    "control <- trainControl(method=\"cv\", number=10)\n",
    "metric <- \"Accuracy\""
   ]
  },
  {
   "cell_type": "code",
   "execution_count": 23,
   "metadata": {},
   "outputs": [],
   "source": [
    "# CART\n",
    "set.seed(7)\n",
    "fit.cart.unbalanced <- train(final_result~., data=Train, method=\"rpart\",metric=metric, trControl=control)"
   ]
  },
  {
   "cell_type": "code",
   "execution_count": 24,
   "metadata": {},
   "outputs": [
    {
     "data": {
      "text/plain": [
       "Confusion Matrix and Statistics\n",
       "\n",
       "          Reference\n",
       "Prediction Fail Pass\n",
       "      Fail  463  110\n",
       "      Pass  200 1370\n",
       "                                        \n",
       "               Accuracy : 0.8553        \n",
       "                 95% CI : (0.8397, 0.87)\n",
       "    No Information Rate : 0.6906        \n",
       "    P-Value [Acc > NIR] : < 2.2e-16     \n",
       "                                        \n",
       "                  Kappa : 0.6483        \n",
       "                                        \n",
       " Mcnemar's Test P-Value : 4.307e-07     \n",
       "                                        \n",
       "            Sensitivity : 0.6983        \n",
       "            Specificity : 0.9257        \n",
       "         Pos Pred Value : 0.8080        \n",
       "         Neg Pred Value : 0.8726        \n",
       "             Prevalence : 0.3094        \n",
       "         Detection Rate : 0.2161        \n",
       "   Detection Prevalence : 0.2674        \n",
       "      Balanced Accuracy : 0.8120        \n",
       "                                        \n",
       "       'Positive' Class : Fail          \n",
       "                                        "
      ]
     },
     "metadata": {},
     "output_type": "display_data"
    }
   ],
   "source": [
    "# estimate skill of CART on the validation dataset\n",
    "predictions_cart1 <- predict(fit.cart.unbalanced, Test)\n",
    "confusionMatrix(predictions_cart1, Test$final_result)"
   ]
  },
  {
   "cell_type": "code",
   "execution_count": 31,
   "metadata": {},
   "outputs": [
    {
     "name": "stderr",
     "output_type": "stream",
     "text": [
      "Setting levels: control = Fail, case = Pass\n",
      "Setting direction: controls < cases\n"
     ]
    },
    {
     "data": {
      "image/png": "[encoded data removed]",
      "text/plain": [
       "plot without title"
      ]
     },
     "metadata": {},
     "output_type": "display_data"
    }
   ],
   "source": [
    "cart1 =  predict(fit.cart.unbalanced, Test,type=\"prob\")\n",
    "two=plot(roc(Test$final_result,cart1[,2]))"
   ]
  },
  {
   "cell_type": "code",
   "execution_count": 27,
   "metadata": {},
   "outputs": [
    {
     "data": {
      "text/plain": [
       "rpart variable importance\n",
       "\n",
       "  only 20 most important variables shown (out of 377)\n",
       "\n",
       "                          Overall\n",
       "weight                     100.00\n",
       "TMA_count                   98.69\n",
       "TMA_score                   91.48\n",
       "NA_homepage                 74.14\n",
       "sum_click                   64.83\n",
       "CMA_count                   34.24\n",
       "NA_quiz                     31.22\n",
       "code_module.x.xGGG          17.91\n",
       "studied_credits             13.47\n",
       "`date_unregistration-148`    0.00\n",
       "date_unregistration94        0.00\n",
       "date_unregistration178       0.00\n",
       "`date_unregistration-49`     0.00\n",
       "date_unregistration235       0.00\n",
       "date_unregistration213       0.00\n",
       "date_unregistration192       0.00\n",
       "`date_unregistration-66`     0.00\n",
       "date_unregistration59        0.00\n",
       "date_unregistration29        0.00\n",
       "`date_unregistration-129`    0.00"
      ]
     },
     "metadata": {},
     "output_type": "display_data"
    }
   ],
   "source": [
    "tom1= varImp(fit.cart.unbalanced)\n",
    "tom1"
   ]
  },
  {
   "cell_type": "code",
   "execution_count": 110,
   "metadata": {},
   "outputs": [
    {
     "data": {
      "text/plain": [
       "\n",
       "     Fail      Pass \n",
       "0.3151616 0.6848384 "
      ]
     },
     "metadata": {},
     "output_type": "display_data"
    },
    {
     "data": {
      "text/plain": [
       "\n",
       " Fail  Pass \n",
       " 6076 13203 "
      ]
     },
     "metadata": {},
     "output_type": "display_data"
    }
   ],
   "source": [
    "prop.table(table(Train$final_result))\n",
    "table(Train$final_result)"
   ]
  },
  {
   "cell_type": "markdown",
   "metadata": {},
   "source": [
    "# Lets try to under sample the data "
   ]
  },
  {
   "cell_type": "code",
   "execution_count": 148,
   "metadata": {},
   "outputs": [
    {
     "data": {
      "text/plain": [
       "\n",
       "Pass Fail \n",
       "6076 6076 "
      ]
     },
     "metadata": {},
     "output_type": "display_data"
    }
   ],
   "source": [
    "# Under Sampling\n",
    "set.seed(222)\n",
    "under_sam= ovun.sample(final_result~.,data =Train, method = \"under\", N=6076*2)$data\n",
    "table(under_sam$final_result)"
   ]
  },
  {
   "cell_type": "code",
   "execution_count": 29,
   "metadata": {},
   "outputs": [],
   "source": [
    "# CART\n",
    "set.seed(7)\n",
    "fit.cart.balanced <- train(final_result~., data=under_sam, method=\"rpart\",metric=metric, trControl=control)"
   ]
  },
  {
   "cell_type": "code",
   "execution_count": 30,
   "metadata": {},
   "outputs": [
    {
     "name": "stderr",
     "output_type": "stream",
     "text": [
      "Warning message in confusionMatrix.default(predictions_cart2, Test$final_result):\n",
      "\"Levels are not in the same order for reference and data. Refactoring data to match.\""
     ]
    },
    {
     "data": {
      "text/plain": [
       "Confusion Matrix and Statistics\n",
       "\n",
       "          Reference\n",
       "Prediction Fail Pass\n",
       "      Fail  480  134\n",
       "      Pass  183 1346\n",
       "                                          \n",
       "               Accuracy : 0.8521          \n",
       "                 95% CI : (0.8363, 0.8669)\n",
       "    No Information Rate : 0.6906          \n",
       "    P-Value [Acc > NIR] : < 2.2e-16       \n",
       "                                          \n",
       "                  Kappa : 0.6466          \n",
       "                                          \n",
       " Mcnemar's Test P-Value : 0.007019        \n",
       "                                          \n",
       "            Sensitivity : 0.7240          \n",
       "            Specificity : 0.9095          \n",
       "         Pos Pred Value : 0.7818          \n",
       "         Neg Pred Value : 0.8803          \n",
       "             Prevalence : 0.3094          \n",
       "         Detection Rate : 0.2240          \n",
       "   Detection Prevalence : 0.2865          \n",
       "      Balanced Accuracy : 0.8167          \n",
       "                                          \n",
       "       'Positive' Class : Fail            \n",
       "                                          "
      ]
     },
     "metadata": {},
     "output_type": "display_data"
    }
   ],
   "source": [
    "# estimate skill of CART on the validation dataset\n",
    "predictions_cart2 <- predict(fit.cart.balanced, Test)\n",
    "confusionMatrix(predictions_cart2, Test$final_result)"
   ]
  },
  {
   "cell_type": "code",
   "execution_count": 34,
   "metadata": {},
   "outputs": [
    {
     "name": "stderr",
     "output_type": "stream",
     "text": [
      "Setting levels: control = Fail, case = Pass\n",
      "Setting direction: controls > cases\n"
     ]
    },
    {
     "data": {
      "image/png": "[encoded data removed]",
      "text/plain": [
       "plot without title"
      ]
     },
     "metadata": {},
     "output_type": "display_data"
    }
   ],
   "source": [
    "cart2 =  predict(fit.cart.balanced, Test,type=\"prob\")\n",
    "two=plot(roc(Test$final_result,cart2[,2]))"
   ]
  },
  {
   "cell_type": "code",
   "execution_count": 35,
   "metadata": {},
   "outputs": [
    {
     "data": {
      "text/plain": [
       "rpart variable importance\n",
       "\n",
       "  only 20 most important variables shown (out of 377)\n",
       "\n",
       "                          Overall\n",
       "weight                    100.000\n",
       "TMA_score                  96.585\n",
       "TMA_count                  81.531\n",
       "NA_homepage                69.466\n",
       "sum_click                  60.145\n",
       "CMA_count                  22.054\n",
       "NA_quiz                    17.831\n",
       "code_module.x.xGGG         10.403\n",
       "studied_credits             7.791\n",
       "`date_unregistration-108`   0.000\n",
       "`date_unregistration-137`   0.000\n",
       "`date_unregistration-163`   0.000\n",
       "date_unregistration114      0.000\n",
       "date_unregistration11       0.000\n",
       "date_unregistration65       0.000\n",
       "date_unregistration152      0.000\n",
       "disabilityY                 0.000\n",
       "date_unregistration40       0.000\n",
       "date_unregistration63       0.000\n",
       "date_unregistration141      0.000"
      ]
     },
     "metadata": {},
     "output_type": "display_data"
    }
   ],
   "source": [
    "tom2= varImp(fit.cart.balanced)\n",
    "tom2"
   ]
  },
  {
   "cell_type": "markdown",
   "metadata": {},
   "source": [
    "# Random Forrest:\n",
    "## Unbalanced"
   ]
  },
  {
   "cell_type": "code",
   "execution_count": 36,
   "metadata": {},
   "outputs": [
    {
     "data": {
      "text/html": [
       "<ol class=list-inline>\n",
       "\t<li>'code_module.x.x'</li>\n",
       "\t<li>'code_presentation.x.x'</li>\n",
       "\t<li>'date_registration'</li>\n",
       "\t<li>'date_unregistration'</li>\n",
       "\t<li>'gender'</li>\n",
       "\t<li>'region'</li>\n",
       "\t<li>'highest_education'</li>\n",
       "\t<li>'imd_band'</li>\n",
       "\t<li>'age_band'</li>\n",
       "\t<li>'num_of_prev_attempts'</li>\n",
       "\t<li>'studied_credits'</li>\n",
       "\t<li>'disability'</li>\n",
       "\t<li>'final_result'</li>\n",
       "\t<li>'sum_click'</li>\n",
       "\t<li>'NA_dataplus'</li>\n",
       "\t<li>'NA_dualpane'</li>\n",
       "\t<li>'NA_externalquiz'</li>\n",
       "\t<li>'NA_folder'</li>\n",
       "\t<li>'NA_forumng'</li>\n",
       "\t<li>'NA_glossary'</li>\n",
       "\t<li>'NA_homepage'</li>\n",
       "\t<li>'NA_htmlactivity'</li>\n",
       "\t<li>'NA_oucollaborate'</li>\n",
       "\t<li>'NA_oucontent'</li>\n",
       "\t<li>'NA_ouelluminate'</li>\n",
       "\t<li>'NA_ouwiki'</li>\n",
       "\t<li>'NA_page'</li>\n",
       "\t<li>'NA_questionnaire'</li>\n",
       "\t<li>'NA_quiz'</li>\n",
       "\t<li>'NA_repeatactivity'</li>\n",
       "\t<li>'NA_resource'</li>\n",
       "\t<li>'NA_sharedsubpage'</li>\n",
       "\t<li>'NA_subpage'</li>\n",
       "\t<li>'NA_url'</li>\n",
       "\t<li>'weight'</li>\n",
       "\t<li>'CMA_count'</li>\n",
       "\t<li>'Exam_count'</li>\n",
       "\t<li>'TMA_count'</li>\n",
       "\t<li>'TMA_score'</li>\n",
       "\t<li>'Exam_score'</li>\n",
       "\t<li>'CMA_Score'</li>\n",
       "\t<li>'module_presentation_length'</li>\n",
       "</ol>\n"
      ],
      "text/latex": [
       "\\begin{enumerate*}\n",
       "\\item 'code\\_module.x.x'\n",
       "\\item 'code\\_presentation.x.x'\n",
       "\\item 'date\\_registration'\n",
       "\\item 'date\\_unregistration'\n",
       "\\item 'gender'\n",
       "\\item 'region'\n",
       "\\item 'highest\\_education'\n",
       "\\item 'imd\\_band'\n",
       "\\item 'age\\_band'\n",
       "\\item 'num\\_of\\_prev\\_attempts'\n",
       "\\item 'studied\\_credits'\n",
       "\\item 'disability'\n",
       "\\item 'final\\_result'\n",
       "\\item 'sum\\_click'\n",
       "\\item 'NA\\_dataplus'\n",
       "\\item 'NA\\_dualpane'\n",
       "\\item 'NA\\_externalquiz'\n",
       "\\item 'NA\\_folder'\n",
       "\\item 'NA\\_forumng'\n",
       "\\item 'NA\\_glossary'\n",
       "\\item 'NA\\_homepage'\n",
       "\\item 'NA\\_htmlactivity'\n",
       "\\item 'NA\\_oucollaborate'\n",
       "\\item 'NA\\_oucontent'\n",
       "\\item 'NA\\_ouelluminate'\n",
       "\\item 'NA\\_ouwiki'\n",
       "\\item 'NA\\_page'\n",
       "\\item 'NA\\_questionnaire'\n",
       "\\item 'NA\\_quiz'\n",
       "\\item 'NA\\_repeatactivity'\n",
       "\\item 'NA\\_resource'\n",
       "\\item 'NA\\_sharedsubpage'\n",
       "\\item 'NA\\_subpage'\n",
       "\\item 'NA\\_url'\n",
       "\\item 'weight'\n",
       "\\item 'CMA\\_count'\n",
       "\\item 'Exam\\_count'\n",
       "\\item 'TMA\\_count'\n",
       "\\item 'TMA\\_score'\n",
       "\\item 'Exam\\_score'\n",
       "\\item 'CMA\\_Score'\n",
       "\\item 'module\\_presentation\\_length'\n",
       "\\end{enumerate*}\n"
      ],
      "text/markdown": [
       "1. 'code_module.x.x'\n",
       "2. 'code_presentation.x.x'\n",
       "3. 'date_registration'\n",
       "4. 'date_unregistration'\n",
       "5. 'gender'\n",
       "6. 'region'\n",
       "7. 'highest_education'\n",
       "8. 'imd_band'\n",
       "9. 'age_band'\n",
       "10. 'num_of_prev_attempts'\n",
       "11. 'studied_credits'\n",
       "12. 'disability'\n",
       "13. 'final_result'\n",
       "14. 'sum_click'\n",
       "15. 'NA_dataplus'\n",
       "16. 'NA_dualpane'\n",
       "17. 'NA_externalquiz'\n",
       "18. 'NA_folder'\n",
       "19. 'NA_forumng'\n",
       "20. 'NA_glossary'\n",
       "21. 'NA_homepage'\n",
       "22. 'NA_htmlactivity'\n",
       "23. 'NA_oucollaborate'\n",
       "24. 'NA_oucontent'\n",
       "25. 'NA_ouelluminate'\n",
       "26. 'NA_ouwiki'\n",
       "27. 'NA_page'\n",
       "28. 'NA_questionnaire'\n",
       "29. 'NA_quiz'\n",
       "30. 'NA_repeatactivity'\n",
       "31. 'NA_resource'\n",
       "32. 'NA_sharedsubpage'\n",
       "33. 'NA_subpage'\n",
       "34. 'NA_url'\n",
       "35. 'weight'\n",
       "36. 'CMA_count'\n",
       "37. 'Exam_count'\n",
       "38. 'TMA_count'\n",
       "39. 'TMA_score'\n",
       "40. 'Exam_score'\n",
       "41. 'CMA_Score'\n",
       "42. 'module_presentation_length'\n",
       "\n",
       "\n"
      ],
      "text/plain": [
       " [1] \"code_module.x.x\"            \"code_presentation.x.x\"     \n",
       " [3] \"date_registration\"          \"date_unregistration\"       \n",
       " [5] \"gender\"                     \"region\"                    \n",
       " [7] \"highest_education\"          \"imd_band\"                  \n",
       " [9] \"age_band\"                   \"num_of_prev_attempts\"      \n",
       "[11] \"studied_credits\"            \"disability\"                \n",
       "[13] \"final_result\"               \"sum_click\"                 \n",
       "[15] \"NA_dataplus\"                \"NA_dualpane\"               \n",
       "[17] \"NA_externalquiz\"            \"NA_folder\"                 \n",
       "[19] \"NA_forumng\"                 \"NA_glossary\"               \n",
       "[21] \"NA_homepage\"                \"NA_htmlactivity\"           \n",
       "[23] \"NA_oucollaborate\"           \"NA_oucontent\"              \n",
       "[25] \"NA_ouelluminate\"            \"NA_ouwiki\"                 \n",
       "[27] \"NA_page\"                    \"NA_questionnaire\"          \n",
       "[29] \"NA_quiz\"                    \"NA_repeatactivity\"         \n",
       "[31] \"NA_resource\"                \"NA_sharedsubpage\"          \n",
       "[33] \"NA_subpage\"                 \"NA_url\"                    \n",
       "[35] \"weight\"                     \"CMA_count\"                 \n",
       "[37] \"Exam_count\"                 \"TMA_count\"                 \n",
       "[39] \"TMA_score\"                  \"Exam_score\"                \n",
       "[41] \"CMA_Score\"                  \"module_presentation_length\""
      ]
     },
     "metadata": {},
     "output_type": "display_data"
    }
   ],
   "source": [
    "names(new)"
   ]
  },
  {
   "cell_type": "code",
   "execution_count": 41,
   "metadata": {},
   "outputs": [],
   "source": [
    "new_selected= new[,which(names(new) %in% c(\"weight\",\"TMA_score\",\"TMA_count\",\"NA_homepage\",\"sum_click\",\"CMA_count\",\"NA_quiz\",\n",
    "                             \"code_module.x.x\",\"code_presentation.x.x\",\"studied_credits\",\"final_result\",\"age_band\"))]"
   ]
  },
  {
   "cell_type": "code",
   "execution_count": 42,
   "metadata": {},
   "outputs": [
    {
     "data": {
      "text/html": [
       "<table>\n",
       "<thead><tr><th scope=col>code_module.x.x</th><th scope=col>code_presentation.x.x</th><th scope=col>age_band</th><th scope=col>studied_credits</th><th scope=col>final_result</th><th scope=col>sum_click</th><th scope=col>NA_homepage</th><th scope=col>NA_quiz</th><th scope=col>weight</th><th scope=col>CMA_count</th><th scope=col>TMA_count</th><th scope=col>TMA_score</th></tr></thead>\n",
       "<tbody>\n",
       "\t<tr><td>AAA     </td><td>2013J   </td><td>55&lt;= </td><td>240     </td><td>Pass    </td><td> 934    </td><td> 40     </td><td>0       </td><td>100     </td><td>0       </td><td>5       </td><td>82.4    </td></tr>\n",
       "\t<tr><td>AAA  </td><td>2013J</td><td>35-55</td><td> 60  </td><td>Pass </td><td>1435 </td><td> 80  </td><td>0    </td><td>100  </td><td>0    </td><td>5    </td><td>65.4 </td></tr>\n",
       "\t<tr><td>AAA  </td><td>2013J</td><td>35-55</td><td> 60  </td><td>Pass </td><td>2158 </td><td>121  </td><td>0    </td><td>100  </td><td>0    </td><td>5    </td><td>76.3 </td></tr>\n",
       "\t<tr><td>AAA  </td><td>2013J</td><td>0-35 </td><td>120  </td><td>Pass </td><td>1428 </td><td>104  </td><td>0    </td><td>100  </td><td>0    </td><td>5    </td><td>72.5 </td></tr>\n",
       "\t<tr><td>AAA  </td><td>2013J</td><td>0-35 </td><td> 90  </td><td>Pass </td><td>1894 </td><td>121  </td><td>0    </td><td>100  </td><td>0    </td><td>5    </td><td>71.2 </td></tr>\n",
       "\t<tr><td>AAA     </td><td>2013J   </td><td>55&lt;= </td><td> 60     </td><td>Pass    </td><td>3158    </td><td>142     </td><td>0       </td><td>100     </td><td>0       </td><td>5       </td><td>79.0    </td></tr>\n",
       "</tbody>\n",
       "</table>\n"
      ],
      "text/latex": [
       "\\begin{tabular}{r|llllllllllll}\n",
       " code\\_module.x.x & code\\_presentation.x.x & age\\_band & studied\\_credits & final\\_result & sum\\_click & NA\\_homepage & NA\\_quiz & weight & CMA\\_count & TMA\\_count & TMA\\_score\\\\\n",
       "\\hline\n",
       "\t AAA   & 2013J & 55<=  & 240   & Pass  &  934  &  40   & 0     & 100   & 0     & 5     & 82.4 \\\\\n",
       "\t AAA   & 2013J & 35-55 &  60   & Pass  & 1435  &  80   & 0     & 100   & 0     & 5     & 65.4 \\\\\n",
       "\t AAA   & 2013J & 35-55 &  60   & Pass  & 2158  & 121   & 0     & 100   & 0     & 5     & 76.3 \\\\\n",
       "\t AAA   & 2013J & 0-35  & 120   & Pass  & 1428  & 104   & 0     & 100   & 0     & 5     & 72.5 \\\\\n",
       "\t AAA   & 2013J & 0-35  &  90   & Pass  & 1894  & 121   & 0     & 100   & 0     & 5     & 71.2 \\\\\n",
       "\t AAA   & 2013J & 55<=  &  60   & Pass  & 3158  & 142   & 0     & 100   & 0     & 5     & 79.0 \\\\\n",
       "\\end{tabular}\n"
      ],
      "text/markdown": [
       "\n",
       "| code_module.x.x | code_presentation.x.x | age_band | studied_credits | final_result | sum_click | NA_homepage | NA_quiz | weight | CMA_count | TMA_count | TMA_score |\n",
       "|---|---|---|---|---|---|---|---|---|---|---|---|\n",
       "| AAA   | 2013J | 55<=  | 240   | Pass  |  934  |  40   | 0     | 100   | 0     | 5     | 82.4  |\n",
       "| AAA   | 2013J | 35-55 |  60   | Pass  | 1435  |  80   | 0     | 100   | 0     | 5     | 65.4  |\n",
       "| AAA   | 2013J | 35-55 |  60   | Pass  | 2158  | 121   | 0     | 100   | 0     | 5     | 76.3  |\n",
       "| AAA   | 2013J | 0-35  | 120   | Pass  | 1428  | 104   | 0     | 100   | 0     | 5     | 72.5  |\n",
       "| AAA   | 2013J | 0-35  |  90   | Pass  | 1894  | 121   | 0     | 100   | 0     | 5     | 71.2  |\n",
       "| AAA   | 2013J | 55<=  |  60   | Pass  | 3158  | 142   | 0     | 100   | 0     | 5     | 79.0  |\n",
       "\n"
      ],
      "text/plain": [
       "  code_module.x.x code_presentation.x.x age_band studied_credits final_result\n",
       "1 AAA             2013J                 55<=     240             Pass        \n",
       "2 AAA             2013J                 35-55     60             Pass        \n",
       "3 AAA             2013J                 35-55     60             Pass        \n",
       "4 AAA             2013J                 0-35     120             Pass        \n",
       "5 AAA             2013J                 0-35      90             Pass        \n",
       "6 AAA             2013J                 55<=      60             Pass        \n",
       "  sum_click NA_homepage NA_quiz weight CMA_count TMA_count TMA_score\n",
       "1  934       40         0       100    0         5         82.4     \n",
       "2 1435       80         0       100    0         5         65.4     \n",
       "3 2158      121         0       100    0         5         76.3     \n",
       "4 1428      104         0       100    0         5         72.5     \n",
       "5 1894      121         0       100    0         5         71.2     \n",
       "6 3158      142         0       100    0         5         79.0     "
      ]
     },
     "metadata": {},
     "output_type": "display_data"
    }
   ],
   "source": [
    "head(new_selected)"
   ]
  },
  {
   "cell_type": "code",
   "execution_count": 139,
   "metadata": {},
   "outputs": [],
   "source": [
    "## 90% of the sample size\n",
    "smp_size <- floor(0.90 * nrow(new_selected))\n",
    "\n",
    "## set the seed to make your partition reproducible\n",
    "set.seed(123)\n",
    "train_ind <- sample(seq_len(nrow(new_selected)), size = smp_size)\n",
    "\n",
    "Train <- new_selected[train_ind, ]\n",
    "Test <- new_selected[-train_ind, ]\n",
    "\n",
    "row.names(Train) = NULL\n",
    "row.names(Test)= NULL"
   ]
  },
  {
   "cell_type": "code",
   "execution_count": 47,
   "metadata": {},
   "outputs": [],
   "source": [
    "# Random Forest with unbalanced data\n",
    "set.seed(7)\n",
    "fit.cart3 <- train(final_result~., data=Train, method=\"rf\", metric=metric, trControl=control)"
   ]
  },
  {
   "cell_type": "code",
   "execution_count": 48,
   "metadata": {},
   "outputs": [
    {
     "data": {
      "text/plain": [
       "Confusion Matrix and Statistics\n",
       "\n",
       "          Reference\n",
       "Prediction Fail Pass\n",
       "      Fail  477   88\n",
       "      Pass  186 1392\n",
       "                                         \n",
       "               Accuracy : 0.8721         \n",
       "                 95% CI : (0.8573, 0.886)\n",
       "    No Information Rate : 0.6906         \n",
       "    P-Value [Acc > NIR] : < 2.2e-16      \n",
       "                                         \n",
       "                  Kappa : 0.6881         \n",
       "                                         \n",
       " Mcnemar's Test P-Value : 4.629e-09      \n",
       "                                         \n",
       "            Sensitivity : 0.7195         \n",
       "            Specificity : 0.9405         \n",
       "         Pos Pred Value : 0.8442         \n",
       "         Neg Pred Value : 0.8821         \n",
       "             Prevalence : 0.3094         \n",
       "         Detection Rate : 0.2226         \n",
       "   Detection Prevalence : 0.2636         \n",
       "      Balanced Accuracy : 0.8300         \n",
       "                                         \n",
       "       'Positive' Class : Fail           \n",
       "                                         "
      ]
     },
     "metadata": {},
     "output_type": "display_data"
    }
   ],
   "source": [
    "# estimate skill of CART on the validation dataset\n",
    "predictions_cart3 <- predict(fit.cart3, Test)\n",
    "confusionMatrix(predictions_cart3, Test$final_result)"
   ]
  },
  {
   "cell_type": "code",
   "execution_count": 49,
   "metadata": {},
   "outputs": [
    {
     "name": "stderr",
     "output_type": "stream",
     "text": [
      "Setting levels: control = Fail, case = Pass\n",
      "Setting direction: controls < cases\n"
     ]
    },
    {
     "data": {
      "image/png": "[encoded data removed]",
      "text/plain": [
       "plot without title"
      ]
     },
     "metadata": {},
     "output_type": "display_data"
    }
   ],
   "source": [
    "cart3 =  predict(fit.cart3, Test,type=\"prob\")\n",
    "two=  plot(roc(Test$final_result,cart3[,2]))"
   ]
  },
  {
   "cell_type": "code",
   "execution_count": 50,
   "metadata": {},
   "outputs": [],
   "source": [
    "saveRDS(fit.cart3, \"C:\\\\Users\\\\shrey\\\\OneDrive\\\\Desktop\\\\BUSINESS ANALYTICS\\\\Datasets\\\\models\\\\project2\\\\rf_unbalanced_model.rds\")"
   ]
  },
  {
   "cell_type": "markdown",
   "metadata": {},
   "source": [
    "## RF with balanced data:"
   ]
  },
  {
   "cell_type": "code",
   "execution_count": 140,
   "metadata": {},
   "outputs": [
    {
     "data": {
      "text/plain": [
       "\n",
       "Pass Fail \n",
       "6076 6076 "
      ]
     },
     "metadata": {},
     "output_type": "display_data"
    }
   ],
   "source": [
    "# Under Sampling\n",
    "set.seed(222)\n",
    "under_sam= ovun.sample(final_result~.,data =Train, method = \"under\", N=6076*2)$data\n",
    "table(under_sam$final_result)"
   ]
  },
  {
   "cell_type": "code",
   "execution_count": 53,
   "metadata": {},
   "outputs": [
    {
     "data": {
      "text/html": [
       "<table>\n",
       "<thead><tr><th scope=col>code_module.x.x</th><th scope=col>code_presentation.x.x</th><th scope=col>age_band</th><th scope=col>studied_credits</th><th scope=col>final_result</th><th scope=col>sum_click</th><th scope=col>NA_homepage</th><th scope=col>NA_quiz</th><th scope=col>weight</th><th scope=col>CMA_count</th><th scope=col>TMA_count</th><th scope=col>TMA_score</th></tr></thead>\n",
       "<tbody>\n",
       "\t<tr><td>FFF  </td><td>2013J</td><td>35-55</td><td> 60  </td><td>Pass </td><td>8339 </td><td>180  </td><td>239  </td><td>100  </td><td>7    </td><td>5    </td><td>86.50</td></tr>\n",
       "\t<tr><td>BBB  </td><td>2013J</td><td>0-35 </td><td> 60  </td><td>Pass </td><td> 762 </td><td> 43  </td><td> 28  </td><td> 99  </td><td>4    </td><td>6    </td><td>62.66</td></tr>\n",
       "\t<tr><td>DDD  </td><td>2013J</td><td>0-35 </td><td>150  </td><td>Pass </td><td>1958 </td><td>140  </td><td>  0  </td><td>200  </td><td>0    </td><td>6    </td><td>68.50</td></tr>\n",
       "\t<tr><td>FFF  </td><td>2014J</td><td>0-35 </td><td>120  </td><td>Pass </td><td>1869 </td><td> 76  </td><td> 35  </td><td>100  </td><td>6    </td><td>5    </td><td>75.75</td></tr>\n",
       "\t<tr><td>DDD  </td><td>2014J</td><td>35-55</td><td>120  </td><td>Pass </td><td>   0 </td><td>  0  </td><td>  0  </td><td>  0  </td><td>0    </td><td>0    </td><td> 0.00</td></tr>\n",
       "\t<tr><td>FFF  </td><td>2014J</td><td>35-55</td><td> 60  </td><td>Pass </td><td>4334 </td><td>128  </td><td> 73  </td><td>100  </td><td>7    </td><td>5    </td><td>84.75</td></tr>\n",
       "</tbody>\n",
       "</table>\n"
      ],
      "text/latex": [
       "\\begin{tabular}{r|llllllllllll}\n",
       " code\\_module.x.x & code\\_presentation.x.x & age\\_band & studied\\_credits & final\\_result & sum\\_click & NA\\_homepage & NA\\_quiz & weight & CMA\\_count & TMA\\_count & TMA\\_score\\\\\n",
       "\\hline\n",
       "\t FFF   & 2013J & 35-55 &  60   & Pass  & 8339  & 180   & 239   & 100   & 7     & 5     & 86.50\\\\\n",
       "\t BBB   & 2013J & 0-35  &  60   & Pass  &  762  &  43   &  28   &  99   & 4     & 6     & 62.66\\\\\n",
       "\t DDD   & 2013J & 0-35  & 150   & Pass  & 1958  & 140   &   0   & 200   & 0     & 6     & 68.50\\\\\n",
       "\t FFF   & 2014J & 0-35  & 120   & Pass  & 1869  &  76   &  35   & 100   & 6     & 5     & 75.75\\\\\n",
       "\t DDD   & 2014J & 35-55 & 120   & Pass  &    0  &   0   &   0   &   0   & 0     & 0     &  0.00\\\\\n",
       "\t FFF   & 2014J & 35-55 &  60   & Pass  & 4334  & 128   &  73   & 100   & 7     & 5     & 84.75\\\\\n",
       "\\end{tabular}\n"
      ],
      "text/markdown": [
       "\n",
       "| code_module.x.x | code_presentation.x.x | age_band | studied_credits | final_result | sum_click | NA_homepage | NA_quiz | weight | CMA_count | TMA_count | TMA_score |\n",
       "|---|---|---|---|---|---|---|---|---|---|---|---|\n",
       "| FFF   | 2013J | 35-55 |  60   | Pass  | 8339  | 180   | 239   | 100   | 7     | 5     | 86.50 |\n",
       "| BBB   | 2013J | 0-35  |  60   | Pass  |  762  |  43   |  28   |  99   | 4     | 6     | 62.66 |\n",
       "| DDD   | 2013J | 0-35  | 150   | Pass  | 1958  | 140   |   0   | 200   | 0     | 6     | 68.50 |\n",
       "| FFF   | 2014J | 0-35  | 120   | Pass  | 1869  |  76   |  35   | 100   | 6     | 5     | 75.75 |\n",
       "| DDD   | 2014J | 35-55 | 120   | Pass  |    0  |   0   |   0   |   0   | 0     | 0     |  0.00 |\n",
       "| FFF   | 2014J | 35-55 |  60   | Pass  | 4334  | 128   |  73   | 100   | 7     | 5     | 84.75 |\n",
       "\n"
      ],
      "text/plain": [
       "  code_module.x.x code_presentation.x.x age_band studied_credits final_result\n",
       "1 FFF             2013J                 35-55     60             Pass        \n",
       "2 BBB             2013J                 0-35      60             Pass        \n",
       "3 DDD             2013J                 0-35     150             Pass        \n",
       "4 FFF             2014J                 0-35     120             Pass        \n",
       "5 DDD             2014J                 35-55    120             Pass        \n",
       "6 FFF             2014J                 35-55     60             Pass        \n",
       "  sum_click NA_homepage NA_quiz weight CMA_count TMA_count TMA_score\n",
       "1 8339      180         239     100    7         5         86.50    \n",
       "2  762       43          28      99    4         6         62.66    \n",
       "3 1958      140           0     200    0         6         68.50    \n",
       "4 1869       76          35     100    6         5         75.75    \n",
       "5    0        0           0       0    0         0          0.00    \n",
       "6 4334      128          73     100    7         5         84.75    "
      ]
     },
     "metadata": {},
     "output_type": "display_data"
    }
   ],
   "source": [
    "head(under_sam)"
   ]
  },
  {
   "cell_type": "code",
   "execution_count": 54,
   "metadata": {},
   "outputs": [],
   "source": [
    "# Random Forest with balanced data\n",
    "set.seed(7)\n",
    "fit.cart4 <- train(final_result~., data=under_sam, method=\"rf\", metric=metric, trControl=control)"
   ]
  },
  {
   "cell_type": "code",
   "execution_count": 55,
   "metadata": {},
   "outputs": [
    {
     "name": "stderr",
     "output_type": "stream",
     "text": [
      "Warning message in confusionMatrix.default(predictions_cart4, Test$final_result):\n",
      "\"Levels are not in the same order for reference and data. Refactoring data to match.\""
     ]
    },
    {
     "data": {
      "text/plain": [
       "Confusion Matrix and Statistics\n",
       "\n",
       "          Reference\n",
       "Prediction Fail Pass\n",
       "      Fail  527  167\n",
       "      Pass  136 1313\n",
       "                                          \n",
       "               Accuracy : 0.8586          \n",
       "                 95% CI : (0.8431, 0.8731)\n",
       "    No Information Rate : 0.6906          \n",
       "    P-Value [Acc > NIR] : < 2e-16         \n",
       "                                          \n",
       "                  Kappa : 0.6733          \n",
       "                                          \n",
       " Mcnemar's Test P-Value : 0.08481         \n",
       "                                          \n",
       "            Sensitivity : 0.7949          \n",
       "            Specificity : 0.8872          \n",
       "         Pos Pred Value : 0.7594          \n",
       "         Neg Pred Value : 0.9061          \n",
       "             Prevalence : 0.3094          \n",
       "         Detection Rate : 0.2459          \n",
       "   Detection Prevalence : 0.3238          \n",
       "      Balanced Accuracy : 0.8410          \n",
       "                                          \n",
       "       'Positive' Class : Fail            \n",
       "                                          "
      ]
     },
     "metadata": {},
     "output_type": "display_data"
    }
   ],
   "source": [
    "# estimate skill of rf on the validation dataset\n",
    "predictions_cart4 <- predict(fit.cart4, Test)\n",
    "confusionMatrix(predictions_cart4, Test$final_result)"
   ]
  },
  {
   "cell_type": "code",
   "execution_count": 56,
   "metadata": {},
   "outputs": [
    {
     "name": "stderr",
     "output_type": "stream",
     "text": [
      "Setting levels: control = Fail, case = Pass\n",
      "Setting direction: controls < cases\n"
     ]
    },
    {
     "data": {
      "image/png": "[encoded data removed]",
      "text/plain": [
       "plot without title"
      ]
     },
     "metadata": {},
     "output_type": "display_data"
    }
   ],
   "source": [
    "cart4 =  predict(fit.cart3, Test,type=\"prob\")\n",
    "two=  plot(roc(Test$final_result,cart4[,2]))"
   ]
  },
  {
   "cell_type": "code",
   "execution_count": 57,
   "metadata": {},
   "outputs": [],
   "source": [
    "saveRDS(fit.cart4, \"C:\\\\Users\\\\shrey\\\\OneDrive\\\\Desktop\\\\BUSINESS ANALYTICS\\\\Datasets\\\\models\\\\project2\\\\rf_balanced_model.rds\")"
   ]
  },
  {
   "cell_type": "markdown",
   "metadata": {},
   "source": [
    "# Trying LDA method:"
   ]
  },
  {
   "cell_type": "code",
   "execution_count": 58,
   "metadata": {},
   "outputs": [],
   "source": [
    "# Random Forest with balanced data\n",
    "set.seed(7)\n",
    "fit.LDA1 <- train(final_result~., data=under_sam, method=\"lda\", metric=metric, trControl=control)"
   ]
  },
  {
   "cell_type": "code",
   "execution_count": 59,
   "metadata": {},
   "outputs": [
    {
     "name": "stderr",
     "output_type": "stream",
     "text": [
      "Warning message in confusionMatrix.default(predictions_lda1, Test$final_result):\n",
      "\"Levels are not in the same order for reference and data. Refactoring data to match.\""
     ]
    },
    {
     "data": {
      "text/plain": [
       "Confusion Matrix and Statistics\n",
       "\n",
       "          Reference\n",
       "Prediction Fail Pass\n",
       "      Fail  530  226\n",
       "      Pass  133 1254\n",
       "                                         \n",
       "               Accuracy : 0.8325         \n",
       "                 95% CI : (0.816, 0.8481)\n",
       "    No Information Rate : 0.6906         \n",
       "    P-Value [Acc > NIR] : < 2e-16        \n",
       "                                         \n",
       "                  Kappa : 0.6226         \n",
       "                                         \n",
       " Mcnemar's Test P-Value : 1.2e-06        \n",
       "                                         \n",
       "            Sensitivity : 0.7994         \n",
       "            Specificity : 0.8473         \n",
       "         Pos Pred Value : 0.7011         \n",
       "         Neg Pred Value : 0.9041         \n",
       "             Prevalence : 0.3094         \n",
       "         Detection Rate : 0.2473         \n",
       "   Detection Prevalence : 0.3528         \n",
       "      Balanced Accuracy : 0.8233         \n",
       "                                         \n",
       "       'Positive' Class : Fail           \n",
       "                                         "
      ]
     },
     "metadata": {},
     "output_type": "display_data"
    }
   ],
   "source": [
    "# estimate skill of rf on the validation dataset\n",
    "predictions_lda1 <- predict(fit.LDA1, Test)\n",
    "confusionMatrix(predictions_lda1, Test$final_result)"
   ]
  },
  {
   "cell_type": "code",
   "execution_count": 60,
   "metadata": {},
   "outputs": [
    {
     "name": "stderr",
     "output_type": "stream",
     "text": [
      "Setting levels: control = Fail, case = Pass\n",
      "Setting direction: controls > cases\n"
     ]
    },
    {
     "data": {
      "image/png": "[encoded data removed]",
      "text/plain": [
       "plot without title"
      ]
     },
     "metadata": {},
     "output_type": "display_data"
    }
   ],
   "source": [
    "lda1 =  predict(fit.LDA1, Test,type=\"prob\")\n",
    "two=  plot(roc(Test$final_result,lda1[,2]))"
   ]
  },
  {
   "cell_type": "code",
   "execution_count": 61,
   "metadata": {},
   "outputs": [],
   "source": [
    "saveRDS(fit.LDA1, \"C:\\\\Users\\\\shrey\\\\OneDrive\\\\Desktop\\\\BUSINESS ANALYTICS\\\\Datasets\\\\models\\\\project2\\\\LDA1_balanced_model.rds\")"
   ]
  },
  {
   "cell_type": "markdown",
   "metadata": {},
   "source": [
    "# Trying GLM on balanced data:"
   ]
  },
  {
   "cell_type": "code",
   "execution_count": 63,
   "metadata": {},
   "outputs": [],
   "source": [
    "# GLM with balanced data\n",
    "set.seed(7)\n",
    "fit.GLM1 <- train(final_result~., data=under_sam, method=\"glm\", metric=metric, trControl=control)"
   ]
  },
  {
   "cell_type": "code",
   "execution_count": 64,
   "metadata": {},
   "outputs": [
    {
     "name": "stderr",
     "output_type": "stream",
     "text": [
      "Warning message in confusionMatrix.default(predictions_GLM1, Test$final_result):\n",
      "\"Levels are not in the same order for reference and data. Refactoring data to match.\""
     ]
    },
    {
     "data": {
      "text/plain": [
       "Confusion Matrix and Statistics\n",
       "\n",
       "          Reference\n",
       "Prediction Fail Pass\n",
       "      Fail  539  241\n",
       "      Pass  124 1239\n",
       "                                          \n",
       "               Accuracy : 0.8297          \n",
       "                 95% CI : (0.8131, 0.8454)\n",
       "    No Information Rate : 0.6906          \n",
       "    P-Value [Acc > NIR] : < 2.2e-16       \n",
       "                                          \n",
       "                  Kappa : 0.6199          \n",
       "                                          \n",
       " Mcnemar's Test P-Value : 1.265e-09       \n",
       "                                          \n",
       "            Sensitivity : 0.8130          \n",
       "            Specificity : 0.8372          \n",
       "         Pos Pred Value : 0.6910          \n",
       "         Neg Pred Value : 0.9090          \n",
       "             Prevalence : 0.3094          \n",
       "         Detection Rate : 0.2515          \n",
       "   Detection Prevalence : 0.3640          \n",
       "      Balanced Accuracy : 0.8251          \n",
       "                                          \n",
       "       'Positive' Class : Fail            \n",
       "                                          "
      ]
     },
     "metadata": {},
     "output_type": "display_data"
    }
   ],
   "source": [
    "# estimate skill of rf on the validation dataset\n",
    "predictions_GLM1 <- predict(fit.GLM1, Test)\n",
    "confusionMatrix(predictions_GLM1, Test$final_result)"
   ]
  },
  {
   "cell_type": "code",
   "execution_count": 65,
   "metadata": {},
   "outputs": [
    {
     "name": "stderr",
     "output_type": "stream",
     "text": [
      "Setting levels: control = Fail, case = Pass\n",
      "Setting direction: controls > cases\n"
     ]
    },
    {
     "data": {
      "image/png": "[encoded data removed]",
      "text/plain": [
       "plot without title"
      ]
     },
     "metadata": {},
     "output_type": "display_data"
    }
   ],
   "source": [
    "GLM1 =  predict(fit.GLM1, Test,type=\"prob\")\n",
    "two=  plot(roc(Test$final_result,GLM1[,2]))"
   ]
  },
  {
   "cell_type": "code",
   "execution_count": 66,
   "metadata": {},
   "outputs": [],
   "source": [
    "saveRDS(fit.GLM1, \"C:\\\\Users\\\\shrey\\\\OneDrive\\\\Desktop\\\\BUSINESS ANALYTICS\\\\Datasets\\\\models\\\\project2\\\\GLM1_balanced_model.rds\")"
   ]
  },
  {
   "cell_type": "markdown",
   "metadata": {},
   "source": [
    "# GBM Model with balanced:"
   ]
  },
  {
   "cell_type": "code",
   "execution_count": 67,
   "metadata": {},
   "outputs": [
    {
     "name": "stdout",
     "output_type": "stream",
     "text": [
      "Iter   TrainDeviance   ValidDeviance   StepSize   Improve\n",
      "     1        1.3197             nan     0.1000    0.0335\n",
      "     2        1.2648             nan     0.1000    0.0277\n",
      "     3        1.2177             nan     0.1000    0.0236\n",
      "     4        1.1784             nan     0.1000    0.0198\n",
      "     5        1.1441             nan     0.1000    0.0168\n",
      "     6        1.1132             nan     0.1000    0.0146\n",
      "     7        1.0880             nan     0.1000    0.0123\n",
      "     8        1.0674             nan     0.1000    0.0101\n",
      "     9        1.0479             nan     0.1000    0.0096\n",
      "    10        1.0312             nan     0.1000    0.0082\n",
      "    20        0.9230             nan     0.1000    0.0031\n",
      "    40        0.8469             nan     0.1000    0.0011\n",
      "    60        0.8091             nan     0.1000    0.0008\n",
      "    80        0.7867             nan     0.1000    0.0004\n",
      "   100        0.7720             nan     0.1000    0.0002\n",
      "   120        0.7598             nan     0.1000    0.0001\n",
      "   140        0.7508             nan     0.1000    0.0001\n",
      "   150        0.7477             nan     0.1000    0.0001\n",
      "\n",
      "Iter   TrainDeviance   ValidDeviance   StepSize   Improve\n",
      "     1        1.3064             nan     0.1000    0.0408\n",
      "     2        1.2380             nan     0.1000    0.0343\n",
      "     3        1.1808             nan     0.1000    0.0291\n",
      "     4        1.1317             nan     0.1000    0.0245\n",
      "     5        1.0903             nan     0.1000    0.0208\n",
      "     6        1.0548             nan     0.1000    0.0178\n",
      "     7        1.0217             nan     0.1000    0.0163\n",
      "     8        0.9955             nan     0.1000    0.0130\n",
      "     9        0.9723             nan     0.1000    0.0113\n",
      "    10        0.9511             nan     0.1000    0.0105\n",
      "    20        0.8413             nan     0.1000    0.0038\n",
      "    40        0.7664             nan     0.1000    0.0011\n",
      "    60        0.7363             nan     0.1000    0.0004\n",
      "    80        0.7217             nan     0.1000    0.0001\n",
      "   100        0.7106             nan     0.1000    0.0001\n",
      "   120        0.7033             nan     0.1000   -0.0001\n",
      "   140        0.6970             nan     0.1000    0.0000\n",
      "   150        0.6944             nan     0.1000   -0.0001\n",
      "\n",
      "Iter   TrainDeviance   ValidDeviance   StepSize   Improve\n",
      "     1        1.2947             nan     0.1000    0.0454\n",
      "     2        1.2199             nan     0.1000    0.0373\n",
      "     3        1.1575             nan     0.1000    0.0308\n",
      "     4        1.1061             nan     0.1000    0.0246\n",
      "     5        1.0621             nan     0.1000    0.0221\n",
      "     6        1.0260             nan     0.1000    0.0177\n",
      "     7        0.9939             nan     0.1000    0.0159\n",
      "     8        0.9669             nan     0.1000    0.0135\n",
      "     9        0.9430             nan     0.1000    0.0115\n",
      "    10        0.9232             nan     0.1000    0.0096\n",
      "    20        0.8073             nan     0.1000    0.0034\n",
      "    40        0.7364             nan     0.1000    0.0006\n",
      "    60        0.7138             nan     0.1000    0.0001\n",
      "    80        0.7007             nan     0.1000    0.0000\n",
      "   100        0.6905             nan     0.1000   -0.0001\n",
      "   120        0.6823             nan     0.1000   -0.0000\n",
      "   140        0.6756             nan     0.1000   -0.0000\n",
      "   150        0.6726             nan     0.1000   -0.0001\n",
      "\n",
      "Iter   TrainDeviance   ValidDeviance   StepSize   Improve\n",
      "     1        1.3204             nan     0.1000    0.0330\n",
      "     2        1.2659             nan     0.1000    0.0274\n",
      "     3        1.2189             nan     0.1000    0.0223\n",
      "     4        1.1784             nan     0.1000    0.0201\n",
      "     5        1.1458             nan     0.1000    0.0160\n",
      "     6        1.1164             nan     0.1000    0.0145\n",
      "     7        1.0919             nan     0.1000    0.0120\n",
      "     8        1.0724             nan     0.1000    0.0094\n",
      "     9        1.0543             nan     0.1000    0.0085\n",
      "    10        1.0367             nan     0.1000    0.0090\n",
      "    20        0.9312             nan     0.1000    0.0032\n",
      "    40        0.8579             nan     0.1000    0.0011\n",
      "    60        0.8227             nan     0.1000    0.0005\n",
      "    80        0.8005             nan     0.1000    0.0004\n",
      "   100        0.7846             nan     0.1000    0.0003\n",
      "   120        0.7734             nan     0.1000    0.0002\n",
      "   140        0.7653             nan     0.1000    0.0001\n",
      "   150        0.7618             nan     0.1000    0.0001\n",
      "\n",
      "Iter   TrainDeviance   ValidDeviance   StepSize   Improve\n",
      "     1        1.3063             nan     0.1000    0.0403\n",
      "     2        1.2374             nan     0.1000    0.0333\n",
      "     3        1.1808             nan     0.1000    0.0284\n",
      "     4        1.1318             nan     0.1000    0.0240\n",
      "     5        1.0901             nan     0.1000    0.0198\n",
      "     6        1.0546             nan     0.1000    0.0179\n",
      "     7        1.0252             nan     0.1000    0.0151\n",
      "     8        0.9995             nan     0.1000    0.0123\n",
      "     9        0.9777             nan     0.1000    0.0105\n",
      "    10        0.9585             nan     0.1000    0.0096\n",
      "    20        0.8528             nan     0.1000    0.0030\n",
      "    40        0.7782             nan     0.1000    0.0013\n",
      "    60        0.7509             nan     0.1000    0.0004\n",
      "    80        0.7365             nan     0.1000    0.0001\n",
      "   100        0.7243             nan     0.1000    0.0002\n",
      "   120        0.7170             nan     0.1000    0.0000\n",
      "   140        0.7105             nan     0.1000    0.0000\n",
      "   150        0.7080             nan     0.1000   -0.0001\n",
      "\n",
      "Iter   TrainDeviance   ValidDeviance   StepSize   Improve\n",
      "     1        1.2955             nan     0.1000    0.0449\n",
      "     2        1.2259             nan     0.1000    0.0337\n",
      "     3        1.1631             nan     0.1000    0.0308\n",
      "     4        1.1116             nan     0.1000    0.0255\n",
      "     5        1.0685             nan     0.1000    0.0216\n",
      "     6        1.0330             nan     0.1000    0.0176\n",
      "     7        1.0019             nan     0.1000    0.0158\n",
      "     8        0.9748             nan     0.1000    0.0135\n",
      "     9        0.9514             nan     0.1000    0.0112\n",
      "    10        0.9310             nan     0.1000    0.0100\n",
      "    20        0.8158             nan     0.1000    0.0036\n",
      "    40        0.7499             nan     0.1000    0.0008\n",
      "    60        0.7248             nan     0.1000    0.0004\n",
      "    80        0.7116             nan     0.1000    0.0002\n",
      "   100        0.7016             nan     0.1000    0.0002\n",
      "   120        0.6943             nan     0.1000    0.0001\n",
      "   140        0.6863             nan     0.1000    0.0000\n",
      "   150        0.6834             nan     0.1000   -0.0002\n",
      "\n",
      "Iter   TrainDeviance   ValidDeviance   StepSize   Improve\n",
      "     1        1.3189             nan     0.1000    0.0333\n",
      "     2        1.2647             nan     0.1000    0.0270\n",
      "     3        1.2174             nan     0.1000    0.0234\n",
      "     4        1.1794             nan     0.1000    0.0192\n",
      "     5        1.1468             nan     0.1000    0.0161\n",
      "     6        1.1173             nan     0.1000    0.0147\n",
      "     7        1.0927             nan     0.1000    0.0116\n",
      "     8        1.0733             nan     0.1000    0.0092\n",
      "     9        1.0534             nan     0.1000    0.0099\n",
      "    10        1.0368             nan     0.1000    0.0082\n",
      "    20        0.9300             nan     0.1000    0.0031\n",
      "    40        0.8551             nan     0.1000    0.0014\n",
      "    60        0.8203             nan     0.1000    0.0006\n",
      "    80        0.7969             nan     0.1000    0.0004\n",
      "   100        0.7817             nan     0.1000    0.0002\n",
      "   120        0.7697             nan     0.1000    0.0001\n",
      "   140        0.7617             nan     0.1000    0.0001\n",
      "   150        0.7586             nan     0.1000    0.0001\n",
      "\n",
      "Iter   TrainDeviance   ValidDeviance   StepSize   Improve\n",
      "     1        1.3037             nan     0.1000    0.0404\n",
      "     2        1.2382             nan     0.1000    0.0333\n",
      "     3        1.1788             nan     0.1000    0.0289\n",
      "     4        1.1305             nan     0.1000    0.0237\n",
      "     5        1.0895             nan     0.1000    0.0202\n",
      "     6        1.0537             nan     0.1000    0.0178\n",
      "     7        1.0224             nan     0.1000    0.0160\n",
      "     8        0.9969             nan     0.1000    0.0123\n",
      "     9        0.9739             nan     0.1000    0.0116\n",
      "    10        0.9546             nan     0.1000    0.0098\n",
      "    20        0.8464             nan     0.1000    0.0034\n",
      "    40        0.7748             nan     0.1000    0.0006\n",
      "    60        0.7453             nan     0.1000    0.0003\n",
      "    80        0.7304             nan     0.1000    0.0001\n",
      "   100        0.7202             nan     0.1000    0.0001\n",
      "   120        0.7135             nan     0.1000    0.0001\n",
      "   140        0.7063             nan     0.1000    0.0003\n",
      "   150        0.7041             nan     0.1000   -0.0000\n",
      "\n",
      "Iter   TrainDeviance   ValidDeviance   StepSize   Improve\n",
      "     1        1.2963             nan     0.1000    0.0445\n",
      "     2        1.2265             nan     0.1000    0.0347\n",
      "     3        1.1641             nan     0.1000    0.0313\n",
      "     4        1.1112             nan     0.1000    0.0257\n",
      "     5        1.0677             nan     0.1000    0.0219\n",
      "     6        1.0307             nan     0.1000    0.0183\n",
      "     7        0.9996             nan     0.1000    0.0153\n",
      "     8        0.9715             nan     0.1000    0.0138\n",
      "     9        0.9479             nan     0.1000    0.0115\n",
      "    10        0.9274             nan     0.1000    0.0100\n",
      "    20        0.8126             nan     0.1000    0.0032\n",
      "    40        0.7447             nan     0.1000    0.0009\n",
      "    60        0.7215             nan     0.1000    0.0002\n",
      "    80        0.7082             nan     0.1000    0.0003\n",
      "   100        0.6993             nan     0.1000    0.0003\n",
      "   120        0.6913             nan     0.1000    0.0001\n",
      "   140        0.6856             nan     0.1000    0.0002\n",
      "   150        0.6825             nan     0.1000   -0.0001\n",
      "\n",
      "Iter   TrainDeviance   ValidDeviance   StepSize   Improve\n",
      "     1        1.3217             nan     0.1000    0.0319\n",
      "     2        1.2645             nan     0.1000    0.0285\n",
      "     3        1.2188             nan     0.1000    0.0223\n",
      "     4        1.1783             nan     0.1000    0.0203\n",
      "     5        1.1451             nan     0.1000    0.0167\n",
      "     6        1.1160             nan     0.1000    0.0140\n",
      "     7        1.0921             nan     0.1000    0.0118\n",
      "     8        1.0718             nan     0.1000    0.0097\n",
      "     9        1.0528             nan     0.1000    0.0097\n",
      "    10        1.0366             nan     0.1000    0.0081\n",
      "    20        0.9305             nan     0.1000    0.0033\n",
      "    40        0.8551             nan     0.1000    0.0010\n",
      "    60        0.8167             nan     0.1000    0.0007\n",
      "    80        0.7937             nan     0.1000    0.0002\n",
      "   100        0.7782             nan     0.1000    0.0002\n",
      "   120        0.7674             nan     0.1000    0.0001\n",
      "   140        0.7583             nan     0.1000    0.0002\n",
      "   150        0.7551             nan     0.1000    0.0000\n",
      "\n",
      "Iter   TrainDeviance   ValidDeviance   StepSize   Improve\n",
      "     1        1.3037             nan     0.1000    0.0409\n",
      "     2        1.2335             nan     0.1000    0.0338\n",
      "     3        1.1771             nan     0.1000    0.0278\n",
      "     4        1.1294             nan     0.1000    0.0234\n",
      "     5        1.0876             nan     0.1000    0.0209\n",
      "     6        1.0531             nan     0.1000    0.0172\n",
      "     7        1.0233             nan     0.1000    0.0152\n",
      "     8        0.9975             nan     0.1000    0.0124\n",
      "     9        0.9728             nan     0.1000    0.0119\n",
      "    10        0.9534             nan     0.1000    0.0097\n",
      "    20        0.8463             nan     0.1000    0.0029\n",
      "    40        0.7725             nan     0.1000    0.0009\n",
      "    60        0.7433             nan     0.1000    0.0003\n",
      "    80        0.7298             nan     0.1000    0.0000\n",
      "   100        0.7197             nan     0.1000    0.0000\n",
      "   120        0.7131             nan     0.1000    0.0001\n",
      "   140        0.7069             nan     0.1000   -0.0000\n",
      "   150        0.7033             nan     0.1000   -0.0000\n",
      "\n",
      "Iter   TrainDeviance   ValidDeviance   StepSize   Improve\n",
      "     1        1.2963             nan     0.1000    0.0449\n",
      "     2        1.2227             nan     0.1000    0.0371\n",
      "     3        1.1595             nan     0.1000    0.0303\n",
      "     4        1.1097             nan     0.1000    0.0250\n",
      "     5        1.0660             nan     0.1000    0.0220\n",
      "     6        1.0293             nan     0.1000    0.0184\n",
      "     7        0.9989             nan     0.1000    0.0150\n",
      "     8        0.9714             nan     0.1000    0.0133\n",
      "     9        0.9479             nan     0.1000    0.0119\n",
      "    10        0.9273             nan     0.1000    0.0100\n",
      "    20        0.8115             nan     0.1000    0.0033\n",
      "    40        0.7438             nan     0.1000    0.0010\n",
      "    60        0.7190             nan     0.1000    0.0002\n",
      "    80        0.7066             nan     0.1000    0.0003\n",
      "   100        0.6967             nan     0.1000   -0.0001\n",
      "   120        0.6887             nan     0.1000    0.0000\n",
      "   140        0.6818             nan     0.1000   -0.0000\n",
      "   150        0.6789             nan     0.1000    0.0000\n",
      "\n",
      "Iter   TrainDeviance   ValidDeviance   StepSize   Improve\n",
      "     1        1.3198             nan     0.1000    0.0331\n",
      "     2        1.2639             nan     0.1000    0.0279\n",
      "     3        1.2172             nan     0.1000    0.0229\n",
      "     4        1.1768             nan     0.1000    0.0202\n",
      "     5        1.1432             nan     0.1000    0.0164\n",
      "     6        1.1138             nan     0.1000    0.0146\n",
      "     7        1.0887             nan     0.1000    0.0120\n",
      "     8        1.0669             nan     0.1000    0.0103\n",
      "     9        1.0486             nan     0.1000    0.0086\n",
      "    10        1.0317             nan     0.1000    0.0078\n",
      "    20        0.9254             nan     0.1000    0.0033\n",
      "    40        0.8524             nan     0.1000    0.0009\n",
      "    60        0.8166             nan     0.1000    0.0005\n",
      "    80        0.7945             nan     0.1000    0.0006\n",
      "   100        0.7786             nan     0.1000    0.0003\n",
      "   120        0.7666             nan     0.1000    0.0001\n",
      "   140        0.7586             nan     0.1000    0.0001\n",
      "   150        0.7551             nan     0.1000    0.0001\n",
      "\n",
      "Iter   TrainDeviance   ValidDeviance   StepSize   Improve\n",
      "     1        1.3048             nan     0.1000    0.0412\n",
      "     2        1.2376             nan     0.1000    0.0335\n",
      "     3        1.1793             nan     0.1000    0.0294\n",
      "     4        1.1312             nan     0.1000    0.0240\n",
      "     5        1.0893             nan     0.1000    0.0205\n",
      "     6        1.0537             nan     0.1000    0.0170\n",
      "     7        1.0217             nan     0.1000    0.0158\n",
      "     8        0.9956             nan     0.1000    0.0127\n",
      "     9        0.9736             nan     0.1000    0.0111\n",
      "    10        0.9545             nan     0.1000    0.0092\n",
      "    20        0.8462             nan     0.1000    0.0029\n",
      "    40        0.7742             nan     0.1000    0.0005\n",
      "    60        0.7447             nan     0.1000    0.0004\n",
      "    80        0.7300             nan     0.1000    0.0002\n",
      "   100        0.7206             nan     0.1000   -0.0000\n",
      "   120        0.7123             nan     0.1000    0.0000\n",
      "   140        0.7064             nan     0.1000   -0.0001\n",
      "   150        0.7036             nan     0.1000   -0.0001\n",
      "\n",
      "Iter   TrainDeviance   ValidDeviance   StepSize   Improve\n",
      "     1        1.2972             nan     0.1000    0.0445\n",
      "     2        1.2261             nan     0.1000    0.0356\n",
      "     3        1.1636             nan     0.1000    0.0318\n",
      "     4        1.1117             nan     0.1000    0.0264\n",
      "     5        1.0668             nan     0.1000    0.0220\n",
      "     6        1.0303             nan     0.1000    0.0181\n",
      "     7        0.9990             nan     0.1000    0.0153\n",
      "     8        0.9698             nan     0.1000    0.0141\n",
      "     9        0.9459             nan     0.1000    0.0115\n",
      "    10        0.9250             nan     0.1000    0.0103\n",
      "    20        0.8104             nan     0.1000    0.0031\n",
      "    40        0.7429             nan     0.1000    0.0003\n",
      "    60        0.7210             nan     0.1000    0.0003\n",
      "    80        0.7064             nan     0.1000    0.0001\n",
      "   100        0.6970             nan     0.1000    0.0000\n",
      "   120        0.6881             nan     0.1000   -0.0001\n",
      "   140        0.6817             nan     0.1000   -0.0001\n",
      "   150        0.6787             nan     0.1000    0.0001\n",
      "\n",
      "Iter   TrainDeviance   ValidDeviance   StepSize   Improve\n",
      "     1        1.3182             nan     0.1000    0.0337\n",
      "     2        1.2624             nan     0.1000    0.0272\n",
      "     3        1.2150             nan     0.1000    0.0235\n",
      "     4        1.1759             nan     0.1000    0.0195\n",
      "     5        1.1431             nan     0.1000    0.0161\n",
      "     6        1.1134             nan     0.1000    0.0147\n",
      "     7        1.0889             nan     0.1000    0.0118\n",
      "     8        1.0670             nan     0.1000    0.0109\n",
      "     9        1.0485             nan     0.1000    0.0092\n",
      "    10        1.0316             nan     0.1000    0.0081\n",
      "    20        0.9233             nan     0.1000    0.0037\n",
      "    40        0.8485             nan     0.1000    0.0011\n",
      "    60        0.8119             nan     0.1000    0.0008\n",
      "    80        0.7901             nan     0.1000    0.0004\n",
      "   100        0.7748             nan     0.1000    0.0002\n",
      "   120        0.7631             nan     0.1000    0.0002\n",
      "   140        0.7551             nan     0.1000    0.0001\n",
      "   150        0.7517             nan     0.1000   -0.0000\n",
      "\n",
      "Iter   TrainDeviance   ValidDeviance   StepSize   Improve\n",
      "     1        1.3059             nan     0.1000    0.0407\n",
      "     2        1.2389             nan     0.1000    0.0334\n",
      "     3        1.1798             nan     0.1000    0.0295\n",
      "     4        1.1304             nan     0.1000    0.0245\n",
      "     5        1.0887             nan     0.1000    0.0207\n",
      "     6        1.0526             nan     0.1000    0.0176\n",
      "     7        1.0217             nan     0.1000    0.0152\n",
      "     8        0.9963             nan     0.1000    0.0125\n",
      "     9        0.9729             nan     0.1000    0.0114\n",
      "    10        0.9513             nan     0.1000    0.0108\n",
      "    20        0.8410             nan     0.1000    0.0037\n",
      "    40        0.7673             nan     0.1000    0.0008\n",
      "    60        0.7413             nan     0.1000    0.0003\n",
      "    80        0.7264             nan     0.1000    0.0002\n",
      "   100        0.7166             nan     0.1000    0.0000\n",
      "   120        0.7091             nan     0.1000   -0.0000\n",
      "   140        0.7031             nan     0.1000   -0.0000\n",
      "   150        0.7007             nan     0.1000    0.0000\n",
      "\n",
      "Iter   TrainDeviance   ValidDeviance   StepSize   Improve\n",
      "     1        1.2955             nan     0.1000    0.0452\n",
      "     2        1.2224             nan     0.1000    0.0369\n",
      "     3        1.1623             nan     0.1000    0.0293\n",
      "     4        1.1089             nan     0.1000    0.0262\n",
      "     5        1.0645             nan     0.1000    0.0219\n",
      "     6        1.0278             nan     0.1000    0.0183\n",
      "     7        0.9961             nan     0.1000    0.0155\n",
      "     8        0.9694             nan     0.1000    0.0132\n",
      "     9        0.9453             nan     0.1000    0.0118\n",
      "    10        0.9248             nan     0.1000    0.0100\n",
      "    20        0.8106             nan     0.1000    0.0030\n",
      "    40        0.7398             nan     0.1000    0.0005\n",
      "    60        0.7169             nan     0.1000    0.0002\n",
      "    80        0.7037             nan     0.1000    0.0001\n",
      "   100        0.6921             nan     0.1000    0.0000\n",
      "   120        0.6850             nan     0.1000    0.0000\n",
      "   140        0.6780             nan     0.1000   -0.0001\n",
      "   150        0.6744             nan     0.1000   -0.0001\n",
      "\n",
      "Iter   TrainDeviance   ValidDeviance   StepSize   Improve\n",
      "     1        1.3210             nan     0.1000    0.0331\n",
      "     2        1.2660             nan     0.1000    0.0272\n",
      "     3        1.2186             nan     0.1000    0.0232\n",
      "     4        1.1785             nan     0.1000    0.0194\n",
      "     5        1.1463             nan     0.1000    0.0156\n",
      "     6        1.1171             nan     0.1000    0.0147\n",
      "     7        1.0930             nan     0.1000    0.0121\n",
      "     8        1.0714             nan     0.1000    0.0102\n",
      "     9        1.0536             nan     0.1000    0.0086\n",
      "    10        1.0365             nan     0.1000    0.0084\n",
      "    20        0.9311             nan     0.1000    0.0035\n",
      "    40        0.8571             nan     0.1000    0.0013\n",
      "    60        0.8213             nan     0.1000    0.0006\n",
      "    80        0.7985             nan     0.1000    0.0005\n",
      "   100        0.7825             nan     0.1000    0.0003\n",
      "   120        0.7711             nan     0.1000    0.0001\n",
      "   140        0.7615             nan     0.1000    0.0001\n",
      "   150        0.7584             nan     0.1000    0.0001\n",
      "\n",
      "Iter   TrainDeviance   ValidDeviance   StepSize   Improve\n",
      "     1        1.3055             nan     0.1000    0.0403\n",
      "     2        1.2380             nan     0.1000    0.0337\n",
      "     3        1.1819             nan     0.1000    0.0279\n",
      "     4        1.1330             nan     0.1000    0.0240\n",
      "     5        1.0920             nan     0.1000    0.0207\n",
      "     6        1.0566             nan     0.1000    0.0173\n",
      "     7        1.0253             nan     0.1000    0.0147\n",
      "     8        0.9989             nan     0.1000    0.0131\n",
      "     9        0.9774             nan     0.1000    0.0107\n",
      "    10        0.9578             nan     0.1000    0.0098\n",
      "    20        0.8504             nan     0.1000    0.0032\n",
      "    40        0.7762             nan     0.1000    0.0008\n",
      "    60        0.7465             nan     0.1000    0.0001\n",
      "    80        0.7318             nan     0.1000    0.0001\n",
      "   100        0.7211             nan     0.1000    0.0002\n",
      "   120        0.7140             nan     0.1000    0.0000\n",
      "   140        0.7083             nan     0.1000    0.0000\n",
      "   150        0.7052             nan     0.1000    0.0001\n",
      "\n",
      "Iter   TrainDeviance   ValidDeviance   StepSize   Improve\n",
      "     1        1.2970             nan     0.1000    0.0445\n",
      "     2        1.2257             nan     0.1000    0.0347\n",
      "     3        1.1646             nan     0.1000    0.0310\n",
      "     4        1.1141             nan     0.1000    0.0252\n",
      "     5        1.0693             nan     0.1000    0.0220\n",
      "     6        1.0316             nan     0.1000    0.0181\n",
      "     7        0.9997             nan     0.1000    0.0155\n",
      "     8        0.9727             nan     0.1000    0.0135\n",
      "     9        0.9498             nan     0.1000    0.0111\n",
      "    10        0.9289             nan     0.1000    0.0099\n",
      "    20        0.8137             nan     0.1000    0.0030\n",
      "    40        0.7477             nan     0.1000    0.0009\n",
      "    60        0.7254             nan     0.1000    0.0002\n",
      "    80        0.7108             nan     0.1000    0.0001\n",
      "   100        0.6994             nan     0.1000    0.0001\n",
      "   120        0.6921             nan     0.1000   -0.0000\n",
      "   140        0.6848             nan     0.1000    0.0001\n",
      "   150        0.6822             nan     0.1000   -0.0002\n",
      "\n",
      "Iter   TrainDeviance   ValidDeviance   StepSize   Improve\n",
      "     1        1.3218             nan     0.1000    0.0326\n",
      "     2        1.2676             nan     0.1000    0.0271\n",
      "     3        1.2211             nan     0.1000    0.0228\n",
      "     4        1.1819             nan     0.1000    0.0193\n",
      "     5        1.1492             nan     0.1000    0.0162\n",
      "     6        1.1207             nan     0.1000    0.0141\n",
      "     7        1.0987             nan     0.1000    0.0105\n",
      "     8        1.0769             nan     0.1000    0.0109\n",
      "     9        1.0583             nan     0.1000    0.0089\n",
      "    10        1.0410             nan     0.1000    0.0083\n",
      "    20        0.9336             nan     0.1000    0.0032\n",
      "    40        0.8580             nan     0.1000    0.0009\n",
      "    60        0.8210             nan     0.1000    0.0008\n",
      "    80        0.7986             nan     0.1000    0.0005\n",
      "   100        0.7825             nan     0.1000    0.0003\n",
      "   120        0.7709             nan     0.1000    0.0002\n",
      "   140        0.7623             nan     0.1000    0.0001\n",
      "   150        0.7590             nan     0.1000   -0.0000\n",
      "\n",
      "Iter   TrainDeviance   ValidDeviance   StepSize   Improve\n",
      "     1        1.3068             nan     0.1000    0.0404\n",
      "     2        1.2391             nan     0.1000    0.0339\n",
      "     3        1.1832             nan     0.1000    0.0283\n",
      "     4        1.1355             nan     0.1000    0.0236\n",
      "     5        1.0932             nan     0.1000    0.0208\n",
      "     6        1.0570             nan     0.1000    0.0176\n",
      "     7        1.0261             nan     0.1000    0.0153\n",
      "     8        0.9985             nan     0.1000    0.0133\n",
      "     9        0.9755             nan     0.1000    0.0112\n",
      "    10        0.9560             nan     0.1000    0.0098\n",
      "    20        0.8508             nan     0.1000    0.0031\n",
      "    40        0.7772             nan     0.1000    0.0008\n",
      "    60        0.7491             nan     0.1000    0.0002\n",
      "    80        0.7329             nan     0.1000    0.0001\n",
      "   100        0.7236             nan     0.1000    0.0001\n",
      "   120        0.7158             nan     0.1000    0.0001\n",
      "   140        0.7085             nan     0.1000   -0.0000\n",
      "   150        0.7055             nan     0.1000    0.0000\n",
      "\n",
      "Iter   TrainDeviance   ValidDeviance   StepSize   Improve\n",
      "     1        1.2983             nan     0.1000    0.0450\n",
      "     2        1.2241             nan     0.1000    0.0367\n",
      "     3        1.1647             nan     0.1000    0.0293\n",
      "     4        1.1147             nan     0.1000    0.0246\n",
      "     5        1.0690             nan     0.1000    0.0223\n",
      "     6        1.0310             nan     0.1000    0.0189\n",
      "     7        1.0007             nan     0.1000    0.0153\n",
      "     8        0.9728             nan     0.1000    0.0141\n",
      "     9        0.9489             nan     0.1000    0.0115\n",
      "    10        0.9278             nan     0.1000    0.0099\n",
      "    20        0.8138             nan     0.1000    0.0032\n",
      "    40        0.7471             nan     0.1000    0.0008\n",
      "    60        0.7250             nan     0.1000    0.0003\n",
      "    80        0.7119             nan     0.1000    0.0001\n",
      "   100        0.7013             nan     0.1000   -0.0001\n",
      "   120        0.6936             nan     0.1000    0.0003\n",
      "   140        0.6863             nan     0.1000   -0.0001\n",
      "   150        0.6833             nan     0.1000   -0.0001\n",
      "\n",
      "Iter   TrainDeviance   ValidDeviance   StepSize   Improve\n",
      "     1        1.3208             nan     0.1000    0.0328\n",
      "     2        1.2659             nan     0.1000    0.0266\n",
      "     3        1.2182             nan     0.1000    0.0235\n",
      "     4        1.1785             nan     0.1000    0.0193\n",
      "     5        1.1463             nan     0.1000    0.0162\n",
      "     6        1.1178             nan     0.1000    0.0140\n",
      "     7        1.0934             nan     0.1000    0.0119\n",
      "     8        1.0725             nan     0.1000    0.0100\n",
      "     9        1.0546             nan     0.1000    0.0089\n",
      "    10        1.0378             nan     0.1000    0.0080\n",
      "    20        0.9307             nan     0.1000    0.0034\n",
      "    40        0.8550             nan     0.1000    0.0010\n",
      "    60        0.8177             nan     0.1000    0.0005\n",
      "    80        0.7941             nan     0.1000    0.0004\n",
      "   100        0.7788             nan     0.1000    0.0002\n",
      "   120        0.7674             nan     0.1000    0.0003\n",
      "   140        0.7591             nan     0.1000    0.0001\n",
      "   150        0.7558             nan     0.1000    0.0000\n",
      "\n",
      "Iter   TrainDeviance   ValidDeviance   StepSize   Improve\n",
      "     1        1.3062             nan     0.1000    0.0402\n",
      "     2        1.2379             nan     0.1000    0.0336\n",
      "     3        1.1823             nan     0.1000    0.0281\n",
      "     4        1.1335             nan     0.1000    0.0248\n",
      "     5        1.0926             nan     0.1000    0.0201\n",
      "     6        1.0585             nan     0.1000    0.0171\n",
      "     7        1.0259             nan     0.1000    0.0161\n",
      "     8        0.9989             nan     0.1000    0.0133\n",
      "     9        0.9759             nan     0.1000    0.0114\n",
      "    10        0.9567             nan     0.1000    0.0096\n",
      "    20        0.8490             nan     0.1000    0.0027\n",
      "    40        0.7768             nan     0.1000    0.0007\n",
      "    60        0.7467             nan     0.1000    0.0004\n",
      "    80        0.7324             nan     0.1000    0.0003\n",
      "   100        0.7229             nan     0.1000    0.0001\n",
      "   120        0.7143             nan     0.1000   -0.0001\n",
      "   140        0.7079             nan     0.1000   -0.0001\n",
      "   150        0.7053             nan     0.1000   -0.0000\n",
      "\n",
      "Iter   TrainDeviance   ValidDeviance   StepSize   Improve\n",
      "     1        1.2962             nan     0.1000    0.0450\n",
      "     2        1.2239             nan     0.1000    0.0366\n",
      "     3        1.1634             nan     0.1000    0.0296\n",
      "     4        1.1114             nan     0.1000    0.0258\n",
      "     5        1.0684             nan     0.1000    0.0213\n",
      "     6        1.0313             nan     0.1000    0.0184\n",
      "     7        0.9995             nan     0.1000    0.0154\n",
      "     8        0.9729             nan     0.1000    0.0130\n",
      "     9        0.9496             nan     0.1000    0.0114\n",
      "    10        0.9292             nan     0.1000    0.0099\n",
      "    20        0.8165             nan     0.1000    0.0041\n",
      "    40        0.7462             nan     0.1000    0.0006\n",
      "    60        0.7241             nan     0.1000    0.0003\n",
      "    80        0.7108             nan     0.1000    0.0000\n",
      "   100        0.7001             nan     0.1000    0.0001\n",
      "   120        0.6931             nan     0.1000   -0.0000\n",
      "   140        0.6857             nan     0.1000   -0.0001\n",
      "   150        0.6833             nan     0.1000    0.0000\n",
      "\n",
      "Iter   TrainDeviance   ValidDeviance   StepSize   Improve\n",
      "     1        1.3198             nan     0.1000    0.0336\n",
      "     2        1.2648             nan     0.1000    0.0277\n",
      "     3        1.2174             nan     0.1000    0.0237\n",
      "     4        1.1784             nan     0.1000    0.0196\n",
      "     5        1.1435             nan     0.1000    0.0169\n",
      "     6        1.1157             nan     0.1000    0.0139\n",
      "     7        1.0901             nan     0.1000    0.0127\n",
      "     8        1.0688             nan     0.1000    0.0107\n",
      "     9        1.0502             nan     0.1000    0.0091\n",
      "    10        1.0332             nan     0.1000    0.0081\n",
      "    20        0.9236             nan     0.1000    0.0034\n",
      "    40        0.8484             nan     0.1000    0.0013\n",
      "    60        0.8133             nan     0.1000    0.0006\n",
      "    80        0.7901             nan     0.1000    0.0003\n",
      "   100        0.7747             nan     0.1000    0.0003\n",
      "   120        0.7625             nan     0.1000    0.0003\n",
      "   140        0.7539             nan     0.1000    0.0001\n",
      "   150        0.7502             nan     0.1000    0.0001\n",
      "\n",
      "Iter   TrainDeviance   ValidDeviance   StepSize   Improve\n",
      "     1        1.3042             nan     0.1000    0.0409\n",
      "     2        1.2348             nan     0.1000    0.0343\n",
      "     3        1.1777             nan     0.1000    0.0283\n",
      "     4        1.1277             nan     0.1000    0.0247\n",
      "     5        1.0852             nan     0.1000    0.0207\n",
      "     6        1.0504             nan     0.1000    0.0174\n",
      "     7        1.0188             nan     0.1000    0.0155\n",
      "     8        0.9925             nan     0.1000    0.0130\n",
      "     9        0.9690             nan     0.1000    0.0114\n",
      "    10        0.9481             nan     0.1000    0.0100\n",
      "    20        0.8394             nan     0.1000    0.0032\n",
      "    40        0.7692             nan     0.1000    0.0010\n",
      "    60        0.7416             nan     0.1000    0.0004\n",
      "    80        0.7249             nan     0.1000    0.0003\n",
      "   100        0.7148             nan     0.1000    0.0002\n",
      "   120        0.7066             nan     0.1000    0.0001\n",
      "   140        0.7009             nan     0.1000    0.0001\n",
      "   150        0.6980             nan     0.1000   -0.0000\n",
      "\n",
      "Iter   TrainDeviance   ValidDeviance   StepSize   Improve\n",
      "     1        1.2951             nan     0.1000    0.0453\n",
      "     2        1.2212             nan     0.1000    0.0371\n",
      "     3        1.1594             nan     0.1000    0.0305\n",
      "     4        1.1069             nan     0.1000    0.0255\n",
      "     5        1.0641             nan     0.1000    0.0216\n",
      "     6        1.0269             nan     0.1000    0.0182\n",
      "     7        0.9957             nan     0.1000    0.0153\n",
      "     8        0.9676             nan     0.1000    0.0138\n",
      "     9        0.9433             nan     0.1000    0.0118\n",
      "    10        0.9216             nan     0.1000    0.0106\n",
      "    20        0.8060             nan     0.1000    0.0030\n",
      "    40        0.7384             nan     0.1000    0.0004\n",
      "    60        0.7146             nan     0.1000    0.0005\n",
      "    80        0.7010             nan     0.1000    0.0000\n",
      "   100        0.6899             nan     0.1000    0.0001\n",
      "   120        0.6832             nan     0.1000    0.0000\n",
      "   140        0.6763             nan     0.1000   -0.0000\n",
      "   150        0.6740             nan     0.1000   -0.0001\n",
      "\n",
      "Iter   TrainDeviance   ValidDeviance   StepSize   Improve\n",
      "     1        1.2959             nan     0.1000    0.0449\n",
      "     2        1.2261             nan     0.1000    0.0353\n",
      "     3        1.1642             nan     0.1000    0.0311\n",
      "     4        1.1116             nan     0.1000    0.0261\n",
      "     5        1.0683             nan     0.1000    0.0219\n",
      "     6        1.0313             nan     0.1000    0.0183\n",
      "     7        0.9992             nan     0.1000    0.0156\n",
      "     8        0.9712             nan     0.1000    0.0135\n",
      "     9        0.9483             nan     0.1000    0.0114\n",
      "    10        0.9274             nan     0.1000    0.0096\n",
      "    20        0.8134             nan     0.1000    0.0035\n",
      "    40        0.7465             nan     0.1000    0.0003\n",
      "    60        0.7229             nan     0.1000    0.0002\n",
      "    80        0.7087             nan     0.1000    0.0000\n",
      "   100        0.6987             nan     0.1000    0.0000\n",
      "   120        0.6909             nan     0.1000   -0.0000\n",
      "   140        0.6854             nan     0.1000   -0.0002\n",
      "   150        0.6825             nan     0.1000   -0.0000\n",
      "\n"
     ]
    }
   ],
   "source": [
    "# GLM with balanced data\n",
    "set.seed(7)\n",
    "fit.GBM1 <- train(final_result~., data=under_sam, method=\"gbm\", metric=metric, trControl=control)"
   ]
  },
  {
   "cell_type": "code",
   "execution_count": 68,
   "metadata": {},
   "outputs": [
    {
     "name": "stderr",
     "output_type": "stream",
     "text": [
      "Warning message in confusionMatrix.default(predictions_GBM1, Test$final_result):\n",
      "\"Levels are not in the same order for reference and data. Refactoring data to match.\""
     ]
    },
    {
     "data": {
      "text/plain": [
       "Confusion Matrix and Statistics\n",
       "\n",
       "          Reference\n",
       "Prediction Fail Pass\n",
       "      Fail  545  200\n",
       "      Pass  118 1280\n",
       "                                          \n",
       "               Accuracy : 0.8516          \n",
       "                 95% CI : (0.8358, 0.8664)\n",
       "    No Information Rate : 0.6906          \n",
       "    P-Value [Acc > NIR] : < 2.2e-16       \n",
       "                                          \n",
       "                  Kappa : 0.6642          \n",
       "                                          \n",
       " Mcnemar's Test P-Value : 5.566e-06       \n",
       "                                          \n",
       "            Sensitivity : 0.8220          \n",
       "            Specificity : 0.8649          \n",
       "         Pos Pred Value : 0.7315          \n",
       "         Neg Pred Value : 0.9156          \n",
       "             Prevalence : 0.3094          \n",
       "         Detection Rate : 0.2543          \n",
       "   Detection Prevalence : 0.3476          \n",
       "      Balanced Accuracy : 0.8434          \n",
       "                                          \n",
       "       'Positive' Class : Fail            \n",
       "                                          "
      ]
     },
     "metadata": {},
     "output_type": "display_data"
    }
   ],
   "source": [
    "# estimate skill of rf on the validation dataset\n",
    "predictions_GBM1 <- predict(fit.GBM1, Test)\n",
    "confusionMatrix(predictions_GBM1, Test$final_result)"
   ]
  },
  {
   "cell_type": "code",
   "execution_count": 69,
   "metadata": {},
   "outputs": [
    {
     "name": "stderr",
     "output_type": "stream",
     "text": [
      "Setting levels: control = Fail, case = Pass\n",
      "Setting direction: controls > cases\n"
     ]
    },
    {
     "data": {
      "image/png": "[encoded data removed]",
      "text/plain": [
       "plot without title"
      ]
     },
     "metadata": {},
     "output_type": "display_data"
    }
   ],
   "source": [
    "GBM1 =  predict(fit.GBM1, Test,type=\"prob\")\n",
    "two=  plot(roc(Test$final_result,GBM1[,2]))"
   ]
  },
  {
   "cell_type": "code",
   "execution_count": 70,
   "metadata": {},
   "outputs": [],
   "source": [
    "saveRDS(fit.GBM1, \"C:\\\\Users\\\\shrey\\\\OneDrive\\\\Desktop\\\\BUSINESS ANALYTICS\\\\Datasets\\\\models\\\\project2\\\\GBM1_balanced_model.rds\")"
   ]
  },
  {
   "cell_type": "code",
   "execution_count": 108,
   "metadata": {},
   "outputs": [
    {
     "name": "stderr",
     "output_type": "stream",
     "text": [
      "Setting levels: control = Fail, case = Pass\n",
      "Setting direction: controls < cases\n"
     ]
    },
    {
     "data": {
      "text/html": [
       "0.916022074110309"
      ],
      "text/latex": [
       "0.916022074110309"
      ],
      "text/markdown": [
       "0.916022074110309"
      ],
      "text/plain": [
       "Area under the curve: 0.916"
      ]
     },
     "metadata": {},
     "output_type": "display_data"
    }
   ],
   "source": [
    "roc_obj <- roc(Test$final_result, GBM1[,1])\n",
    "auc(roc_obj)"
   ]
  },
  {
   "cell_type": "code",
   "execution_count": 109,
   "metadata": {},
   "outputs": [
    {
     "name": "stderr",
     "output_type": "stream",
     "text": [
      "Setting levels: control = Fail, case = Pass\n",
      "Setting direction: controls < cases\n"
     ]
    },
    {
     "data": {
      "text/html": [
       "0.895412946883535"
      ],
      "text/latex": [
       "0.895412946883535"
      ],
      "text/markdown": [
       "0.895412946883535"
      ],
      "text/plain": [
       "Area under the curve: 0.8954"
      ]
     },
     "metadata": {},
     "output_type": "display_data"
    }
   ],
   "source": [
    "roc_obj <- roc(Test$final_result, lda1[,1])\n",
    "auc(roc_obj)"
   ]
  },
  {
   "cell_type": "code",
   "execution_count": 110,
   "metadata": {},
   "outputs": [
    {
     "name": "stderr",
     "output_type": "stream",
     "text": [
      "Setting levels: control = Fail, case = Pass\n",
      "Setting direction: controls < cases\n"
     ]
    },
    {
     "data": {
      "text/html": [
       "0.897506216623864"
      ],
      "text/latex": [
       "0.897506216623864"
      ],
      "text/markdown": [
       "0.897506216623864"
      ],
      "text/plain": [
       "Area under the curve: 0.8975"
      ]
     },
     "metadata": {},
     "output_type": "display_data"
    }
   ],
   "source": [
    "roc_obj <- roc(Test$final_result, GLM1[,1])\n",
    "auc(roc_obj)"
   ]
  },
  {
   "cell_type": "code",
   "execution_count": 114,
   "metadata": {},
   "outputs": [
    {
     "name": "stderr",
     "output_type": "stream",
     "text": [
      "Setting levels: control = Fail, case = Pass\n",
      "Setting direction: controls > cases\n"
     ]
    },
    {
     "data": {
      "text/html": [
       "0.897506216623864"
      ],
      "text/latex": [
       "0.897506216623864"
      ],
      "text/markdown": [
       "0.897506216623864"
      ],
      "text/plain": [
       "Area under the curve: 0.8975"
      ]
     },
     "metadata": {},
     "output_type": "display_data"
    }
   ],
   "source": [
    "roc_rf <- roc(Test$final_result, cart4[,1])\n",
    "auc(roc_obj)"
   ]
  },
  {
   "cell_type": "markdown",
   "metadata": {},
   "source": [
    "# Running SVM on balanced:"
   ]
  },
  {
   "cell_type": "code",
   "execution_count": 116,
   "metadata": {},
   "outputs": [],
   "source": [
    "# GLM with balanced data\n",
    "set.seed(7)\n",
    "fit.SVM1 <- train(final_result~., data=under_sam, method=\"svmRadial\", metric=metric, trControl=control)"
   ]
  },
  {
   "cell_type": "code",
   "execution_count": 117,
   "metadata": {},
   "outputs": [
    {
     "name": "stderr",
     "output_type": "stream",
     "text": [
      "Warning message in confusionMatrix.default(predictions_SVM1, Test$final_result):\n",
      "\"Levels are not in the same order for reference and data. Refactoring data to match.\""
     ]
    },
    {
     "data": {
      "text/plain": [
       "Confusion Matrix and Statistics\n",
       "\n",
       "          Reference\n",
       "Prediction Fail Pass\n",
       "      Fail  528  167\n",
       "      Pass  135 1313\n",
       "                                          \n",
       "               Accuracy : 0.8591          \n",
       "                 95% CI : (0.8436, 0.8735)\n",
       "    No Information Rate : 0.6906          \n",
       "    P-Value [Acc > NIR] : < 2e-16         \n",
       "                                          \n",
       "                  Kappa : 0.6746          \n",
       "                                          \n",
       " Mcnemar's Test P-Value : 0.07445         \n",
       "                                          \n",
       "            Sensitivity : 0.7964          \n",
       "            Specificity : 0.8872          \n",
       "         Pos Pred Value : 0.7597          \n",
       "         Neg Pred Value : 0.9068          \n",
       "             Prevalence : 0.3094          \n",
       "         Detection Rate : 0.2464          \n",
       "   Detection Prevalence : 0.3243          \n",
       "      Balanced Accuracy : 0.8418          \n",
       "                                          \n",
       "       'Positive' Class : Fail            \n",
       "                                          "
      ]
     },
     "metadata": {},
     "output_type": "display_data"
    }
   ],
   "source": [
    "# estimate skill of rf on the validation dataset\n",
    "predictions_SVM1 <- predict(fit.SVM1, Test)\n",
    "confusionMatrix(predictions_SVM1, Test$final_result)"
   ]
  },
  {
   "cell_type": "code",
   "execution_count": 121,
   "metadata": {},
   "outputs": [],
   "source": [
    "saveRDS(fit.SVM1, \"C:\\\\Users\\\\shrey\\\\OneDrive\\\\Desktop\\\\BUSINESS ANALYTICS\\\\Datasets\\\\models\\\\project2\\\\SVM1_balanced_model.rds\")"
   ]
  },
  {
   "cell_type": "code",
   "execution_count": 118,
   "metadata": {},
   "outputs": [
    {
     "name": "stderr",
     "output_type": "stream",
     "text": [
      "Warning message in method$prob(modelFit = modelFit, newdata = newdata, submodels = param):\n",
      "\"kernlab class probability calculations failed; returning NAs\"Setting levels: control = Fail, case = Pass\n"
     ]
    },
    {
     "ename": "ERROR",
     "evalue": "Error in roc.default(Test$final_result, SVM1[, 2]): Predictor must be numeric or ordered.\n",
     "output_type": "error",
     "traceback": [
      "Error in roc.default(Test$final_result, SVM1[, 2]): Predictor must be numeric or ordered.\nTraceback:\n",
      "1. plot(roc(Test$final_result, SVM1[, 2]))",
      "2. roc(Test$final_result, SVM1[, 2])",
      "3. roc.default(Test$final_result, SVM1[, 2])",
      "4. stop(\"Predictor must be numeric or ordered.\")"
     ]
    }
   ],
   "source": [
    "SVM1 =  predict(fit.SVM1, Test,type=\"prob\")\n",
    "two=  plot(roc(Test$final_result,SVM1[,2]))"
   ]
  },
  {
   "cell_type": "markdown",
   "metadata": {},
   "source": [
    "# Using withdrawn as fail"
   ]
  },
  {
   "cell_type": "code",
   "execution_count": 2,
   "metadata": {},
   "outputs": [],
   "source": [
    "main_df = read.csv(\"C:\\\\Users\\\\shrey\\\\OneDrive\\\\Desktop\\\\BUSINESS ANALYTICS\\\\Datasets\\\\Project2\\\\final_data2.csv\")"
   ]
  },
  {
   "cell_type": "code",
   "execution_count": 3,
   "metadata": {},
   "outputs": [
    {
     "data": {
      "text/html": [
       "<ol class=list-inline>\n",
       "\t<li>Pass</li>\n",
       "\t<li>Withdrawn</li>\n",
       "\t<li>Fail</li>\n",
       "\t<li>Distinction</li>\n",
       "</ol>\n",
       "\n",
       "<details>\n",
       "\t<summary style=display:list-item;cursor:pointer>\n",
       "\t\t<strong>Levels</strong>:\n",
       "\t</summary>\n",
       "\t<ol class=list-inline>\n",
       "\t\t<li>'Distinction'</li>\n",
       "\t\t<li>'Fail'</li>\n",
       "\t\t<li>'Pass'</li>\n",
       "\t\t<li>'Withdrawn'</li>\n",
       "\t</ol>\n",
       "</details>"
      ],
      "text/latex": [
       "\\begin{enumerate*}\n",
       "\\item Pass\n",
       "\\item Withdrawn\n",
       "\\item Fail\n",
       "\\item Distinction\n",
       "\\end{enumerate*}\n",
       "\n",
       "\\emph{Levels}: \\begin{enumerate*}\n",
       "\\item 'Distinction'\n",
       "\\item 'Fail'\n",
       "\\item 'Pass'\n",
       "\\item 'Withdrawn'\n",
       "\\end{enumerate*}\n"
      ],
      "text/markdown": [
       "1. Pass\n",
       "2. Withdrawn\n",
       "3. Fail\n",
       "4. Distinction\n",
       "\n",
       "\n",
       "\n",
       "**Levels**: 1. 'Distinction'\n",
       "2. 'Fail'\n",
       "3. 'Pass'\n",
       "4. 'Withdrawn'\n",
       "\n",
       "\n"
      ],
      "text/plain": [
       "[1] Pass        Withdrawn   Fail        Distinction\n",
       "Levels: Distinction Fail Pass Withdrawn"
      ]
     },
     "metadata": {},
     "output_type": "display_data"
    }
   ],
   "source": [
    "unique(main_df$final_result)"
   ]
  },
  {
   "cell_type": "code",
   "execution_count": 4,
   "metadata": {},
   "outputs": [],
   "source": [
    "new_selected= main_df[,which(names(main_df) %in% c(\"weight\",\"TMA_score\",\"TMA_count\",\"NA_homepage\",\"sum_click\",\"CMA_count\",\"NA_quiz\",\n",
    "                             \"code_module.x.x\",\"code_presentation.x.x\",\"studied_credits\",\"age_band\",\"final_result\"))]"
   ]
  },
  {
   "cell_type": "code",
   "execution_count": 5,
   "metadata": {},
   "outputs": [
    {
     "data": {
      "text/html": [
       "<table>\n",
       "<thead><tr><th scope=col>code_module.x.x</th><th scope=col>code_presentation.x.x</th><th scope=col>age_band</th><th scope=col>studied_credits</th><th scope=col>final_result</th><th scope=col>sum_click</th><th scope=col>NA_homepage</th><th scope=col>NA_quiz</th><th scope=col>weight</th><th scope=col>CMA_count</th><th scope=col>TMA_count</th><th scope=col>TMA_score</th></tr></thead>\n",
       "<tbody>\n",
       "\t<tr><td>AAA     </td><td>2013J   </td><td>55&lt;= </td><td>240     </td><td>Pass    </td><td> 934    </td><td> 40     </td><td>0       </td><td>100     </td><td>0       </td><td>5       </td><td>82.4    </td></tr>\n",
       "\t<tr><td>AAA  </td><td>2013J</td><td>35-55</td><td> 60  </td><td>Pass </td><td>1435 </td><td> 80  </td><td>0    </td><td>100  </td><td>0    </td><td>5    </td><td>65.4 </td></tr>\n",
       "\t<tr><td>AAA  </td><td>2013J</td><td>35-55</td><td> 60  </td><td>Pass </td><td>2158 </td><td>121  </td><td>0    </td><td>100  </td><td>0    </td><td>5    </td><td>76.3 </td></tr>\n",
       "\t<tr><td>AAA  </td><td>2013J</td><td>0-35 </td><td>120  </td><td>Pass </td><td>1428 </td><td>104  </td><td>0    </td><td>100  </td><td>0    </td><td>5    </td><td>72.5 </td></tr>\n",
       "\t<tr><td>AAA  </td><td>2013J</td><td>0-35 </td><td> 90  </td><td>Pass </td><td>1894 </td><td>121  </td><td>0    </td><td>100  </td><td>0    </td><td>5    </td><td>71.2 </td></tr>\n",
       "\t<tr><td>AAA     </td><td>2013J   </td><td>55&lt;= </td><td> 60     </td><td>Pass    </td><td>3158    </td><td>142     </td><td>0       </td><td>100     </td><td>0       </td><td>5       </td><td>79.0    </td></tr>\n",
       "</tbody>\n",
       "</table>\n"
      ],
      "text/latex": [
       "\\begin{tabular}{r|llllllllllll}\n",
       " code\\_module.x.x & code\\_presentation.x.x & age\\_band & studied\\_credits & final\\_result & sum\\_click & NA\\_homepage & NA\\_quiz & weight & CMA\\_count & TMA\\_count & TMA\\_score\\\\\n",
       "\\hline\n",
       "\t AAA   & 2013J & 55<=  & 240   & Pass  &  934  &  40   & 0     & 100   & 0     & 5     & 82.4 \\\\\n",
       "\t AAA   & 2013J & 35-55 &  60   & Pass  & 1435  &  80   & 0     & 100   & 0     & 5     & 65.4 \\\\\n",
       "\t AAA   & 2013J & 35-55 &  60   & Pass  & 2158  & 121   & 0     & 100   & 0     & 5     & 76.3 \\\\\n",
       "\t AAA   & 2013J & 0-35  & 120   & Pass  & 1428  & 104   & 0     & 100   & 0     & 5     & 72.5 \\\\\n",
       "\t AAA   & 2013J & 0-35  &  90   & Pass  & 1894  & 121   & 0     & 100   & 0     & 5     & 71.2 \\\\\n",
       "\t AAA   & 2013J & 55<=  &  60   & Pass  & 3158  & 142   & 0     & 100   & 0     & 5     & 79.0 \\\\\n",
       "\\end{tabular}\n"
      ],
      "text/markdown": [
       "\n",
       "| code_module.x.x | code_presentation.x.x | age_band | studied_credits | final_result | sum_click | NA_homepage | NA_quiz | weight | CMA_count | TMA_count | TMA_score |\n",
       "|---|---|---|---|---|---|---|---|---|---|---|---|\n",
       "| AAA   | 2013J | 55<=  | 240   | Pass  |  934  |  40   | 0     | 100   | 0     | 5     | 82.4  |\n",
       "| AAA   | 2013J | 35-55 |  60   | Pass  | 1435  |  80   | 0     | 100   | 0     | 5     | 65.4  |\n",
       "| AAA   | 2013J | 35-55 |  60   | Pass  | 2158  | 121   | 0     | 100   | 0     | 5     | 76.3  |\n",
       "| AAA   | 2013J | 0-35  | 120   | Pass  | 1428  | 104   | 0     | 100   | 0     | 5     | 72.5  |\n",
       "| AAA   | 2013J | 0-35  |  90   | Pass  | 1894  | 121   | 0     | 100   | 0     | 5     | 71.2  |\n",
       "| AAA   | 2013J | 55<=  |  60   | Pass  | 3158  | 142   | 0     | 100   | 0     | 5     | 79.0  |\n",
       "\n"
      ],
      "text/plain": [
       "  code_module.x.x code_presentation.x.x age_band studied_credits final_result\n",
       "1 AAA             2013J                 55<=     240             Pass        \n",
       "2 AAA             2013J                 35-55     60             Pass        \n",
       "3 AAA             2013J                 35-55     60             Pass        \n",
       "4 AAA             2013J                 0-35     120             Pass        \n",
       "5 AAA             2013J                 0-35      90             Pass        \n",
       "6 AAA             2013J                 55<=      60             Pass        \n",
       "  sum_click NA_homepage NA_quiz weight CMA_count TMA_count TMA_score\n",
       "1  934       40         0       100    0         5         82.4     \n",
       "2 1435       80         0       100    0         5         65.4     \n",
       "3 2158      121         0       100    0         5         76.3     \n",
       "4 1428      104         0       100    0         5         72.5     \n",
       "5 1894      121         0       100    0         5         71.2     \n",
       "6 3158      142         0       100    0         5         79.0     "
      ]
     },
     "metadata": {},
     "output_type": "display_data"
    },
    {
     "data": {
      "text/html": [
       "<ol class=list-inline>\n",
       "\t<li>Pass</li>\n",
       "\t<li>Withdrawn</li>\n",
       "\t<li>Fail</li>\n",
       "\t<li>Distinction</li>\n",
       "</ol>\n",
       "\n",
       "<details>\n",
       "\t<summary style=display:list-item;cursor:pointer>\n",
       "\t\t<strong>Levels</strong>:\n",
       "\t</summary>\n",
       "\t<ol class=list-inline>\n",
       "\t\t<li>'Distinction'</li>\n",
       "\t\t<li>'Fail'</li>\n",
       "\t\t<li>'Pass'</li>\n",
       "\t\t<li>'Withdrawn'</li>\n",
       "\t</ol>\n",
       "</details>"
      ],
      "text/latex": [
       "\\begin{enumerate*}\n",
       "\\item Pass\n",
       "\\item Withdrawn\n",
       "\\item Fail\n",
       "\\item Distinction\n",
       "\\end{enumerate*}\n",
       "\n",
       "\\emph{Levels}: \\begin{enumerate*}\n",
       "\\item 'Distinction'\n",
       "\\item 'Fail'\n",
       "\\item 'Pass'\n",
       "\\item 'Withdrawn'\n",
       "\\end{enumerate*}\n"
      ],
      "text/markdown": [
       "1. Pass\n",
       "2. Withdrawn\n",
       "3. Fail\n",
       "4. Distinction\n",
       "\n",
       "\n",
       "\n",
       "**Levels**: 1. 'Distinction'\n",
       "2. 'Fail'\n",
       "3. 'Pass'\n",
       "4. 'Withdrawn'\n",
       "\n",
       "\n"
      ],
      "text/plain": [
       "[1] Pass        Withdrawn   Fail        Distinction\n",
       "Levels: Distinction Fail Pass Withdrawn"
      ]
     },
     "metadata": {},
     "output_type": "display_data"
    }
   ],
   "source": [
    "head(new_selected)\n",
    "unique(new_selected$final_result)"
   ]
  },
  {
   "cell_type": "code",
   "execution_count": 6,
   "metadata": {},
   "outputs": [],
   "source": [
    " new_selected[new_selected$final_result==\"Distinction\",\"final_result\"] = \"Pass\""
   ]
  },
  {
   "cell_type": "code",
   "execution_count": 7,
   "metadata": {},
   "outputs": [],
   "source": [
    " new_selected[new_selected$final_result==\"Withdrawn\",\"final_result\"] = \"Fail\""
   ]
  },
  {
   "cell_type": "code",
   "execution_count": 8,
   "metadata": {},
   "outputs": [],
   "source": [
    "write.csv(new_selected,\"C:\\\\Users\\\\shrey\\\\OneDrive\\\\Desktop\\\\with_withdraw.csv\", row.names = FALSE)"
   ]
  },
  {
   "cell_type": "code",
   "execution_count": 9,
   "metadata": {},
   "outputs": [],
   "source": [
    "DF = read.csv(\"C:\\\\Users\\\\shrey\\\\OneDrive\\\\Desktop\\\\with_withdraw.csv\", na.strings = c(\"\",\"NA\"))"
   ]
  },
  {
   "cell_type": "code",
   "execution_count": 10,
   "metadata": {},
   "outputs": [
    {
     "name": "stderr",
     "output_type": "stream",
     "text": [
      "dummies-1.5.6 provided by Decision Patterns\n",
      "\n",
      "Warning message in model.matrix.default(~x - 1, model.frame(~x - 1), contrasts = FALSE):\n",
      "\"non-list contrasts argument ignored\""
     ]
    }
   ],
   "source": [
    "library(dummies)\n",
    "#making dummies for result:\n",
    "dum = dummy(DF$final_result,sep=\"_\")"
   ]
  },
  {
   "cell_type": "code",
   "execution_count": 11,
   "metadata": {},
   "outputs": [
    {
     "data": {
      "text/html": [
       "<table>\n",
       "<thead><tr><th scope=col>NA_Fail</th><th scope=col>NA_Pass</th></tr></thead>\n",
       "<tbody>\n",
       "\t<tr><td>0</td><td>1</td></tr>\n",
       "\t<tr><td>0</td><td>1</td></tr>\n",
       "</tbody>\n",
       "</table>\n"
      ],
      "text/latex": [
       "\\begin{tabular}{ll}\n",
       " NA\\_Fail & NA\\_Pass\\\\\n",
       "\\hline\n",
       "\t 0 & 1\\\\\n",
       "\t 0 & 1\\\\\n",
       "\\end{tabular}\n"
      ],
      "text/markdown": [
       "\n",
       "| NA_Fail | NA_Pass |\n",
       "|---|---|\n",
       "| 0 | 1 |\n",
       "| 0 | 1 |\n",
       "\n"
      ],
      "text/plain": [
       "     NA_Fail NA_Pass\n",
       "[1,] 0       1      \n",
       "[2,] 0       1      "
      ]
     },
     "metadata": {},
     "output_type": "display_data"
    }
   ],
   "source": [
    "head(dum,2)"
   ]
  },
  {
   "cell_type": "code",
   "execution_count": 12,
   "metadata": {},
   "outputs": [],
   "source": [
    "DF = cbind(DF,dum)"
   ]
  },
  {
   "cell_type": "code",
   "execution_count": 13,
   "metadata": {},
   "outputs": [],
   "source": [
    "DF = DF[,-which(names(DF) %in% c(\"NA_Fail\",\"final_result\"))]"
   ]
  },
  {
   "cell_type": "markdown",
   "metadata": {},
   "source": [
    "### Splitting:"
   ]
  },
  {
   "cell_type": "code",
   "execution_count": 14,
   "metadata": {},
   "outputs": [
    {
     "data": {
      "text/plain": [
       "\n",
       "    0     1 \n",
       "18051 14683 "
      ]
     },
     "metadata": {},
     "output_type": "display_data"
    }
   ],
   "source": [
    "table(DF$NA_Pass)\n",
    "DF$NA_Pass = as.factor(DF$NA_Pass)"
   ]
  },
  {
   "cell_type": "code",
   "execution_count": 15,
   "metadata": {},
   "outputs": [],
   "source": [
    "\n",
    "## 90% of the sample size\n",
    "smp_size <- floor(0.90 * nrow(DF))\n",
    "\n",
    "## set the seed to make your partition reproducible\n",
    "set.seed(123)\n",
    "train_ind <- sample(seq_len(nrow(DF)), size = smp_size)\n",
    "\n",
    "Train <- DF[train_ind, ]\n",
    "Test <- DF[-train_ind, ]\n",
    "\n",
    "row.names(Train) = NULL\n",
    "row.names(Test)= NULL"
   ]
  },
  {
   "cell_type": "markdown",
   "metadata": {},
   "source": [
    "## Running GBM on DATA with withdrawn as fail"
   ]
  },
  {
   "cell_type": "code",
   "execution_count": 209,
   "metadata": {},
   "outputs": [
    {
     "name": "stdout",
     "output_type": "stream",
     "text": [
      "Iter   TrainDeviance   ValidDeviance   StepSize   Improve\n",
      "     1        1.2879             nan     0.1000    0.0439\n",
      "     2        1.2160             nan     0.1000    0.0356\n",
      "     3        1.1569             nan     0.1000    0.0291\n",
      "     4        1.1091             nan     0.1000    0.0241\n",
      "     5        1.0690             nan     0.1000    0.0198\n",
      "     6        1.0322             nan     0.1000    0.0183\n",
      "     7        1.0024             nan     0.1000    0.0150\n",
      "     8        0.9754             nan     0.1000    0.0137\n",
      "     9        0.9527             nan     0.1000    0.0109\n",
      "    10        0.9308             nan     0.1000    0.0109\n",
      "    20        0.8062             nan     0.1000    0.0037\n",
      "    40        0.7276             nan     0.1000    0.0010\n",
      "    60        0.6949             nan     0.1000    0.0008\n",
      "    80        0.6769             nan     0.1000    0.0002\n",
      "   100        0.6656             nan     0.1000    0.0001\n",
      "   120        0.6579             nan     0.1000    0.0001\n",
      "   140        0.6524             nan     0.1000    0.0001\n",
      "   150        0.6500             nan     0.1000    0.0001\n",
      "\n",
      "Iter   TrainDeviance   ValidDeviance   StepSize   Improve\n",
      "     1        1.2702             nan     0.1000    0.0527\n",
      "     2        1.1836             nan     0.1000    0.0429\n",
      "     3        1.1135             nan     0.1000    0.0354\n",
      "     4        1.0545             nan     0.1000    0.0294\n",
      "     5        1.0052             nan     0.1000    0.0248\n",
      "     6        0.9616             nan     0.1000    0.0219\n",
      "     7        0.9243             nan     0.1000    0.0185\n",
      "     8        0.8935             nan     0.1000    0.0154\n",
      "     9        0.8661             nan     0.1000    0.0137\n",
      "    10        0.8422             nan     0.1000    0.0119\n",
      "    20        0.7239             nan     0.1000    0.0031\n",
      "    40        0.6631             nan     0.1000    0.0006\n",
      "    60        0.6418             nan     0.1000    0.0004\n",
      "    80        0.6301             nan     0.1000    0.0003\n",
      "   100        0.6224             nan     0.1000    0.0000\n",
      "   120        0.6171             nan     0.1000    0.0000\n",
      "   140        0.6132             nan     0.1000    0.0001\n",
      "   150        0.6110             nan     0.1000    0.0000\n",
      "\n",
      "Iter   TrainDeviance   ValidDeviance   StepSize   Improve\n",
      "     1        1.2663             nan     0.1000    0.0541\n",
      "     2        1.1769             nan     0.1000    0.0446\n",
      "     3        1.1039             nan     0.1000    0.0367\n",
      "     4        1.0429             nan     0.1000    0.0305\n",
      "     5        0.9917             nan     0.1000    0.0254\n",
      "     6        0.9478             nan     0.1000    0.0219\n",
      "     7        0.9113             nan     0.1000    0.0182\n",
      "     8        0.8782             nan     0.1000    0.0163\n",
      "     9        0.8506             nan     0.1000    0.0137\n",
      "    10        0.8254             nan     0.1000    0.0126\n",
      "    20        0.7003             nan     0.1000    0.0034\n",
      "    40        0.6392             nan     0.1000    0.0007\n",
      "    60        0.6212             nan     0.1000    0.0002\n",
      "    80        0.6118             nan     0.1000    0.0001\n",
      "   100        0.6060             nan     0.1000    0.0001\n",
      "   120        0.6010             nan     0.1000   -0.0000\n",
      "   140        0.5968             nan     0.1000    0.0000\n",
      "   150        0.5953             nan     0.1000    0.0000\n",
      "\n",
      "Iter   TrainDeviance   ValidDeviance   StepSize   Improve\n",
      "     1        1.2888             nan     0.1000    0.0437\n",
      "     2        1.2176             nan     0.1000    0.0354\n",
      "     3        1.1597             nan     0.1000    0.0290\n",
      "     4        1.1117             nan     0.1000    0.0240\n",
      "     5        1.0697             nan     0.1000    0.0207\n",
      "     6        1.0346             nan     0.1000    0.0173\n",
      "     7        1.0037             nan     0.1000    0.0153\n",
      "     8        0.9773             nan     0.1000    0.0132\n",
      "     9        0.9540             nan     0.1000    0.0114\n",
      "    10        0.9334             nan     0.1000    0.0103\n",
      "    20        0.8101             nan     0.1000    0.0038\n",
      "    40        0.7324             nan     0.1000    0.0009\n",
      "    60        0.7009             nan     0.1000    0.0005\n",
      "    80        0.6827             nan     0.1000    0.0003\n",
      "   100        0.6716             nan     0.1000    0.0002\n",
      "   120        0.6638             nan     0.1000    0.0001\n",
      "   140        0.6584             nan     0.1000    0.0001\n",
      "   150        0.6560             nan     0.1000    0.0001\n",
      "\n",
      "Iter   TrainDeviance   ValidDeviance   StepSize   Improve\n",
      "     1        1.2698             nan     0.1000    0.0525\n",
      "     2        1.1847             nan     0.1000    0.0426\n",
      "     3        1.1138             nan     0.1000    0.0355\n",
      "     4        1.0549             nan     0.1000    0.0295\n",
      "     5        1.0048             nan     0.1000    0.0244\n",
      "     6        0.9633             nan     0.1000    0.0207\n",
      "     7        0.9258             nan     0.1000    0.0188\n",
      "     8        0.8943             nan     0.1000    0.0157\n",
      "     9        0.8661             nan     0.1000    0.0137\n",
      "    10        0.8425             nan     0.1000    0.0114\n",
      "    20        0.7263             nan     0.1000    0.0030\n",
      "    40        0.6676             nan     0.1000    0.0007\n",
      "    60        0.6452             nan     0.1000    0.0003\n",
      "    80        0.6330             nan     0.1000    0.0001\n",
      "   100        0.6259             nan     0.1000    0.0002\n",
      "   120        0.6206             nan     0.1000    0.0001\n",
      "   140        0.6164             nan     0.1000    0.0001\n",
      "   150        0.6147             nan     0.1000    0.0001\n",
      "\n",
      "Iter   TrainDeviance   ValidDeviance   StepSize   Improve\n",
      "     1        1.2670             nan     0.1000    0.0542\n",
      "     2        1.1784             nan     0.1000    0.0444\n",
      "     3        1.1053             nan     0.1000    0.0367\n",
      "     4        1.0439             nan     0.1000    0.0306\n",
      "     5        0.9920             nan     0.1000    0.0258\n",
      "     6        0.9487             nan     0.1000    0.0217\n",
      "     7        0.9126             nan     0.1000    0.0183\n",
      "     8        0.8807             nan     0.1000    0.0157\n",
      "     9        0.8520             nan     0.1000    0.0142\n",
      "    10        0.8272             nan     0.1000    0.0123\n",
      "    20        0.7037             nan     0.1000    0.0032\n",
      "    40        0.6446             nan     0.1000    0.0006\n",
      "    60        0.6271             nan     0.1000    0.0003\n",
      "    80        0.6177             nan     0.1000    0.0001\n",
      "   100        0.6119             nan     0.1000    0.0001\n",
      "   120        0.6060             nan     0.1000   -0.0000\n",
      "   140        0.6017             nan     0.1000    0.0001\n",
      "   150        0.6000             nan     0.1000    0.0000\n",
      "\n",
      "Iter   TrainDeviance   ValidDeviance   StepSize   Improve\n",
      "     1        1.2882             nan     0.1000    0.0433\n",
      "     2        1.2175             nan     0.1000    0.0351\n",
      "     3        1.1603             nan     0.1000    0.0288\n",
      "     4        1.1123             nan     0.1000    0.0237\n",
      "     5        1.0704             nan     0.1000    0.0207\n",
      "     6        1.0354             nan     0.1000    0.0172\n",
      "     7        1.0048             nan     0.1000    0.0151\n",
      "     8        0.9786             nan     0.1000    0.0130\n",
      "     9        0.9563             nan     0.1000    0.0114\n",
      "    10        0.9357             nan     0.1000    0.0103\n",
      "    20        0.8123             nan     0.1000    0.0037\n",
      "    40        0.7335             nan     0.1000    0.0011\n",
      "    60        0.7000             nan     0.1000    0.0006\n",
      "    80        0.6826             nan     0.1000    0.0003\n",
      "   100        0.6712             nan     0.1000    0.0003\n",
      "   120        0.6632             nan     0.1000    0.0001\n",
      "   140        0.6581             nan     0.1000    0.0001\n",
      "   150        0.6555             nan     0.1000    0.0001\n",
      "\n",
      "Iter   TrainDeviance   ValidDeviance   StepSize   Improve\n",
      "     1        1.2705             nan     0.1000    0.0526\n",
      "     2        1.1839             nan     0.1000    0.0428\n",
      "     3        1.1137             nan     0.1000    0.0352\n",
      "     4        1.0555             nan     0.1000    0.0293\n",
      "     5        1.0046             nan     0.1000    0.0252\n",
      "     6        0.9630             nan     0.1000    0.0209\n",
      "     7        0.9261             nan     0.1000    0.0184\n",
      "     8        0.8957             nan     0.1000    0.0153\n",
      "     9        0.8688             nan     0.1000    0.0134\n",
      "    10        0.8455             nan     0.1000    0.0115\n",
      "    20        0.7268             nan     0.1000    0.0032\n",
      "    40        0.6665             nan     0.1000    0.0006\n",
      "    60        0.6454             nan     0.1000    0.0004\n",
      "    80        0.6340             nan     0.1000    0.0001\n",
      "   100        0.6263             nan     0.1000    0.0003\n",
      "   120        0.6211             nan     0.1000    0.0000\n",
      "   140        0.6171             nan     0.1000    0.0001\n",
      "   150        0.6155             nan     0.1000    0.0001\n",
      "\n",
      "Iter   TrainDeviance   ValidDeviance   StepSize   Improve\n",
      "     1        1.2677             nan     0.1000    0.0535\n",
      "     2        1.1796             nan     0.1000    0.0444\n",
      "     3        1.1065             nan     0.1000    0.0369\n",
      "     4        1.0446             nan     0.1000    0.0307\n",
      "     5        0.9932             nan     0.1000    0.0259\n",
      "     6        0.9499             nan     0.1000    0.0216\n",
      "     7        0.9129             nan     0.1000    0.0185\n",
      "     8        0.8798             nan     0.1000    0.0166\n",
      "     9        0.8515             nan     0.1000    0.0141\n",
      "    10        0.8279             nan     0.1000    0.0116\n",
      "    20        0.7020             nan     0.1000    0.0030\n",
      "    40        0.6443             nan     0.1000    0.0003\n",
      "    60        0.6273             nan     0.1000    0.0002\n",
      "    80        0.6179             nan     0.1000    0.0001\n",
      "   100        0.6104             nan     0.1000    0.0002\n",
      "   120        0.6045             nan     0.1000    0.0000\n",
      "   140        0.6004             nan     0.1000   -0.0000\n",
      "   150        0.5983             nan     0.1000   -0.0000\n",
      "\n",
      "Iter   TrainDeviance   ValidDeviance   StepSize   Improve\n",
      "     1        1.2886             nan     0.1000    0.0437\n",
      "     2        1.2169             nan     0.1000    0.0355\n",
      "     3        1.1584             nan     0.1000    0.0291\n",
      "     4        1.1105             nan     0.1000    0.0240\n",
      "     5        1.0693             nan     0.1000    0.0207\n",
      "     6        1.0345             nan     0.1000    0.0174\n",
      "     7        1.0039             nan     0.1000    0.0150\n",
      "     8        0.9769             nan     0.1000    0.0135\n",
      "     9        0.9541             nan     0.1000    0.0110\n",
      "    10        0.9328             nan     0.1000    0.0108\n",
      "    20        0.8091             nan     0.1000    0.0036\n",
      "    40        0.7319             nan     0.1000    0.0009\n",
      "    60        0.7005             nan     0.1000    0.0003\n",
      "    80        0.6820             nan     0.1000    0.0003\n",
      "   100        0.6707             nan     0.1000    0.0002\n",
      "   120        0.6627             nan     0.1000    0.0001\n",
      "   140        0.6570             nan     0.1000    0.0001\n",
      "   150        0.6548             nan     0.1000    0.0000\n",
      "\n",
      "Iter   TrainDeviance   ValidDeviance   StepSize   Improve\n",
      "     1        1.2713             nan     0.1000    0.0526\n",
      "     2        1.1859             nan     0.1000    0.0429\n",
      "     3        1.1151             nan     0.1000    0.0354\n",
      "     4        1.0560             nan     0.1000    0.0295\n",
      "     5        1.0060             nan     0.1000    0.0246\n",
      "     6        0.9627             nan     0.1000    0.0215\n",
      "     7        0.9259             nan     0.1000    0.0185\n",
      "     8        0.8941             nan     0.1000    0.0158\n",
      "     9        0.8677             nan     0.1000    0.0133\n",
      "    10        0.8446             nan     0.1000    0.0115\n",
      "    20        0.7262             nan     0.1000    0.0031\n",
      "    40        0.6682             nan     0.1000    0.0006\n",
      "    60        0.6453             nan     0.1000    0.0004\n",
      "    80        0.6339             nan     0.1000    0.0000\n",
      "   100        0.6268             nan     0.1000    0.0001\n",
      "   120        0.6219             nan     0.1000    0.0001\n",
      "   140        0.6175             nan     0.1000    0.0000\n",
      "   150        0.6156             nan     0.1000   -0.0000\n",
      "\n",
      "Iter   TrainDeviance   ValidDeviance   StepSize   Improve\n",
      "     1        1.2672             nan     0.1000    0.0541\n",
      "     2        1.1787             nan     0.1000    0.0441\n",
      "     3        1.1059             nan     0.1000    0.0365\n",
      "     4        1.0446             nan     0.1000    0.0307\n",
      "     5        0.9925             nan     0.1000    0.0259\n",
      "     6        0.9491             nan     0.1000    0.0217\n",
      "     7        0.9118             nan     0.1000    0.0187\n",
      "     8        0.8785             nan     0.1000    0.0164\n",
      "     9        0.8509             nan     0.1000    0.0138\n",
      "    10        0.8267             nan     0.1000    0.0120\n",
      "    20        0.7014             nan     0.1000    0.0029\n",
      "    40        0.6435             nan     0.1000    0.0007\n",
      "    60        0.6268             nan     0.1000    0.0002\n",
      "    80        0.6170             nan     0.1000    0.0001\n",
      "   100        0.6099             nan     0.1000    0.0001\n",
      "   120        0.6034             nan     0.1000    0.0001\n",
      "   140        0.5995             nan     0.1000    0.0000\n",
      "   150        0.5978             nan     0.1000    0.0000\n",
      "\n",
      "Iter   TrainDeviance   ValidDeviance   StepSize   Improve\n",
      "     1        1.2866             nan     0.1000    0.0436\n",
      "     2        1.2153             nan     0.1000    0.0353\n",
      "     3        1.1576             nan     0.1000    0.0290\n",
      "     4        1.1098             nan     0.1000    0.0239\n",
      "     5        1.0686             nan     0.1000    0.0206\n",
      "     6        1.0338             nan     0.1000    0.0173\n",
      "     7        1.0036             nan     0.1000    0.0150\n",
      "     8        0.9785             nan     0.1000    0.0126\n",
      "     9        0.9546             nan     0.1000    0.0117\n",
      "    10        0.9322             nan     0.1000    0.0111\n",
      "    20        0.8087             nan     0.1000    0.0037\n",
      "    40        0.7311             nan     0.1000    0.0009\n",
      "    60        0.6994             nan     0.1000    0.0005\n",
      "    80        0.6818             nan     0.1000    0.0004\n",
      "   100        0.6698             nan     0.1000    0.0002\n",
      "   120        0.6622             nan     0.1000    0.0001\n",
      "   140        0.6565             nan     0.1000    0.0001\n",
      "   150        0.6541             nan     0.1000    0.0001\n",
      "\n",
      "Iter   TrainDeviance   ValidDeviance   StepSize   Improve\n",
      "     1        1.2704             nan     0.1000    0.0525\n",
      "     2        1.1851             nan     0.1000    0.0429\n",
      "     3        1.1140             nan     0.1000    0.0353\n",
      "     4        1.0553             nan     0.1000    0.0293\n",
      "     5        1.0047             nan     0.1000    0.0255\n",
      "     6        0.9622             nan     0.1000    0.0211\n",
      "     7        0.9251             nan     0.1000    0.0184\n",
      "     8        0.8937             nan     0.1000    0.0156\n",
      "     9        0.8675             nan     0.1000    0.0132\n",
      "    10        0.8438             nan     0.1000    0.0116\n",
      "    20        0.7270             nan     0.1000    0.0030\n",
      "    40        0.6682             nan     0.1000    0.0008\n",
      "    60        0.6455             nan     0.1000    0.0002\n",
      "    80        0.6339             nan     0.1000    0.0003\n",
      "   100        0.6261             nan     0.1000    0.0002\n",
      "   120        0.6219             nan     0.1000    0.0001\n",
      "   140        0.6183             nan     0.1000   -0.0000\n",
      "   150        0.6167             nan     0.1000    0.0001\n",
      "\n",
      "Iter   TrainDeviance   ValidDeviance   StepSize   Improve\n",
      "     1        1.2665             nan     0.1000    0.0541\n",
      "     2        1.1782             nan     0.1000    0.0438\n",
      "     3        1.1045             nan     0.1000    0.0370\n",
      "     4        1.0439             nan     0.1000    0.0301\n",
      "     5        0.9928             nan     0.1000    0.0258\n",
      "     6        0.9488             nan     0.1000    0.0218\n",
      "     7        0.9104             nan     0.1000    0.0191\n",
      "     8        0.8784             nan     0.1000    0.0159\n",
      "     9        0.8508             nan     0.1000    0.0139\n",
      "    10        0.8267             nan     0.1000    0.0120\n",
      "    20        0.7033             nan     0.1000    0.0030\n",
      "    40        0.6440             nan     0.1000    0.0007\n",
      "    60        0.6265             nan     0.1000    0.0001\n",
      "    80        0.6169             nan     0.1000    0.0001\n",
      "   100        0.6103             nan     0.1000    0.0000\n",
      "   120        0.6057             nan     0.1000    0.0000\n",
      "   140        0.6021             nan     0.1000    0.0000\n",
      "   150        0.6004             nan     0.1000   -0.0000\n",
      "\n",
      "Iter   TrainDeviance   ValidDeviance   StepSize   Improve\n",
      "     1        1.2892             nan     0.1000    0.0434\n",
      "     2        1.2192             nan     0.1000    0.0352\n",
      "     3        1.1620             nan     0.1000    0.0290\n",
      "     4        1.1145             nan     0.1000    0.0239\n",
      "     5        1.0725             nan     0.1000    0.0209\n",
      "     6        1.0374             nan     0.1000    0.0174\n",
      "     7        1.0068             nan     0.1000    0.0154\n",
      "     8        0.9812             nan     0.1000    0.0124\n",
      "     9        0.9568             nan     0.1000    0.0122\n",
      "    10        0.9359             nan     0.1000    0.0104\n",
      "    20        0.8119             nan     0.1000    0.0036\n",
      "    40        0.7339             nan     0.1000    0.0011\n",
      "    60        0.7024             nan     0.1000    0.0005\n",
      "    80        0.6852             nan     0.1000    0.0004\n",
      "   100        0.6739             nan     0.1000    0.0001\n",
      "   120        0.6660             nan     0.1000    0.0001\n",
      "   140        0.6601             nan     0.1000    0.0001\n",
      "   150        0.6580             nan     0.1000    0.0001\n",
      "\n",
      "Iter   TrainDeviance   ValidDeviance   StepSize   Improve\n",
      "     1        1.2715             nan     0.1000    0.0526\n",
      "     2        1.1859             nan     0.1000    0.0426\n",
      "     3        1.1147             nan     0.1000    0.0354\n",
      "     4        1.0563             nan     0.1000    0.0295\n",
      "     5        1.0074             nan     0.1000    0.0245\n",
      "     6        0.9638             nan     0.1000    0.0218\n",
      "     7        0.9272             nan     0.1000    0.0183\n",
      "     8        0.8961             nan     0.1000    0.0156\n",
      "     9        0.8697             nan     0.1000    0.0132\n",
      "    10        0.8466             nan     0.1000    0.0113\n",
      "    20        0.7276             nan     0.1000    0.0031\n",
      "    40        0.6711             nan     0.1000    0.0003\n",
      "    60        0.6486             nan     0.1000    0.0004\n",
      "    80        0.6385             nan     0.1000    0.0002\n",
      "   100        0.6309             nan     0.1000    0.0002\n",
      "   120        0.6257             nan     0.1000    0.0001\n",
      "   140        0.6209             nan     0.1000    0.0001\n",
      "   150        0.6194             nan     0.1000    0.0000\n",
      "\n",
      "Iter   TrainDeviance   ValidDeviance   StepSize   Improve\n",
      "     1        1.2673             nan     0.1000    0.0540\n",
      "     2        1.1792             nan     0.1000    0.0441\n",
      "     3        1.1058             nan     0.1000    0.0367\n",
      "     4        1.0452             nan     0.1000    0.0305\n",
      "     5        0.9940             nan     0.1000    0.0257\n",
      "     6        0.9503             nan     0.1000    0.0215\n",
      "     7        0.9126             nan     0.1000    0.0190\n",
      "     8        0.8810             nan     0.1000    0.0159\n",
      "     9        0.8533             nan     0.1000    0.0136\n",
      "    10        0.8298             nan     0.1000    0.0118\n",
      "    20        0.7037             nan     0.1000    0.0033\n",
      "    40        0.6465             nan     0.1000    0.0006\n",
      "    60        0.6283             nan     0.1000    0.0003\n",
      "    80        0.6189             nan     0.1000    0.0001\n",
      "   100        0.6131             nan     0.1000    0.0001\n",
      "   120        0.6081             nan     0.1000    0.0000\n",
      "   140        0.6037             nan     0.1000   -0.0000\n",
      "   150        0.6015             nan     0.1000    0.0000\n",
      "\n",
      "Iter   TrainDeviance   ValidDeviance   StepSize   Improve\n",
      "     1        1.2882             nan     0.1000    0.0433\n",
      "     2        1.2180             nan     0.1000    0.0352\n",
      "     3        1.1596             nan     0.1000    0.0288\n",
      "     4        1.1121             nan     0.1000    0.0237\n",
      "     5        1.0707             nan     0.1000    0.0207\n",
      "     6        1.0365             nan     0.1000    0.0172\n",
      "     7        1.0060             nan     0.1000    0.0151\n",
      "     8        0.9805             nan     0.1000    0.0125\n",
      "     9        0.9577             nan     0.1000    0.0116\n",
      "    10        0.9364             nan     0.1000    0.0106\n",
      "    20        0.8134             nan     0.1000    0.0041\n",
      "    40        0.7351             nan     0.1000    0.0008\n",
      "    60        0.7024             nan     0.1000    0.0004\n",
      "    80        0.6842             nan     0.1000    0.0003\n",
      "   100        0.6733             nan     0.1000    0.0002\n",
      "   120        0.6656             nan     0.1000    0.0002\n",
      "   140        0.6598             nan     0.1000    0.0002\n",
      "   150        0.6572             nan     0.1000    0.0000\n",
      "\n",
      "Iter   TrainDeviance   ValidDeviance   StepSize   Improve\n",
      "     1        1.2712             nan     0.1000    0.0523\n",
      "     2        1.1861             nan     0.1000    0.0427\n",
      "     3        1.1157             nan     0.1000    0.0352\n",
      "     4        1.0572             nan     0.1000    0.0293\n",
      "     5        1.0074             nan     0.1000    0.0245\n",
      "     6        0.9642             nan     0.1000    0.0215\n",
      "     7        0.9273             nan     0.1000    0.0181\n",
      "     8        0.8970             nan     0.1000    0.0149\n",
      "     9        0.8694             nan     0.1000    0.0134\n",
      "    10        0.8458             nan     0.1000    0.0116\n",
      "    20        0.7293             nan     0.1000    0.0031\n",
      "    40        0.6693             nan     0.1000    0.0011\n",
      "    60        0.6474             nan     0.1000    0.0003\n",
      "    80        0.6361             nan     0.1000    0.0002\n",
      "   100        0.6292             nan     0.1000    0.0001\n",
      "   120        0.6228             nan     0.1000   -0.0000\n",
      "   140        0.6192             nan     0.1000    0.0000\n",
      "   150        0.6178             nan     0.1000    0.0001\n",
      "\n",
      "Iter   TrainDeviance   ValidDeviance   StepSize   Improve\n",
      "     1        1.2668             nan     0.1000    0.0539\n",
      "     2        1.1793             nan     0.1000    0.0439\n",
      "     3        1.1062             nan     0.1000    0.0366\n",
      "     4        1.0446             nan     0.1000    0.0302\n",
      "     5        0.9938             nan     0.1000    0.0252\n",
      "     6        0.9504             nan     0.1000    0.0218\n",
      "     7        0.9136             nan     0.1000    0.0183\n",
      "     8        0.8806             nan     0.1000    0.0161\n",
      "     9        0.8524             nan     0.1000    0.0140\n",
      "    10        0.8289             nan     0.1000    0.0116\n",
      "    20        0.7046             nan     0.1000    0.0031\n",
      "    40        0.6469             nan     0.1000    0.0005\n",
      "    60        0.6289             nan     0.1000    0.0002\n",
      "    80        0.6194             nan     0.1000    0.0000\n",
      "   100        0.6132             nan     0.1000    0.0000\n",
      "   120        0.6079             nan     0.1000   -0.0000\n",
      "   140        0.6029             nan     0.1000   -0.0000\n",
      "   150        0.6012             nan     0.1000   -0.0000\n",
      "\n",
      "Iter   TrainDeviance   ValidDeviance   StepSize   Improve\n",
      "     1        1.2884             nan     0.1000    0.0436\n",
      "     2        1.2174             nan     0.1000    0.0355\n",
      "     3        1.1598             nan     0.1000    0.0291\n",
      "     4        1.1120             nan     0.1000    0.0240\n",
      "     5        1.0723             nan     0.1000    0.0198\n",
      "     6        1.0361             nan     0.1000    0.0182\n",
      "     7        1.0053             nan     0.1000    0.0151\n",
      "     8        0.9785             nan     0.1000    0.0133\n",
      "     9        0.9562             nan     0.1000    0.0110\n",
      "    10        0.9351             nan     0.1000    0.0109\n",
      "    20        0.8117             nan     0.1000    0.0036\n",
      "    40        0.7348             nan     0.1000    0.0010\n",
      "    60        0.7031             nan     0.1000    0.0005\n",
      "    80        0.6844             nan     0.1000    0.0002\n",
      "   100        0.6727             nan     0.1000    0.0002\n",
      "   120        0.6652             nan     0.1000    0.0002\n",
      "   140        0.6594             nan     0.1000    0.0001\n",
      "   150        0.6573             nan     0.1000    0.0000\n",
      "\n",
      "Iter   TrainDeviance   ValidDeviance   StepSize   Improve\n",
      "     1        1.2712             nan     0.1000    0.0524\n",
      "     2        1.1852             nan     0.1000    0.0427\n",
      "     3        1.1147             nan     0.1000    0.0352\n",
      "     4        1.0566             nan     0.1000    0.0294\n",
      "     5        1.0067             nan     0.1000    0.0246\n",
      "     6        0.9637             nan     0.1000    0.0214\n",
      "     7        0.9277             nan     0.1000    0.0178\n",
      "     8        0.8956             nan     0.1000    0.0159\n",
      "     9        0.8682             nan     0.1000    0.0136\n",
      "    10        0.8447             nan     0.1000    0.0116\n",
      "    20        0.7281             nan     0.1000    0.0031\n",
      "    40        0.6698             nan     0.1000    0.0006\n",
      "    60        0.6462             nan     0.1000    0.0004\n",
      "    80        0.6352             nan     0.1000    0.0002\n",
      "   100        0.6274             nan     0.1000    0.0000\n",
      "   120        0.6221             nan     0.1000    0.0002\n",
      "   140        0.6175             nan     0.1000    0.0000\n",
      "   150        0.6157             nan     0.1000    0.0000\n",
      "\n",
      "Iter   TrainDeviance   ValidDeviance   StepSize   Improve\n",
      "     1        1.2678             nan     0.1000    0.0539\n",
      "     2        1.1789             nan     0.1000    0.0441\n",
      "     3        1.1064             nan     0.1000    0.0365\n",
      "     4        1.0451             nan     0.1000    0.0306\n",
      "     5        0.9946             nan     0.1000    0.0256\n",
      "     6        0.9506             nan     0.1000    0.0219\n",
      "     7        0.9130             nan     0.1000    0.0184\n",
      "     8        0.8813             nan     0.1000    0.0156\n",
      "     9        0.8523             nan     0.1000    0.0143\n",
      "    10        0.8277             nan     0.1000    0.0121\n",
      "    20        0.7061             nan     0.1000    0.0029\n",
      "    40        0.6449             nan     0.1000    0.0004\n",
      "    60        0.6271             nan     0.1000    0.0001\n",
      "    80        0.6182             nan     0.1000    0.0003\n",
      "   100        0.6110             nan     0.1000    0.0000\n",
      "   120        0.6056             nan     0.1000   -0.0000\n",
      "   140        0.6013             nan     0.1000    0.0001\n",
      "   150        0.5995             nan     0.1000   -0.0000\n",
      "\n",
      "Iter   TrainDeviance   ValidDeviance   StepSize   Improve\n",
      "     1        1.2883             nan     0.1000    0.0434\n",
      "     2        1.2168             nan     0.1000    0.0353\n",
      "     3        1.1594             nan     0.1000    0.0288\n",
      "     4        1.1117             nan     0.1000    0.0237\n",
      "     5        1.0703             nan     0.1000    0.0204\n",
      "     6        1.0364             nan     0.1000    0.0172\n",
      "     7        1.0061             nan     0.1000    0.0151\n",
      "     8        0.9800             nan     0.1000    0.0132\n",
      "     9        0.9574             nan     0.1000    0.0113\n",
      "    10        0.9369             nan     0.1000    0.0103\n",
      "    20        0.8141             nan     0.1000    0.0036\n",
      "    40        0.7380             nan     0.1000    0.0008\n",
      "    60        0.7066             nan     0.1000    0.0003\n",
      "    80        0.6878             nan     0.1000    0.0004\n",
      "   100        0.6761             nan     0.1000    0.0003\n",
      "   120        0.6684             nan     0.1000    0.0001\n",
      "   140        0.6627             nan     0.1000    0.0001\n",
      "   150        0.6604             nan     0.1000    0.0001\n",
      "\n",
      "Iter   TrainDeviance   ValidDeviance   StepSize   Improve\n",
      "     1        1.2710             nan     0.1000    0.0521\n",
      "     2        1.1852             nan     0.1000    0.0425\n",
      "     3        1.1145             nan     0.1000    0.0350\n",
      "     4        1.0564             nan     0.1000    0.0291\n",
      "     5        1.0076             nan     0.1000    0.0244\n",
      "     6        0.9651             nan     0.1000    0.0212\n",
      "     7        0.9283             nan     0.1000    0.0182\n",
      "     8        0.8982             nan     0.1000    0.0150\n",
      "     9        0.8708             nan     0.1000    0.0135\n",
      "    10        0.8476             nan     0.1000    0.0115\n",
      "    20        0.7312             nan     0.1000    0.0029\n",
      "    40        0.6729             nan     0.1000    0.0005\n",
      "    60        0.6510             nan     0.1000    0.0004\n",
      "    80        0.6407             nan     0.1000    0.0001\n",
      "   100        0.6336             nan     0.1000    0.0001\n",
      "   120        0.6285             nan     0.1000    0.0000\n",
      "   140        0.6242             nan     0.1000    0.0000\n",
      "   150        0.6221             nan     0.1000    0.0001\n",
      "\n",
      "Iter   TrainDeviance   ValidDeviance   StepSize   Improve\n",
      "     1        1.2677             nan     0.1000    0.0537\n",
      "     2        1.1795             nan     0.1000    0.0440\n",
      "     3        1.1075             nan     0.1000    0.0361\n",
      "     4        1.0465             nan     0.1000    0.0303\n",
      "     5        0.9948             nan     0.1000    0.0256\n",
      "     6        0.9519             nan     0.1000    0.0214\n",
      "     7        0.9151             nan     0.1000    0.0183\n",
      "     8        0.8820             nan     0.1000    0.0164\n",
      "     9        0.8548             nan     0.1000    0.0136\n",
      "    10        0.8296             nan     0.1000    0.0124\n",
      "    20        0.7065             nan     0.1000    0.0030\n",
      "    40        0.6484             nan     0.1000    0.0004\n",
      "    60        0.6321             nan     0.1000    0.0002\n",
      "    80        0.6220             nan     0.1000    0.0002\n",
      "   100        0.6151             nan     0.1000    0.0001\n",
      "   120        0.6102             nan     0.1000    0.0000\n",
      "   140        0.6059             nan     0.1000   -0.0000\n",
      "   150        0.6040             nan     0.1000   -0.0000\n",
      "\n",
      "Iter   TrainDeviance   ValidDeviance   StepSize   Improve\n",
      "     1        1.2878             nan     0.1000    0.0434\n",
      "     2        1.2178             nan     0.1000    0.0353\n",
      "     3        1.1605             nan     0.1000    0.0290\n",
      "     4        1.1135             nan     0.1000    0.0235\n",
      "     5        1.0716             nan     0.1000    0.0210\n",
      "     6        1.0369             nan     0.1000    0.0172\n",
      "     7        1.0070             nan     0.1000    0.0150\n",
      "     8        0.9818             nan     0.1000    0.0125\n",
      "     9        0.9586             nan     0.1000    0.0117\n",
      "    10        0.9366             nan     0.1000    0.0111\n",
      "    20        0.8137             nan     0.1000    0.0036\n",
      "    40        0.7358             nan     0.1000    0.0009\n",
      "    60        0.7048             nan     0.1000    0.0005\n",
      "    80        0.6856             nan     0.1000    0.0003\n",
      "   100        0.6743             nan     0.1000    0.0001\n",
      "   120        0.6666             nan     0.1000    0.0001\n",
      "   140        0.6612             nan     0.1000    0.0001\n",
      "   150        0.6590             nan     0.1000    0.0000\n",
      "\n",
      "Iter   TrainDeviance   ValidDeviance   StepSize   Improve\n",
      "     1        1.2710             nan     0.1000    0.0525\n",
      "     2        1.1858             nan     0.1000    0.0428\n",
      "     3        1.1148             nan     0.1000    0.0354\n",
      "     4        1.0555             nan     0.1000    0.0295\n",
      "     5        1.0069             nan     0.1000    0.0246\n",
      "     6        0.9635             nan     0.1000    0.0211\n",
      "     7        0.9270             nan     0.1000    0.0181\n",
      "     8        0.8961             nan     0.1000    0.0154\n",
      "     9        0.8700             nan     0.1000    0.0130\n",
      "    10        0.8467             nan     0.1000    0.0117\n",
      "    20        0.7306             nan     0.1000    0.0024\n",
      "    40        0.6714             nan     0.1000    0.0006\n",
      "    60        0.6479             nan     0.1000    0.0002\n",
      "    80        0.6375             nan     0.1000    0.0004\n",
      "   100        0.6300             nan     0.1000    0.0001\n",
      "   120        0.6248             nan     0.1000    0.0000\n",
      "   140        0.6209             nan     0.1000    0.0000\n",
      "   150        0.6192             nan     0.1000    0.0000\n",
      "\n",
      "Iter   TrainDeviance   ValidDeviance   StepSize   Improve\n",
      "     1        1.2667             nan     0.1000    0.0541\n",
      "     2        1.1789             nan     0.1000    0.0441\n",
      "     3        1.1055             nan     0.1000    0.0366\n",
      "     4        1.0442             nan     0.1000    0.0304\n",
      "     5        0.9931             nan     0.1000    0.0258\n",
      "     6        0.9496             nan     0.1000    0.0216\n",
      "     7        0.9124             nan     0.1000    0.0183\n",
      "     8        0.8818             nan     0.1000    0.0153\n",
      "     9        0.8544             nan     0.1000    0.0137\n",
      "    10        0.8297             nan     0.1000    0.0123\n",
      "    20        0.7066             nan     0.1000    0.0032\n",
      "    40        0.6476             nan     0.1000    0.0005\n",
      "    60        0.6301             nan     0.1000    0.0001\n",
      "    80        0.6203             nan     0.1000    0.0001\n",
      "   100        0.6142             nan     0.1000    0.0000\n",
      "   120        0.6086             nan     0.1000   -0.0000\n",
      "   140        0.6046             nan     0.1000    0.0001\n",
      "   150        0.6028             nan     0.1000    0.0000\n",
      "\n",
      "Iter   TrainDeviance   ValidDeviance   StepSize   Improve\n",
      "     1        1.2667             nan     0.1000    0.0539\n",
      "     2        1.1788             nan     0.1000    0.0441\n",
      "     3        1.1057             nan     0.1000    0.0366\n",
      "     4        1.0447             nan     0.1000    0.0304\n",
      "     5        0.9938             nan     0.1000    0.0257\n",
      "     6        0.9508             nan     0.1000    0.0215\n",
      "     7        0.9135             nan     0.1000    0.0186\n",
      "     8        0.8805             nan     0.1000    0.0163\n",
      "     9        0.8534             nan     0.1000    0.0135\n",
      "    10        0.8299             nan     0.1000    0.0116\n",
      "    20        0.7039             nan     0.1000    0.0033\n",
      "    40        0.6446             nan     0.1000    0.0005\n",
      "    60        0.6278             nan     0.1000    0.0001\n",
      "    80        0.6179             nan     0.1000    0.0001\n",
      "   100        0.6117             nan     0.1000    0.0000\n",
      "   120        0.6065             nan     0.1000    0.0001\n",
      "   140        0.6028             nan     0.1000    0.0001\n",
      "   150        0.6011             nan     0.1000   -0.0000\n",
      "\n"
     ]
    }
   ],
   "source": [
    "# GLM with balanced data\n",
    "set.seed(7)\n",
    "fit.GBM2 <- train(NA_Pass~., data=Train, method=\"gbm\", metric=metric, trControl=control)"
   ]
  },
  {
   "cell_type": "code",
   "execution_count": 214,
   "metadata": {},
   "outputs": [
    {
     "data": {
      "text/plain": [
       "Confusion Matrix and Statistics\n",
       "\n",
       "          Reference\n",
       "Prediction    0    1\n",
       "         0 1527  131\n",
       "         1  256 1360\n",
       "                                          \n",
       "               Accuracy : 0.8818          \n",
       "                 95% CI : (0.8702, 0.8927)\n",
       "    No Information Rate : 0.5446          \n",
       "    P-Value [Acc > NIR] : < 2.2e-16       \n",
       "                                          \n",
       "                  Kappa : 0.7633          \n",
       "                                          \n",
       " Mcnemar's Test P-Value : 2.914e-10       \n",
       "                                          \n",
       "            Sensitivity : 0.8564          \n",
       "            Specificity : 0.9121          \n",
       "         Pos Pred Value : 0.9210          \n",
       "         Neg Pred Value : 0.8416          \n",
       "             Prevalence : 0.5446          \n",
       "         Detection Rate : 0.4664          \n",
       "   Detection Prevalence : 0.5064          \n",
       "      Balanced Accuracy : 0.8843          \n",
       "                                          \n",
       "       'Positive' Class : 0               \n",
       "                                          "
      ]
     },
     "metadata": {},
     "output_type": "display_data"
    }
   ],
   "source": [
    "# estimate skill of rf on the validation dataset\n",
    "predictions_GBM2 <- predict(fit.GBM2, Test)\n",
    "confusionMatrix(predictions_GBM2,Test$NA_Pass)"
   ]
  },
  {
   "cell_type": "code",
   "execution_count": 215,
   "metadata": {},
   "outputs": [
    {
     "name": "stderr",
     "output_type": "stream",
     "text": [
      "Setting levels: control = 0, case = 1\n",
      "Setting direction: controls < cases\n"
     ]
    },
    {
     "data": {
      "image/png": "[encoded data removed]",
      "text/plain": [
       "plot without title"
      ]
     },
     "metadata": {},
     "output_type": "display_data"
    }
   ],
   "source": [
    "GBM2 =  predict(fit.GBM2, Test,type=\"prob\")\n",
    "two=  plot(roc(Test$NA_Pass,GBM2[,2]))"
   ]
  },
  {
   "cell_type": "code",
   "execution_count": 1,
   "metadata": {},
   "outputs": [
    {
     "ename": "ERROR",
     "evalue": "Error in roc(Test$NA_Pass, GBM2[, 1]): could not find function \"roc\"\n",
     "output_type": "error",
     "traceback": [
      "Error in roc(Test$NA_Pass, GBM2[, 1]): could not find function \"roc\"\nTraceback:\n"
     ]
    }
   ],
   "source": [
    "roc_obj <- roc(Test$NA_Pass, GBM2[,1])\n",
    "auc(roc_obj)"
   ]
  },
  {
   "cell_type": "code",
   "execution_count": null,
   "metadata": {},
   "outputs": [],
   "source": [
    "#Training with "
   ]
  },
  {
   "cell_type": "code",
   "execution_count": 217,
   "metadata": {},
   "outputs": [],
   "source": [
    "saveRDS(fit.GBM2, \"C:\\\\Users\\\\shrey\\\\OneDrive\\\\Desktop\\\\BUSINESS ANALYTICS\\\\Datasets\\\\models\\\\project2\\\\GBM_with_Withdraw_model.rds\")"
   ]
  },
  {
   "cell_type": "code",
   "execution_count": 16,
   "metadata": {},
   "outputs": [],
   "source": [
    "#Load saved model:\n",
    "model_GBM2 = readRDS(\"C:\\\\Users\\\\shrey\\\\OneDrive\\\\Desktop\\\\BUSINESS ANALYTICS\\\\Datasets\\\\models\\\\project2\\\\GBM_with_Withdraw_model.rds\")\n"
   ]
  },
  {
   "cell_type": "code",
   "execution_count": 21,
   "metadata": {},
   "outputs": [],
   "source": [
    "df_target = data.frame(Test$NA_Pass)\n",
    "#predicting from those models\n",
    "gbm_pred1 =  predict(model_GBM2, Test)\n",
    "\n",
    "# make a data frame for all the prediction\n",
    "df_target = data.frame(Test$NA_Pass)\n",
    "\n",
    "#add the prediction\n",
    "df_target$gbm_pred1 = gbm_pred1"
   ]
  },
  {
   "cell_type": "code",
   "execution_count": 22,
   "metadata": {},
   "outputs": [
    {
     "data": {
      "text/html": [
       "<table>\n",
       "<thead><tr><th scope=col>Test.NA_Pass</th><th scope=col>gbm_pred1</th></tr></thead>\n",
       "<tbody>\n",
       "\t<tr><td>1</td><td>1</td></tr>\n",
       "\t<tr><td>1</td><td>1</td></tr>\n",
       "\t<tr><td>1</td><td>1</td></tr>\n",
       "\t<tr><td>1</td><td>1</td></tr>\n",
       "\t<tr><td>1</td><td>1</td></tr>\n",
       "\t<tr><td>1</td><td>1</td></tr>\n",
       "</tbody>\n",
       "</table>\n"
      ],
      "text/latex": [
       "\\begin{tabular}{r|ll}\n",
       " Test.NA\\_Pass & gbm\\_pred1\\\\\n",
       "\\hline\n",
       "\t 1 & 1\\\\\n",
       "\t 1 & 1\\\\\n",
       "\t 1 & 1\\\\\n",
       "\t 1 & 1\\\\\n",
       "\t 1 & 1\\\\\n",
       "\t 1 & 1\\\\\n",
       "\\end{tabular}\n"
      ],
      "text/markdown": [
       "\n",
       "| Test.NA_Pass | gbm_pred1 |\n",
       "|---|---|\n",
       "| 1 | 1 |\n",
       "| 1 | 1 |\n",
       "| 1 | 1 |\n",
       "| 1 | 1 |\n",
       "| 1 | 1 |\n",
       "| 1 | 1 |\n",
       "\n"
      ],
      "text/plain": [
       "  Test.NA_Pass gbm_pred1\n",
       "1 1            1        \n",
       "2 1            1        \n",
       "3 1            1        \n",
       "4 1            1        \n",
       "5 1            1        \n",
       "6 1            1        "
      ]
     },
     "metadata": {},
     "output_type": "display_data"
    }
   ],
   "source": [
    "head(df_target)"
   ]
  },
  {
   "cell_type": "code",
   "execution_count": 23,
   "metadata": {},
   "outputs": [
    {
     "name": "stdout",
     "output_type": "stream",
     "text": [
      "[1] \"Results for GLM with 90:10 split \\n\"\n"
     ]
    },
    {
     "data": {
      "text/plain": [
       "      Prediction\n",
       "Actual    0    1\n",
       "     0 1527  256\n",
       "     1  131 1360"
      ]
     },
     "metadata": {},
     "output_type": "display_data"
    },
    {
     "name": "stdout",
     "output_type": "stream",
     "text": [
      "Accuracy for GLM is = 0.881796 \n",
      "precision for GLM is = 0.8415842 \n",
      "recall for GLM is = 0.9121395 \n",
      "f_score for GLM is = 0.8754425 \n",
      "g_score for GLM is = 0.8761519 \n"
     ]
    }
   ],
   "source": [
    "#GBM\n",
    "print(\"Results for GLM with 90:10 split \\n\")\n",
    "p <- data.frame(Actual = df_target$Test.NA_Pass , Prediction = df_target$gbm_pred1)\n",
    "p <- table(p)\n",
    "p\n",
    "\n",
    "accuracy <- (p[1,1] + p[2,2])/sum(p)\n",
    "cat(\"Accuracy for GLM is =\",accuracy,\"\\n\")\n",
    "\n",
    "precision <- (p[2,2]/(p[2,2] + p[1,2]))\n",
    "\n",
    "cat(\"precision for GLM is =\",precision,\"\\n\")\n",
    "recall <- (p[2,2]/(p[2,2] + p[2,1]))\n",
    "\n",
    "cat(\"recall for GLM is =\",recall,\"\\n\")\n",
    "f_score <- 2*((precision*recall)/(precision+recall))\n",
    "\n",
    "cat(\"f_score for GLM is =\",f_score,\"\\n\")\n",
    "g_score <- sqrt(precision*recall)\n",
    "\n",
    "cat(\"g_score for GLM is =\",g_score,\"\\n\")"
   ]
  },
  {
   "cell_type": "code",
   "execution_count": 26,
   "metadata": {},
   "outputs": [
    {
     "name": "stderr",
     "output_type": "stream",
     "text": [
      "Type 'citation(\"pROC\")' for a citation.\n",
      "\n",
      "Attaching package: 'pROC'\n",
      "\n",
      "The following objects are masked from 'package:stats':\n",
      "\n",
      "    cov, smooth, var\n",
      "\n"
     ]
    }
   ],
   "source": [
    "library(pROC)"
   ]
  },
  {
   "cell_type": "markdown",
   "metadata": {},
   "source": [
    "# Calculation ROC"
   ]
  },
  {
   "cell_type": "code",
   "execution_count": 29,
   "metadata": {},
   "outputs": [
    {
     "name": "stderr",
     "output_type": "stream",
     "text": [
      "Setting levels: control = 0, case = 1\n",
      "Setting direction: controls > cases\n"
     ]
    },
    {
     "data": {
      "text/html": [
       "0.941296498377064"
      ],
      "text/latex": [
       "0.941296498377064"
      ],
      "text/markdown": [
       "0.941296498377064"
      ],
      "text/plain": [
       "Area under the curve: 0.9413"
      ]
     },
     "metadata": {},
     "output_type": "display_data"
    }
   ],
   "source": [
    "gbm_pred1 =  predict(model_GBM2, Test,type=\"prob\")\n",
    "\n",
    "roc_obj <- roc(Test$NA_Pass, gbm_pred1[,1])\n",
    "auc(roc_obj)"
   ]
  },
  {
   "cell_type": "code",
   "execution_count": 24,
   "metadata": {},
   "outputs": [],
   "source": [
    "library(rpart)\n",
    "library(rpart.plot)"
   ]
  },
  {
   "cell_type": "code",
   "execution_count": 222,
   "metadata": {},
   "outputs": [
    {
     "data": {
      "image/png": "[encoded data removed]",
      "text/plain": [
       "plot without title"
      ]
     },
     "metadata": {},
     "output_type": "display_data"
    }
   ],
   "source": [
    "model.a <- rpart(NA_Pass~.,\n",
    "data=Train,\n",
    "method=\"class\")\n",
    "rpart.plot(model.a)"
   ]
  },
  {
   "cell_type": "code",
   "execution_count": 223,
   "metadata": {},
   "outputs": [
    {
     "data": {
      "text/html": [
       "<ol class=list-inline>\n",
       "\t<li>'code_module.x.x'</li>\n",
       "\t<li>'code_presentation.x.x'</li>\n",
       "\t<li>'age_band'</li>\n",
       "\t<li>'studied_credits'</li>\n",
       "\t<li>'sum_click'</li>\n",
       "\t<li>'NA_homepage'</li>\n",
       "\t<li>'NA_quiz'</li>\n",
       "\t<li>'weight'</li>\n",
       "\t<li>'CMA_count'</li>\n",
       "\t<li>'TMA_count'</li>\n",
       "\t<li>'TMA_score'</li>\n",
       "\t<li>'NA_Pass'</li>\n",
       "</ol>\n"
      ],
      "text/latex": [
       "\\begin{enumerate*}\n",
       "\\item 'code\\_module.x.x'\n",
       "\\item 'code\\_presentation.x.x'\n",
       "\\item 'age\\_band'\n",
       "\\item 'studied\\_credits'\n",
       "\\item 'sum\\_click'\n",
       "\\item 'NA\\_homepage'\n",
       "\\item 'NA\\_quiz'\n",
       "\\item 'weight'\n",
       "\\item 'CMA\\_count'\n",
       "\\item 'TMA\\_count'\n",
       "\\item 'TMA\\_score'\n",
       "\\item 'NA\\_Pass'\n",
       "\\end{enumerate*}\n"
      ],
      "text/markdown": [
       "1. 'code_module.x.x'\n",
       "2. 'code_presentation.x.x'\n",
       "3. 'age_band'\n",
       "4. 'studied_credits'\n",
       "5. 'sum_click'\n",
       "6. 'NA_homepage'\n",
       "7. 'NA_quiz'\n",
       "8. 'weight'\n",
       "9. 'CMA_count'\n",
       "10. 'TMA_count'\n",
       "11. 'TMA_score'\n",
       "12. 'NA_Pass'\n",
       "\n",
       "\n"
      ],
      "text/plain": [
       " [1] \"code_module.x.x\"       \"code_presentation.x.x\" \"age_band\"             \n",
       " [4] \"studied_credits\"       \"sum_click\"             \"NA_homepage\"          \n",
       " [7] \"NA_quiz\"               \"weight\"                \"CMA_count\"            \n",
       "[10] \"TMA_count\"             \"TMA_score\"             \"NA_Pass\"              "
      ]
     },
     "metadata": {},
     "output_type": "display_data"
    }
   ],
   "source": [
    "names(Train)"
   ]
  },
  {
   "cell_type": "markdown",
   "metadata": {},
   "source": [
    "## Running GLM:"
   ]
  },
  {
   "cell_type": "code",
   "execution_count": 32,
   "metadata": {},
   "outputs": [
    {
     "name": "stderr",
     "output_type": "stream",
     "text": [
      "Loading required package: lattice\n",
      "Loading required package: ggplot2\n"
     ]
    }
   ],
   "source": [
    "library(caret)"
   ]
  },
  {
   "cell_type": "code",
   "execution_count": 33,
   "metadata": {},
   "outputs": [],
   "source": [
    "# Run algorithms using 10-fold cross validation\n",
    "control <- trainControl(method=\"cv\", number=10)\n",
    "metric <- \"Accuracy\""
   ]
  },
  {
   "cell_type": "code",
   "execution_count": 35,
   "metadata": {},
   "outputs": [],
   "source": [
    "# GLM with balanced data\n",
    "set.seed(7)\n",
    "fit.GLM2 <- train(NA_Pass~., data=Train, method=\"glm\", metric=metric, trControl=control)"
   ]
  },
  {
   "cell_type": "code",
   "execution_count": 37,
   "metadata": {},
   "outputs": [
    {
     "data": {
      "text/plain": [
       "Confusion Matrix and Statistics\n",
       "\n",
       "          Reference\n",
       "Prediction    0    1\n",
       "         0 1506  148\n",
       "         1  277 1343\n",
       "                                          \n",
       "               Accuracy : 0.8702          \n",
       "                 95% CI : (0.8582, 0.8815)\n",
       "    No Information Rate : 0.5446          \n",
       "    P-Value [Acc > NIR] : < 2.2e-16       \n",
       "                                          \n",
       "                  Kappa : 0.7401          \n",
       "                                          \n",
       " Mcnemar's Test P-Value : 5.335e-10       \n",
       "                                          \n",
       "            Sensitivity : 0.8446          \n",
       "            Specificity : 0.9007          \n",
       "         Pos Pred Value : 0.9105          \n",
       "         Neg Pred Value : 0.8290          \n",
       "             Prevalence : 0.5446          \n",
       "         Detection Rate : 0.4600          \n",
       "   Detection Prevalence : 0.5052          \n",
       "      Balanced Accuracy : 0.8727          \n",
       "                                          \n",
       "       'Positive' Class : 0               \n",
       "                                          "
      ]
     },
     "metadata": {},
     "output_type": "display_data"
    }
   ],
   "source": [
    "# estimate skill of glm on the validation dataset\n",
    "predictions_GLM2 <- predict(fit.GLM2, Test)\n",
    "confusionMatrix(predictions_GLM2,Test$NA_Pass)"
   ]
  },
  {
   "cell_type": "code",
   "execution_count": 36,
   "metadata": {},
   "outputs": [
    {
     "name": "stderr",
     "output_type": "stream",
     "text": [
      "Setting levels: control = 0, case = 1\n",
      "Setting direction: controls < cases\n"
     ]
    },
    {
     "data": {
      "image/png": "[encoded data removed]",
      "text/plain": [
       "plot without title"
      ]
     },
     "metadata": {},
     "output_type": "display_data"
    }
   ],
   "source": [
    "# Prediction\n",
    "GLM2 =  predict(fit.GLM2, Test,type=\"prob\")\n",
    "two=  plot(roc(Test$NA_Pass,GLM2[,2]))"
   ]
  },
  {
   "cell_type": "code",
   "execution_count": 39,
   "metadata": {},
   "outputs": [
    {
     "name": "stderr",
     "output_type": "stream",
     "text": [
      "Setting levels: control = 0, case = 1\n",
      "Setting direction: controls > cases\n"
     ]
    },
    {
     "data": {
      "text/html": [
       "0.926328206667562"
      ],
      "text/latex": [
       "0.926328206667562"
      ],
      "text/markdown": [
       "0.926328206667562"
      ],
      "text/plain": [
       "Area under the curve: 0.9263"
      ]
     },
     "metadata": {},
     "output_type": "display_data"
    }
   ],
   "source": [
    "glm_pred1 =  predict(fit.GLM2, Test,type=\"prob\")\n",
    "\n",
    "roc_obj <- roc(Test$NA_Pass, glm_pred1[,1])\n",
    "auc(roc_obj)"
   ]
  },
  {
   "cell_type": "code",
   "execution_count": 57,
   "metadata": {},
   "outputs": [],
   "source": [
    "#GLM\n",
    "saveRDS(fit.GLM2, \"C:\\\\Users\\\\shrey\\\\OneDrive\\\\Desktop\\\\BUSINESS ANALYTICS\\\\Datasets\\\\models\\\\project2\\\\GLM_with_Withdraw_model.rds\")"
   ]
  },
  {
   "cell_type": "markdown",
   "metadata": {},
   "source": [
    "# RF training"
   ]
  },
  {
   "cell_type": "code",
   "execution_count": 40,
   "metadata": {},
   "outputs": [],
   "source": [
    "# GLM with balanced data\n",
    "set.seed(7)\n",
    "fit.RF2 <- train(NA_Pass~., data=Train, method=\"rf\", metric=metric, trControl=control)"
   ]
  },
  {
   "cell_type": "code",
   "execution_count": 41,
   "metadata": {},
   "outputs": [
    {
     "data": {
      "text/plain": [
       "Confusion Matrix and Statistics\n",
       "\n",
       "          Reference\n",
       "Prediction    0    1\n",
       "         0 1515  114\n",
       "         1  268 1377\n",
       "                                          \n",
       "               Accuracy : 0.8833          \n",
       "                 95% CI : (0.8718, 0.8941)\n",
       "    No Information Rate : 0.5446          \n",
       "    P-Value [Acc > NIR] : < 2.2e-16       \n",
       "                                          \n",
       "                  Kappa : 0.7667          \n",
       "                                          \n",
       " Mcnemar's Test P-Value : 4.951e-15       \n",
       "                                          \n",
       "            Sensitivity : 0.8497          \n",
       "            Specificity : 0.9235          \n",
       "         Pos Pred Value : 0.9300          \n",
       "         Neg Pred Value : 0.8371          \n",
       "             Prevalence : 0.5446          \n",
       "         Detection Rate : 0.4627          \n",
       "   Detection Prevalence : 0.4976          \n",
       "      Balanced Accuracy : 0.8866          \n",
       "                                          \n",
       "       'Positive' Class : 0               \n",
       "                                          "
      ]
     },
     "metadata": {},
     "output_type": "display_data"
    }
   ],
   "source": [
    "# estimate skill of glm on the validation dataset\n",
    "predictions_RF2 <- predict(fit.RF2, Test)\n",
    "confusionMatrix(predictions_RF2,Test$NA_Pass)"
   ]
  },
  {
   "cell_type": "code",
   "execution_count": 42,
   "metadata": {},
   "outputs": [
    {
     "name": "stderr",
     "output_type": "stream",
     "text": [
      "Setting levels: control = 0, case = 1\n",
      "Setting direction: controls > cases\n"
     ]
    },
    {
     "data": {
      "text/html": [
       "0.92996189889383"
      ],
      "text/latex": [
       "0.92996189889383"
      ],
      "text/markdown": [
       "0.92996189889383"
      ],
      "text/plain": [
       "Area under the curve: 0.93"
      ]
     },
     "metadata": {},
     "output_type": "display_data"
    }
   ],
   "source": [
    "RF_pred2 =  predict(fit.RF2, Test,type=\"prob\")\n",
    "\n",
    "roc_obj <- roc(Test$NA_Pass, RF_pred2[,1])\n",
    "auc(roc_obj)"
   ]
  },
  {
   "cell_type": "code",
   "execution_count": 43,
   "metadata": {},
   "outputs": [
    {
     "name": "stderr",
     "output_type": "stream",
     "text": [
      "Setting levels: control = 0, case = 1\n",
      "Setting direction: controls < cases\n"
     ]
    },
    {
     "data": {
      "image/png": "[encoded data removed]",
      "text/plain": [
       "plot without title"
      ]
     },
     "metadata": {},
     "output_type": "display_data"
    }
   ],
   "source": [
    "# Prediction\n",
    "RF2 =  predict(fit.RF2, Test,type=\"prob\")\n",
    "two=  plot(roc(Test$NA_Pass,RF2[,2]))"
   ]
  },
  {
   "cell_type": "code",
   "execution_count": 58,
   "metadata": {},
   "outputs": [],
   "source": [
    "#GLM\n",
    "saveRDS(fit.RF2, \"C:\\\\Users\\\\shrey\\\\OneDrive\\\\Desktop\\\\BUSINESS ANALYTICS\\\\Datasets\\\\models\\\\project2\\\\RF_with_Withdraw_model.rds\")"
   ]
  },
  {
   "cell_type": "code",
   "execution_count": 44,
   "metadata": {},
   "outputs": [],
   "source": [
    "df_target = data.frame(Test$NA_Pass)\n",
    "#predicting from those models\n",
    "glm_pred1 =  predict(fit.GLM2, Test)\n",
    "rf_pred1 = predict(fit.RF2,Test)\n",
    "# make a data frame for all the prediction\n",
    "df_target = data.frame(Test$NA_Pass)\n",
    "\n",
    "#add the prediction\n",
    "df_target$glm_pred1 = glm_pred1\n",
    "df_target$rf_pred1 = rf_pred1\n",
    "\n"
   ]
  },
  {
   "cell_type": "code",
   "execution_count": 45,
   "metadata": {},
   "outputs": [
    {
     "data": {
      "text/html": [
       "<table>\n",
       "<thead><tr><th scope=col>Test.NA_Pass</th><th scope=col>glm_pred1</th><th scope=col>rf_pred1</th></tr></thead>\n",
       "<tbody>\n",
       "\t<tr><td>1</td><td>1</td><td>1</td></tr>\n",
       "\t<tr><td>1</td><td>1</td><td>1</td></tr>\n",
       "\t<tr><td>1</td><td>1</td><td>1</td></tr>\n",
       "\t<tr><td>1</td><td>1</td><td>1</td></tr>\n",
       "\t<tr><td>1</td><td>1</td><td>1</td></tr>\n",
       "\t<tr><td>1</td><td>1</td><td>1</td></tr>\n",
       "</tbody>\n",
       "</table>\n"
      ],
      "text/latex": [
       "\\begin{tabular}{r|lll}\n",
       " Test.NA\\_Pass & glm\\_pred1 & rf\\_pred1\\\\\n",
       "\\hline\n",
       "\t 1 & 1 & 1\\\\\n",
       "\t 1 & 1 & 1\\\\\n",
       "\t 1 & 1 & 1\\\\\n",
       "\t 1 & 1 & 1\\\\\n",
       "\t 1 & 1 & 1\\\\\n",
       "\t 1 & 1 & 1\\\\\n",
       "\\end{tabular}\n"
      ],
      "text/markdown": [
       "\n",
       "| Test.NA_Pass | glm_pred1 | rf_pred1 |\n",
       "|---|---|---|\n",
       "| 1 | 1 | 1 |\n",
       "| 1 | 1 | 1 |\n",
       "| 1 | 1 | 1 |\n",
       "| 1 | 1 | 1 |\n",
       "| 1 | 1 | 1 |\n",
       "| 1 | 1 | 1 |\n",
       "\n"
      ],
      "text/plain": [
       "  Test.NA_Pass glm_pred1 rf_pred1\n",
       "1 1            1         1       \n",
       "2 1            1         1       \n",
       "3 1            1         1       \n",
       "4 1            1         1       \n",
       "5 1            1         1       \n",
       "6 1            1         1       "
      ]
     },
     "metadata": {},
     "output_type": "display_data"
    }
   ],
   "source": [
    "head(df_target)"
   ]
  },
  {
   "cell_type": "code",
   "execution_count": 46,
   "metadata": {},
   "outputs": [
    {
     "name": "stdout",
     "output_type": "stream",
     "text": [
      "[1] \"Results for GLM with 90:10 split \\n\"\n"
     ]
    },
    {
     "data": {
      "text/plain": [
       "      Prediction\n",
       "Actual    0    1\n",
       "     0 1506  277\n",
       "     1  148 1343"
      ]
     },
     "metadata": {},
     "output_type": "display_data"
    },
    {
     "name": "stdout",
     "output_type": "stream",
     "text": [
      "Accuracy for GLM is = 0.8701894 \n",
      "precision for GLM is = 0.8290123 \n",
      "recall for GLM is = 0.9007378 \n",
      "f_score for GLM is = 0.863388 \n",
      "g_score for GLM is = 0.8641312 \n",
      "[1] \"Results for RF with 90:10 split \\n\"\n"
     ]
    },
    {
     "data": {
      "text/plain": [
       "      Prediction\n",
       "Actual    0    1\n",
       "     0 1515  268\n",
       "     1  114 1377"
      ]
     },
     "metadata": {},
     "output_type": "display_data"
    },
    {
     "name": "stdout",
     "output_type": "stream",
     "text": [
      "Accuracy for RF is = 0.8833232 \n",
      "precision for RF is = 0.8370821 \n",
      "recall for RF is = 0.9235412 \n",
      "f_score for RF is = 0.8781888 \n",
      "g_score for RF is = 0.8792496 \n"
     ]
    }
   ],
   "source": [
    "\n",
    "#GLM\n",
    "print(\"Results for GLM with 90:10 split \\n\")\n",
    "p <- data.frame(Actual = df_target$Test.NA_Pass , Prediction = df_target$glm_pred1)\n",
    "p <- table(p)\n",
    "p\n",
    "\n",
    "accuracy <- (p[1,1] + p[2,2])/sum(p)\n",
    "cat(\"Accuracy for GLM is =\",accuracy,\"\\n\")\n",
    "\n",
    "precision <- (p[2,2]/(p[2,2] + p[1,2]))\n",
    "\n",
    "cat(\"precision for GLM is =\",precision,\"\\n\")\n",
    "recall <- (p[2,2]/(p[2,2] + p[2,1]))\n",
    "\n",
    "cat(\"recall for GLM is =\",recall,\"\\n\")\n",
    "f_score <- 2*((precision*recall)/(precision+recall))\n",
    "\n",
    "cat(\"f_score for GLM is =\",f_score,\"\\n\")\n",
    "g_score <- sqrt(precision*recall)\n",
    "\n",
    "cat(\"g_score for GLM is =\",g_score,\"\\n\")\n",
    "\n",
    "\n",
    "#RF\n",
    "print(\"Results for RF with 90:10 split \\n\")\n",
    "p <- data.frame(Actual = df_target$Test.NA_Pass , Prediction = df_target$rf_pred1)\n",
    "p <- table(p)\n",
    "p\n",
    "\n",
    "accuracy <- (p[1,1] + p[2,2])/sum(p)\n",
    "cat(\"Accuracy for RF is =\",accuracy,\"\\n\")\n",
    "\n",
    "precision <- (p[2,2]/(p[2,2] + p[1,2]))\n",
    "\n",
    "cat(\"precision for RF is =\",precision,\"\\n\")\n",
    "recall <- (p[2,2]/(p[2,2] + p[2,1]))\n",
    "\n",
    "cat(\"recall for RF is =\",recall,\"\\n\")\n",
    "f_score <- 2*((precision*recall)/(precision+recall))\n",
    "\n",
    "cat(\"f_score for RF is =\",f_score,\"\\n\")\n",
    "g_score <- sqrt(precision*recall)\n",
    "\n",
    "cat(\"g_score for RF is =\",g_score,\"\\n\")"
   ]
  },
  {
   "cell_type": "code",
   "execution_count": 54,
   "metadata": {},
   "outputs": [],
   "source": [
    "#Load saved model:\n",
    "fit.GBM2 = readRDS(\"C:\\\\Users\\\\shrey\\\\OneDrive\\\\Desktop\\\\BUSINESS ANALYTICS\\\\Datasets\\\\models\\\\project2\\\\GBM_with_Withdraw_model.rds\")\n"
   ]
  },
  {
   "cell_type": "code",
   "execution_count": 56,
   "metadata": {},
   "outputs": [
    {
     "name": "stderr",
     "output_type": "stream",
     "text": [
      "Setting levels: control = 0, case = 1\n",
      "Setting direction: controls < cases\n",
      "Setting levels: control = 0, case = 1\n",
      "Setting direction: controls < cases\n",
      "Setting levels: control = 0, case = 1\n",
      "Setting direction: controls < cases\n"
     ]
    },
    {
     "data": {
      "image/png": "[encoded data removed]",
      "text/plain": [
       "plot without title"
      ]
     },
     "metadata": {},
     "output_type": "display_data"
    }
   ],
   "source": [
    "gbm_pred1 =  predict(fit.GBM2, Test,type=\"prob\")\n",
    "glm_pred1 =  predict(fit.GLM2, Test,type=\"prob\")\n",
    "rf_pred1 =  predict(fit.RF2, Test,type=\"prob\")\n",
    "\n",
    "one=plot(roc(Test$NA_Pass,rf_pred1[,2]))\n",
    "two= lines(roc(Test$NA_Pass,gbm_pred1[,2]),col=\"red\")\n",
    "three = lines(roc(Test$NA_Pass,glm_pred1[,2]),col=\"BLUE\")"
   ]
  },
  {
   "cell_type": "code",
   "execution_count": 51,
   "metadata": {},
   "outputs": [
    {
     "data": {
      "text/html": [
       "<table>\n",
       "<thead><tr><th scope=col>0</th><th scope=col>1</th></tr></thead>\n",
       "<tbody>\n",
       "\t<tr><td>0.03954621</td><td>0.9604538 </td></tr>\n",
       "\t<tr><td>0.20936817</td><td>0.7906318 </td></tr>\n",
       "\t<tr><td>0.20685904</td><td>0.7931410 </td></tr>\n",
       "\t<tr><td>0.05425395</td><td>0.9457460 </td></tr>\n",
       "\t<tr><td>0.10276003</td><td>0.8972400 </td></tr>\n",
       "\t<tr><td>0.27136862</td><td>0.7286314 </td></tr>\n",
       "</tbody>\n",
       "</table>\n"
      ],
      "text/latex": [
       "\\begin{tabular}{r|ll}\n",
       " 0 & 1\\\\\n",
       "\\hline\n",
       "\t 0.03954621 & 0.9604538 \\\\\n",
       "\t 0.20936817 & 0.7906318 \\\\\n",
       "\t 0.20685904 & 0.7931410 \\\\\n",
       "\t 0.05425395 & 0.9457460 \\\\\n",
       "\t 0.10276003 & 0.8972400 \\\\\n",
       "\t 0.27136862 & 0.7286314 \\\\\n",
       "\\end{tabular}\n"
      ],
      "text/markdown": [
       "\n",
       "| 0 | 1 |\n",
       "|---|---|\n",
       "| 0.03954621 | 0.9604538  |\n",
       "| 0.20936817 | 0.7906318  |\n",
       "| 0.20685904 | 0.7931410  |\n",
       "| 0.05425395 | 0.9457460  |\n",
       "| 0.10276003 | 0.8972400  |\n",
       "| 0.27136862 | 0.7286314  |\n",
       "\n"
      ],
      "text/plain": [
       "  0          1        \n",
       "1 0.03954621 0.9604538\n",
       "2 0.20936817 0.7906318\n",
       "3 0.20685904 0.7931410\n",
       "4 0.05425395 0.9457460\n",
       "5 0.10276003 0.8972400\n",
       "6 0.27136862 0.7286314"
      ]
     },
     "metadata": {},
     "output_type": "display_data"
    }
   ],
   "source": []
  },
  {
   "cell_type": "code",
   "execution_count": null,
   "metadata": {},
   "outputs": [],
   "source": []
  }
 ],
 "metadata": {
  "kernelspec": {
   "display_name": "R",
   "language": "R",
   "name": "ir"
  },
  "language_info": {
   "codemirror_mode": "r",
   "file_extension": ".r",
   "mimetype": "text/x-r-source",
   "name": "R",
   "pygments_lexer": "r",
   "version": "3.6.1"
  }
 },
 "nbformat": 4,
 "nbformat_minor": 2
}
