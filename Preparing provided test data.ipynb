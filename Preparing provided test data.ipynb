{
 "cells": [
  {
   "cell_type": "code",
   "execution_count": 359,
   "metadata": {},
   "outputs": [],
   "source": [
    "train = read.csv(\"C:\\\\Users\\\\shrey\\\\OneDrive\\\\Desktop\\\\BUSINESS ANALYTICS\\\\StudentTestFiles_tobeScored.csv\", na.strings = c(\"\",\"NA\"))"
   ]
  },
  {
   "cell_type": "code",
   "execution_count": 360,
   "metadata": {},
   "outputs": [],
   "source": [
    "library(caret)\n",
    "library(ROSE)\n",
    "library(dummies)"
   ]
  },
  {
   "cell_type": "code",
   "execution_count": 361,
   "metadata": {},
   "outputs": [
    {
     "data": {
      "text/html": [
       "<table>\n",
       "<thead><tr><th scope=col>id_student</th><th scope=col>code_module</th><th scope=col>code_presentation</th><th scope=col>gender</th><th scope=col>region</th><th scope=col>highest_education</th><th scope=col>imd_band</th><th scope=col>age_band</th><th scope=col>num_of_prev_attempts</th><th scope=col>studied_credits</th><th scope=col>...</th><th scope=col>date_registration</th><th scope=col>date_unregistration</th><th scope=col>module_presentation_length</th><th scope=col>id_assessment</th><th scope=col>date_submitted</th><th scope=col>is_banked</th><th scope=col>score</th><th scope=col>assessment_type</th><th scope=col>date_assessment</th><th scope=col>weight</th></tr></thead>\n",
       "<tbody>\n",
       "\t<tr><td>104215               </td><td>DDD                  </td><td>2014J                </td><td>M                    </td><td>Scotland             </td><td>A Level or Equivalent</td><td>0-10%                </td><td>0-35                 </td><td>0                    </td><td>270                  </td><td>...                  </td><td>-103                 </td><td>-43                  </td><td>262                  </td><td>NA                   </td><td>NA                   </td><td>NA                   </td><td>NA                   </td><td>NA                   </td><td>NA                   </td><td>NA                   </td></tr>\n",
       "</tbody>\n",
       "</table>\n"
      ],
      "text/latex": [
       "\\begin{tabular}{r|lllllllllllllllllllllllllll}\n",
       " id\\_student & code\\_module & code\\_presentation & gender & region & highest\\_education & imd\\_band & age\\_band & num\\_of\\_prev\\_attempts & studied\\_credits & ... & date\\_registration & date\\_unregistration & module\\_presentation\\_length & id\\_assessment & date\\_submitted & is\\_banked & score & assessment\\_type & date\\_assessment & weight\\\\\n",
       "\\hline\n",
       "\t 104215                & DDD                   & 2014J                 & M                     & Scotland              & A Level or Equivalent & 0-10\\%               & 0-35                  & 0                     & 270                   & ...                   & -103                  & -43                   & 262                   & NA                    & NA                    & NA                    & NA                    & NA                    & NA                    & NA                   \\\\\n",
       "\\end{tabular}\n"
      ],
      "text/markdown": [
       "\n",
       "| id_student | code_module | code_presentation | gender | region | highest_education | imd_band | age_band | num_of_prev_attempts | studied_credits | ... | date_registration | date_unregistration | module_presentation_length | id_assessment | date_submitted | is_banked | score | assessment_type | date_assessment | weight |\n",
       "|---|---|---|---|---|---|---|---|---|---|---|---|---|---|---|---|---|---|---|---|---|\n",
       "| 104215                | DDD                   | 2014J                 | M                     | Scotland              | A Level or Equivalent | 0-10%                 | 0-35                  | 0                     | 270                   | ...                   | -103                  | -43                   | 262                   | NA                    | NA                    | NA                    | NA                    | NA                    | NA                    | NA                    |\n",
       "\n"
      ],
      "text/plain": [
       "  id_student code_module code_presentation gender region  \n",
       "1 104215     DDD         2014J             M      Scotland\n",
       "  highest_education     imd_band age_band num_of_prev_attempts studied_credits\n",
       "1 A Level or Equivalent 0-10%    0-35     0                    270            \n",
       "  ... date_registration date_unregistration module_presentation_length\n",
       "1 ... -103              -43                 262                       \n",
       "  id_assessment date_submitted is_banked score assessment_type date_assessment\n",
       "1 NA            NA             NA        NA    NA              NA             \n",
       "  weight\n",
       "1 NA    "
      ]
     },
     "metadata": {},
     "output_type": "display_data"
    }
   ],
   "source": [
    "head(train,1)"
   ]
  },
  {
   "cell_type": "code",
   "execution_count": 362,
   "metadata": {},
   "outputs": [
    {
     "data": {
      "text/html": [
       "<ol class=list-inline>\n",
       "\t<li>'id_student'</li>\n",
       "\t<li>'code_module'</li>\n",
       "\t<li>'code_presentation'</li>\n",
       "\t<li>'gender'</li>\n",
       "\t<li>'region'</li>\n",
       "\t<li>'highest_education'</li>\n",
       "\t<li>'imd_band'</li>\n",
       "\t<li>'age_band'</li>\n",
       "\t<li>'num_of_prev_attempts'</li>\n",
       "\t<li>'studied_credits'</li>\n",
       "\t<li>'disability'</li>\n",
       "\t<li>'id_site'</li>\n",
       "\t<li>'date_vle'</li>\n",
       "\t<li>'sum_click'</li>\n",
       "\t<li>'activity_type'</li>\n",
       "\t<li>'week_from'</li>\n",
       "\t<li>'week_to'</li>\n",
       "\t<li>'date_registration'</li>\n",
       "\t<li>'date_unregistration'</li>\n",
       "\t<li>'module_presentation_length'</li>\n",
       "\t<li>'id_assessment'</li>\n",
       "\t<li>'date_submitted'</li>\n",
       "\t<li>'is_banked'</li>\n",
       "\t<li>'score'</li>\n",
       "\t<li>'assessment_type'</li>\n",
       "\t<li>'date_assessment'</li>\n",
       "\t<li>'weight'</li>\n",
       "</ol>\n"
      ],
      "text/latex": [
       "\\begin{enumerate*}\n",
       "\\item 'id\\_student'\n",
       "\\item 'code\\_module'\n",
       "\\item 'code\\_presentation'\n",
       "\\item 'gender'\n",
       "\\item 'region'\n",
       "\\item 'highest\\_education'\n",
       "\\item 'imd\\_band'\n",
       "\\item 'age\\_band'\n",
       "\\item 'num\\_of\\_prev\\_attempts'\n",
       "\\item 'studied\\_credits'\n",
       "\\item 'disability'\n",
       "\\item 'id\\_site'\n",
       "\\item 'date\\_vle'\n",
       "\\item 'sum\\_click'\n",
       "\\item 'activity\\_type'\n",
       "\\item 'week\\_from'\n",
       "\\item 'week\\_to'\n",
       "\\item 'date\\_registration'\n",
       "\\item 'date\\_unregistration'\n",
       "\\item 'module\\_presentation\\_length'\n",
       "\\item 'id\\_assessment'\n",
       "\\item 'date\\_submitted'\n",
       "\\item 'is\\_banked'\n",
       "\\item 'score'\n",
       "\\item 'assessment\\_type'\n",
       "\\item 'date\\_assessment'\n",
       "\\item 'weight'\n",
       "\\end{enumerate*}\n"
      ],
      "text/markdown": [
       "1. 'id_student'\n",
       "2. 'code_module'\n",
       "3. 'code_presentation'\n",
       "4. 'gender'\n",
       "5. 'region'\n",
       "6. 'highest_education'\n",
       "7. 'imd_band'\n",
       "8. 'age_band'\n",
       "9. 'num_of_prev_attempts'\n",
       "10. 'studied_credits'\n",
       "11. 'disability'\n",
       "12. 'id_site'\n",
       "13. 'date_vle'\n",
       "14. 'sum_click'\n",
       "15. 'activity_type'\n",
       "16. 'week_from'\n",
       "17. 'week_to'\n",
       "18. 'date_registration'\n",
       "19. 'date_unregistration'\n",
       "20. 'module_presentation_length'\n",
       "21. 'id_assessment'\n",
       "22. 'date_submitted'\n",
       "23. 'is_banked'\n",
       "24. 'score'\n",
       "25. 'assessment_type'\n",
       "26. 'date_assessment'\n",
       "27. 'weight'\n",
       "\n",
       "\n"
      ],
      "text/plain": [
       " [1] \"id_student\"                 \"code_module\"               \n",
       " [3] \"code_presentation\"          \"gender\"                    \n",
       " [5] \"region\"                     \"highest_education\"         \n",
       " [7] \"imd_band\"                   \"age_band\"                  \n",
       " [9] \"num_of_prev_attempts\"       \"studied_credits\"           \n",
       "[11] \"disability\"                 \"id_site\"                   \n",
       "[13] \"date_vle\"                   \"sum_click\"                 \n",
       "[15] \"activity_type\"              \"week_from\"                 \n",
       "[17] \"week_to\"                    \"date_registration\"         \n",
       "[19] \"date_unregistration\"        \"module_presentation_length\"\n",
       "[21] \"id_assessment\"              \"date_submitted\"            \n",
       "[23] \"is_banked\"                  \"score\"                     \n",
       "[25] \"assessment_type\"            \"date_assessment\"           \n",
       "[27] \"weight\"                    "
      ]
     },
     "metadata": {},
     "output_type": "display_data"
    }
   ],
   "source": [
    "names(train)"
   ]
  },
  {
   "cell_type": "code",
   "execution_count": 363,
   "metadata": {},
   "outputs": [],
   "source": [
    "train= train[!is.na(train$activity_type),]\n",
    "train= train[!is.na(train$assessment_type),]"
   ]
  },
  {
   "cell_type": "code",
   "execution_count": 364,
   "metadata": {},
   "outputs": [
    {
     "name": "stderr",
     "output_type": "stream",
     "text": [
      "Warning message in model.matrix.default(~x - 1, model.frame(~x - 1), contrasts = FALSE):\n",
      "\"non-list contrasts argument ignored\""
     ]
    }
   ],
   "source": [
    "#creating dummy for activity_type \n",
    "dum = dummy(train$activity_type,sep=\"_\")"
   ]
  },
  {
   "cell_type": "code",
   "execution_count": 365,
   "metadata": {},
   "outputs": [],
   "source": [
    "train = cbind(train,dum)"
   ]
  },
  {
   "cell_type": "code",
   "execution_count": 366,
   "metadata": {},
   "outputs": [
    {
     "name": "stderr",
     "output_type": "stream",
     "text": [
      "Warning message in model.matrix.default(~x - 1, model.frame(~x - 1), contrasts = FALSE):\n",
      "\"non-list contrasts argument ignored\""
     ]
    }
   ],
   "source": [
    "#Creating dummy for assessment_type\n",
    "dum = dummy(train$assessment_type,sep = \"_\")"
   ]
  },
  {
   "cell_type": "code",
   "execution_count": 367,
   "metadata": {},
   "outputs": [],
   "source": [
    "train = cbind(train,dum)"
   ]
  },
  {
   "cell_type": "code",
   "execution_count": 368,
   "metadata": {},
   "outputs": [
    {
     "data": {
      "text/html": [
       "<table>\n",
       "<thead><tr><th></th><th scope=col>id_student</th><th scope=col>code_module</th><th scope=col>code_presentation</th><th scope=col>gender</th><th scope=col>region</th><th scope=col>highest_education</th><th scope=col>imd_band</th><th scope=col>age_band</th><th scope=col>num_of_prev_attempts</th><th scope=col>studied_credits</th><th scope=col>...</th><th scope=col>NA_ouwiki</th><th scope=col>NA_page</th><th scope=col>NA_questionnaire</th><th scope=col>NA_quiz</th><th scope=col>NA_resource</th><th scope=col>NA_subpage</th><th scope=col>NA_url</th><th scope=col>NA_CMA</th><th scope=col>NA_Exam</th><th scope=col>NA_TMA</th></tr></thead>\n",
       "<tbody>\n",
       "\t<tr><th scope=row>2</th><td>106588               </td><td>BBB                  </td><td>2013J                </td><td>F                    </td><td>Scotland             </td><td>A Level or Equivalent</td><td>60-70%               </td><td>35-55                </td><td>0                    </td><td> 60                  </td><td>...                  </td><td>0                    </td><td>0                    </td><td>0                    </td><td>0                    </td><td>0                    </td><td>0                    </td><td>0                    </td><td>1                    </td><td>0                    </td><td>0                    </td></tr>\n",
       "\t<tr><th scope=row>3</th><td>108207               </td><td>FFF                  </td><td>2014B                </td><td>M                    </td><td>South Region         </td><td>No Formal quals      </td><td>50-60%               </td><td>0-35                 </td><td>0                    </td><td>120                  </td><td>...                  </td><td>0                    </td><td>0                    </td><td>0                    </td><td>0                    </td><td>0                    </td><td>0                    </td><td>0                    </td><td>1                    </td><td>0                    </td><td>0                    </td></tr>\n",
       "\t<tr><th scope=row>4</th><td>108497               </td><td>EEE                  </td><td>2014J                </td><td>M                    </td><td>South West Region    </td><td>Lower Than A Level   </td><td>0-10%                </td><td>0-35                 </td><td>0                    </td><td> 60                  </td><td>...                  </td><td>0                    </td><td>0                    </td><td>0                    </td><td>0                    </td><td>0                    </td><td>0                    </td><td>0                    </td><td>0                    </td><td>0                    </td><td>1                    </td></tr>\n",
       "\t<tr><th scope=row>5</th><td>110524               </td><td>DDD                  </td><td>2014J                </td><td>M                    </td><td>Ireland              </td><td>Lower Than A Level   </td><td>50-60%               </td><td>35-55                </td><td>0                    </td><td> 60                  </td><td>...                  </td><td>0                    </td><td>0                    </td><td>0                    </td><td>0                    </td><td>1                    </td><td>0                    </td><td>0                    </td><td>0                    </td><td>1                    </td><td>0                    </td></tr>\n",
       "\t<tr><th scope=row>6</th><td>111926               </td><td>DDD                  </td><td>2014J                </td><td>M                    </td><td>East Anglian Region  </td><td>Lower Than A Level   </td><td>30-40%               </td><td>0-35                 </td><td>2                    </td><td> 60                  </td><td>...                  </td><td>0                    </td><td>0                    </td><td>0                    </td><td>0                    </td><td>0                    </td><td>0                    </td><td>0                    </td><td>0                    </td><td>0                    </td><td>1                    </td></tr>\n",
       "\t<tr><th scope=row>7</th><td>113295               </td><td>AAA                  </td><td>2013J                </td><td>M                    </td><td>Yorkshire Region     </td><td>Lower Than A Level   </td><td>60-70%               </td><td>35-55                </td><td>0                    </td><td> 60                  </td><td>...                  </td><td>0                    </td><td>0                    </td><td>0                    </td><td>0                    </td><td>0                    </td><td>0                    </td><td>0                    </td><td>0                    </td><td>0                    </td><td>1                    </td></tr>\n",
       "</tbody>\n",
       "</table>\n"
      ],
      "text/latex": [
       "\\begin{tabular}{r|lllllllllllllllllllllllllllllllllllllllllll}\n",
       "  & id\\_student & code\\_module & code\\_presentation & gender & region & highest\\_education & imd\\_band & age\\_band & num\\_of\\_prev\\_attempts & studied\\_credits & ... & NA\\_ouwiki & NA\\_page & NA\\_questionnaire & NA\\_quiz & NA\\_resource & NA\\_subpage & NA\\_url & NA\\_CMA & NA\\_Exam & NA\\_TMA\\\\\n",
       "\\hline\n",
       "\t2 & 106588                & BBB                   & 2013J                 & F                     & Scotland              & A Level or Equivalent & 60-70\\%              & 35-55                 & 0                     &  60                   & ...                   & 0                     & 0                     & 0                     & 0                     & 0                     & 0                     & 0                     & 1                     & 0                     & 0                    \\\\\n",
       "\t3 & 108207                & FFF                   & 2014B                 & M                     & South Region          & No Formal quals       & 50-60\\%              & 0-35                  & 0                     & 120                   & ...                   & 0                     & 0                     & 0                     & 0                     & 0                     & 0                     & 0                     & 1                     & 0                     & 0                    \\\\\n",
       "\t4 & 108497                & EEE                   & 2014J                 & M                     & South West Region     & Lower Than A Level    & 0-10\\%               & 0-35                  & 0                     &  60                   & ...                   & 0                     & 0                     & 0                     & 0                     & 0                     & 0                     & 0                     & 0                     & 0                     & 1                    \\\\\n",
       "\t5 & 110524                & DDD                   & 2014J                 & M                     & Ireland               & Lower Than A Level    & 50-60\\%              & 35-55                 & 0                     &  60                   & ...                   & 0                     & 0                     & 0                     & 0                     & 1                     & 0                     & 0                     & 0                     & 1                     & 0                    \\\\\n",
       "\t6 & 111926                & DDD                   & 2014J                 & M                     & East Anglian Region   & Lower Than A Level    & 30-40\\%              & 0-35                  & 2                     &  60                   & ...                   & 0                     & 0                     & 0                     & 0                     & 0                     & 0                     & 0                     & 0                     & 0                     & 1                    \\\\\n",
       "\t7 & 113295                & AAA                   & 2013J                 & M                     & Yorkshire Region      & Lower Than A Level    & 60-70\\%              & 35-55                 & 0                     &  60                   & ...                   & 0                     & 0                     & 0                     & 0                     & 0                     & 0                     & 0                     & 0                     & 0                     & 1                    \\\\\n",
       "\\end{tabular}\n"
      ],
      "text/markdown": [
       "\n",
       "| <!--/--> | id_student | code_module | code_presentation | gender | region | highest_education | imd_band | age_band | num_of_prev_attempts | studied_credits | ... | NA_ouwiki | NA_page | NA_questionnaire | NA_quiz | NA_resource | NA_subpage | NA_url | NA_CMA | NA_Exam | NA_TMA |\n",
       "|---|---|---|---|---|---|---|---|---|---|---|---|---|---|---|---|---|---|---|---|---|---|\n",
       "| 2 | 106588                | BBB                   | 2013J                 | F                     | Scotland              | A Level or Equivalent | 60-70%                | 35-55                 | 0                     |  60                   | ...                   | 0                     | 0                     | 0                     | 0                     | 0                     | 0                     | 0                     | 1                     | 0                     | 0                     |\n",
       "| 3 | 108207                | FFF                   | 2014B                 | M                     | South Region          | No Formal quals       | 50-60%                | 0-35                  | 0                     | 120                   | ...                   | 0                     | 0                     | 0                     | 0                     | 0                     | 0                     | 0                     | 1                     | 0                     | 0                     |\n",
       "| 4 | 108497                | EEE                   | 2014J                 | M                     | South West Region     | Lower Than A Level    | 0-10%                 | 0-35                  | 0                     |  60                   | ...                   | 0                     | 0                     | 0                     | 0                     | 0                     | 0                     | 0                     | 0                     | 0                     | 1                     |\n",
       "| 5 | 110524                | DDD                   | 2014J                 | M                     | Ireland               | Lower Than A Level    | 50-60%                | 35-55                 | 0                     |  60                   | ...                   | 0                     | 0                     | 0                     | 0                     | 1                     | 0                     | 0                     | 0                     | 1                     | 0                     |\n",
       "| 6 | 111926                | DDD                   | 2014J                 | M                     | East Anglian Region   | Lower Than A Level    | 30-40%                | 0-35                  | 2                     |  60                   | ...                   | 0                     | 0                     | 0                     | 0                     | 0                     | 0                     | 0                     | 0                     | 0                     | 1                     |\n",
       "| 7 | 113295                | AAA                   | 2013J                 | M                     | Yorkshire Region      | Lower Than A Level    | 60-70%                | 35-55                 | 0                     |  60                   | ...                   | 0                     | 0                     | 0                     | 0                     | 0                     | 0                     | 0                     | 0                     | 0                     | 1                     |\n",
       "\n"
      ],
      "text/plain": [
       "  id_student code_module code_presentation gender region             \n",
       "2 106588     BBB         2013J             F      Scotland           \n",
       "3 108207     FFF         2014B             M      South Region       \n",
       "4 108497     EEE         2014J             M      South West Region  \n",
       "5 110524     DDD         2014J             M      Ireland            \n",
       "6 111926     DDD         2014J             M      East Anglian Region\n",
       "7 113295     AAA         2013J             M      Yorkshire Region   \n",
       "  highest_education     imd_band age_band num_of_prev_attempts studied_credits\n",
       "2 A Level or Equivalent 60-70%   35-55    0                     60            \n",
       "3 No Formal quals       50-60%   0-35     0                    120            \n",
       "4 Lower Than A Level    0-10%    0-35     0                     60            \n",
       "5 Lower Than A Level    50-60%   35-55    0                     60            \n",
       "6 Lower Than A Level    30-40%   0-35     2                     60            \n",
       "7 Lower Than A Level    60-70%   35-55    0                     60            \n",
       "  ... NA_ouwiki NA_page NA_questionnaire NA_quiz NA_resource NA_subpage NA_url\n",
       "2 ... 0         0       0                0       0           0          0     \n",
       "3 ... 0         0       0                0       0           0          0     \n",
       "4 ... 0         0       0                0       0           0          0     \n",
       "5 ... 0         0       0                0       1           0          0     \n",
       "6 ... 0         0       0                0       0           0          0     \n",
       "7 ... 0         0       0                0       0           0          0     \n",
       "  NA_CMA NA_Exam NA_TMA\n",
       "2 1      0       0     \n",
       "3 1      0       0     \n",
       "4 0      0       1     \n",
       "5 0      1       0     \n",
       "6 0      0       1     \n",
       "7 0      0       1     "
      ]
     },
     "metadata": {},
     "output_type": "display_data"
    }
   ],
   "source": [
    "head(train)"
   ]
  },
  {
   "cell_type": "code",
   "execution_count": 369,
   "metadata": {},
   "outputs": [
    {
     "data": {
      "text/html": [
       "<ol class=list-inline>\n",
       "\t<li>'id_student'</li>\n",
       "\t<li>'code_module'</li>\n",
       "\t<li>'code_presentation'</li>\n",
       "\t<li>'gender'</li>\n",
       "\t<li>'region'</li>\n",
       "\t<li>'highest_education'</li>\n",
       "\t<li>'imd_band'</li>\n",
       "\t<li>'age_band'</li>\n",
       "\t<li>'num_of_prev_attempts'</li>\n",
       "\t<li>'studied_credits'</li>\n",
       "\t<li>'disability'</li>\n",
       "\t<li>'id_site'</li>\n",
       "\t<li>'sum_click'</li>\n",
       "\t<li>'activity_type'</li>\n",
       "\t<li>'date_registration'</li>\n",
       "\t<li>'date_unregistration'</li>\n",
       "\t<li>'module_presentation_length'</li>\n",
       "\t<li>'id_assessment'</li>\n",
       "\t<li>'score'</li>\n",
       "\t<li>'assessment_type'</li>\n",
       "\t<li>'weight'</li>\n",
       "\t<li>'NA_externalquiz'</li>\n",
       "\t<li>'NA_forumng'</li>\n",
       "\t<li>'NA_glossary'</li>\n",
       "\t<li>'NA_homepage'</li>\n",
       "\t<li>'NA_oucollaborate'</li>\n",
       "\t<li>'NA_oucontent'</li>\n",
       "\t<li>'NA_ouwiki'</li>\n",
       "\t<li>'NA_page'</li>\n",
       "\t<li>'NA_questionnaire'</li>\n",
       "\t<li>'NA_quiz'</li>\n",
       "\t<li>'NA_resource'</li>\n",
       "\t<li>'NA_subpage'</li>\n",
       "\t<li>'NA_url'</li>\n",
       "\t<li>'NA_CMA'</li>\n",
       "\t<li>'NA_Exam'</li>\n",
       "\t<li>'NA_TMA'</li>\n",
       "</ol>\n"
      ],
      "text/latex": [
       "\\begin{enumerate*}\n",
       "\\item 'id\\_student'\n",
       "\\item 'code\\_module'\n",
       "\\item 'code\\_presentation'\n",
       "\\item 'gender'\n",
       "\\item 'region'\n",
       "\\item 'highest\\_education'\n",
       "\\item 'imd\\_band'\n",
       "\\item 'age\\_band'\n",
       "\\item 'num\\_of\\_prev\\_attempts'\n",
       "\\item 'studied\\_credits'\n",
       "\\item 'disability'\n",
       "\\item 'id\\_site'\n",
       "\\item 'sum\\_click'\n",
       "\\item 'activity\\_type'\n",
       "\\item 'date\\_registration'\n",
       "\\item 'date\\_unregistration'\n",
       "\\item 'module\\_presentation\\_length'\n",
       "\\item 'id\\_assessment'\n",
       "\\item 'score'\n",
       "\\item 'assessment\\_type'\n",
       "\\item 'weight'\n",
       "\\item 'NA\\_externalquiz'\n",
       "\\item 'NA\\_forumng'\n",
       "\\item 'NA\\_glossary'\n",
       "\\item 'NA\\_homepage'\n",
       "\\item 'NA\\_oucollaborate'\n",
       "\\item 'NA\\_oucontent'\n",
       "\\item 'NA\\_ouwiki'\n",
       "\\item 'NA\\_page'\n",
       "\\item 'NA\\_questionnaire'\n",
       "\\item 'NA\\_quiz'\n",
       "\\item 'NA\\_resource'\n",
       "\\item 'NA\\_subpage'\n",
       "\\item 'NA\\_url'\n",
       "\\item 'NA\\_CMA'\n",
       "\\item 'NA\\_Exam'\n",
       "\\item 'NA\\_TMA'\n",
       "\\end{enumerate*}\n"
      ],
      "text/markdown": [
       "1. 'id_student'\n",
       "2. 'code_module'\n",
       "3. 'code_presentation'\n",
       "4. 'gender'\n",
       "5. 'region'\n",
       "6. 'highest_education'\n",
       "7. 'imd_band'\n",
       "8. 'age_band'\n",
       "9. 'num_of_prev_attempts'\n",
       "10. 'studied_credits'\n",
       "11. 'disability'\n",
       "12. 'id_site'\n",
       "13. 'sum_click'\n",
       "14. 'activity_type'\n",
       "15. 'date_registration'\n",
       "16. 'date_unregistration'\n",
       "17. 'module_presentation_length'\n",
       "18. 'id_assessment'\n",
       "19. 'score'\n",
       "20. 'assessment_type'\n",
       "21. 'weight'\n",
       "22. 'NA_externalquiz'\n",
       "23. 'NA_forumng'\n",
       "24. 'NA_glossary'\n",
       "25. 'NA_homepage'\n",
       "26. 'NA_oucollaborate'\n",
       "27. 'NA_oucontent'\n",
       "28. 'NA_ouwiki'\n",
       "29. 'NA_page'\n",
       "30. 'NA_questionnaire'\n",
       "31. 'NA_quiz'\n",
       "32. 'NA_resource'\n",
       "33. 'NA_subpage'\n",
       "34. 'NA_url'\n",
       "35. 'NA_CMA'\n",
       "36. 'NA_Exam'\n",
       "37. 'NA_TMA'\n",
       "\n",
       "\n"
      ],
      "text/plain": [
       " [1] \"id_student\"                 \"code_module\"               \n",
       " [3] \"code_presentation\"          \"gender\"                    \n",
       " [5] \"region\"                     \"highest_education\"         \n",
       " [7] \"imd_band\"                   \"age_band\"                  \n",
       " [9] \"num_of_prev_attempts\"       \"studied_credits\"           \n",
       "[11] \"disability\"                 \"id_site\"                   \n",
       "[13] \"sum_click\"                  \"activity_type\"             \n",
       "[15] \"date_registration\"          \"date_unregistration\"       \n",
       "[17] \"module_presentation_length\" \"id_assessment\"             \n",
       "[19] \"score\"                      \"assessment_type\"           \n",
       "[21] \"weight\"                     \"NA_externalquiz\"           \n",
       "[23] \"NA_forumng\"                 \"NA_glossary\"               \n",
       "[25] \"NA_homepage\"                \"NA_oucollaborate\"          \n",
       "[27] \"NA_oucontent\"               \"NA_ouwiki\"                 \n",
       "[29] \"NA_page\"                    \"NA_questionnaire\"          \n",
       "[31] \"NA_quiz\"                    \"NA_resource\"               \n",
       "[33] \"NA_subpage\"                 \"NA_url\"                    \n",
       "[35] \"NA_CMA\"                     \"NA_Exam\"                   \n",
       "[37] \"NA_TMA\"                    "
      ]
     },
     "metadata": {},
     "output_type": "display_data"
    }
   ],
   "source": [
    "#replacing unregistered NA with \"completed\"\n",
    "train[is.na(train$date_unregistration),\"date_unregistration\"] = \"Completed\"\n",
    "#removing unwanted columns\n",
    "train= train[,-which(names(train) %in% c(\"week_from\",\"week_to\",\"date_vle\",\"date_submitted\",\"is_banked\",\"date_assessment\"))]\n",
    "names(train)"
   ]
  },
  {
   "cell_type": "code",
   "execution_count": 370,
   "metadata": {},
   "outputs": [],
   "source": [
    "#replacing NA score with mean of other NON NA scores\n",
    "train[is.na(train$score),\"score\"] = mean(train[!is.na(train$score),\"score\"])"
   ]
  },
  {
   "cell_type": "code",
   "execution_count": 371,
   "metadata": {},
   "outputs": [
    {
     "data": {
      "text/html": [
       "<dl class=dl-horizontal>\n",
       "\t<dt>0-10%</dt>\n",
       "\t\t<dd>2</dd>\n",
       "\t<dt>10-20 %</dt>\n",
       "\t\t<dd>4</dd>\n",
       "\t<dt>20-30%</dt>\n",
       "\t\t<dd>0</dd>\n",
       "\t<dt>30-40%</dt>\n",
       "\t\t<dd>2</dd>\n",
       "\t<dt>40-50%</dt>\n",
       "\t\t<dd>3</dd>\n",
       "\t<dt>50-60%</dt>\n",
       "\t\t<dd>1</dd>\n",
       "\t<dt>60-70%</dt>\n",
       "\t\t<dd>2</dd>\n",
       "\t<dt>70-80%</dt>\n",
       "\t\t<dd>0</dd>\n",
       "\t<dt>80-90%</dt>\n",
       "\t\t<dd>1</dd>\n",
       "\t<dt>90-100%</dt>\n",
       "\t\t<dd>0</dd>\n",
       "</dl>\n"
      ],
      "text/latex": [
       "\\begin{description*}\n",
       "\\item[0-10\\textbackslash{}\\%] 2\n",
       "\\item[10-20 \\textbackslash{}\\%] 4\n",
       "\\item[20-30\\textbackslash{}\\%] 0\n",
       "\\item[30-40\\textbackslash{}\\%] 2\n",
       "\\item[40-50\\textbackslash{}\\%] 3\n",
       "\\item[50-60\\textbackslash{}\\%] 1\n",
       "\\item[60-70\\textbackslash{}\\%] 2\n",
       "\\item[70-80\\textbackslash{}\\%] 0\n",
       "\\item[80-90\\textbackslash{}\\%] 1\n",
       "\\item[90-100\\textbackslash{}\\%] 0\n",
       "\\end{description*}\n"
      ],
      "text/markdown": [
       "0-10%\n",
       ":   210-20 %\n",
       ":   420-30%\n",
       ":   030-40%\n",
       ":   240-50%\n",
       ":   350-60%\n",
       ":   160-70%\n",
       ":   270-80%\n",
       ":   080-90%\n",
       ":   190-100%\n",
       ":   0\n",
       "\n"
      ],
      "text/plain": [
       "  0-10% 10-20 %  20-30%  30-40%  40-50%  50-60%  60-70%  70-80%  80-90% 90-100% \n",
       "      2       4       0       2       3       1       2       0       1       0 "
      ]
     },
     "metadata": {},
     "output_type": "display_data"
    }
   ],
   "source": [
    "# Replacing mode of north region imd_band with missing imd_band\n",
    "summary(train[train$region==\"North Region\"& !is.na(train$imd_band),\"imd_band\"])\n",
    "train[is.na(train$imd_band),\"imd_band\"] =\"10-20 %\""
   ]
  },
  {
   "cell_type": "code",
   "execution_count": 372,
   "metadata": {},
   "outputs": [
    {
     "data": {
      "text/html": [
       "<dl class=dl-horizontal>\n",
       "\t<dt>id_student</dt>\n",
       "\t\t<dd>0</dd>\n",
       "\t<dt>code_module</dt>\n",
       "\t\t<dd>0</dd>\n",
       "\t<dt>code_presentation</dt>\n",
       "\t\t<dd>0</dd>\n",
       "\t<dt>gender</dt>\n",
       "\t\t<dd>0</dd>\n",
       "\t<dt>region</dt>\n",
       "\t\t<dd>0</dd>\n",
       "\t<dt>highest_education</dt>\n",
       "\t\t<dd>0</dd>\n",
       "\t<dt>imd_band</dt>\n",
       "\t\t<dd>0</dd>\n",
       "\t<dt>age_band</dt>\n",
       "\t\t<dd>0</dd>\n",
       "\t<dt>num_of_prev_attempts</dt>\n",
       "\t\t<dd>0</dd>\n",
       "\t<dt>studied_credits</dt>\n",
       "\t\t<dd>0</dd>\n",
       "\t<dt>disability</dt>\n",
       "\t\t<dd>0</dd>\n",
       "\t<dt>id_site</dt>\n",
       "\t\t<dd>0</dd>\n",
       "\t<dt>sum_click</dt>\n",
       "\t\t<dd>0</dd>\n",
       "\t<dt>activity_type</dt>\n",
       "\t\t<dd>0</dd>\n",
       "\t<dt>date_registration</dt>\n",
       "\t\t<dd>0</dd>\n",
       "\t<dt>date_unregistration</dt>\n",
       "\t\t<dd>0</dd>\n",
       "\t<dt>module_presentation_length</dt>\n",
       "\t\t<dd>0</dd>\n",
       "\t<dt>id_assessment</dt>\n",
       "\t\t<dd>0</dd>\n",
       "\t<dt>score</dt>\n",
       "\t\t<dd>0</dd>\n",
       "\t<dt>assessment_type</dt>\n",
       "\t\t<dd>0</dd>\n",
       "\t<dt>weight</dt>\n",
       "\t\t<dd>0</dd>\n",
       "\t<dt>NA_externalquiz</dt>\n",
       "\t\t<dd>0</dd>\n",
       "\t<dt>NA_forumng</dt>\n",
       "\t\t<dd>0</dd>\n",
       "\t<dt>NA_glossary</dt>\n",
       "\t\t<dd>0</dd>\n",
       "\t<dt>NA_homepage</dt>\n",
       "\t\t<dd>0</dd>\n",
       "\t<dt>NA_oucollaborate</dt>\n",
       "\t\t<dd>0</dd>\n",
       "\t<dt>NA_oucontent</dt>\n",
       "\t\t<dd>0</dd>\n",
       "\t<dt>NA_ouwiki</dt>\n",
       "\t\t<dd>0</dd>\n",
       "\t<dt>NA_page</dt>\n",
       "\t\t<dd>0</dd>\n",
       "\t<dt>NA_questionnaire</dt>\n",
       "\t\t<dd>0</dd>\n",
       "\t<dt>NA_quiz</dt>\n",
       "\t\t<dd>0</dd>\n",
       "\t<dt>NA_resource</dt>\n",
       "\t\t<dd>0</dd>\n",
       "\t<dt>NA_subpage</dt>\n",
       "\t\t<dd>0</dd>\n",
       "\t<dt>NA_url</dt>\n",
       "\t\t<dd>0</dd>\n",
       "\t<dt>NA_CMA</dt>\n",
       "\t\t<dd>0</dd>\n",
       "\t<dt>NA_Exam</dt>\n",
       "\t\t<dd>0</dd>\n",
       "\t<dt>NA_TMA</dt>\n",
       "\t\t<dd>0</dd>\n",
       "</dl>\n"
      ],
      "text/latex": [
       "\\begin{description*}\n",
       "\\item[id\\textbackslash{}\\_student] 0\n",
       "\\item[code\\textbackslash{}\\_module] 0\n",
       "\\item[code\\textbackslash{}\\_presentation] 0\n",
       "\\item[gender] 0\n",
       "\\item[region] 0\n",
       "\\item[highest\\textbackslash{}\\_education] 0\n",
       "\\item[imd\\textbackslash{}\\_band] 0\n",
       "\\item[age\\textbackslash{}\\_band] 0\n",
       "\\item[num\\textbackslash{}\\_of\\textbackslash{}\\_prev\\textbackslash{}\\_attempts] 0\n",
       "\\item[studied\\textbackslash{}\\_credits] 0\n",
       "\\item[disability] 0\n",
       "\\item[id\\textbackslash{}\\_site] 0\n",
       "\\item[sum\\textbackslash{}\\_click] 0\n",
       "\\item[activity\\textbackslash{}\\_type] 0\n",
       "\\item[date\\textbackslash{}\\_registration] 0\n",
       "\\item[date\\textbackslash{}\\_unregistration] 0\n",
       "\\item[module\\textbackslash{}\\_presentation\\textbackslash{}\\_length] 0\n",
       "\\item[id\\textbackslash{}\\_assessment] 0\n",
       "\\item[score] 0\n",
       "\\item[assessment\\textbackslash{}\\_type] 0\n",
       "\\item[weight] 0\n",
       "\\item[NA\\textbackslash{}\\_externalquiz] 0\n",
       "\\item[NA\\textbackslash{}\\_forumng] 0\n",
       "\\item[NA\\textbackslash{}\\_glossary] 0\n",
       "\\item[NA\\textbackslash{}\\_homepage] 0\n",
       "\\item[NA\\textbackslash{}\\_oucollaborate] 0\n",
       "\\item[NA\\textbackslash{}\\_oucontent] 0\n",
       "\\item[NA\\textbackslash{}\\_ouwiki] 0\n",
       "\\item[NA\\textbackslash{}\\_page] 0\n",
       "\\item[NA\\textbackslash{}\\_questionnaire] 0\n",
       "\\item[NA\\textbackslash{}\\_quiz] 0\n",
       "\\item[NA\\textbackslash{}\\_resource] 0\n",
       "\\item[NA\\textbackslash{}\\_subpage] 0\n",
       "\\item[NA\\textbackslash{}\\_url] 0\n",
       "\\item[NA\\textbackslash{}\\_CMA] 0\n",
       "\\item[NA\\textbackslash{}\\_Exam] 0\n",
       "\\item[NA\\textbackslash{}\\_TMA] 0\n",
       "\\end{description*}\n"
      ],
      "text/markdown": [
       "id_student\n",
       ":   0code_module\n",
       ":   0code_presentation\n",
       ":   0gender\n",
       ":   0region\n",
       ":   0highest_education\n",
       ":   0imd_band\n",
       ":   0age_band\n",
       ":   0num_of_prev_attempts\n",
       ":   0studied_credits\n",
       ":   0disability\n",
       ":   0id_site\n",
       ":   0sum_click\n",
       ":   0activity_type\n",
       ":   0date_registration\n",
       ":   0date_unregistration\n",
       ":   0module_presentation_length\n",
       ":   0id_assessment\n",
       ":   0score\n",
       ":   0assessment_type\n",
       ":   0weight\n",
       ":   0NA_externalquiz\n",
       ":   0NA_forumng\n",
       ":   0NA_glossary\n",
       ":   0NA_homepage\n",
       ":   0NA_oucollaborate\n",
       ":   0NA_oucontent\n",
       ":   0NA_ouwiki\n",
       ":   0NA_page\n",
       ":   0NA_questionnaire\n",
       ":   0NA_quiz\n",
       ":   0NA_resource\n",
       ":   0NA_subpage\n",
       ":   0NA_url\n",
       ":   0NA_CMA\n",
       ":   0NA_Exam\n",
       ":   0NA_TMA\n",
       ":   0\n",
       "\n"
      ],
      "text/plain": [
       "                id_student                code_module \n",
       "                         0                          0 \n",
       "         code_presentation                     gender \n",
       "                         0                          0 \n",
       "                    region          highest_education \n",
       "                         0                          0 \n",
       "                  imd_band                   age_band \n",
       "                         0                          0 \n",
       "      num_of_prev_attempts            studied_credits \n",
       "                         0                          0 \n",
       "                disability                    id_site \n",
       "                         0                          0 \n",
       "                 sum_click              activity_type \n",
       "                         0                          0 \n",
       "         date_registration        date_unregistration \n",
       "                         0                          0 \n",
       "module_presentation_length              id_assessment \n",
       "                         0                          0 \n",
       "                     score            assessment_type \n",
       "                         0                          0 \n",
       "                    weight            NA_externalquiz \n",
       "                         0                          0 \n",
       "                NA_forumng                NA_glossary \n",
       "                         0                          0 \n",
       "               NA_homepage           NA_oucollaborate \n",
       "                         0                          0 \n",
       "              NA_oucontent                  NA_ouwiki \n",
       "                         0                          0 \n",
       "                   NA_page           NA_questionnaire \n",
       "                         0                          0 \n",
       "                   NA_quiz                NA_resource \n",
       "                         0                          0 \n",
       "                NA_subpage                     NA_url \n",
       "                         0                          0 \n",
       "                    NA_CMA                    NA_Exam \n",
       "                         0                          0 \n",
       "                    NA_TMA \n",
       "                         0 "
      ]
     },
     "metadata": {},
     "output_type": "display_data"
    }
   ],
   "source": [
    "#no NA values\n",
    "sapply(train, function(x) sum(is.na(x)))"
   ]
  },
  {
   "cell_type": "code",
   "execution_count": 373,
   "metadata": {},
   "outputs": [],
   "source": [
    "#train$TMA_score = train$score"
   ]
  },
  {
   "cell_type": "code",
   "execution_count": 374,
   "metadata": {},
   "outputs": [],
   "source": [
    "#train= train[,-which(names(train) %in% c(\"score\"))]"
   ]
  },
  {
   "cell_type": "code",
   "execution_count": 375,
   "metadata": {},
   "outputs": [],
   "source": [
    "#putting scores in the assessment\n",
    "train$TMA_score = train$score* train$NA_TMA\n",
    "train$Exam_score= train$score* train$NA_Exam\n",
    "train$CMA_Score= train$score* train$NA_CMA"
   ]
  },
  {
   "cell_type": "code",
   "execution_count": 376,
   "metadata": {},
   "outputs": [],
   "source": [
    "From_model = read.csv(\"C:\\\\Users\\\\shrey\\\\OneDrive\\\\Desktop\\\\BUSINESS ANALYTICS\\\\Datasets\\\\Project2\\\\final_data2.csv\", na.strings = c(\"\",\"NA\"))"
   ]
  },
  {
   "cell_type": "code",
   "execution_count": 377,
   "metadata": {},
   "outputs": [],
   "source": [
    "train= train[,-which(names(train) %in% c(\"NA_CMA\",\"NA_Exam\",\"NA_TMA\",\"id_site\",\"activity_type\",\"id_assessment\",\"score\",\"assessment_type\"))]"
   ]
  },
  {
   "cell_type": "code",
   "execution_count": 378,
   "metadata": {},
   "outputs": [],
   "source": [
    "\n",
    "From_model= From_model[,-which(names(From_model) %in% c(\"key\",\"X\",\"CMA_count\",\"Exam_count\",\"TMA_count\",\"NA_sharedsubpage\",\n",
    "                                                        \"NA_dataplus\",\"NA_dualpane\",\"NA_folder\",\"NA_htmlactivity\",\"NA_ouelluminate\",\n",
    "                                                        \"NA_repeatactivity\"))]"
   ]
  },
  {
   "cell_type": "code",
   "execution_count": 379,
   "metadata": {},
   "outputs": [
    {
     "data": {
      "text/html": [
       "33"
      ],
      "text/latex": [
       "33"
      ],
      "text/markdown": [
       "33"
      ],
      "text/plain": [
       "[1] 33"
      ]
     },
     "metadata": {},
     "output_type": "display_data"
    },
    {
     "data": {
      "text/html": [
       "32"
      ],
      "text/latex": [
       "32"
      ],
      "text/markdown": [
       "32"
      ],
      "text/plain": [
       "[1] 32"
      ]
     },
     "metadata": {},
     "output_type": "display_data"
    }
   ],
   "source": [
    "length(names(From_model))\n",
    "length(names(train))"
   ]
  },
  {
   "cell_type": "code",
   "execution_count": 380,
   "metadata": {},
   "outputs": [
    {
     "data": {
      "text/html": [
       "<ol class=list-inline>\n",
       "\t<li>'code_module.x.x'</li>\n",
       "\t<li>'code_presentation.x.x'</li>\n",
       "\t<li>'id_student.x'</li>\n",
       "\t<li>'date_registration'</li>\n",
       "\t<li>'date_unregistration'</li>\n",
       "\t<li>'gender'</li>\n",
       "\t<li>'region'</li>\n",
       "\t<li>'highest_education'</li>\n",
       "\t<li>'imd_band'</li>\n",
       "\t<li>'age_band'</li>\n",
       "\t<li>'num_of_prev_attempts'</li>\n",
       "\t<li>'studied_credits'</li>\n",
       "\t<li>'disability'</li>\n",
       "\t<li>'final_result'</li>\n",
       "\t<li>'sum_click'</li>\n",
       "\t<li>'NA_externalquiz'</li>\n",
       "\t<li>'NA_forumng'</li>\n",
       "\t<li>'NA_glossary'</li>\n",
       "\t<li>'NA_homepage'</li>\n",
       "\t<li>'NA_oucollaborate'</li>\n",
       "\t<li>'NA_oucontent'</li>\n",
       "\t<li>'NA_ouwiki'</li>\n",
       "\t<li>'NA_page'</li>\n",
       "\t<li>'NA_questionnaire'</li>\n",
       "\t<li>'NA_quiz'</li>\n",
       "\t<li>'NA_resource'</li>\n",
       "\t<li>'NA_subpage'</li>\n",
       "\t<li>'NA_url'</li>\n",
       "\t<li>'weight'</li>\n",
       "\t<li>'TMA_score'</li>\n",
       "\t<li>'Exam_score'</li>\n",
       "\t<li>'CMA_Score'</li>\n",
       "\t<li>'module_presentation_length'</li>\n",
       "</ol>\n"
      ],
      "text/latex": [
       "\\begin{enumerate*}\n",
       "\\item 'code\\_module.x.x'\n",
       "\\item 'code\\_presentation.x.x'\n",
       "\\item 'id\\_student.x'\n",
       "\\item 'date\\_registration'\n",
       "\\item 'date\\_unregistration'\n",
       "\\item 'gender'\n",
       "\\item 'region'\n",
       "\\item 'highest\\_education'\n",
       "\\item 'imd\\_band'\n",
       "\\item 'age\\_band'\n",
       "\\item 'num\\_of\\_prev\\_attempts'\n",
       "\\item 'studied\\_credits'\n",
       "\\item 'disability'\n",
       "\\item 'final\\_result'\n",
       "\\item 'sum\\_click'\n",
       "\\item 'NA\\_externalquiz'\n",
       "\\item 'NA\\_forumng'\n",
       "\\item 'NA\\_glossary'\n",
       "\\item 'NA\\_homepage'\n",
       "\\item 'NA\\_oucollaborate'\n",
       "\\item 'NA\\_oucontent'\n",
       "\\item 'NA\\_ouwiki'\n",
       "\\item 'NA\\_page'\n",
       "\\item 'NA\\_questionnaire'\n",
       "\\item 'NA\\_quiz'\n",
       "\\item 'NA\\_resource'\n",
       "\\item 'NA\\_subpage'\n",
       "\\item 'NA\\_url'\n",
       "\\item 'weight'\n",
       "\\item 'TMA\\_score'\n",
       "\\item 'Exam\\_score'\n",
       "\\item 'CMA\\_Score'\n",
       "\\item 'module\\_presentation\\_length'\n",
       "\\end{enumerate*}\n"
      ],
      "text/markdown": [
       "1. 'code_module.x.x'\n",
       "2. 'code_presentation.x.x'\n",
       "3. 'id_student.x'\n",
       "4. 'date_registration'\n",
       "5. 'date_unregistration'\n",
       "6. 'gender'\n",
       "7. 'region'\n",
       "8. 'highest_education'\n",
       "9. 'imd_band'\n",
       "10. 'age_band'\n",
       "11. 'num_of_prev_attempts'\n",
       "12. 'studied_credits'\n",
       "13. 'disability'\n",
       "14. 'final_result'\n",
       "15. 'sum_click'\n",
       "16. 'NA_externalquiz'\n",
       "17. 'NA_forumng'\n",
       "18. 'NA_glossary'\n",
       "19. 'NA_homepage'\n",
       "20. 'NA_oucollaborate'\n",
       "21. 'NA_oucontent'\n",
       "22. 'NA_ouwiki'\n",
       "23. 'NA_page'\n",
       "24. 'NA_questionnaire'\n",
       "25. 'NA_quiz'\n",
       "26. 'NA_resource'\n",
       "27. 'NA_subpage'\n",
       "28. 'NA_url'\n",
       "29. 'weight'\n",
       "30. 'TMA_score'\n",
       "31. 'Exam_score'\n",
       "32. 'CMA_Score'\n",
       "33. 'module_presentation_length'\n",
       "\n",
       "\n"
      ],
      "text/plain": [
       " [1] \"code_module.x.x\"            \"code_presentation.x.x\"     \n",
       " [3] \"id_student.x\"               \"date_registration\"         \n",
       " [5] \"date_unregistration\"        \"gender\"                    \n",
       " [7] \"region\"                     \"highest_education\"         \n",
       " [9] \"imd_band\"                   \"age_band\"                  \n",
       "[11] \"num_of_prev_attempts\"       \"studied_credits\"           \n",
       "[13] \"disability\"                 \"final_result\"              \n",
       "[15] \"sum_click\"                  \"NA_externalquiz\"           \n",
       "[17] \"NA_forumng\"                 \"NA_glossary\"               \n",
       "[19] \"NA_homepage\"                \"NA_oucollaborate\"          \n",
       "[21] \"NA_oucontent\"               \"NA_ouwiki\"                 \n",
       "[23] \"NA_page\"                    \"NA_questionnaire\"          \n",
       "[25] \"NA_quiz\"                    \"NA_resource\"               \n",
       "[27] \"NA_subpage\"                 \"NA_url\"                    \n",
       "[29] \"weight\"                     \"TMA_score\"                 \n",
       "[31] \"Exam_score\"                 \"CMA_Score\"                 \n",
       "[33] \"module_presentation_length\""
      ]
     },
     "metadata": {},
     "output_type": "display_data"
    },
    {
     "data": {
      "text/html": [
       "<ol class=list-inline>\n",
       "\t<li>'id_student'</li>\n",
       "\t<li>'code_module'</li>\n",
       "\t<li>'code_presentation'</li>\n",
       "\t<li>'gender'</li>\n",
       "\t<li>'region'</li>\n",
       "\t<li>'highest_education'</li>\n",
       "\t<li>'imd_band'</li>\n",
       "\t<li>'age_band'</li>\n",
       "\t<li>'num_of_prev_attempts'</li>\n",
       "\t<li>'studied_credits'</li>\n",
       "\t<li>'disability'</li>\n",
       "\t<li>'sum_click'</li>\n",
       "\t<li>'date_registration'</li>\n",
       "\t<li>'date_unregistration'</li>\n",
       "\t<li>'module_presentation_length'</li>\n",
       "\t<li>'weight'</li>\n",
       "\t<li>'NA_externalquiz'</li>\n",
       "\t<li>'NA_forumng'</li>\n",
       "\t<li>'NA_glossary'</li>\n",
       "\t<li>'NA_homepage'</li>\n",
       "\t<li>'NA_oucollaborate'</li>\n",
       "\t<li>'NA_oucontent'</li>\n",
       "\t<li>'NA_ouwiki'</li>\n",
       "\t<li>'NA_page'</li>\n",
       "\t<li>'NA_questionnaire'</li>\n",
       "\t<li>'NA_quiz'</li>\n",
       "\t<li>'NA_resource'</li>\n",
       "\t<li>'NA_subpage'</li>\n",
       "\t<li>'NA_url'</li>\n",
       "\t<li>'TMA_score'</li>\n",
       "\t<li>'Exam_score'</li>\n",
       "\t<li>'CMA_Score'</li>\n",
       "</ol>\n"
      ],
      "text/latex": [
       "\\begin{enumerate*}\n",
       "\\item 'id\\_student'\n",
       "\\item 'code\\_module'\n",
       "\\item 'code\\_presentation'\n",
       "\\item 'gender'\n",
       "\\item 'region'\n",
       "\\item 'highest\\_education'\n",
       "\\item 'imd\\_band'\n",
       "\\item 'age\\_band'\n",
       "\\item 'num\\_of\\_prev\\_attempts'\n",
       "\\item 'studied\\_credits'\n",
       "\\item 'disability'\n",
       "\\item 'sum\\_click'\n",
       "\\item 'date\\_registration'\n",
       "\\item 'date\\_unregistration'\n",
       "\\item 'module\\_presentation\\_length'\n",
       "\\item 'weight'\n",
       "\\item 'NA\\_externalquiz'\n",
       "\\item 'NA\\_forumng'\n",
       "\\item 'NA\\_glossary'\n",
       "\\item 'NA\\_homepage'\n",
       "\\item 'NA\\_oucollaborate'\n",
       "\\item 'NA\\_oucontent'\n",
       "\\item 'NA\\_ouwiki'\n",
       "\\item 'NA\\_page'\n",
       "\\item 'NA\\_questionnaire'\n",
       "\\item 'NA\\_quiz'\n",
       "\\item 'NA\\_resource'\n",
       "\\item 'NA\\_subpage'\n",
       "\\item 'NA\\_url'\n",
       "\\item 'TMA\\_score'\n",
       "\\item 'Exam\\_score'\n",
       "\\item 'CMA\\_Score'\n",
       "\\end{enumerate*}\n"
      ],
      "text/markdown": [
       "1. 'id_student'\n",
       "2. 'code_module'\n",
       "3. 'code_presentation'\n",
       "4. 'gender'\n",
       "5. 'region'\n",
       "6. 'highest_education'\n",
       "7. 'imd_band'\n",
       "8. 'age_band'\n",
       "9. 'num_of_prev_attempts'\n",
       "10. 'studied_credits'\n",
       "11. 'disability'\n",
       "12. 'sum_click'\n",
       "13. 'date_registration'\n",
       "14. 'date_unregistration'\n",
       "15. 'module_presentation_length'\n",
       "16. 'weight'\n",
       "17. 'NA_externalquiz'\n",
       "18. 'NA_forumng'\n",
       "19. 'NA_glossary'\n",
       "20. 'NA_homepage'\n",
       "21. 'NA_oucollaborate'\n",
       "22. 'NA_oucontent'\n",
       "23. 'NA_ouwiki'\n",
       "24. 'NA_page'\n",
       "25. 'NA_questionnaire'\n",
       "26. 'NA_quiz'\n",
       "27. 'NA_resource'\n",
       "28. 'NA_subpage'\n",
       "29. 'NA_url'\n",
       "30. 'TMA_score'\n",
       "31. 'Exam_score'\n",
       "32. 'CMA_Score'\n",
       "\n",
       "\n"
      ],
      "text/plain": [
       " [1] \"id_student\"                 \"code_module\"               \n",
       " [3] \"code_presentation\"          \"gender\"                    \n",
       " [5] \"region\"                     \"highest_education\"         \n",
       " [7] \"imd_band\"                   \"age_band\"                  \n",
       " [9] \"num_of_prev_attempts\"       \"studied_credits\"           \n",
       "[11] \"disability\"                 \"sum_click\"                 \n",
       "[13] \"date_registration\"          \"date_unregistration\"       \n",
       "[15] \"module_presentation_length\" \"weight\"                    \n",
       "[17] \"NA_externalquiz\"            \"NA_forumng\"                \n",
       "[19] \"NA_glossary\"                \"NA_homepage\"               \n",
       "[21] \"NA_oucollaborate\"           \"NA_oucontent\"              \n",
       "[23] \"NA_ouwiki\"                  \"NA_page\"                   \n",
       "[25] \"NA_questionnaire\"           \"NA_quiz\"                   \n",
       "[27] \"NA_resource\"                \"NA_subpage\"                \n",
       "[29] \"NA_url\"                     \"TMA_score\"                 \n",
       "[31] \"Exam_score\"                 \"CMA_Score\"                 "
      ]
     },
     "metadata": {},
     "output_type": "display_data"
    }
   ],
   "source": [
    "names(From_model)\n",
    "names(train)"
   ]
  },
  {
   "cell_type": "code",
   "execution_count": 381,
   "metadata": {},
   "outputs": [],
   "source": [
    "colnames(From_model)[1] = 'code_module'\n",
    "colnames(From_model)[2] = 'code_presentation'\n",
    "colnames(From_model)[3] = 'id_student'"
   ]
  },
  {
   "cell_type": "code",
   "execution_count": 382,
   "metadata": {},
   "outputs": [
    {
     "data": {
      "text/html": [
       "<ol class=list-inline>\n",
       "\t<li>'code_module'</li>\n",
       "\t<li>'code_presentation'</li>\n",
       "\t<li>'id_student'</li>\n",
       "\t<li>'date_registration'</li>\n",
       "\t<li>'date_unregistration'</li>\n",
       "\t<li>'gender'</li>\n",
       "\t<li>'region'</li>\n",
       "\t<li>'highest_education'</li>\n",
       "\t<li>'imd_band'</li>\n",
       "\t<li>'age_band'</li>\n",
       "\t<li>'num_of_prev_attempts'</li>\n",
       "\t<li>'studied_credits'</li>\n",
       "\t<li>'disability'</li>\n",
       "\t<li>'final_result'</li>\n",
       "\t<li>'sum_click'</li>\n",
       "\t<li>'NA_externalquiz'</li>\n",
       "\t<li>'NA_forumng'</li>\n",
       "\t<li>'NA_glossary'</li>\n",
       "\t<li>'NA_homepage'</li>\n",
       "\t<li>'NA_oucollaborate'</li>\n",
       "\t<li>'NA_oucontent'</li>\n",
       "\t<li>'NA_ouwiki'</li>\n",
       "\t<li>'NA_page'</li>\n",
       "\t<li>'NA_questionnaire'</li>\n",
       "\t<li>'NA_quiz'</li>\n",
       "\t<li>'NA_resource'</li>\n",
       "\t<li>'NA_subpage'</li>\n",
       "\t<li>'NA_url'</li>\n",
       "\t<li>'weight'</li>\n",
       "\t<li>'TMA_score'</li>\n",
       "\t<li>'Exam_score'</li>\n",
       "\t<li>'CMA_Score'</li>\n",
       "\t<li>'module_presentation_length'</li>\n",
       "</ol>\n"
      ],
      "text/latex": [
       "\\begin{enumerate*}\n",
       "\\item 'code\\_module'\n",
       "\\item 'code\\_presentation'\n",
       "\\item 'id\\_student'\n",
       "\\item 'date\\_registration'\n",
       "\\item 'date\\_unregistration'\n",
       "\\item 'gender'\n",
       "\\item 'region'\n",
       "\\item 'highest\\_education'\n",
       "\\item 'imd\\_band'\n",
       "\\item 'age\\_band'\n",
       "\\item 'num\\_of\\_prev\\_attempts'\n",
       "\\item 'studied\\_credits'\n",
       "\\item 'disability'\n",
       "\\item 'final\\_result'\n",
       "\\item 'sum\\_click'\n",
       "\\item 'NA\\_externalquiz'\n",
       "\\item 'NA\\_forumng'\n",
       "\\item 'NA\\_glossary'\n",
       "\\item 'NA\\_homepage'\n",
       "\\item 'NA\\_oucollaborate'\n",
       "\\item 'NA\\_oucontent'\n",
       "\\item 'NA\\_ouwiki'\n",
       "\\item 'NA\\_page'\n",
       "\\item 'NA\\_questionnaire'\n",
       "\\item 'NA\\_quiz'\n",
       "\\item 'NA\\_resource'\n",
       "\\item 'NA\\_subpage'\n",
       "\\item 'NA\\_url'\n",
       "\\item 'weight'\n",
       "\\item 'TMA\\_score'\n",
       "\\item 'Exam\\_score'\n",
       "\\item 'CMA\\_Score'\n",
       "\\item 'module\\_presentation\\_length'\n",
       "\\end{enumerate*}\n"
      ],
      "text/markdown": [
       "1. 'code_module'\n",
       "2. 'code_presentation'\n",
       "3. 'id_student'\n",
       "4. 'date_registration'\n",
       "5. 'date_unregistration'\n",
       "6. 'gender'\n",
       "7. 'region'\n",
       "8. 'highest_education'\n",
       "9. 'imd_band'\n",
       "10. 'age_band'\n",
       "11. 'num_of_prev_attempts'\n",
       "12. 'studied_credits'\n",
       "13. 'disability'\n",
       "14. 'final_result'\n",
       "15. 'sum_click'\n",
       "16. 'NA_externalquiz'\n",
       "17. 'NA_forumng'\n",
       "18. 'NA_glossary'\n",
       "19. 'NA_homepage'\n",
       "20. 'NA_oucollaborate'\n",
       "21. 'NA_oucontent'\n",
       "22. 'NA_ouwiki'\n",
       "23. 'NA_page'\n",
       "24. 'NA_questionnaire'\n",
       "25. 'NA_quiz'\n",
       "26. 'NA_resource'\n",
       "27. 'NA_subpage'\n",
       "28. 'NA_url'\n",
       "29. 'weight'\n",
       "30. 'TMA_score'\n",
       "31. 'Exam_score'\n",
       "32. 'CMA_Score'\n",
       "33. 'module_presentation_length'\n",
       "\n",
       "\n"
      ],
      "text/plain": [
       " [1] \"code_module\"                \"code_presentation\"         \n",
       " [3] \"id_student\"                 \"date_registration\"         \n",
       " [5] \"date_unregistration\"        \"gender\"                    \n",
       " [7] \"region\"                     \"highest_education\"         \n",
       " [9] \"imd_band\"                   \"age_band\"                  \n",
       "[11] \"num_of_prev_attempts\"       \"studied_credits\"           \n",
       "[13] \"disability\"                 \"final_result\"              \n",
       "[15] \"sum_click\"                  \"NA_externalquiz\"           \n",
       "[17] \"NA_forumng\"                 \"NA_glossary\"               \n",
       "[19] \"NA_homepage\"                \"NA_oucollaborate\"          \n",
       "[21] \"NA_oucontent\"               \"NA_ouwiki\"                 \n",
       "[23] \"NA_page\"                    \"NA_questionnaire\"          \n",
       "[25] \"NA_quiz\"                    \"NA_resource\"               \n",
       "[27] \"NA_subpage\"                 \"NA_url\"                    \n",
       "[29] \"weight\"                     \"TMA_score\"                 \n",
       "[31] \"Exam_score\"                 \"CMA_Score\"                 \n",
       "[33] \"module_presentation_length\""
      ]
     },
     "metadata": {},
     "output_type": "display_data"
    },
    {
     "data": {
      "text/html": [
       "<ol class=list-inline>\n",
       "\t<li>'id_student'</li>\n",
       "\t<li>'code_module'</li>\n",
       "\t<li>'code_presentation'</li>\n",
       "\t<li>'gender'</li>\n",
       "\t<li>'region'</li>\n",
       "\t<li>'highest_education'</li>\n",
       "\t<li>'imd_band'</li>\n",
       "\t<li>'age_band'</li>\n",
       "\t<li>'num_of_prev_attempts'</li>\n",
       "\t<li>'studied_credits'</li>\n",
       "\t<li>'disability'</li>\n",
       "\t<li>'sum_click'</li>\n",
       "\t<li>'date_registration'</li>\n",
       "\t<li>'date_unregistration'</li>\n",
       "\t<li>'module_presentation_length'</li>\n",
       "\t<li>'weight'</li>\n",
       "\t<li>'NA_externalquiz'</li>\n",
       "\t<li>'NA_forumng'</li>\n",
       "\t<li>'NA_glossary'</li>\n",
       "\t<li>'NA_homepage'</li>\n",
       "\t<li>'NA_oucollaborate'</li>\n",
       "\t<li>'NA_oucontent'</li>\n",
       "\t<li>'NA_ouwiki'</li>\n",
       "\t<li>'NA_page'</li>\n",
       "\t<li>'NA_questionnaire'</li>\n",
       "\t<li>'NA_quiz'</li>\n",
       "\t<li>'NA_resource'</li>\n",
       "\t<li>'NA_subpage'</li>\n",
       "\t<li>'NA_url'</li>\n",
       "\t<li>'TMA_score'</li>\n",
       "\t<li>'Exam_score'</li>\n",
       "\t<li>'CMA_Score'</li>\n",
       "</ol>\n"
      ],
      "text/latex": [
       "\\begin{enumerate*}\n",
       "\\item 'id\\_student'\n",
       "\\item 'code\\_module'\n",
       "\\item 'code\\_presentation'\n",
       "\\item 'gender'\n",
       "\\item 'region'\n",
       "\\item 'highest\\_education'\n",
       "\\item 'imd\\_band'\n",
       "\\item 'age\\_band'\n",
       "\\item 'num\\_of\\_prev\\_attempts'\n",
       "\\item 'studied\\_credits'\n",
       "\\item 'disability'\n",
       "\\item 'sum\\_click'\n",
       "\\item 'date\\_registration'\n",
       "\\item 'date\\_unregistration'\n",
       "\\item 'module\\_presentation\\_length'\n",
       "\\item 'weight'\n",
       "\\item 'NA\\_externalquiz'\n",
       "\\item 'NA\\_forumng'\n",
       "\\item 'NA\\_glossary'\n",
       "\\item 'NA\\_homepage'\n",
       "\\item 'NA\\_oucollaborate'\n",
       "\\item 'NA\\_oucontent'\n",
       "\\item 'NA\\_ouwiki'\n",
       "\\item 'NA\\_page'\n",
       "\\item 'NA\\_questionnaire'\n",
       "\\item 'NA\\_quiz'\n",
       "\\item 'NA\\_resource'\n",
       "\\item 'NA\\_subpage'\n",
       "\\item 'NA\\_url'\n",
       "\\item 'TMA\\_score'\n",
       "\\item 'Exam\\_score'\n",
       "\\item 'CMA\\_Score'\n",
       "\\end{enumerate*}\n"
      ],
      "text/markdown": [
       "1. 'id_student'\n",
       "2. 'code_module'\n",
       "3. 'code_presentation'\n",
       "4. 'gender'\n",
       "5. 'region'\n",
       "6. 'highest_education'\n",
       "7. 'imd_band'\n",
       "8. 'age_band'\n",
       "9. 'num_of_prev_attempts'\n",
       "10. 'studied_credits'\n",
       "11. 'disability'\n",
       "12. 'sum_click'\n",
       "13. 'date_registration'\n",
       "14. 'date_unregistration'\n",
       "15. 'module_presentation_length'\n",
       "16. 'weight'\n",
       "17. 'NA_externalquiz'\n",
       "18. 'NA_forumng'\n",
       "19. 'NA_glossary'\n",
       "20. 'NA_homepage'\n",
       "21. 'NA_oucollaborate'\n",
       "22. 'NA_oucontent'\n",
       "23. 'NA_ouwiki'\n",
       "24. 'NA_page'\n",
       "25. 'NA_questionnaire'\n",
       "26. 'NA_quiz'\n",
       "27. 'NA_resource'\n",
       "28. 'NA_subpage'\n",
       "29. 'NA_url'\n",
       "30. 'TMA_score'\n",
       "31. 'Exam_score'\n",
       "32. 'CMA_Score'\n",
       "\n",
       "\n"
      ],
      "text/plain": [
       " [1] \"id_student\"                 \"code_module\"               \n",
       " [3] \"code_presentation\"          \"gender\"                    \n",
       " [5] \"region\"                     \"highest_education\"         \n",
       " [7] \"imd_band\"                   \"age_band\"                  \n",
       " [9] \"num_of_prev_attempts\"       \"studied_credits\"           \n",
       "[11] \"disability\"                 \"sum_click\"                 \n",
       "[13] \"date_registration\"          \"date_unregistration\"       \n",
       "[15] \"module_presentation_length\" \"weight\"                    \n",
       "[17] \"NA_externalquiz\"            \"NA_forumng\"                \n",
       "[19] \"NA_glossary\"                \"NA_homepage\"               \n",
       "[21] \"NA_oucollaborate\"           \"NA_oucontent\"              \n",
       "[23] \"NA_ouwiki\"                  \"NA_page\"                   \n",
       "[25] \"NA_questionnaire\"           \"NA_quiz\"                   \n",
       "[27] \"NA_resource\"                \"NA_subpage\"                \n",
       "[29] \"NA_url\"                     \"TMA_score\"                 \n",
       "[31] \"Exam_score\"                 \"CMA_Score\"                 "
      ]
     },
     "metadata": {},
     "output_type": "display_data"
    }
   ],
   "source": [
    "names(From_model)\n",
    "names(train)"
   ]
  },
  {
   "cell_type": "code",
   "execution_count": 383,
   "metadata": {},
   "outputs": [],
   "source": [
    "#converting distinction to pass and witdrawn as fail\n",
    "From_model$final_result = as.factor(From_model$final_result )\n",
    "From_model[From_model$final_result==\"Distinction\",\"final_result\"] = \"Pass\"\n",
    "From_model[From_model$final_result==\"Withdrawn\",\"final_result\"] = \"Fail\""
   ]
  },
  {
   "cell_type": "code",
   "execution_count": 384,
   "metadata": {},
   "outputs": [
    {
     "data": {
      "text/html": [
       "<ol class=list-inline>\n",
       "\t<li>Pass</li>\n",
       "\t<li>Fail</li>\n",
       "</ol>\n",
       "\n",
       "<details>\n",
       "\t<summary style=display:list-item;cursor:pointer>\n",
       "\t\t<strong>Levels</strong>:\n",
       "\t</summary>\n",
       "\t<ol class=list-inline>\n",
       "\t\t<li>'Distinction'</li>\n",
       "\t\t<li>'Fail'</li>\n",
       "\t\t<li>'Pass'</li>\n",
       "\t\t<li>'Withdrawn'</li>\n",
       "\t</ol>\n",
       "</details>"
      ],
      "text/latex": [
       "\\begin{enumerate*}\n",
       "\\item Pass\n",
       "\\item Fail\n",
       "\\end{enumerate*}\n",
       "\n",
       "\\emph{Levels}: \\begin{enumerate*}\n",
       "\\item 'Distinction'\n",
       "\\item 'Fail'\n",
       "\\item 'Pass'\n",
       "\\item 'Withdrawn'\n",
       "\\end{enumerate*}\n"
      ],
      "text/markdown": [
       "1. Pass\n",
       "2. Fail\n",
       "\n",
       "\n",
       "\n",
       "**Levels**: 1. 'Distinction'\n",
       "2. 'Fail'\n",
       "3. 'Pass'\n",
       "4. 'Withdrawn'\n",
       "\n",
       "\n"
      ],
      "text/plain": [
       "[1] Pass Fail\n",
       "Levels: Distinction Fail Pass Withdrawn"
      ]
     },
     "metadata": {},
     "output_type": "display_data"
    }
   ],
   "source": [
    "unique(From_model$final_result)"
   ]
  },
  {
   "cell_type": "code",
   "execution_count": 331,
   "metadata": {},
   "outputs": [],
   "source": [
    "write.csv(From_model,\"C:\\\\Users\\\\shrey\\\\OneDrive\\\\Desktop\\\\Prof_train_data.csv\", row.names = FALSE)"
   ]
  },
  {
   "cell_type": "code",
   "execution_count": 332,
   "metadata": {},
   "outputs": [],
   "source": [
    "From_model = read.csv(\"C:\\\\Users\\\\shrey\\\\OneDrive\\\\Desktop\\\\Prof_train_data.csv\")"
   ]
  },
  {
   "cell_type": "code",
   "execution_count": 294,
   "metadata": {},
   "outputs": [],
   "source": [
    "#splitting the Model data\n",
    "## 90% of the sample size\n",
    "smp_size <- floor(0.90 * nrow(From_model))\n",
    "\n",
    "## set the seed to make your partition reproducible\n",
    "set.seed(123)\n",
    "train_ind <- sample(seq_len(nrow(From_model)), size = smp_size)\n",
    "\n",
    "Train <- From_model[train_ind, ]\n",
    "Test <- From_model[-train_ind, ]\n",
    "\n",
    "row.names(Train) = NULL\n",
    "row.names(Test)= NULL"
   ]
  },
  {
   "cell_type": "code",
   "execution_count": 295,
   "metadata": {},
   "outputs": [],
   "source": [
    "# Run algorithms using 10-fold cross validation\n",
    "control <- trainControl(method=\"cv\", number=10)\n",
    "metric <- \"Accuracy\""
   ]
  },
  {
   "cell_type": "code",
   "execution_count": 296,
   "metadata": {},
   "outputs": [
    {
     "name": "stderr",
     "output_type": "stream",
     "text": [
      "Warning message in (function (x, y, offset = NULL, misc = NULL, distribution = \"bernoulli\", :\n",
      "\"variable 24: date_unregistration-112 has no variation.\"Warning message in (function (x, y, offset = NULL, misc = NULL, distribution = \"bernoulli\", :\n",
      "\"variable 30: date_unregistration-118 has no variation.\"Warning message in (function (x, y, offset = NULL, misc = NULL, distribution = \"bernoulli\", :\n",
      "\"variable 50: date_unregistration-141 has no variation.\"Warning message in (function (x, y, offset = NULL, misc = NULL, distribution = \"bernoulli\", :\n",
      "\"variable 73: date_unregistration-179 has no variation.\"Warning message in (function (x, y, offset = NULL, misc = NULL, distribution = \"bernoulli\", :\n",
      "\"variable 80: date_unregistration-194 has no variation.\"Warning message in (function (x, y, offset = NULL, misc = NULL, distribution = \"bernoulli\", :\n",
      "\"variable 95: date_unregistration-225 has no variation.\"Warning message in (function (x, y, offset = NULL, misc = NULL, distribution = \"bernoulli\", :\n",
      "\"variable 104: date_unregistration-271 has no variation.\"Warning message in (function (x, y, offset = NULL, misc = NULL, distribution = \"bernoulli\", :\n",
      "\"variable 336: date_unregistration239 has no variation.\"Warning message in (function (x, y, offset = NULL, misc = NULL, distribution = \"bernoulli\", :\n",
      "\"variable 441: imd_bandTRUE has no variation.\""
     ]
    },
    {
     "name": "stdout",
     "output_type": "stream",
     "text": [
      "Iter   TrainDeviance   ValidDeviance   StepSize   Improve\n",
      "     1        1.2879             nan     0.1000    0.0439\n",
      "     2        1.2160             nan     0.1000    0.0356\n",
      "     3        1.1569             nan     0.1000    0.0291\n",
      "     4        1.1091             nan     0.1000    0.0241\n",
      "     5        1.0690             nan     0.1000    0.0198\n",
      "     6        1.0346             nan     0.1000    0.0172\n",
      "     7        1.0060             nan     0.1000    0.0142\n",
      "     8        0.9820             nan     0.1000    0.0120\n",
      "     9        0.9588             nan     0.1000    0.0116\n",
      "    10        0.9381             nan     0.1000    0.0103\n",
      "    20        0.8155             nan     0.1000    0.0035\n",
      "    40        0.7254             nan     0.1000    0.0015\n",
      "    60        0.6869             nan     0.1000    0.0006\n",
      "    80        0.6681             nan     0.1000    0.0002\n",
      "   100        0.6576             nan     0.1000    0.0001\n",
      "   120        0.6502             nan     0.1000    0.0001\n",
      "   140        0.6449             nan     0.1000    0.0001\n",
      "   150        0.6424             nan     0.1000    0.0001\n",
      "\n"
     ]
    },
    {
     "name": "stderr",
     "output_type": "stream",
     "text": [
      "Warning message in (function (x, y, offset = NULL, misc = NULL, distribution = \"bernoulli\", :\n",
      "\"variable 24: date_unregistration-112 has no variation.\"Warning message in (function (x, y, offset = NULL, misc = NULL, distribution = \"bernoulli\", :\n",
      "\"variable 30: date_unregistration-118 has no variation.\"Warning message in (function (x, y, offset = NULL, misc = NULL, distribution = \"bernoulli\", :\n",
      "\"variable 50: date_unregistration-141 has no variation.\"Warning message in (function (x, y, offset = NULL, misc = NULL, distribution = \"bernoulli\", :\n",
      "\"variable 73: date_unregistration-179 has no variation.\"Warning message in (function (x, y, offset = NULL, misc = NULL, distribution = \"bernoulli\", :\n",
      "\"variable 80: date_unregistration-194 has no variation.\"Warning message in (function (x, y, offset = NULL, misc = NULL, distribution = \"bernoulli\", :\n",
      "\"variable 95: date_unregistration-225 has no variation.\"Warning message in (function (x, y, offset = NULL, misc = NULL, distribution = \"bernoulli\", :\n",
      "\"variable 104: date_unregistration-271 has no variation.\"Warning message in (function (x, y, offset = NULL, misc = NULL, distribution = \"bernoulli\", :\n",
      "\"variable 336: date_unregistration239 has no variation.\"Warning message in (function (x, y, offset = NULL, misc = NULL, distribution = \"bernoulli\", :\n",
      "\"variable 441: imd_bandTRUE has no variation.\""
     ]
    },
    {
     "name": "stdout",
     "output_type": "stream",
     "text": [
      "Iter   TrainDeviance   ValidDeviance   StepSize   Improve\n",
      "     1        1.2750             nan     0.1000    0.0502\n",
      "     2        1.1923             nan     0.1000    0.0411\n",
      "     3        1.1249             nan     0.1000    0.0339\n",
      "     4        1.0680             nan     0.1000    0.0285\n",
      "     5        1.0180             nan     0.1000    0.0249\n",
      "     6        0.9772             nan     0.1000    0.0206\n",
      "     7        0.9398             nan     0.1000    0.0185\n",
      "     8        0.9083             nan     0.1000    0.0158\n",
      "     9        0.8827             nan     0.1000    0.0128\n",
      "    10        0.8589             nan     0.1000    0.0118\n",
      "    20        0.7336             nan     0.1000    0.0035\n",
      "    40        0.6582             nan     0.1000    0.0011\n",
      "    60        0.6312             nan     0.1000    0.0005\n",
      "    80        0.6138             nan     0.1000    0.0003\n",
      "   100        0.6015             nan     0.1000    0.0002\n",
      "   120        0.5947             nan     0.1000    0.0001\n",
      "   140        0.5890             nan     0.1000    0.0001\n",
      "   150        0.5868             nan     0.1000    0.0001\n",
      "\n"
     ]
    },
    {
     "name": "stderr",
     "output_type": "stream",
     "text": [
      "Warning message in (function (x, y, offset = NULL, misc = NULL, distribution = \"bernoulli\", :\n",
      "\"variable 24: date_unregistration-112 has no variation.\"Warning message in (function (x, y, offset = NULL, misc = NULL, distribution = \"bernoulli\", :\n",
      "\"variable 30: date_unregistration-118 has no variation.\"Warning message in (function (x, y, offset = NULL, misc = NULL, distribution = \"bernoulli\", :\n",
      "\"variable 50: date_unregistration-141 has no variation.\"Warning message in (function (x, y, offset = NULL, misc = NULL, distribution = \"bernoulli\", :\n",
      "\"variable 73: date_unregistration-179 has no variation.\"Warning message in (function (x, y, offset = NULL, misc = NULL, distribution = \"bernoulli\", :\n",
      "\"variable 80: date_unregistration-194 has no variation.\"Warning message in (function (x, y, offset = NULL, misc = NULL, distribution = \"bernoulli\", :\n",
      "\"variable 95: date_unregistration-225 has no variation.\"Warning message in (function (x, y, offset = NULL, misc = NULL, distribution = \"bernoulli\", :\n",
      "\"variable 104: date_unregistration-271 has no variation.\"Warning message in (function (x, y, offset = NULL, misc = NULL, distribution = \"bernoulli\", :\n",
      "\"variable 336: date_unregistration239 has no variation.\"Warning message in (function (x, y, offset = NULL, misc = NULL, distribution = \"bernoulli\", :\n",
      "\"variable 441: imd_bandTRUE has no variation.\""
     ]
    },
    {
     "name": "stdout",
     "output_type": "stream",
     "text": [
      "Iter   TrainDeviance   ValidDeviance   StepSize   Improve\n",
      "     1        1.2683             nan     0.1000    0.0530\n",
      "     2        1.1802             nan     0.1000    0.0437\n",
      "     3        1.1078             nan     0.1000    0.0363\n",
      "     4        1.0483             nan     0.1000    0.0297\n",
      "     5        0.9973             nan     0.1000    0.0256\n",
      "     6        0.9532             nan     0.1000    0.0219\n",
      "     7        0.9133             nan     0.1000    0.0200\n",
      "     8        0.8803             nan     0.1000    0.0164\n",
      "     9        0.8532             nan     0.1000    0.0133\n",
      "    10        0.8285             nan     0.1000    0.0123\n",
      "    20        0.6919             nan     0.1000    0.0036\n",
      "    40        0.6258             nan     0.1000    0.0009\n",
      "    60        0.6033             nan     0.1000    0.0003\n",
      "    80        0.5890             nan     0.1000    0.0001\n",
      "   100        0.5788             nan     0.1000    0.0003\n",
      "   120        0.5705             nan     0.1000   -0.0001\n",
      "   140        0.5635             nan     0.1000    0.0000\n",
      "   150        0.5613             nan     0.1000    0.0000\n",
      "\n"
     ]
    },
    {
     "name": "stderr",
     "output_type": "stream",
     "text": [
      "Warning message in (function (x, y, offset = NULL, misc = NULL, distribution = \"bernoulli\", :\n",
      "\"variable 24: date_unregistration-112 has no variation.\"Warning message in (function (x, y, offset = NULL, misc = NULL, distribution = \"bernoulli\", :\n",
      "\"variable 73: date_unregistration-179 has no variation.\"Warning message in (function (x, y, offset = NULL, misc = NULL, distribution = \"bernoulli\", :\n",
      "\"variable 95: date_unregistration-225 has no variation.\"Warning message in (function (x, y, offset = NULL, misc = NULL, distribution = \"bernoulli\", :\n",
      "\"variable 123: date_unregistration-41 has no variation.\"Warning message in (function (x, y, offset = NULL, misc = NULL, distribution = \"bernoulli\", :\n",
      "\"variable 322: date_unregistration225 has no variation.\"Warning message in (function (x, y, offset = NULL, misc = NULL, distribution = \"bernoulli\", :\n",
      "\"variable 329: date_unregistration231 has no variation.\"Warning message in (function (x, y, offset = NULL, misc = NULL, distribution = \"bernoulli\", :\n",
      "\"variable 336: date_unregistration239 has no variation.\"Warning message in (function (x, y, offset = NULL, misc = NULL, distribution = \"bernoulli\", :\n",
      "\"variable 441: imd_bandTRUE has no variation.\""
     ]
    },
    {
     "name": "stdout",
     "output_type": "stream",
     "text": [
      "Iter   TrainDeviance   ValidDeviance   StepSize   Improve\n",
      "     1        1.2888             nan     0.1000    0.0437\n",
      "     2        1.2176             nan     0.1000    0.0354\n",
      "     3        1.1597             nan     0.1000    0.0290\n",
      "     4        1.1117             nan     0.1000    0.0240\n",
      "     5        1.0719             nan     0.1000    0.0199\n",
      "     6        1.0374             nan     0.1000    0.0170\n",
      "     7        1.0091             nan     0.1000    0.0141\n",
      "     8        0.9850             nan     0.1000    0.0120\n",
      "     9        0.9627             nan     0.1000    0.0112\n",
      "    10        0.9419             nan     0.1000    0.0102\n",
      "    20        0.8189             nan     0.1000    0.0037\n",
      "    40        0.7312             nan     0.1000    0.0010\n",
      "    60        0.6934             nan     0.1000    0.0005\n",
      "    80        0.6741             nan     0.1000    0.0003\n",
      "   100        0.6633             nan     0.1000    0.0001\n",
      "   120        0.6560             nan     0.1000    0.0001\n",
      "   140        0.6500             nan     0.1000    0.0001\n",
      "   150        0.6477             nan     0.1000    0.0001\n",
      "\n"
     ]
    },
    {
     "name": "stderr",
     "output_type": "stream",
     "text": [
      "Warning message in (function (x, y, offset = NULL, misc = NULL, distribution = \"bernoulli\", :\n",
      "\"variable 24: date_unregistration-112 has no variation.\"Warning message in (function (x, y, offset = NULL, misc = NULL, distribution = \"bernoulli\", :\n",
      "\"variable 73: date_unregistration-179 has no variation.\"Warning message in (function (x, y, offset = NULL, misc = NULL, distribution = \"bernoulli\", :\n",
      "\"variable 95: date_unregistration-225 has no variation.\"Warning message in (function (x, y, offset = NULL, misc = NULL, distribution = \"bernoulli\", :\n",
      "\"variable 123: date_unregistration-41 has no variation.\"Warning message in (function (x, y, offset = NULL, misc = NULL, distribution = \"bernoulli\", :\n",
      "\"variable 322: date_unregistration225 has no variation.\"Warning message in (function (x, y, offset = NULL, misc = NULL, distribution = \"bernoulli\", :\n",
      "\"variable 329: date_unregistration231 has no variation.\"Warning message in (function (x, y, offset = NULL, misc = NULL, distribution = \"bernoulli\", :\n",
      "\"variable 336: date_unregistration239 has no variation.\"Warning message in (function (x, y, offset = NULL, misc = NULL, distribution = \"bernoulli\", :\n",
      "\"variable 441: imd_bandTRUE has no variation.\""
     ]
    },
    {
     "name": "stdout",
     "output_type": "stream",
     "text": [
      "Iter   TrainDeviance   ValidDeviance   StepSize   Improve\n",
      "     1        1.2747             nan     0.1000    0.0500\n",
      "     2        1.1928             nan     0.1000    0.0408\n",
      "     3        1.1251             nan     0.1000    0.0338\n",
      "     4        1.0685             nan     0.1000    0.0284\n",
      "     5        1.0202             nan     0.1000    0.0236\n",
      "     6        0.9774             nan     0.1000    0.0213\n",
      "     7        0.9409             nan     0.1000    0.0182\n",
      "     8        0.9107             nan     0.1000    0.0151\n",
      "     9        0.8828             nan     0.1000    0.0135\n",
      "    10        0.8592             nan     0.1000    0.0116\n",
      "    20        0.7329             nan     0.1000    0.0041\n",
      "    40        0.6601             nan     0.1000    0.0007\n",
      "    60        0.6335             nan     0.1000    0.0005\n",
      "    80        0.6167             nan     0.1000    0.0001\n",
      "   100        0.6067             nan     0.1000    0.0004\n",
      "   120        0.5986             nan     0.1000   -0.0000\n",
      "   140        0.5907             nan     0.1000    0.0001\n",
      "   150        0.5882             nan     0.1000    0.0001\n",
      "\n"
     ]
    },
    {
     "name": "stderr",
     "output_type": "stream",
     "text": [
      "Warning message in (function (x, y, offset = NULL, misc = NULL, distribution = \"bernoulli\", :\n",
      "\"variable 24: date_unregistration-112 has no variation.\"Warning message in (function (x, y, offset = NULL, misc = NULL, distribution = \"bernoulli\", :\n",
      "\"variable 73: date_unregistration-179 has no variation.\"Warning message in (function (x, y, offset = NULL, misc = NULL, distribution = \"bernoulli\", :\n",
      "\"variable 95: date_unregistration-225 has no variation.\"Warning message in (function (x, y, offset = NULL, misc = NULL, distribution = \"bernoulli\", :\n",
      "\"variable 123: date_unregistration-41 has no variation.\"Warning message in (function (x, y, offset = NULL, misc = NULL, distribution = \"bernoulli\", :\n",
      "\"variable 322: date_unregistration225 has no variation.\"Warning message in (function (x, y, offset = NULL, misc = NULL, distribution = \"bernoulli\", :\n",
      "\"variable 329: date_unregistration231 has no variation.\"Warning message in (function (x, y, offset = NULL, misc = NULL, distribution = \"bernoulli\", :\n",
      "\"variable 336: date_unregistration239 has no variation.\"Warning message in (function (x, y, offset = NULL, misc = NULL, distribution = \"bernoulli\", :\n",
      "\"variable 441: imd_bandTRUE has no variation.\""
     ]
    },
    {
     "name": "stdout",
     "output_type": "stream",
     "text": [
      "Iter   TrainDeviance   ValidDeviance   StepSize   Improve\n",
      "     1        1.2696             nan     0.1000    0.0532\n",
      "     2        1.1818             nan     0.1000    0.0440\n",
      "     3        1.1092             nan     0.1000    0.0363\n",
      "     4        1.0496             nan     0.1000    0.0296\n",
      "     5        0.9982             nan     0.1000    0.0255\n",
      "     6        0.9526             nan     0.1000    0.0228\n",
      "     7        0.9149             nan     0.1000    0.0191\n",
      "     8        0.8826             nan     0.1000    0.0159\n",
      "     9        0.8528             nan     0.1000    0.0148\n",
      "    10        0.8285             nan     0.1000    0.0120\n",
      "    20        0.6978             nan     0.1000    0.0032\n",
      "    40        0.6305             nan     0.1000    0.0008\n",
      "    60        0.6079             nan     0.1000    0.0002\n",
      "    80        0.5936             nan     0.1000    0.0000\n",
      "   100        0.5830             nan     0.1000    0.0002\n",
      "   120        0.5753             nan     0.1000    0.0002\n",
      "   140        0.5681             nan     0.1000    0.0000\n",
      "   150        0.5658             nan     0.1000   -0.0000\n",
      "\n"
     ]
    },
    {
     "name": "stderr",
     "output_type": "stream",
     "text": [
      "Warning message in (function (x, y, offset = NULL, misc = NULL, distribution = \"bernoulli\", :\n",
      "\"variable 24: date_unregistration-112 has no variation.\"Warning message in (function (x, y, offset = NULL, misc = NULL, distribution = \"bernoulli\", :\n",
      "\"variable 63: date_unregistration-158 has no variation.\"Warning message in (function (x, y, offset = NULL, misc = NULL, distribution = \"bernoulli\", :\n",
      "\"variable 73: date_unregistration-179 has no variation.\"Warning message in (function (x, y, offset = NULL, misc = NULL, distribution = \"bernoulli\", :\n",
      "\"variable 95: date_unregistration-225 has no variation.\"Warning message in (function (x, y, offset = NULL, misc = NULL, distribution = \"bernoulli\", :\n",
      "\"variable 336: date_unregistration239 has no variation.\"Warning message in (function (x, y, offset = NULL, misc = NULL, distribution = \"bernoulli\", :\n",
      "\"variable 441: imd_bandTRUE has no variation.\""
     ]
    },
    {
     "name": "stdout",
     "output_type": "stream",
     "text": [
      "Iter   TrainDeviance   ValidDeviance   StepSize   Improve\n",
      "     1        1.2882             nan     0.1000    0.0433\n",
      "     2        1.2175             nan     0.1000    0.0351\n",
      "     3        1.1603             nan     0.1000    0.0288\n",
      "     4        1.1123             nan     0.1000    0.0237\n",
      "     5        1.0729             nan     0.1000    0.0196\n",
      "     6        1.0387             nan     0.1000    0.0169\n",
      "     7        1.0097             nan     0.1000    0.0143\n",
      "     8        0.9848             nan     0.1000    0.0121\n",
      "     9        0.9629             nan     0.1000    0.0111\n",
      "    10        0.9429             nan     0.1000    0.0100\n",
      "    20        0.8208             nan     0.1000    0.0039\n",
      "    40        0.7309             nan     0.1000    0.0011\n",
      "    60        0.6932             nan     0.1000    0.0007\n",
      "    80        0.6734             nan     0.1000    0.0003\n",
      "   100        0.6624             nan     0.1000    0.0001\n",
      "   120        0.6544             nan     0.1000    0.0001\n",
      "   140        0.6486             nan     0.1000    0.0001\n",
      "   150        0.6463             nan     0.1000    0.0000\n",
      "\n"
     ]
    },
    {
     "name": "stderr",
     "output_type": "stream",
     "text": [
      "Warning message in (function (x, y, offset = NULL, misc = NULL, distribution = \"bernoulli\", :\n",
      "\"variable 24: date_unregistration-112 has no variation.\"Warning message in (function (x, y, offset = NULL, misc = NULL, distribution = \"bernoulli\", :\n",
      "\"variable 63: date_unregistration-158 has no variation.\"Warning message in (function (x, y, offset = NULL, misc = NULL, distribution = \"bernoulli\", :\n",
      "\"variable 73: date_unregistration-179 has no variation.\"Warning message in (function (x, y, offset = NULL, misc = NULL, distribution = \"bernoulli\", :\n",
      "\"variable 95: date_unregistration-225 has no variation.\"Warning message in (function (x, y, offset = NULL, misc = NULL, distribution = \"bernoulli\", :\n",
      "\"variable 336: date_unregistration239 has no variation.\"Warning message in (function (x, y, offset = NULL, misc = NULL, distribution = \"bernoulli\", :\n",
      "\"variable 441: imd_bandTRUE has no variation.\""
     ]
    },
    {
     "name": "stdout",
     "output_type": "stream",
     "text": [
      "Iter   TrainDeviance   ValidDeviance   StepSize   Improve\n",
      "     1        1.2759             nan     0.1000    0.0500\n",
      "     2        1.1933             nan     0.1000    0.0409\n",
      "     3        1.1264             nan     0.1000    0.0335\n",
      "     4        1.0700             nan     0.1000    0.0284\n",
      "     5        1.0200             nan     0.1000    0.0248\n",
      "     6        0.9786             nan     0.1000    0.0206\n",
      "     7        0.9429             nan     0.1000    0.0179\n",
      "     8        0.9134             nan     0.1000    0.0149\n",
      "     9        0.8857             nan     0.1000    0.0137\n",
      "    10        0.8620             nan     0.1000    0.0118\n",
      "    20        0.7344             nan     0.1000    0.0037\n",
      "    40        0.6604             nan     0.1000    0.0011\n",
      "    60        0.6332             nan     0.1000    0.0005\n",
      "    80        0.6179             nan     0.1000    0.0002\n",
      "   100        0.6064             nan     0.1000    0.0000\n",
      "   120        0.5973             nan     0.1000    0.0003\n",
      "   140        0.5914             nan     0.1000    0.0000\n",
      "   150        0.5885             nan     0.1000    0.0001\n",
      "\n"
     ]
    },
    {
     "name": "stderr",
     "output_type": "stream",
     "text": [
      "Warning message in (function (x, y, offset = NULL, misc = NULL, distribution = \"bernoulli\", :\n",
      "\"variable 24: date_unregistration-112 has no variation.\"Warning message in (function (x, y, offset = NULL, misc = NULL, distribution = \"bernoulli\", :\n",
      "\"variable 63: date_unregistration-158 has no variation.\"Warning message in (function (x, y, offset = NULL, misc = NULL, distribution = \"bernoulli\", :\n",
      "\"variable 73: date_unregistration-179 has no variation.\"Warning message in (function (x, y, offset = NULL, misc = NULL, distribution = \"bernoulli\", :\n",
      "\"variable 95: date_unregistration-225 has no variation.\"Warning message in (function (x, y, offset = NULL, misc = NULL, distribution = \"bernoulli\", :\n",
      "\"variable 336: date_unregistration239 has no variation.\"Warning message in (function (x, y, offset = NULL, misc = NULL, distribution = \"bernoulli\", :\n",
      "\"variable 441: imd_bandTRUE has no variation.\""
     ]
    },
    {
     "name": "stdout",
     "output_type": "stream",
     "text": [
      "Iter   TrainDeviance   ValidDeviance   StepSize   Improve\n",
      "     1        1.2686             nan     0.1000    0.0534\n",
      "     2        1.1822             nan     0.1000    0.0437\n",
      "     3        1.1105             nan     0.1000    0.0362\n",
      "     4        1.0501             nan     0.1000    0.0300\n",
      "     5        0.9987             nan     0.1000    0.0256\n",
      "     6        0.9559             nan     0.1000    0.0213\n",
      "     7        0.9152             nan     0.1000    0.0202\n",
      "     8        0.8824             nan     0.1000    0.0163\n",
      "     9        0.8533             nan     0.1000    0.0144\n",
      "    10        0.8294             nan     0.1000    0.0117\n",
      "    20        0.6962             nan     0.1000    0.0036\n",
      "    40        0.6305             nan     0.1000    0.0007\n",
      "    60        0.6087             nan     0.1000    0.0002\n",
      "    80        0.5947             nan     0.1000    0.0000\n",
      "   100        0.5838             nan     0.1000   -0.0000\n",
      "   120        0.5755             nan     0.1000    0.0002\n",
      "   140        0.5699             nan     0.1000   -0.0000\n",
      "   150        0.5677             nan     0.1000    0.0001\n",
      "\n"
     ]
    },
    {
     "name": "stderr",
     "output_type": "stream",
     "text": [
      "Warning message in (function (x, y, offset = NULL, misc = NULL, distribution = \"bernoulli\", :\n",
      "\"variable 24: date_unregistration-112 has no variation.\"Warning message in (function (x, y, offset = NULL, misc = NULL, distribution = \"bernoulli\", :\n",
      "\"variable 40: date_unregistration-128 has no variation.\"Warning message in (function (x, y, offset = NULL, misc = NULL, distribution = \"bernoulli\", :\n",
      "\"variable 73: date_unregistration-179 has no variation.\"Warning message in (function (x, y, offset = NULL, misc = NULL, distribution = \"bernoulli\", :\n",
      "\"variable 95: date_unregistration-225 has no variation.\"Warning message in (function (x, y, offset = NULL, misc = NULL, distribution = \"bernoulli\", :\n",
      "\"variable 105: date_unregistration-274 has no variation.\"Warning message in (function (x, y, offset = NULL, misc = NULL, distribution = \"bernoulli\", :\n",
      "\"variable 145: date_unregistration-62 has no variation.\"Warning message in (function (x, y, offset = NULL, misc = NULL, distribution = \"bernoulli\", :\n",
      "\"variable 178: date_unregistration-97 has no variation.\"Warning message in (function (x, y, offset = NULL, misc = NULL, distribution = \"bernoulli\", :\n",
      "\"variable 290: date_unregistration197 has no variation.\"Warning message in (function (x, y, offset = NULL, misc = NULL, distribution = \"bernoulli\", :\n",
      "\"variable 336: date_unregistration239 has no variation.\"Warning message in (function (x, y, offset = NULL, misc = NULL, distribution = \"bernoulli\", :\n",
      "\"variable 362: date_unregistration444 has no variation.\"Warning message in (function (x, y, offset = NULL, misc = NULL, distribution = \"bernoulli\", :\n",
      "\"variable 441: imd_bandTRUE has no variation.\""
     ]
    },
    {
     "name": "stdout",
     "output_type": "stream",
     "text": [
      "Iter   TrainDeviance   ValidDeviance   StepSize   Improve\n",
      "     1        1.2886             nan     0.1000    0.0437\n",
      "     2        1.2169             nan     0.1000    0.0355\n",
      "     3        1.1584             nan     0.1000    0.0291\n",
      "     4        1.1105             nan     0.1000    0.0240\n",
      "     5        1.0706             nan     0.1000    0.0199\n",
      "     6        1.0372             nan     0.1000    0.0166\n",
      "     7        1.0072             nan     0.1000    0.0147\n",
      "     8        0.9830             nan     0.1000    0.0118\n",
      "     9        0.9599             nan     0.1000    0.0112\n",
      "    10        0.9401             nan     0.1000    0.0099\n",
      "    20        0.8175             nan     0.1000    0.0037\n",
      "    40        0.7297             nan     0.1000    0.0014\n",
      "    60        0.6914             nan     0.1000    0.0004\n",
      "    80        0.6724             nan     0.1000    0.0003\n",
      "   100        0.6612             nan     0.1000    0.0001\n",
      "   120        0.6539             nan     0.1000    0.0001\n",
      "   140        0.6480             nan     0.1000    0.0001\n",
      "   150        0.6454             nan     0.1000    0.0001\n",
      "\n"
     ]
    },
    {
     "name": "stderr",
     "output_type": "stream",
     "text": [
      "Warning message in (function (x, y, offset = NULL, misc = NULL, distribution = \"bernoulli\", :\n",
      "\"variable 24: date_unregistration-112 has no variation.\"Warning message in (function (x, y, offset = NULL, misc = NULL, distribution = \"bernoulli\", :\n",
      "\"variable 40: date_unregistration-128 has no variation.\"Warning message in (function (x, y, offset = NULL, misc = NULL, distribution = \"bernoulli\", :\n",
      "\"variable 73: date_unregistration-179 has no variation.\"Warning message in (function (x, y, offset = NULL, misc = NULL, distribution = \"bernoulli\", :\n",
      "\"variable 95: date_unregistration-225 has no variation.\"Warning message in (function (x, y, offset = NULL, misc = NULL, distribution = \"bernoulli\", :\n",
      "\"variable 105: date_unregistration-274 has no variation.\"Warning message in (function (x, y, offset = NULL, misc = NULL, distribution = \"bernoulli\", :\n",
      "\"variable 145: date_unregistration-62 has no variation.\"Warning message in (function (x, y, offset = NULL, misc = NULL, distribution = \"bernoulli\", :\n",
      "\"variable 178: date_unregistration-97 has no variation.\"Warning message in (function (x, y, offset = NULL, misc = NULL, distribution = \"bernoulli\", :\n",
      "\"variable 290: date_unregistration197 has no variation.\"Warning message in (function (x, y, offset = NULL, misc = NULL, distribution = \"bernoulli\", :\n",
      "\"variable 336: date_unregistration239 has no variation.\"Warning message in (function (x, y, offset = NULL, misc = NULL, distribution = \"bernoulli\", :\n",
      "\"variable 362: date_unregistration444 has no variation.\"Warning message in (function (x, y, offset = NULL, misc = NULL, distribution = \"bernoulli\", :\n",
      "\"variable 441: imd_bandTRUE has no variation.\""
     ]
    },
    {
     "name": "stdout",
     "output_type": "stream",
     "text": [
      "Iter   TrainDeviance   ValidDeviance   StepSize   Improve\n",
      "     1        1.2760             nan     0.1000    0.0503\n",
      "     2        1.1944             nan     0.1000    0.0410\n",
      "     3        1.1268             nan     0.1000    0.0339\n",
      "     4        1.0698             nan     0.1000    0.0284\n",
      "     5        1.0213             nan     0.1000    0.0239\n",
      "     6        0.9784             nan     0.1000    0.0212\n",
      "     7        0.9423             nan     0.1000    0.0180\n",
      "     8        0.9113             nan     0.1000    0.0154\n",
      "     9        0.8854             nan     0.1000    0.0130\n",
      "    10        0.8614             nan     0.1000    0.0119\n",
      "    20        0.7359             nan     0.1000    0.0034\n",
      "    40        0.6608             nan     0.1000    0.0009\n",
      "    60        0.6332             nan     0.1000    0.0004\n",
      "    80        0.6175             nan     0.1000    0.0003\n",
      "   100        0.6070             nan     0.1000    0.0002\n",
      "   120        0.5989             nan     0.1000    0.0003\n",
      "   140        0.5918             nan     0.1000    0.0001\n",
      "   150        0.5890             nan     0.1000    0.0003\n",
      "\n"
     ]
    },
    {
     "name": "stderr",
     "output_type": "stream",
     "text": [
      "Warning message in (function (x, y, offset = NULL, misc = NULL, distribution = \"bernoulli\", :\n",
      "\"variable 24: date_unregistration-112 has no variation.\"Warning message in (function (x, y, offset = NULL, misc = NULL, distribution = \"bernoulli\", :\n",
      "\"variable 40: date_unregistration-128 has no variation.\"Warning message in (function (x, y, offset = NULL, misc = NULL, distribution = \"bernoulli\", :\n",
      "\"variable 73: date_unregistration-179 has no variation.\"Warning message in (function (x, y, offset = NULL, misc = NULL, distribution = \"bernoulli\", :\n",
      "\"variable 95: date_unregistration-225 has no variation.\"Warning message in (function (x, y, offset = NULL, misc = NULL, distribution = \"bernoulli\", :\n",
      "\"variable 105: date_unregistration-274 has no variation.\"Warning message in (function (x, y, offset = NULL, misc = NULL, distribution = \"bernoulli\", :\n",
      "\"variable 145: date_unregistration-62 has no variation.\"Warning message in (function (x, y, offset = NULL, misc = NULL, distribution = \"bernoulli\", :\n",
      "\"variable 178: date_unregistration-97 has no variation.\"Warning message in (function (x, y, offset = NULL, misc = NULL, distribution = \"bernoulli\", :\n",
      "\"variable 290: date_unregistration197 has no variation.\"Warning message in (function (x, y, offset = NULL, misc = NULL, distribution = \"bernoulli\", :\n",
      "\"variable 336: date_unregistration239 has no variation.\"Warning message in (function (x, y, offset = NULL, misc = NULL, distribution = \"bernoulli\", :\n",
      "\"variable 362: date_unregistration444 has no variation.\"Warning message in (function (x, y, offset = NULL, misc = NULL, distribution = \"bernoulli\", :\n",
      "\"variable 441: imd_bandTRUE has no variation.\""
     ]
    },
    {
     "name": "stdout",
     "output_type": "stream",
     "text": [
      "Iter   TrainDeviance   ValidDeviance   StepSize   Improve\n",
      "     1        1.2692             nan     0.1000    0.0530\n",
      "     2        1.1831             nan     0.1000    0.0431\n",
      "     3        1.1119             nan     0.1000    0.0356\n",
      "     4        1.0526             nan     0.1000    0.0299\n",
      "     5        1.0023             nan     0.1000    0.0250\n",
      "     6        0.9582             nan     0.1000    0.0218\n",
      "     7        0.9203             nan     0.1000    0.0189\n",
      "     8        0.8875             nan     0.1000    0.0165\n",
      "     9        0.8594             nan     0.1000    0.0140\n",
      "    10        0.8318             nan     0.1000    0.0137\n",
      "    20        0.6983             nan     0.1000    0.0038\n",
      "    40        0.6302             nan     0.1000    0.0006\n",
      "    60        0.6051             nan     0.1000    0.0003\n",
      "    80        0.5905             nan     0.1000    0.0002\n",
      "   100        0.5807             nan     0.1000    0.0003\n",
      "   120        0.5723             nan     0.1000    0.0002\n",
      "   140        0.5669             nan     0.1000    0.0001\n",
      "   150        0.5634             nan     0.1000    0.0001\n",
      "\n"
     ]
    },
    {
     "name": "stderr",
     "output_type": "stream",
     "text": [
      "Warning message in (function (x, y, offset = NULL, misc = NULL, distribution = \"bernoulli\", :\n",
      "\"variable 24: date_unregistration-112 has no variation.\"Warning message in (function (x, y, offset = NULL, misc = NULL, distribution = \"bernoulli\", :\n",
      "\"variable 53: date_unregistration-144 has no variation.\"Warning message in (function (x, y, offset = NULL, misc = NULL, distribution = \"bernoulli\", :\n",
      "\"variable 73: date_unregistration-179 has no variation.\"Warning message in (function (x, y, offset = NULL, misc = NULL, distribution = \"bernoulli\", :\n",
      "\"variable 82: date_unregistration-197 has no variation.\"Warning message in (function (x, y, offset = NULL, misc = NULL, distribution = \"bernoulli\", :\n",
      "\"variable 95: date_unregistration-225 has no variation.\"Warning message in (function (x, y, offset = NULL, misc = NULL, distribution = \"bernoulli\", :\n",
      "\"variable 108: date_unregistration-297 has no variation.\"Warning message in (function (x, y, offset = NULL, misc = NULL, distribution = \"bernoulli\", :\n",
      "\"variable 112: date_unregistration-317 has no variation.\"Warning message in (function (x, y, offset = NULL, misc = NULL, distribution = \"bernoulli\", :\n",
      "\"variable 336: date_unregistration239 has no variation.\"Warning message in (function (x, y, offset = NULL, misc = NULL, distribution = \"bernoulli\", :\n",
      "\"variable 441: imd_bandTRUE has no variation.\""
     ]
    },
    {
     "name": "stdout",
     "output_type": "stream",
     "text": [
      "Iter   TrainDeviance   ValidDeviance   StepSize   Improve\n",
      "     1        1.2866             nan     0.1000    0.0436\n",
      "     2        1.2153             nan     0.1000    0.0353\n",
      "     3        1.1576             nan     0.1000    0.0290\n",
      "     4        1.1098             nan     0.1000    0.0239\n",
      "     5        1.0698             nan     0.1000    0.0199\n",
      "     6        1.0359             nan     0.1000    0.0170\n",
      "     7        1.0073             nan     0.1000    0.0142\n",
      "     8        0.9830             nan     0.1000    0.0123\n",
      "     9        0.9603             nan     0.1000    0.0111\n",
      "    10        0.9407             nan     0.1000    0.0095\n",
      "    20        0.8176             nan     0.1000    0.0037\n",
      "    40        0.7287             nan     0.1000    0.0013\n",
      "    60        0.6903             nan     0.1000    0.0006\n",
      "    80        0.6719             nan     0.1000    0.0002\n",
      "   100        0.6604             nan     0.1000    0.0002\n",
      "   120        0.6532             nan     0.1000    0.0001\n",
      "   140        0.6477             nan     0.1000    0.0001\n",
      "   150        0.6453             nan     0.1000    0.0000\n",
      "\n"
     ]
    },
    {
     "name": "stderr",
     "output_type": "stream",
     "text": [
      "Warning message in (function (x, y, offset = NULL, misc = NULL, distribution = \"bernoulli\", :\n",
      "\"variable 24: date_unregistration-112 has no variation.\"Warning message in (function (x, y, offset = NULL, misc = NULL, distribution = \"bernoulli\", :\n",
      "\"variable 53: date_unregistration-144 has no variation.\"Warning message in (function (x, y, offset = NULL, misc = NULL, distribution = \"bernoulli\", :\n",
      "\"variable 73: date_unregistration-179 has no variation.\"Warning message in (function (x, y, offset = NULL, misc = NULL, distribution = \"bernoulli\", :\n",
      "\"variable 82: date_unregistration-197 has no variation.\"Warning message in (function (x, y, offset = NULL, misc = NULL, distribution = \"bernoulli\", :\n",
      "\"variable 95: date_unregistration-225 has no variation.\"Warning message in (function (x, y, offset = NULL, misc = NULL, distribution = \"bernoulli\", :\n",
      "\"variable 108: date_unregistration-297 has no variation.\"Warning message in (function (x, y, offset = NULL, misc = NULL, distribution = \"bernoulli\", :\n",
      "\"variable 112: date_unregistration-317 has no variation.\"Warning message in (function (x, y, offset = NULL, misc = NULL, distribution = \"bernoulli\", :\n",
      "\"variable 336: date_unregistration239 has no variation.\"Warning message in (function (x, y, offset = NULL, misc = NULL, distribution = \"bernoulli\", :\n",
      "\"variable 441: imd_bandTRUE has no variation.\""
     ]
    },
    {
     "name": "stdout",
     "output_type": "stream",
     "text": [
      "Iter   TrainDeviance   ValidDeviance   StepSize   Improve\n",
      "     1        1.2753             nan     0.1000    0.0500\n",
      "     2        1.1941             nan     0.1000    0.0409\n",
      "     3        1.1262             nan     0.1000    0.0338\n",
      "     4        1.0694             nan     0.1000    0.0285\n",
      "     5        1.0197             nan     0.1000    0.0248\n",
      "     6        0.9785             nan     0.1000    0.0206\n",
      "     7        0.9418             nan     0.1000    0.0182\n",
      "     8        0.9104             nan     0.1000    0.0156\n",
      "     9        0.8840             nan     0.1000    0.0133\n",
      "    10        0.8606             nan     0.1000    0.0115\n",
      "    20        0.7356             nan     0.1000    0.0031\n",
      "    40        0.6624             nan     0.1000    0.0007\n",
      "    60        0.6341             nan     0.1000    0.0004\n",
      "    80        0.6192             nan     0.1000    0.0001\n",
      "   100        0.6071             nan     0.1000    0.0000\n",
      "   120        0.5987             nan     0.1000    0.0002\n",
      "   140        0.5916             nan     0.1000    0.0002\n",
      "   150        0.5893             nan     0.1000   -0.0000\n",
      "\n"
     ]
    },
    {
     "name": "stderr",
     "output_type": "stream",
     "text": [
      "Warning message in (function (x, y, offset = NULL, misc = NULL, distribution = \"bernoulli\", :\n",
      "\"variable 24: date_unregistration-112 has no variation.\"Warning message in (function (x, y, offset = NULL, misc = NULL, distribution = \"bernoulli\", :\n",
      "\"variable 53: date_unregistration-144 has no variation.\"Warning message in (function (x, y, offset = NULL, misc = NULL, distribution = \"bernoulli\", :\n",
      "\"variable 73: date_unregistration-179 has no variation.\"Warning message in (function (x, y, offset = NULL, misc = NULL, distribution = \"bernoulli\", :\n",
      "\"variable 82: date_unregistration-197 has no variation.\"Warning message in (function (x, y, offset = NULL, misc = NULL, distribution = \"bernoulli\", :\n",
      "\"variable 95: date_unregistration-225 has no variation.\"Warning message in (function (x, y, offset = NULL, misc = NULL, distribution = \"bernoulli\", :\n",
      "\"variable 108: date_unregistration-297 has no variation.\"Warning message in (function (x, y, offset = NULL, misc = NULL, distribution = \"bernoulli\", :\n",
      "\"variable 112: date_unregistration-317 has no variation.\"Warning message in (function (x, y, offset = NULL, misc = NULL, distribution = \"bernoulli\", :\n",
      "\"variable 336: date_unregistration239 has no variation.\"Warning message in (function (x, y, offset = NULL, misc = NULL, distribution = \"bernoulli\", :\n",
      "\"variable 441: imd_bandTRUE has no variation.\""
     ]
    },
    {
     "name": "stdout",
     "output_type": "stream",
     "text": [
      "Iter   TrainDeviance   ValidDeviance   StepSize   Improve\n",
      "     1        1.2688             nan     0.1000    0.0528\n",
      "     2        1.1807             nan     0.1000    0.0439\n",
      "     3        1.1086             nan     0.1000    0.0362\n",
      "     4        1.0493             nan     0.1000    0.0296\n",
      "     5        0.9977             nan     0.1000    0.0259\n",
      "     6        0.9545             nan     0.1000    0.0214\n",
      "     7        0.9145             nan     0.1000    0.0200\n",
      "     8        0.8831             nan     0.1000    0.0156\n",
      "     9        0.8536             nan     0.1000    0.0150\n",
      "    10        0.8284             nan     0.1000    0.0126\n",
      "    20        0.6953             nan     0.1000    0.0034\n",
      "    40        0.6291             nan     0.1000    0.0008\n",
      "    60        0.6075             nan     0.1000    0.0002\n",
      "    80        0.5938             nan     0.1000    0.0002\n",
      "   100        0.5837             nan     0.1000    0.0001\n",
      "   120        0.5772             nan     0.1000    0.0001\n",
      "   140        0.5689             nan     0.1000   -0.0001\n",
      "   150        0.5655             nan     0.1000    0.0000\n",
      "\n"
     ]
    },
    {
     "name": "stderr",
     "output_type": "stream",
     "text": [
      "Warning message in (function (x, y, offset = NULL, misc = NULL, distribution = \"bernoulli\", :\n",
      "\"variable 24: date_unregistration-112 has no variation.\"Warning message in (function (x, y, offset = NULL, misc = NULL, distribution = \"bernoulli\", :\n",
      "\"variable 73: date_unregistration-179 has no variation.\"Warning message in (function (x, y, offset = NULL, misc = NULL, distribution = \"bernoulli\", :\n",
      "\"variable 89: date_unregistration-209 has no variation.\"Warning message in (function (x, y, offset = NULL, misc = NULL, distribution = \"bernoulli\", :\n",
      "\"variable 94: date_unregistration-220 has no variation.\"Warning message in (function (x, y, offset = NULL, misc = NULL, distribution = \"bernoulli\", :\n",
      "\"variable 95: date_unregistration-225 has no variation.\"Warning message in (function (x, y, offset = NULL, misc = NULL, distribution = \"bernoulli\", :\n",
      "\"variable 117: date_unregistration-365 has no variation.\"Warning message in (function (x, y, offset = NULL, misc = NULL, distribution = \"bernoulli\", :\n",
      "\"variable 213: date_unregistration127 has no variation.\"Warning message in (function (x, y, offset = NULL, misc = NULL, distribution = \"bernoulli\", :\n",
      "\"variable 336: date_unregistration239 has no variation.\"Warning message in (function (x, y, offset = NULL, misc = NULL, distribution = \"bernoulli\", :\n",
      "\"variable 441: imd_bandTRUE has no variation.\""
     ]
    },
    {
     "name": "stdout",
     "output_type": "stream",
     "text": [
      "Iter   TrainDeviance   ValidDeviance   StepSize   Improve\n",
      "     1        1.2892             nan     0.1000    0.0434\n",
      "     2        1.2192             nan     0.1000    0.0352\n",
      "     3        1.1620             nan     0.1000    0.0290\n",
      "     4        1.1145             nan     0.1000    0.0239\n",
      "     5        1.0746             nan     0.1000    0.0200\n",
      "     6        1.0405             nan     0.1000    0.0170\n",
      "     7        1.0120             nan     0.1000    0.0143\n",
      "     8        0.9874             nan     0.1000    0.0121\n",
      "     9        0.9649             nan     0.1000    0.0112\n",
      "    10        0.9453             nan     0.1000    0.0097\n",
      "    20        0.8229             nan     0.1000    0.0030\n",
      "    40        0.7331             nan     0.1000    0.0015\n",
      "    60        0.6954             nan     0.1000    0.0006\n",
      "    80        0.6765             nan     0.1000    0.0005\n",
      "   100        0.6653             nan     0.1000    0.0001\n",
      "   120        0.6582             nan     0.1000    0.0000\n",
      "   140        0.6522             nan     0.1000    0.0001\n",
      "   150        0.6501             nan     0.1000    0.0001\n",
      "\n"
     ]
    },
    {
     "name": "stderr",
     "output_type": "stream",
     "text": [
      "Warning message in (function (x, y, offset = NULL, misc = NULL, distribution = \"bernoulli\", :\n",
      "\"variable 24: date_unregistration-112 has no variation.\"Warning message in (function (x, y, offset = NULL, misc = NULL, distribution = \"bernoulli\", :\n",
      "\"variable 73: date_unregistration-179 has no variation.\"Warning message in (function (x, y, offset = NULL, misc = NULL, distribution = \"bernoulli\", :\n",
      "\"variable 89: date_unregistration-209 has no variation.\"Warning message in (function (x, y, offset = NULL, misc = NULL, distribution = \"bernoulli\", :\n",
      "\"variable 94: date_unregistration-220 has no variation.\"Warning message in (function (x, y, offset = NULL, misc = NULL, distribution = \"bernoulli\", :\n",
      "\"variable 95: date_unregistration-225 has no variation.\"Warning message in (function (x, y, offset = NULL, misc = NULL, distribution = \"bernoulli\", :\n",
      "\"variable 117: date_unregistration-365 has no variation.\"Warning message in (function (x, y, offset = NULL, misc = NULL, distribution = \"bernoulli\", :\n",
      "\"variable 213: date_unregistration127 has no variation.\"Warning message in (function (x, y, offset = NULL, misc = NULL, distribution = \"bernoulli\", :\n",
      "\"variable 336: date_unregistration239 has no variation.\"Warning message in (function (x, y, offset = NULL, misc = NULL, distribution = \"bernoulli\", :\n",
      "\"variable 441: imd_bandTRUE has no variation.\""
     ]
    },
    {
     "name": "stdout",
     "output_type": "stream",
     "text": [
      "Iter   TrainDeviance   ValidDeviance   StepSize   Improve\n",
      "     1        1.2765             nan     0.1000    0.0500\n",
      "     2        1.1944             nan     0.1000    0.0408\n",
      "     3        1.1267             nan     0.1000    0.0336\n",
      "     4        1.0709             nan     0.1000    0.0282\n",
      "     5        1.0236             nan     0.1000    0.0237\n",
      "     6        0.9810             nan     0.1000    0.0214\n",
      "     7        0.9452             nan     0.1000    0.0178\n",
      "     8        0.9150             nan     0.1000    0.0151\n",
      "     9        0.8882             nan     0.1000    0.0134\n",
      "    10        0.8654             nan     0.1000    0.0113\n",
      "    20        0.7385             nan     0.1000    0.0035\n",
      "    40        0.6645             nan     0.1000    0.0007\n",
      "    60        0.6352             nan     0.1000    0.0006\n",
      "    80        0.6206             nan     0.1000    0.0003\n",
      "   100        0.6080             nan     0.1000    0.0004\n",
      "   120        0.5996             nan     0.1000   -0.0000\n",
      "   140        0.5914             nan     0.1000    0.0002\n",
      "   150        0.5886             nan     0.1000    0.0002\n",
      "\n"
     ]
    },
    {
     "name": "stderr",
     "output_type": "stream",
     "text": [
      "Warning message in (function (x, y, offset = NULL, misc = NULL, distribution = \"bernoulli\", :\n",
      "\"variable 24: date_unregistration-112 has no variation.\"Warning message in (function (x, y, offset = NULL, misc = NULL, distribution = \"bernoulli\", :\n",
      "\"variable 73: date_unregistration-179 has no variation.\"Warning message in (function (x, y, offset = NULL, misc = NULL, distribution = \"bernoulli\", :\n",
      "\"variable 89: date_unregistration-209 has no variation.\"Warning message in (function (x, y, offset = NULL, misc = NULL, distribution = \"bernoulli\", :\n",
      "\"variable 94: date_unregistration-220 has no variation.\"Warning message in (function (x, y, offset = NULL, misc = NULL, distribution = \"bernoulli\", :\n",
      "\"variable 95: date_unregistration-225 has no variation.\"Warning message in (function (x, y, offset = NULL, misc = NULL, distribution = \"bernoulli\", :\n",
      "\"variable 117: date_unregistration-365 has no variation.\"Warning message in (function (x, y, offset = NULL, misc = NULL, distribution = \"bernoulli\", :\n",
      "\"variable 213: date_unregistration127 has no variation.\"Warning message in (function (x, y, offset = NULL, misc = NULL, distribution = \"bernoulli\", :\n",
      "\"variable 336: date_unregistration239 has no variation.\"Warning message in (function (x, y, offset = NULL, misc = NULL, distribution = \"bernoulli\", :\n",
      "\"variable 441: imd_bandTRUE has no variation.\""
     ]
    },
    {
     "name": "stdout",
     "output_type": "stream",
     "text": [
      "Iter   TrainDeviance   ValidDeviance   StepSize   Improve\n",
      "     1        1.2701             nan     0.1000    0.0526\n",
      "     2        1.1827             nan     0.1000    0.0437\n",
      "     3        1.1109             nan     0.1000    0.0360\n",
      "     4        1.0513             nan     0.1000    0.0301\n",
      "     5        1.0000             nan     0.1000    0.0256\n",
      "     6        0.9561             nan     0.1000    0.0216\n",
      "     7        0.9166             nan     0.1000    0.0197\n",
      "     8        0.8826             nan     0.1000    0.0171\n",
      "     9        0.8553             nan     0.1000    0.0134\n",
      "    10        0.8307             nan     0.1000    0.0123\n",
      "    20        0.6981             nan     0.1000    0.0031\n",
      "    40        0.6325             nan     0.1000    0.0008\n",
      "    60        0.6097             nan     0.1000    0.0004\n",
      "    80        0.5956             nan     0.1000    0.0000\n",
      "   100        0.5853             nan     0.1000    0.0002\n",
      "   120        0.5783             nan     0.1000    0.0001\n",
      "   140        0.5712             nan     0.1000    0.0001\n",
      "   150        0.5687             nan     0.1000    0.0002\n",
      "\n"
     ]
    },
    {
     "name": "stderr",
     "output_type": "stream",
     "text": [
      "Warning message in (function (x, y, offset = NULL, misc = NULL, distribution = \"bernoulli\", :\n",
      "\"variable 24: date_unregistration-112 has no variation.\"Warning message in (function (x, y, offset = NULL, misc = NULL, distribution = \"bernoulli\", :\n",
      "\"variable 27: date_unregistration-115 has no variation.\"Warning message in (function (x, y, offset = NULL, misc = NULL, distribution = \"bernoulli\", :\n",
      "\"variable 73: date_unregistration-179 has no variation.\"Warning message in (function (x, y, offset = NULL, misc = NULL, distribution = \"bernoulli\", :\n",
      "\"variable 95: date_unregistration-225 has no variation.\"Warning message in (function (x, y, offset = NULL, misc = NULL, distribution = \"bernoulli\", :\n",
      "\"variable 336: date_unregistration239 has no variation.\"Warning message in (function (x, y, offset = NULL, misc = NULL, distribution = \"bernoulli\", :\n",
      "\"variable 441: imd_bandTRUE has no variation.\""
     ]
    },
    {
     "name": "stdout",
     "output_type": "stream",
     "text": [
      "Iter   TrainDeviance   ValidDeviance   StepSize   Improve\n",
      "     1        1.2882             nan     0.1000    0.0433\n",
      "     2        1.2180             nan     0.1000    0.0352\n",
      "     3        1.1596             nan     0.1000    0.0288\n",
      "     4        1.1121             nan     0.1000    0.0237\n",
      "     5        1.0727             nan     0.1000    0.0197\n",
      "     6        1.0389             nan     0.1000    0.0170\n",
      "     7        1.0104             nan     0.1000    0.0141\n",
      "     8        0.9862             nan     0.1000    0.0119\n",
      "     9        0.9640             nan     0.1000    0.0113\n",
      "    10        0.9443             nan     0.1000    0.0098\n",
      "    20        0.8218             nan     0.1000    0.0037\n",
      "    40        0.7325             nan     0.1000    0.0011\n",
      "    60        0.6954             nan     0.1000    0.0006\n",
      "    80        0.6756             nan     0.1000    0.0003\n",
      "   100        0.6650             nan     0.1000    0.0001\n",
      "   120        0.6574             nan     0.1000    0.0002\n",
      "   140        0.6518             nan     0.1000    0.0000\n",
      "   150        0.6494             nan     0.1000    0.0000\n",
      "\n"
     ]
    },
    {
     "name": "stderr",
     "output_type": "stream",
     "text": [
      "Warning message in (function (x, y, offset = NULL, misc = NULL, distribution = \"bernoulli\", :\n",
      "\"variable 24: date_unregistration-112 has no variation.\"Warning message in (function (x, y, offset = NULL, misc = NULL, distribution = \"bernoulli\", :\n",
      "\"variable 27: date_unregistration-115 has no variation.\"Warning message in (function (x, y, offset = NULL, misc = NULL, distribution = \"bernoulli\", :\n",
      "\"variable 73: date_unregistration-179 has no variation.\"Warning message in (function (x, y, offset = NULL, misc = NULL, distribution = \"bernoulli\", :\n",
      "\"variable 95: date_unregistration-225 has no variation.\"Warning message in (function (x, y, offset = NULL, misc = NULL, distribution = \"bernoulli\", :\n",
      "\"variable 336: date_unregistration239 has no variation.\"Warning message in (function (x, y, offset = NULL, misc = NULL, distribution = \"bernoulli\", :\n",
      "\"variable 441: imd_bandTRUE has no variation.\""
     ]
    },
    {
     "name": "stdout",
     "output_type": "stream",
     "text": [
      "Iter   TrainDeviance   ValidDeviance   StepSize   Improve\n",
      "     1        1.2762             nan     0.1000    0.0500\n",
      "     2        1.1949             nan     0.1000    0.0408\n",
      "     3        1.1272             nan     0.1000    0.0336\n",
      "     4        1.0708             nan     0.1000    0.0283\n",
      "     5        1.0225             nan     0.1000    0.0238\n",
      "     6        0.9799             nan     0.1000    0.0212\n",
      "     7        0.9437             nan     0.1000    0.0178\n",
      "     8        0.9131             nan     0.1000    0.0149\n",
      "     9        0.8869             nan     0.1000    0.0126\n",
      "    10        0.8630             nan     0.1000    0.0119\n",
      "    20        0.7385             nan     0.1000    0.0035\n",
      "    40        0.6647             nan     0.1000    0.0007\n",
      "    60        0.6372             nan     0.1000    0.0007\n",
      "    80        0.6223             nan     0.1000    0.0002\n",
      "   100        0.6122             nan     0.1000    0.0001\n",
      "   120        0.6027             nan     0.1000    0.0001\n",
      "   140        0.5964             nan     0.1000    0.0001\n",
      "   150        0.5940             nan     0.1000    0.0000\n",
      "\n"
     ]
    },
    {
     "name": "stderr",
     "output_type": "stream",
     "text": [
      "Warning message in (function (x, y, offset = NULL, misc = NULL, distribution = \"bernoulli\", :\n",
      "\"variable 24: date_unregistration-112 has no variation.\"Warning message in (function (x, y, offset = NULL, misc = NULL, distribution = \"bernoulli\", :\n",
      "\"variable 27: date_unregistration-115 has no variation.\"Warning message in (function (x, y, offset = NULL, misc = NULL, distribution = \"bernoulli\", :\n",
      "\"variable 73: date_unregistration-179 has no variation.\"Warning message in (function (x, y, offset = NULL, misc = NULL, distribution = \"bernoulli\", :\n",
      "\"variable 95: date_unregistration-225 has no variation.\"Warning message in (function (x, y, offset = NULL, misc = NULL, distribution = \"bernoulli\", :\n",
      "\"variable 336: date_unregistration239 has no variation.\"Warning message in (function (x, y, offset = NULL, misc = NULL, distribution = \"bernoulli\", :\n",
      "\"variable 441: imd_bandTRUE has no variation.\""
     ]
    },
    {
     "name": "stdout",
     "output_type": "stream",
     "text": [
      "Iter   TrainDeviance   ValidDeviance   StepSize   Improve\n",
      "     1        1.2694             nan     0.1000    0.0527\n",
      "     2        1.1824             nan     0.1000    0.0438\n",
      "     3        1.1106             nan     0.1000    0.0360\n",
      "     4        1.0503             nan     0.1000    0.0297\n",
      "     5        0.9989             nan     0.1000    0.0257\n",
      "     6        0.9559             nan     0.1000    0.0214\n",
      "     7        0.9182             nan     0.1000    0.0186\n",
      "     8        0.8861             nan     0.1000    0.0158\n",
      "     9        0.8553             nan     0.1000    0.0152\n",
      "    10        0.8321             nan     0.1000    0.0114\n",
      "    20        0.6981             nan     0.1000    0.0038\n",
      "    40        0.6316             nan     0.1000    0.0007\n",
      "    60        0.6086             nan     0.1000    0.0002\n",
      "    80        0.5949             nan     0.1000    0.0001\n",
      "   100        0.5838             nan     0.1000    0.0001\n",
      "   120        0.5756             nan     0.1000    0.0001\n",
      "   140        0.5689             nan     0.1000    0.0002\n",
      "   150        0.5667             nan     0.1000    0.0001\n",
      "\n"
     ]
    },
    {
     "name": "stderr",
     "output_type": "stream",
     "text": [
      "Warning message in (function (x, y, offset = NULL, misc = NULL, distribution = \"bernoulli\", :\n",
      "\"variable 24: date_unregistration-112 has no variation.\"Warning message in (function (x, y, offset = NULL, misc = NULL, distribution = \"bernoulli\", :\n",
      "\"variable 48: date_unregistration-138 has no variation.\"Warning message in (function (x, y, offset = NULL, misc = NULL, distribution = \"bernoulli\", :\n",
      "\"variable 73: date_unregistration-179 has no variation.\"Warning message in (function (x, y, offset = NULL, misc = NULL, distribution = \"bernoulli\", :\n",
      "\"variable 86: date_unregistration-205 has no variation.\"Warning message in (function (x, y, offset = NULL, misc = NULL, distribution = \"bernoulli\", :\n",
      "\"variable 92: date_unregistration-213 has no variation.\"Warning message in (function (x, y, offset = NULL, misc = NULL, distribution = \"bernoulli\", :\n",
      "\"variable 95: date_unregistration-225 has no variation.\"Warning message in (function (x, y, offset = NULL, misc = NULL, distribution = \"bernoulli\", :\n",
      "\"variable 321: date_unregistration224 has no variation.\"Warning message in (function (x, y, offset = NULL, misc = NULL, distribution = \"bernoulli\", :\n",
      "\"variable 336: date_unregistration239 has no variation.\"Warning message in (function (x, y, offset = NULL, misc = NULL, distribution = \"bernoulli\", :\n",
      "\"variable 441: imd_bandTRUE has no variation.\""
     ]
    },
    {
     "name": "stdout",
     "output_type": "stream",
     "text": [
      "Iter   TrainDeviance   ValidDeviance   StepSize   Improve\n",
      "     1        1.2884             nan     0.1000    0.0436\n",
      "     2        1.2174             nan     0.1000    0.0355\n",
      "     3        1.1598             nan     0.1000    0.0291\n",
      "     4        1.1120             nan     0.1000    0.0240\n",
      "     5        1.0723             nan     0.1000    0.0198\n",
      "     6        1.0385             nan     0.1000    0.0172\n",
      "     7        1.0096             nan     0.1000    0.0143\n",
      "     8        0.9846             nan     0.1000    0.0124\n",
      "     9        0.9618             nan     0.1000    0.0113\n",
      "    10        0.9416             nan     0.1000    0.0101\n",
      "    20        0.8199             nan     0.1000    0.0033\n",
      "    40        0.7316             nan     0.1000    0.0016\n",
      "    60        0.6939             nan     0.1000    0.0006\n",
      "    80        0.6735             nan     0.1000    0.0002\n",
      "   100        0.6623             nan     0.1000    0.0002\n",
      "   120        0.6549             nan     0.1000    0.0001\n",
      "   140        0.6491             nan     0.1000    0.0001\n",
      "   150        0.6467             nan     0.1000    0.0001\n",
      "\n"
     ]
    },
    {
     "name": "stderr",
     "output_type": "stream",
     "text": [
      "Warning message in (function (x, y, offset = NULL, misc = NULL, distribution = \"bernoulli\", :\n",
      "\"variable 24: date_unregistration-112 has no variation.\"Warning message in (function (x, y, offset = NULL, misc = NULL, distribution = \"bernoulli\", :\n",
      "\"variable 48: date_unregistration-138 has no variation.\"Warning message in (function (x, y, offset = NULL, misc = NULL, distribution = \"bernoulli\", :\n",
      "\"variable 73: date_unregistration-179 has no variation.\"Warning message in (function (x, y, offset = NULL, misc = NULL, distribution = \"bernoulli\", :\n",
      "\"variable 86: date_unregistration-205 has no variation.\"Warning message in (function (x, y, offset = NULL, misc = NULL, distribution = \"bernoulli\", :\n",
      "\"variable 92: date_unregistration-213 has no variation.\"Warning message in (function (x, y, offset = NULL, misc = NULL, distribution = \"bernoulli\", :\n",
      "\"variable 95: date_unregistration-225 has no variation.\"Warning message in (function (x, y, offset = NULL, misc = NULL, distribution = \"bernoulli\", :\n",
      "\"variable 321: date_unregistration224 has no variation.\"Warning message in (function (x, y, offset = NULL, misc = NULL, distribution = \"bernoulli\", :\n",
      "\"variable 336: date_unregistration239 has no variation.\"Warning message in (function (x, y, offset = NULL, misc = NULL, distribution = \"bernoulli\", :\n",
      "\"variable 441: imd_bandTRUE has no variation.\""
     ]
    },
    {
     "name": "stdout",
     "output_type": "stream",
     "text": [
      "Iter   TrainDeviance   ValidDeviance   StepSize   Improve\n",
      "     1        1.2764             nan     0.1000    0.0499\n",
      "     2        1.1947             nan     0.1000    0.0406\n",
      "     3        1.1271             nan     0.1000    0.0338\n",
      "     4        1.0708             nan     0.1000    0.0283\n",
      "     5        1.0226             nan     0.1000    0.0238\n",
      "     6        0.9798             nan     0.1000    0.0213\n",
      "     7        0.9435             nan     0.1000    0.0179\n",
      "     8        0.9123             nan     0.1000    0.0153\n",
      "     9        0.8851             nan     0.1000    0.0134\n",
      "    10        0.8621             nan     0.1000    0.0112\n",
      "    20        0.7355             nan     0.1000    0.0035\n",
      "    40        0.6619             nan     0.1000    0.0011\n",
      "    60        0.6338             nan     0.1000    0.0004\n",
      "    80        0.6181             nan     0.1000    0.0003\n",
      "   100        0.6067             nan     0.1000    0.0000\n",
      "   120        0.5985             nan     0.1000    0.0002\n",
      "   140        0.5919             nan     0.1000   -0.0000\n",
      "   150        0.5889             nan     0.1000    0.0000\n",
      "\n"
     ]
    },
    {
     "name": "stderr",
     "output_type": "stream",
     "text": [
      "Warning message in (function (x, y, offset = NULL, misc = NULL, distribution = \"bernoulli\", :\n",
      "\"variable 24: date_unregistration-112 has no variation.\"Warning message in (function (x, y, offset = NULL, misc = NULL, distribution = \"bernoulli\", :\n",
      "\"variable 48: date_unregistration-138 has no variation.\"Warning message in (function (x, y, offset = NULL, misc = NULL, distribution = \"bernoulli\", :\n",
      "\"variable 73: date_unregistration-179 has no variation.\"Warning message in (function (x, y, offset = NULL, misc = NULL, distribution = \"bernoulli\", :\n",
      "\"variable 86: date_unregistration-205 has no variation.\"Warning message in (function (x, y, offset = NULL, misc = NULL, distribution = \"bernoulli\", :\n",
      "\"variable 92: date_unregistration-213 has no variation.\"Warning message in (function (x, y, offset = NULL, misc = NULL, distribution = \"bernoulli\", :\n",
      "\"variable 95: date_unregistration-225 has no variation.\"Warning message in (function (x, y, offset = NULL, misc = NULL, distribution = \"bernoulli\", :\n",
      "\"variable 321: date_unregistration224 has no variation.\"Warning message in (function (x, y, offset = NULL, misc = NULL, distribution = \"bernoulli\", :\n",
      "\"variable 336: date_unregistration239 has no variation.\"Warning message in (function (x, y, offset = NULL, misc = NULL, distribution = \"bernoulli\", :\n",
      "\"variable 441: imd_bandTRUE has no variation.\""
     ]
    },
    {
     "name": "stdout",
     "output_type": "stream",
     "text": [
      "Iter   TrainDeviance   ValidDeviance   StepSize   Improve\n",
      "     1        1.2685             nan     0.1000    0.0536\n",
      "     2        1.1816             nan     0.1000    0.0431\n",
      "     3        1.1104             nan     0.1000    0.0360\n",
      "     4        1.0507             nan     0.1000    0.0296\n",
      "     5        1.0000             nan     0.1000    0.0256\n",
      "     6        0.9568             nan     0.1000    0.0214\n",
      "     7        0.9183             nan     0.1000    0.0188\n",
      "     8        0.8860             nan     0.1000    0.0160\n",
      "     9        0.8550             nan     0.1000    0.0155\n",
      "    10        0.8295             nan     0.1000    0.0127\n",
      "    20        0.6966             nan     0.1000    0.0038\n",
      "    40        0.6303             nan     0.1000    0.0008\n",
      "    60        0.6070             nan     0.1000    0.0003\n",
      "    80        0.5933             nan     0.1000    0.0002\n",
      "   100        0.5845             nan     0.1000    0.0002\n",
      "   120        0.5768             nan     0.1000    0.0000\n",
      "   140        0.5689             nan     0.1000    0.0000\n",
      "   150        0.5657             nan     0.1000   -0.0000\n",
      "\n"
     ]
    },
    {
     "name": "stderr",
     "output_type": "stream",
     "text": [
      "Warning message in (function (x, y, offset = NULL, misc = NULL, distribution = \"bernoulli\", :\n",
      "\"variable 24: date_unregistration-112 has no variation.\"Warning message in (function (x, y, offset = NULL, misc = NULL, distribution = \"bernoulli\", :\n",
      "\"variable 59: date_unregistration-152 has no variation.\"Warning message in (function (x, y, offset = NULL, misc = NULL, distribution = \"bernoulli\", :\n",
      "\"variable 73: date_unregistration-179 has no variation.\"Warning message in (function (x, y, offset = NULL, misc = NULL, distribution = \"bernoulli\", :\n",
      "\"variable 95: date_unregistration-225 has no variation.\"Warning message in (function (x, y, offset = NULL, misc = NULL, distribution = \"bernoulli\", :\n",
      "\"variable 165: date_unregistration-84 has no variation.\"Warning message in (function (x, y, offset = NULL, misc = NULL, distribution = \"bernoulli\", :\n",
      "\"variable 336: date_unregistration239 has no variation.\"Warning message in (function (x, y, offset = NULL, misc = NULL, distribution = \"bernoulli\", :\n",
      "\"variable 352: date_unregistration36 has no variation.\"Warning message in (function (x, y, offset = NULL, misc = NULL, distribution = \"bernoulli\", :\n",
      "\"variable 441: imd_bandTRUE has no variation.\""
     ]
    },
    {
     "name": "stdout",
     "output_type": "stream",
     "text": [
      "Iter   TrainDeviance   ValidDeviance   StepSize   Improve\n",
      "     1        1.2883             nan     0.1000    0.0434\n",
      "     2        1.2168             nan     0.1000    0.0353\n",
      "     3        1.1594             nan     0.1000    0.0288\n",
      "     4        1.1117             nan     0.1000    0.0237\n",
      "     5        1.0720             nan     0.1000    0.0197\n",
      "     6        1.0388             nan     0.1000    0.0169\n",
      "     7        1.0103             nan     0.1000    0.0142\n",
      "     8        0.9860             nan     0.1000    0.0123\n",
      "     9        0.9636             nan     0.1000    0.0111\n",
      "    10        0.9436             nan     0.1000    0.0099\n",
      "    20        0.8224             nan     0.1000    0.0034\n",
      "    40        0.7349             nan     0.1000    0.0012\n",
      "    60        0.6982             nan     0.1000    0.0004\n",
      "    80        0.6788             nan     0.1000    0.0003\n",
      "   100        0.6677             nan     0.1000    0.0001\n",
      "   120        0.6605             nan     0.1000    0.0001\n",
      "   140        0.6550             nan     0.1000    0.0001\n",
      "   150        0.6524             nan     0.1000    0.0001\n",
      "\n"
     ]
    },
    {
     "name": "stderr",
     "output_type": "stream",
     "text": [
      "Warning message in (function (x, y, offset = NULL, misc = NULL, distribution = \"bernoulli\", :\n",
      "\"variable 24: date_unregistration-112 has no variation.\"Warning message in (function (x, y, offset = NULL, misc = NULL, distribution = \"bernoulli\", :\n",
      "\"variable 59: date_unregistration-152 has no variation.\"Warning message in (function (x, y, offset = NULL, misc = NULL, distribution = \"bernoulli\", :\n",
      "\"variable 73: date_unregistration-179 has no variation.\"Warning message in (function (x, y, offset = NULL, misc = NULL, distribution = \"bernoulli\", :\n",
      "\"variable 95: date_unregistration-225 has no variation.\"Warning message in (function (x, y, offset = NULL, misc = NULL, distribution = \"bernoulli\", :\n",
      "\"variable 165: date_unregistration-84 has no variation.\"Warning message in (function (x, y, offset = NULL, misc = NULL, distribution = \"bernoulli\", :\n",
      "\"variable 336: date_unregistration239 has no variation.\"Warning message in (function (x, y, offset = NULL, misc = NULL, distribution = \"bernoulli\", :\n",
      "\"variable 352: date_unregistration36 has no variation.\"Warning message in (function (x, y, offset = NULL, misc = NULL, distribution = \"bernoulli\", :\n",
      "\"variable 441: imd_bandTRUE has no variation.\""
     ]
    },
    {
     "name": "stdout",
     "output_type": "stream",
     "text": [
      "Iter   TrainDeviance   ValidDeviance   StepSize   Improve\n",
      "     1        1.2759             nan     0.1000    0.0495\n",
      "     2        1.1941             nan     0.1000    0.0405\n",
      "     3        1.1266             nan     0.1000    0.0334\n",
      "     4        1.0711             nan     0.1000    0.0277\n",
      "     5        1.0231             nan     0.1000    0.0239\n",
      "     6        0.9810             nan     0.1000    0.0210\n",
      "     7        0.9447             nan     0.1000    0.0180\n",
      "     8        0.9144             nan     0.1000    0.0152\n",
      "     9        0.8884             nan     0.1000    0.0129\n",
      "    10        0.8647             nan     0.1000    0.0118\n",
      "    20        0.7393             nan     0.1000    0.0037\n",
      "    40        0.6640             nan     0.1000    0.0006\n",
      "    60        0.6394             nan     0.1000    0.0002\n",
      "    80        0.6243             nan     0.1000    0.0001\n",
      "   100        0.6155             nan     0.1000    0.0001\n",
      "   120        0.6060             nan     0.1000   -0.0000\n",
      "   140        0.5989             nan     0.1000   -0.0000\n",
      "   150        0.5960             nan     0.1000    0.0001\n",
      "\n"
     ]
    },
    {
     "name": "stderr",
     "output_type": "stream",
     "text": [
      "Warning message in (function (x, y, offset = NULL, misc = NULL, distribution = \"bernoulli\", :\n",
      "\"variable 24: date_unregistration-112 has no variation.\"Warning message in (function (x, y, offset = NULL, misc = NULL, distribution = \"bernoulli\", :\n",
      "\"variable 59: date_unregistration-152 has no variation.\"Warning message in (function (x, y, offset = NULL, misc = NULL, distribution = \"bernoulli\", :\n",
      "\"variable 73: date_unregistration-179 has no variation.\"Warning message in (function (x, y, offset = NULL, misc = NULL, distribution = \"bernoulli\", :\n",
      "\"variable 95: date_unregistration-225 has no variation.\"Warning message in (function (x, y, offset = NULL, misc = NULL, distribution = \"bernoulli\", :\n",
      "\"variable 165: date_unregistration-84 has no variation.\"Warning message in (function (x, y, offset = NULL, misc = NULL, distribution = \"bernoulli\", :\n",
      "\"variable 336: date_unregistration239 has no variation.\"Warning message in (function (x, y, offset = NULL, misc = NULL, distribution = \"bernoulli\", :\n",
      "\"variable 352: date_unregistration36 has no variation.\"Warning message in (function (x, y, offset = NULL, misc = NULL, distribution = \"bernoulli\", :\n",
      "\"variable 441: imd_bandTRUE has no variation.\""
     ]
    },
    {
     "name": "stdout",
     "output_type": "stream",
     "text": [
      "Iter   TrainDeviance   ValidDeviance   StepSize   Improve\n",
      "     1        1.2688             nan     0.1000    0.0531\n",
      "     2        1.1831             nan     0.1000    0.0429\n",
      "     3        1.1117             nan     0.1000    0.0358\n",
      "     4        1.0519             nan     0.1000    0.0297\n",
      "     5        1.0002             nan     0.1000    0.0254\n",
      "     6        0.9571             nan     0.1000    0.0215\n",
      "     7        0.9173             nan     0.1000    0.0198\n",
      "     8        0.8832             nan     0.1000    0.0170\n",
      "     9        0.8549             nan     0.1000    0.0142\n",
      "    10        0.8291             nan     0.1000    0.0126\n",
      "    20        0.6973             nan     0.1000    0.0039\n",
      "    40        0.6353             nan     0.1000    0.0009\n",
      "    60        0.6120             nan     0.1000    0.0003\n",
      "    80        0.5992             nan     0.1000    0.0001\n",
      "   100        0.5892             nan     0.1000    0.0004\n",
      "   120        0.5822             nan     0.1000    0.0001\n",
      "   140        0.5761             nan     0.1000    0.0001\n",
      "   150        0.5737             nan     0.1000    0.0000\n",
      "\n"
     ]
    },
    {
     "name": "stderr",
     "output_type": "stream",
     "text": [
      "Warning message in (function (x, y, offset = NULL, misc = NULL, distribution = \"bernoulli\", :\n",
      "\"variable 24: date_unregistration-112 has no variation.\"Warning message in (function (x, y, offset = NULL, misc = NULL, distribution = \"bernoulli\", :\n",
      "\"variable 31: date_unregistration-119 has no variation.\"Warning message in (function (x, y, offset = NULL, misc = NULL, distribution = \"bernoulli\", :\n",
      "\"variable 73: date_unregistration-179 has no variation.\"Warning message in (function (x, y, offset = NULL, misc = NULL, distribution = \"bernoulli\", :\n",
      "\"variable 79: date_unregistration-192 has no variation.\"Warning message in (function (x, y, offset = NULL, misc = NULL, distribution = \"bernoulli\", :\n",
      "\"variable 88: date_unregistration-207 has no variation.\"Warning message in (function (x, y, offset = NULL, misc = NULL, distribution = \"bernoulli\", :\n",
      "\"variable 95: date_unregistration-225 has no variation.\"Warning message in (function (x, y, offset = NULL, misc = NULL, distribution = \"bernoulli\", :\n",
      "\"variable 267: date_unregistration176 has no variation.\"Warning message in (function (x, y, offset = NULL, misc = NULL, distribution = \"bernoulli\", :\n",
      "\"variable 330: date_unregistration232 has no variation.\"Warning message in (function (x, y, offset = NULL, misc = NULL, distribution = \"bernoulli\", :\n",
      "\"variable 336: date_unregistration239 has no variation.\"Warning message in (function (x, y, offset = NULL, misc = NULL, distribution = \"bernoulli\", :\n",
      "\"variable 441: imd_bandTRUE has no variation.\""
     ]
    },
    {
     "name": "stdout",
     "output_type": "stream",
     "text": [
      "Iter   TrainDeviance   ValidDeviance   StepSize   Improve\n",
      "     1        1.2878             nan     0.1000    0.0434\n",
      "     2        1.2178             nan     0.1000    0.0353\n",
      "     3        1.1605             nan     0.1000    0.0290\n",
      "     4        1.1135             nan     0.1000    0.0240\n",
      "     5        1.0738             nan     0.1000    0.0198\n",
      "     6        1.0398             nan     0.1000    0.0171\n",
      "     7        1.0114             nan     0.1000    0.0143\n",
      "     8        0.9864             nan     0.1000    0.0123\n",
      "     9        0.9640             nan     0.1000    0.0111\n",
      "    10        0.9447             nan     0.1000    0.0096\n",
      "    20        0.8217             nan     0.1000    0.0035\n",
      "    40        0.7339             nan     0.1000    0.0011\n",
      "    60        0.6967             nan     0.1000    0.0006\n",
      "    80        0.6767             nan     0.1000    0.0002\n",
      "   100        0.6660             nan     0.1000    0.0001\n",
      "   120        0.6585             nan     0.1000    0.0001\n",
      "   140        0.6529             nan     0.1000    0.0001\n",
      "   150        0.6504             nan     0.1000    0.0000\n",
      "\n"
     ]
    },
    {
     "name": "stderr",
     "output_type": "stream",
     "text": [
      "Warning message in (function (x, y, offset = NULL, misc = NULL, distribution = \"bernoulli\", :\n",
      "\"variable 24: date_unregistration-112 has no variation.\"Warning message in (function (x, y, offset = NULL, misc = NULL, distribution = \"bernoulli\", :\n",
      "\"variable 31: date_unregistration-119 has no variation.\"Warning message in (function (x, y, offset = NULL, misc = NULL, distribution = \"bernoulli\", :\n",
      "\"variable 73: date_unregistration-179 has no variation.\"Warning message in (function (x, y, offset = NULL, misc = NULL, distribution = \"bernoulli\", :\n",
      "\"variable 79: date_unregistration-192 has no variation.\"Warning message in (function (x, y, offset = NULL, misc = NULL, distribution = \"bernoulli\", :\n",
      "\"variable 88: date_unregistration-207 has no variation.\"Warning message in (function (x, y, offset = NULL, misc = NULL, distribution = \"bernoulli\", :\n",
      "\"variable 95: date_unregistration-225 has no variation.\"Warning message in (function (x, y, offset = NULL, misc = NULL, distribution = \"bernoulli\", :\n",
      "\"variable 267: date_unregistration176 has no variation.\"Warning message in (function (x, y, offset = NULL, misc = NULL, distribution = \"bernoulli\", :\n",
      "\"variable 330: date_unregistration232 has no variation.\"Warning message in (function (x, y, offset = NULL, misc = NULL, distribution = \"bernoulli\", :\n",
      "\"variable 336: date_unregistration239 has no variation.\"Warning message in (function (x, y, offset = NULL, misc = NULL, distribution = \"bernoulli\", :\n",
      "\"variable 441: imd_bandTRUE has no variation.\""
     ]
    },
    {
     "name": "stdout",
     "output_type": "stream",
     "text": [
      "Iter   TrainDeviance   ValidDeviance   StepSize   Improve\n",
      "     1        1.2755             nan     0.1000    0.0500\n",
      "     2        1.1943             nan     0.1000    0.0408\n",
      "     3        1.1263             nan     0.1000    0.0338\n",
      "     4        1.0695             nan     0.1000    0.0282\n",
      "     5        1.0209             nan     0.1000    0.0244\n",
      "     6        0.9789             nan     0.1000    0.0204\n",
      "     7        0.9434             nan     0.1000    0.0178\n",
      "     8        0.9133             nan     0.1000    0.0150\n",
      "     9        0.8872             nan     0.1000    0.0130\n",
      "    10        0.8638             nan     0.1000    0.0117\n",
      "    20        0.7396             nan     0.1000    0.0032\n",
      "    40        0.6651             nan     0.1000    0.0009\n",
      "    60        0.6372             nan     0.1000    0.0003\n",
      "    80        0.6235             nan     0.1000    0.0001\n",
      "   100        0.6126             nan     0.1000    0.0006\n",
      "   120        0.6047             nan     0.1000    0.0002\n",
      "   140        0.5964             nan     0.1000    0.0000\n",
      "   150        0.5934             nan     0.1000    0.0000\n",
      "\n"
     ]
    },
    {
     "name": "stderr",
     "output_type": "stream",
     "text": [
      "Warning message in (function (x, y, offset = NULL, misc = NULL, distribution = \"bernoulli\", :\n",
      "\"variable 24: date_unregistration-112 has no variation.\"Warning message in (function (x, y, offset = NULL, misc = NULL, distribution = \"bernoulli\", :\n",
      "\"variable 31: date_unregistration-119 has no variation.\"Warning message in (function (x, y, offset = NULL, misc = NULL, distribution = \"bernoulli\", :\n",
      "\"variable 73: date_unregistration-179 has no variation.\"Warning message in (function (x, y, offset = NULL, misc = NULL, distribution = \"bernoulli\", :\n",
      "\"variable 79: date_unregistration-192 has no variation.\"Warning message in (function (x, y, offset = NULL, misc = NULL, distribution = \"bernoulli\", :\n",
      "\"variable 88: date_unregistration-207 has no variation.\"Warning message in (function (x, y, offset = NULL, misc = NULL, distribution = \"bernoulli\", :\n",
      "\"variable 95: date_unregistration-225 has no variation.\"Warning message in (function (x, y, offset = NULL, misc = NULL, distribution = \"bernoulli\", :\n",
      "\"variable 267: date_unregistration176 has no variation.\"Warning message in (function (x, y, offset = NULL, misc = NULL, distribution = \"bernoulli\", :\n",
      "\"variable 330: date_unregistration232 has no variation.\"Warning message in (function (x, y, offset = NULL, misc = NULL, distribution = \"bernoulli\", :\n",
      "\"variable 336: date_unregistration239 has no variation.\"Warning message in (function (x, y, offset = NULL, misc = NULL, distribution = \"bernoulli\", :\n",
      "\"variable 441: imd_bandTRUE has no variation.\""
     ]
    },
    {
     "name": "stdout",
     "output_type": "stream",
     "text": [
      "Iter   TrainDeviance   ValidDeviance   StepSize   Improve\n",
      "     1        1.2693             nan     0.1000    0.0527\n",
      "     2        1.1837             nan     0.1000    0.0430\n",
      "     3        1.1112             nan     0.1000    0.0361\n",
      "     4        1.0508             nan     0.1000    0.0300\n",
      "     5        1.0010             nan     0.1000    0.0250\n",
      "     6        0.9571             nan     0.1000    0.0219\n",
      "     7        0.9174             nan     0.1000    0.0196\n",
      "     8        0.8855             nan     0.1000    0.0160\n",
      "     9        0.8576             nan     0.1000    0.0139\n",
      "    10        0.8330             nan     0.1000    0.0123\n",
      "    20        0.6994             nan     0.1000    0.0036\n",
      "    40        0.6349             nan     0.1000    0.0008\n",
      "    60        0.6118             nan     0.1000    0.0003\n",
      "    80        0.5992             nan     0.1000   -0.0000\n",
      "   100        0.5869             nan     0.1000   -0.0000\n",
      "   120        0.5787             nan     0.1000    0.0000\n",
      "   140        0.5729             nan     0.1000   -0.0000\n",
      "   150        0.5704             nan     0.1000    0.0001\n",
      "\n"
     ]
    },
    {
     "name": "stderr",
     "output_type": "stream",
     "text": [
      "Warning message in (function (x, y, offset = NULL, misc = NULL, distribution = \"bernoulli\", :\n",
      "\"variable 24: date_unregistration-112 has no variation.\"Warning message in (function (x, y, offset = NULL, misc = NULL, distribution = \"bernoulli\", :\n",
      "\"variable 73: date_unregistration-179 has no variation.\"Warning message in (function (x, y, offset = NULL, misc = NULL, distribution = \"bernoulli\", :\n",
      "\"variable 95: date_unregistration-225 has no variation.\"Warning message in (function (x, y, offset = NULL, misc = NULL, distribution = \"bernoulli\", :\n",
      "\"variable 336: date_unregistration239 has no variation.\"Warning message in (function (x, y, offset = NULL, misc = NULL, distribution = \"bernoulli\", :\n",
      "\"variable 441: imd_bandTRUE has no variation.\""
     ]
    },
    {
     "name": "stdout",
     "output_type": "stream",
     "text": [
      "Iter   TrainDeviance   ValidDeviance   StepSize   Improve\n",
      "     1        1.2677             nan     0.1000    0.0535\n",
      "     2        1.1811             nan     0.1000    0.0434\n",
      "     3        1.1102             nan     0.1000    0.0356\n",
      "     4        1.0500             nan     0.1000    0.0301\n",
      "     5        0.9986             nan     0.1000    0.0255\n",
      "     6        0.9528             nan     0.1000    0.0227\n",
      "     7        0.9155             nan     0.1000    0.0186\n",
      "     8        0.8810             nan     0.1000    0.0171\n",
      "     9        0.8525             nan     0.1000    0.0142\n",
      "    10        0.8287             nan     0.1000    0.0118\n",
      "    20        0.6980             nan     0.1000    0.0038\n",
      "    40        0.6304             nan     0.1000    0.0008\n",
      "    60        0.6086             nan     0.1000    0.0001\n",
      "    80        0.5939             nan     0.1000    0.0003\n",
      "   100        0.5843             nan     0.1000    0.0003\n",
      "   120        0.5778             nan     0.1000    0.0000\n",
      "   140        0.5696             nan     0.1000    0.0004\n",
      "   150        0.5677             nan     0.1000   -0.0000\n",
      "\n"
     ]
    }
   ],
   "source": [
    "# GLM with balanced data\n",
    "set.seed(7)\n",
    "fit.GBM1 <- train(final_result~., data=Train, method=\"gbm\", metric=metric, trControl=control)"
   ]
  },
  {
   "cell_type": "code",
   "execution_count": 297,
   "metadata": {},
   "outputs": [],
   "source": [
    "saveRDS(fit.GBM1, \"C:\\\\Users\\\\shrey\\\\OneDrive\\\\Desktop\\\\BUSINESS ANALYTICS\\\\Datasets\\\\models\\\\project2\\\\testcasemodel.rds\")"
   ]
  },
  {
   "cell_type": "code",
   "execution_count": 301,
   "metadata": {},
   "outputs": [
    {
     "name": "stderr",
     "output_type": "stream",
     "text": [
      "Type 'citation(\"pROC\")' for a citation.\n",
      "\n",
      "Attaching package: 'pROC'\n",
      "\n",
      "The following objects are masked from 'package:stats':\n",
      "\n",
      "    cov, smooth, var\n",
      "\n"
     ]
    }
   ],
   "source": [
    "library(pROC)"
   ]
  },
  {
   "cell_type": "raw",
   "metadata": {},
   "source": [
    "GBM1 =  predict(fit.GBM1, Test,type=\"prob\")\n",
    "two=  plot(roc(Test$final_result,GBM1[,2]))"
   ]
  },
  {
   "cell_type": "code",
   "execution_count": 391,
   "metadata": {},
   "outputs": [],
   "source": [
    "train$imd_band = FALSE"
   ]
  },
  {
   "cell_type": "code",
   "execution_count": 397,
   "metadata": {},
   "outputs": [],
   "source": [
    "df_test_prof = data.frame(train$id_student)"
   ]
  },
  {
   "cell_type": "code",
   "execution_count": 398,
   "metadata": {},
   "outputs": [],
   "source": [
    "df_test_prof$predicted= predict(fit.GBM1, train)"
   ]
  },
  {
   "cell_type": "code",
   "execution_count": 399,
   "metadata": {},
   "outputs": [
    {
     "data": {
      "text/html": [
       "<table>\n",
       "<thead><tr><th scope=col>train.id_student</th><th scope=col>predicted</th></tr></thead>\n",
       "<tbody>\n",
       "\t<tr><td>106588</td><td>Fail  </td></tr>\n",
       "\t<tr><td>108207</td><td>Fail  </td></tr>\n",
       "\t<tr><td>108497</td><td>Fail  </td></tr>\n",
       "\t<tr><td>110524</td><td>Fail  </td></tr>\n",
       "\t<tr><td>111926</td><td>Fail  </td></tr>\n",
       "\t<tr><td>113295</td><td>Fail  </td></tr>\n",
       "</tbody>\n",
       "</table>\n"
      ],
      "text/latex": [
       "\\begin{tabular}{r|ll}\n",
       " train.id\\_student & predicted\\\\\n",
       "\\hline\n",
       "\t 106588 & Fail  \\\\\n",
       "\t 108207 & Fail  \\\\\n",
       "\t 108497 & Fail  \\\\\n",
       "\t 110524 & Fail  \\\\\n",
       "\t 111926 & Fail  \\\\\n",
       "\t 113295 & Fail  \\\\\n",
       "\\end{tabular}\n"
      ],
      "text/markdown": [
       "\n",
       "| train.id_student | predicted |\n",
       "|---|---|\n",
       "| 106588 | Fail   |\n",
       "| 108207 | Fail   |\n",
       "| 108497 | Fail   |\n",
       "| 110524 | Fail   |\n",
       "| 111926 | Fail   |\n",
       "| 113295 | Fail   |\n",
       "\n"
      ],
      "text/plain": [
       "  train.id_student predicted\n",
       "1 106588           Fail     \n",
       "2 108207           Fail     \n",
       "3 108497           Fail     \n",
       "4 110524           Fail     \n",
       "5 111926           Fail     \n",
       "6 113295           Fail     "
      ]
     },
     "metadata": {},
     "output_type": "display_data"
    }
   ],
   "source": [
    "head(df_test_prof)"
   ]
  },
  {
   "cell_type": "code",
   "execution_count": 401,
   "metadata": {},
   "outputs": [],
   "source": [
    "write.csv(df_test_prof,\"C:\\\\Users\\\\shrey\\\\OneDrive\\\\Desktop\\\\Pro_predicted.csv\", row.names = FALSE)"
   ]
  },
  {
   "cell_type": "code",
   "execution_count": null,
   "metadata": {},
   "outputs": [],
   "source": []
  }
 ],
 "metadata": {
  "kernelspec": {
   "display_name": "R",
   "language": "R",
   "name": "ir"
  },
  "language_info": {
   "codemirror_mode": "r",
   "file_extension": ".r",
   "mimetype": "text/x-r-source",
   "name": "R",
   "pygments_lexer": "r",
   "version": "3.6.1"
  }
 },
 "nbformat": 4,
 "nbformat_minor": 2
}
